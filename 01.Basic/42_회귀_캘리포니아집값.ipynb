{
  "cells": [
    {
      "cell_type": "markdown",
      "metadata": {
        "id": "r7VdsEkmrA8d"
      },
      "source": [
        "# 회귀  - 캘리포니아 하우징"
      ]
    },
    {
      "cell_type": "code",
      "execution_count": 1,
      "metadata": {
        "id": "k-nYKAkprNrM"
      },
      "outputs": [],
      "source": [
        "import numpy as np\n",
        "import pandas as pd\n",
        "from sklearn.datasets import fetch_california_housing\n",
        "house = fetch_california_housing()"
      ]
    },
    {
      "cell_type": "code",
      "execution_count": 2,
      "metadata": {
        "colab": {
          "base_uri": "https://localhost:8080/",
          "height": 206
        },
        "id": "r4V8VUfArj3f",
        "outputId": "578200a2-1c77-466e-a9cf-d2a54f2eb311"
      },
      "outputs": [
        {
          "data": {
            "text/html": [
              "<div>\n",
              "<style scoped>\n",
              "    .dataframe tbody tr th:only-of-type {\n",
              "        vertical-align: middle;\n",
              "    }\n",
              "\n",
              "    .dataframe tbody tr th {\n",
              "        vertical-align: top;\n",
              "    }\n",
              "\n",
              "    .dataframe thead th {\n",
              "        text-align: right;\n",
              "    }\n",
              "</style>\n",
              "<table border=\"1\" class=\"dataframe\">\n",
              "  <thead>\n",
              "    <tr style=\"text-align: right;\">\n",
              "      <th></th>\n",
              "      <th>MedInc</th>\n",
              "      <th>HouseAge</th>\n",
              "      <th>AveRooms</th>\n",
              "      <th>AveBedrms</th>\n",
              "      <th>Population</th>\n",
              "      <th>AveOccup</th>\n",
              "      <th>Latitude</th>\n",
              "      <th>Longitude</th>\n",
              "      <th>target</th>\n",
              "    </tr>\n",
              "  </thead>\n",
              "  <tbody>\n",
              "    <tr>\n",
              "      <th>0</th>\n",
              "      <td>8.3252</td>\n",
              "      <td>41.0</td>\n",
              "      <td>6.984127</td>\n",
              "      <td>1.023810</td>\n",
              "      <td>322.0</td>\n",
              "      <td>2.555556</td>\n",
              "      <td>37.88</td>\n",
              "      <td>-122.23</td>\n",
              "      <td>4.526</td>\n",
              "    </tr>\n",
              "    <tr>\n",
              "      <th>1</th>\n",
              "      <td>8.3014</td>\n",
              "      <td>21.0</td>\n",
              "      <td>6.238137</td>\n",
              "      <td>0.971880</td>\n",
              "      <td>2401.0</td>\n",
              "      <td>2.109842</td>\n",
              "      <td>37.86</td>\n",
              "      <td>-122.22</td>\n",
              "      <td>3.585</td>\n",
              "    </tr>\n",
              "    <tr>\n",
              "      <th>2</th>\n",
              "      <td>7.2574</td>\n",
              "      <td>52.0</td>\n",
              "      <td>8.288136</td>\n",
              "      <td>1.073446</td>\n",
              "      <td>496.0</td>\n",
              "      <td>2.802260</td>\n",
              "      <td>37.85</td>\n",
              "      <td>-122.24</td>\n",
              "      <td>3.521</td>\n",
              "    </tr>\n",
              "    <tr>\n",
              "      <th>3</th>\n",
              "      <td>5.6431</td>\n",
              "      <td>52.0</td>\n",
              "      <td>5.817352</td>\n",
              "      <td>1.073059</td>\n",
              "      <td>558.0</td>\n",
              "      <td>2.547945</td>\n",
              "      <td>37.85</td>\n",
              "      <td>-122.25</td>\n",
              "      <td>3.413</td>\n",
              "    </tr>\n",
              "    <tr>\n",
              "      <th>4</th>\n",
              "      <td>3.8462</td>\n",
              "      <td>52.0</td>\n",
              "      <td>6.281853</td>\n",
              "      <td>1.081081</td>\n",
              "      <td>565.0</td>\n",
              "      <td>2.181467</td>\n",
              "      <td>37.85</td>\n",
              "      <td>-122.25</td>\n",
              "      <td>3.422</td>\n",
              "    </tr>\n",
              "  </tbody>\n",
              "</table>\n",
              "</div>"
            ],
            "text/plain": [
              "   MedInc  HouseAge  AveRooms  AveBedrms  Population  AveOccup  Latitude  \\\n",
              "0  8.3252      41.0  6.984127   1.023810       322.0  2.555556     37.88   \n",
              "1  8.3014      21.0  6.238137   0.971880      2401.0  2.109842     37.86   \n",
              "2  7.2574      52.0  8.288136   1.073446       496.0  2.802260     37.85   \n",
              "3  5.6431      52.0  5.817352   1.073059       558.0  2.547945     37.85   \n",
              "4  3.8462      52.0  6.281853   1.081081       565.0  2.181467     37.85   \n",
              "\n",
              "   Longitude  target  \n",
              "0    -122.23   4.526  \n",
              "1    -122.22   3.585  \n",
              "2    -122.24   3.521  \n",
              "3    -122.25   3.413  \n",
              "4    -122.25   3.422  "
            ]
          },
          "execution_count": 2,
          "metadata": {},
          "output_type": "execute_result"
        }
      ],
      "source": [
        "df = pd.DataFrame(house.data, columns=house.feature_names)\n",
        "df['target'] = house.target\n",
        "df.head()"
      ]
    },
    {
      "cell_type": "code",
      "execution_count": 4,
      "metadata": {},
      "outputs": [
        {
          "data": {
            "text/html": [
              "<div>\n",
              "<style scoped>\n",
              "    .dataframe tbody tr th:only-of-type {\n",
              "        vertical-align: middle;\n",
              "    }\n",
              "\n",
              "    .dataframe tbody tr th {\n",
              "        vertical-align: top;\n",
              "    }\n",
              "\n",
              "    .dataframe thead th {\n",
              "        text-align: right;\n",
              "    }\n",
              "</style>\n",
              "<table border=\"1\" class=\"dataframe\">\n",
              "  <thead>\n",
              "    <tr style=\"text-align: right;\">\n",
              "      <th></th>\n",
              "      <th>MedInc</th>\n",
              "      <th>HouseAge</th>\n",
              "      <th>AveRooms</th>\n",
              "      <th>AveBedrms</th>\n",
              "      <th>Population</th>\n",
              "      <th>AveOccup</th>\n",
              "      <th>Latitude</th>\n",
              "      <th>Longitude</th>\n",
              "      <th>target</th>\n",
              "    </tr>\n",
              "  </thead>\n",
              "  <tbody>\n",
              "    <tr>\n",
              "      <th>0</th>\n",
              "      <td>8.3252</td>\n",
              "      <td>41.0</td>\n",
              "      <td>6.984127</td>\n",
              "      <td>1.023810</td>\n",
              "      <td>322.0</td>\n",
              "      <td>2.555556</td>\n",
              "      <td>37.88</td>\n",
              "      <td>-122.23</td>\n",
              "      <td>4.526</td>\n",
              "    </tr>\n",
              "    <tr>\n",
              "      <th>1</th>\n",
              "      <td>8.3014</td>\n",
              "      <td>21.0</td>\n",
              "      <td>6.238137</td>\n",
              "      <td>0.971880</td>\n",
              "      <td>2401.0</td>\n",
              "      <td>2.109842</td>\n",
              "      <td>37.86</td>\n",
              "      <td>-122.22</td>\n",
              "      <td>3.585</td>\n",
              "    </tr>\n",
              "    <tr>\n",
              "      <th>2</th>\n",
              "      <td>7.2574</td>\n",
              "      <td>52.0</td>\n",
              "      <td>8.288136</td>\n",
              "      <td>1.073446</td>\n",
              "      <td>496.0</td>\n",
              "      <td>2.802260</td>\n",
              "      <td>37.85</td>\n",
              "      <td>-122.24</td>\n",
              "      <td>3.521</td>\n",
              "    </tr>\n",
              "    <tr>\n",
              "      <th>3</th>\n",
              "      <td>5.6431</td>\n",
              "      <td>52.0</td>\n",
              "      <td>5.817352</td>\n",
              "      <td>1.073059</td>\n",
              "      <td>558.0</td>\n",
              "      <td>2.547945</td>\n",
              "      <td>37.85</td>\n",
              "      <td>-122.25</td>\n",
              "      <td>3.413</td>\n",
              "    </tr>\n",
              "    <tr>\n",
              "      <th>4</th>\n",
              "      <td>3.8462</td>\n",
              "      <td>52.0</td>\n",
              "      <td>6.281853</td>\n",
              "      <td>1.081081</td>\n",
              "      <td>565.0</td>\n",
              "      <td>2.181467</td>\n",
              "      <td>37.85</td>\n",
              "      <td>-122.25</td>\n",
              "      <td>3.422</td>\n",
              "    </tr>\n",
              "    <tr>\n",
              "      <th>...</th>\n",
              "      <td>...</td>\n",
              "      <td>...</td>\n",
              "      <td>...</td>\n",
              "      <td>...</td>\n",
              "      <td>...</td>\n",
              "      <td>...</td>\n",
              "      <td>...</td>\n",
              "      <td>...</td>\n",
              "      <td>...</td>\n",
              "    </tr>\n",
              "    <tr>\n",
              "      <th>20635</th>\n",
              "      <td>1.5603</td>\n",
              "      <td>25.0</td>\n",
              "      <td>5.045455</td>\n",
              "      <td>1.133333</td>\n",
              "      <td>845.0</td>\n",
              "      <td>2.560606</td>\n",
              "      <td>39.48</td>\n",
              "      <td>-121.09</td>\n",
              "      <td>0.781</td>\n",
              "    </tr>\n",
              "    <tr>\n",
              "      <th>20636</th>\n",
              "      <td>2.5568</td>\n",
              "      <td>18.0</td>\n",
              "      <td>6.114035</td>\n",
              "      <td>1.315789</td>\n",
              "      <td>356.0</td>\n",
              "      <td>3.122807</td>\n",
              "      <td>39.49</td>\n",
              "      <td>-121.21</td>\n",
              "      <td>0.771</td>\n",
              "    </tr>\n",
              "    <tr>\n",
              "      <th>20637</th>\n",
              "      <td>1.7000</td>\n",
              "      <td>17.0</td>\n",
              "      <td>5.205543</td>\n",
              "      <td>1.120092</td>\n",
              "      <td>1007.0</td>\n",
              "      <td>2.325635</td>\n",
              "      <td>39.43</td>\n",
              "      <td>-121.22</td>\n",
              "      <td>0.923</td>\n",
              "    </tr>\n",
              "    <tr>\n",
              "      <th>20638</th>\n",
              "      <td>1.8672</td>\n",
              "      <td>18.0</td>\n",
              "      <td>5.329513</td>\n",
              "      <td>1.171920</td>\n",
              "      <td>741.0</td>\n",
              "      <td>2.123209</td>\n",
              "      <td>39.43</td>\n",
              "      <td>-121.32</td>\n",
              "      <td>0.847</td>\n",
              "    </tr>\n",
              "    <tr>\n",
              "      <th>20639</th>\n",
              "      <td>2.3886</td>\n",
              "      <td>16.0</td>\n",
              "      <td>5.254717</td>\n",
              "      <td>1.162264</td>\n",
              "      <td>1387.0</td>\n",
              "      <td>2.616981</td>\n",
              "      <td>39.37</td>\n",
              "      <td>-121.24</td>\n",
              "      <td>0.894</td>\n",
              "    </tr>\n",
              "  </tbody>\n",
              "</table>\n",
              "<p>20640 rows × 9 columns</p>\n",
              "</div>"
            ],
            "text/plain": [
              "       MedInc  HouseAge  AveRooms  AveBedrms  Population  AveOccup  Latitude  \\\n",
              "0      8.3252      41.0  6.984127   1.023810       322.0  2.555556     37.88   \n",
              "1      8.3014      21.0  6.238137   0.971880      2401.0  2.109842     37.86   \n",
              "2      7.2574      52.0  8.288136   1.073446       496.0  2.802260     37.85   \n",
              "3      5.6431      52.0  5.817352   1.073059       558.0  2.547945     37.85   \n",
              "4      3.8462      52.0  6.281853   1.081081       565.0  2.181467     37.85   \n",
              "...       ...       ...       ...        ...         ...       ...       ...   \n",
              "20635  1.5603      25.0  5.045455   1.133333       845.0  2.560606     39.48   \n",
              "20636  2.5568      18.0  6.114035   1.315789       356.0  3.122807     39.49   \n",
              "20637  1.7000      17.0  5.205543   1.120092      1007.0  2.325635     39.43   \n",
              "20638  1.8672      18.0  5.329513   1.171920       741.0  2.123209     39.43   \n",
              "20639  2.3886      16.0  5.254717   1.162264      1387.0  2.616981     39.37   \n",
              "\n",
              "       Longitude  target  \n",
              "0        -122.23   4.526  \n",
              "1        -122.22   3.585  \n",
              "2        -122.24   3.521  \n",
              "3        -122.25   3.413  \n",
              "4        -122.25   3.422  \n",
              "...          ...     ...  \n",
              "20635    -121.09   0.781  \n",
              "20636    -121.21   0.771  \n",
              "20637    -121.22   0.923  \n",
              "20638    -121.32   0.847  \n",
              "20639    -121.24   0.894  \n",
              "\n",
              "[20640 rows x 9 columns]"
            ]
          },
          "execution_count": 4,
          "metadata": {},
          "output_type": "execute_result"
        }
      ],
      "source": [
        "df"
      ]
    },
    {
      "cell_type": "code",
      "execution_count": 3,
      "metadata": {},
      "outputs": [
        {
          "name": "stdout",
          "output_type": "stream",
          "text": [
            "<class 'pandas.core.frame.DataFrame'>\n",
            "RangeIndex: 20640 entries, 0 to 20639\n",
            "Data columns (total 9 columns):\n",
            " #   Column      Non-Null Count  Dtype  \n",
            "---  ------      --------------  -----  \n",
            " 0   MedInc      20640 non-null  float64\n",
            " 1   HouseAge    20640 non-null  float64\n",
            " 2   AveRooms    20640 non-null  float64\n",
            " 3   AveBedrms   20640 non-null  float64\n",
            " 4   Population  20640 non-null  float64\n",
            " 5   AveOccup    20640 non-null  float64\n",
            " 6   Latitude    20640 non-null  float64\n",
            " 7   Longitude   20640 non-null  float64\n",
            " 8   target      20640 non-null  float64\n",
            "dtypes: float64(9)\n",
            "memory usage: 1.4 MB\n"
          ]
        }
      ],
      "source": [
        "df.info()"
      ]
    },
    {
      "cell_type": "code",
      "execution_count": null,
      "metadata": {
        "colab": {
          "base_uri": "https://localhost:8080/"
        },
        "id": "z0GYc5HmrvVY",
        "outputId": "3012cd43-2ad9-453a-ba78-35559b36c04a"
      },
      "outputs": [
        {
          "ename": "NameError",
          "evalue": "ignored",
          "output_type": "error",
          "traceback": [
            "\u001b[0;31m---------------------------------------------------------------------------\u001b[0m",
            "\u001b[0;31mNameError\u001b[0m                                 Traceback (most recent call last)",
            "\u001b[0;32m<ipython-input-1-772a407d9106>\u001b[0m in \u001b[0;36m<module>\u001b[0;34m()\u001b[0m\n\u001b[0;32m----> 1\u001b[0;31m \u001b[0mpd\u001b[0m\u001b[0;34m.\u001b[0m\u001b[0mread_csv\u001b[0m\u001b[0;34m(\u001b[0m\u001b[0;34m'housing.csv'\u001b[0m\u001b[0;34m)\u001b[0m\u001b[0;34m\u001b[0m\u001b[0;34m\u001b[0m\u001b[0m\n\u001b[0m",
            "\u001b[0;31mNameError\u001b[0m: name 'pd' is not defined"
          ]
        }
      ],
      "source": [
        "# pd.read_csv('housing.csv')"
      ]
    },
    {
      "cell_type": "markdown",
      "metadata": {
        "id": "ZrcJq3DSs7Gp"
      },
      "source": [
        "- train/test dataset 분리"
      ]
    },
    {
      "cell_type": "code",
      "execution_count": 7,
      "metadata": {
        "colab": {
          "base_uri": "https://localhost:8080/"
        },
        "id": "5doKLdQcsGty",
        "outputId": "dd18e896-0e6e-44b7-f28e-330d35437914"
      },
      "outputs": [
        {
          "data": {
            "text/plain": [
              "((18576, 8), (2064, 8), (18576,), (2064,))"
            ]
          },
          "execution_count": 7,
          "metadata": {},
          "output_type": "execute_result"
        }
      ],
      "source": [
        "from sklearn.model_selection import train_test_split\n",
        "X_train, X_test, y_train, y_test = train_test_split(\n",
        "    house.data, house.target, test_size=0.1,  random_state=2022\n",
        ")\n",
        "X_train.shape, X_test.shape, y_train.shape, y_test.shape"
      ]
    },
    {
      "cell_type": "markdown",
      "metadata": {
        "id": "6NIEXHvdtCNO"
      },
      "source": [
        "모델 정이 /설정 학습"
      ]
    },
    {
      "cell_type": "code",
      "execution_count": 8,
      "metadata": {
        "id": "PrCH3Q3RtJw5"
      },
      "outputs": [],
      "source": [
        "import tensorflow as tf\n",
        "seed = 2022\n",
        "np.random.seed(seed)\n",
        "tf.random.set_seed(seed)"
      ]
    },
    {
      "cell_type": "code",
      "execution_count": 9,
      "metadata": {
        "id": "oixngkaMtUsv"
      },
      "outputs": [],
      "source": [
        "from tensorflow.keras.models import Sequential\n",
        "from tensorflow.keras.layers import Dense"
      ]
    },
    {
      "cell_type": "code",
      "execution_count": 13,
      "metadata": {
        "colab": {
          "base_uri": "https://localhost:8080/"
        },
        "id": "774m1C4HtfPw",
        "outputId": "40f24b30-11ed-4550-8ef9-f18e644423bf"
      },
      "outputs": [
        {
          "name": "stdout",
          "output_type": "stream",
          "text": [
            "Model: \"sequential_2\"\n",
            "_________________________________________________________________\n",
            " Layer (type)                Output Shape              Param #   \n",
            "=================================================================\n",
            " dense_6 (Dense)             (None, 20)                180       \n",
            "                                                                 \n",
            " dense_7 (Dense)             (None, 8)                 168       \n",
            "                                                                 \n",
            " dense_8 (Dense)             (None, 1)                 9         \n",
            "                                                                 \n",
            "=================================================================\n",
            "Total params: 357\n",
            "Trainable params: 357\n",
            "Non-trainable params: 0\n",
            "_________________________________________________________________\n"
          ]
        }
      ],
      "source": [
        "model = Sequential([\n",
        "    Dense(20, input_dim=8, activation='relu'),\n",
        "    Dense(8, activation='relu'),\n",
        "    Dense(1)\n",
        "])\n",
        "model.summary()"
      ]
    },
    {
      "cell_type": "code",
      "execution_count": 14,
      "metadata": {
        "id": "lPRsrTlPt2K3"
      },
      "outputs": [],
      "source": [
        "model.compile(optimizer='adam', loss='mean_squared_error')"
      ]
    },
    {
      "cell_type": "code",
      "execution_count": 15,
      "metadata": {
        "colab": {
          "base_uri": "https://localhost:8080/"
        },
        "id": "3mOgWvVquGy1",
        "outputId": "8c59f732-d97a-4c65-cac5-7161c1131137"
      },
      "outputs": [
        {
          "name": "stdout",
          "output_type": "stream",
          "text": [
            "Epoch 1/100\n",
            "149/149 [==============================] - 1s 3ms/step - loss: 3252.4675 - val_loss: 16.3181\n",
            "Epoch 2/100\n",
            "149/149 [==============================] - 0s 2ms/step - loss: 9.1853 - val_loss: 4.0825\n",
            "Epoch 3/100\n",
            "149/149 [==============================] - 0s 2ms/step - loss: 4.3252 - val_loss: 3.3636\n",
            "Epoch 4/100\n",
            "149/149 [==============================] - 0s 2ms/step - loss: 3.5306 - val_loss: 2.9073\n",
            "Epoch 5/100\n",
            "149/149 [==============================] - 0s 2ms/step - loss: 3.0287 - val_loss: 2.5256\n",
            "Epoch 6/100\n",
            "149/149 [==============================] - 0s 2ms/step - loss: 2.6061 - val_loss: 2.2336\n",
            "Epoch 7/100\n",
            "149/149 [==============================] - 0s 2ms/step - loss: 2.2879 - val_loss: 2.0361\n",
            "Epoch 8/100\n",
            "149/149 [==============================] - 0s 2ms/step - loss: 1.9461 - val_loss: 1.9423\n",
            "Epoch 9/100\n",
            "149/149 [==============================] - 0s 2ms/step - loss: 1.6912 - val_loss: 1.5736\n",
            "Epoch 10/100\n",
            "149/149 [==============================] - 0s 3ms/step - loss: 1.5223 - val_loss: 1.3629\n",
            "Epoch 11/100\n",
            "149/149 [==============================] - 0s 2ms/step - loss: 1.3839 - val_loss: 1.2616\n",
            "Epoch 12/100\n",
            "149/149 [==============================] - 0s 2ms/step - loss: 1.2619 - val_loss: 1.2151\n",
            "Epoch 13/100\n",
            "149/149 [==============================] - 0s 2ms/step - loss: 1.1896 - val_loss: 1.1008\n",
            "Epoch 14/100\n",
            "149/149 [==============================] - 0s 2ms/step - loss: 1.1161 - val_loss: 1.1172\n",
            "Epoch 15/100\n",
            "149/149 [==============================] - 0s 2ms/step - loss: 1.0763 - val_loss: 1.0252\n",
            "Epoch 16/100\n",
            "149/149 [==============================] - 0s 2ms/step - loss: 1.0077 - val_loss: 0.9419\n",
            "Epoch 17/100\n",
            "149/149 [==============================] - 0s 2ms/step - loss: 0.9779 - val_loss: 0.8888\n",
            "Epoch 18/100\n",
            "149/149 [==============================] - 0s 2ms/step - loss: 0.9139 - val_loss: 0.9630\n",
            "Epoch 19/100\n",
            "149/149 [==============================] - 0s 2ms/step - loss: 0.8810 - val_loss: 0.8736\n",
            "Epoch 20/100\n",
            "149/149 [==============================] - 0s 2ms/step - loss: 0.8478 - val_loss: 0.8204\n",
            "Epoch 21/100\n",
            "149/149 [==============================] - 0s 2ms/step - loss: 0.8283 - val_loss: 0.7742\n",
            "Epoch 22/100\n",
            "149/149 [==============================] - 0s 2ms/step - loss: 0.8836 - val_loss: 1.0413\n",
            "Epoch 23/100\n",
            "149/149 [==============================] - 0s 2ms/step - loss: 0.8185 - val_loss: 0.7498\n",
            "Epoch 24/100\n",
            "149/149 [==============================] - 0s 2ms/step - loss: 0.7887 - val_loss: 0.7293\n",
            "Epoch 25/100\n",
            "149/149 [==============================] - 0s 2ms/step - loss: 0.7630 - val_loss: 0.7722\n",
            "Epoch 26/100\n",
            "149/149 [==============================] - 0s 2ms/step - loss: 0.7416 - val_loss: 0.7009\n",
            "Epoch 27/100\n",
            "149/149 [==============================] - 0s 2ms/step - loss: 0.7479 - val_loss: 0.7045\n",
            "Epoch 28/100\n",
            "149/149 [==============================] - 0s 2ms/step - loss: 0.7579 - val_loss: 0.7019\n",
            "Epoch 29/100\n",
            "149/149 [==============================] - 0s 2ms/step - loss: 0.7827 - val_loss: 0.6873\n",
            "Epoch 30/100\n",
            "149/149 [==============================] - 0s 2ms/step - loss: 0.7557 - val_loss: 1.1172\n",
            "Epoch 31/100\n",
            "149/149 [==============================] - 0s 2ms/step - loss: 0.8868 - val_loss: 0.6738\n",
            "Epoch 32/100\n",
            "149/149 [==============================] - 0s 2ms/step - loss: 0.7659 - val_loss: 0.6839\n",
            "Epoch 33/100\n",
            "149/149 [==============================] - 0s 2ms/step - loss: 0.7158 - val_loss: 0.6804\n",
            "Epoch 34/100\n",
            "149/149 [==============================] - 0s 2ms/step - loss: 0.7338 - val_loss: 0.7293\n",
            "Epoch 35/100\n",
            "149/149 [==============================] - 0s 2ms/step - loss: 0.8640 - val_loss: 0.6830\n",
            "Epoch 36/100\n",
            "149/149 [==============================] - 0s 2ms/step - loss: 0.7556 - val_loss: 0.9535\n",
            "Epoch 37/100\n",
            "149/149 [==============================] - 0s 2ms/step - loss: 0.8654 - val_loss: 0.6504\n",
            "Epoch 38/100\n",
            "149/149 [==============================] - 0s 2ms/step - loss: 0.8559 - val_loss: 0.6826\n",
            "Epoch 39/100\n",
            "149/149 [==============================] - 0s 2ms/step - loss: 0.7326 - val_loss: 1.0636\n",
            "Epoch 40/100\n",
            "149/149 [==============================] - 0s 2ms/step - loss: 3.0171 - val_loss: 1.2975\n",
            "Epoch 41/100\n",
            "149/149 [==============================] - 0s 2ms/step - loss: 0.8403 - val_loss: 0.7574\n",
            "Epoch 42/100\n",
            "149/149 [==============================] - 0s 2ms/step - loss: 1.5232 - val_loss: 0.8659\n",
            "Epoch 43/100\n",
            "149/149 [==============================] - 0s 2ms/step - loss: 1.0844 - val_loss: 0.6446\n",
            "Epoch 44/100\n",
            "149/149 [==============================] - 0s 2ms/step - loss: 1.2618 - val_loss: 0.6206\n",
            "Epoch 45/100\n",
            "149/149 [==============================] - 0s 2ms/step - loss: 0.8508 - val_loss: 0.6131\n",
            "Epoch 46/100\n",
            "149/149 [==============================] - 0s 2ms/step - loss: 0.8629 - val_loss: 0.7112\n",
            "Epoch 47/100\n",
            "149/149 [==============================] - 0s 2ms/step - loss: 3.4773 - val_loss: 1.5356\n",
            "Epoch 48/100\n",
            "149/149 [==============================] - 0s 2ms/step - loss: 6.9507 - val_loss: 0.7096\n",
            "Epoch 49/100\n",
            "149/149 [==============================] - 0s 2ms/step - loss: 0.8113 - val_loss: 1.0614\n",
            "Epoch 50/100\n",
            "149/149 [==============================] - 0s 2ms/step - loss: 0.6863 - val_loss: 0.6592\n",
            "Epoch 51/100\n",
            "149/149 [==============================] - 0s 2ms/step - loss: 2.6323 - val_loss: 1.3011\n",
            "Epoch 52/100\n",
            "149/149 [==============================] - 0s 2ms/step - loss: 0.7195 - val_loss: 0.9602\n",
            "Epoch 53/100\n",
            "149/149 [==============================] - 0s 2ms/step - loss: 0.8350 - val_loss: 0.6189\n",
            "Epoch 54/100\n",
            "149/149 [==============================] - 0s 2ms/step - loss: 0.8260 - val_loss: 0.8086\n",
            "Epoch 55/100\n",
            "149/149 [==============================] - 0s 2ms/step - loss: 0.9348 - val_loss: 4.5015\n",
            "Epoch 56/100\n",
            "149/149 [==============================] - 0s 2ms/step - loss: 1.6552 - val_loss: 10.7371\n",
            "Epoch 57/100\n",
            "149/149 [==============================] - 0s 2ms/step - loss: 9.3108 - val_loss: 8.9962\n",
            "Epoch 58/100\n",
            "149/149 [==============================] - 0s 2ms/step - loss: 4.3764 - val_loss: 0.6560\n",
            "Epoch 59/100\n",
            "149/149 [==============================] - 0s 2ms/step - loss: 1.7547 - val_loss: 0.6088\n",
            "Epoch 60/100\n",
            "149/149 [==============================] - 0s 2ms/step - loss: 1.2037 - val_loss: 0.6023\n",
            "Epoch 61/100\n",
            "149/149 [==============================] - 0s 2ms/step - loss: 0.7483 - val_loss: 0.6884\n",
            "Epoch 62/100\n",
            "149/149 [==============================] - 0s 2ms/step - loss: 0.6623 - val_loss: 1.1768\n",
            "Epoch 63/100\n",
            "149/149 [==============================] - 0s 2ms/step - loss: 0.8175 - val_loss: 0.9021\n",
            "Epoch 64/100\n",
            "149/149 [==============================] - 0s 2ms/step - loss: 1.0190 - val_loss: 0.6208\n",
            "Epoch 65/100\n",
            "149/149 [==============================] - 0s 2ms/step - loss: 1.0132 - val_loss: 1.7357\n",
            "Epoch 66/100\n",
            "149/149 [==============================] - 0s 2ms/step - loss: 1.4291 - val_loss: 0.7864\n",
            "Epoch 67/100\n",
            "149/149 [==============================] - 0s 2ms/step - loss: 4.8252 - val_loss: 1.7977\n",
            "Epoch 68/100\n",
            "149/149 [==============================] - 0s 2ms/step - loss: 0.8798 - val_loss: 0.6068\n",
            "Epoch 69/100\n",
            "149/149 [==============================] - 0s 2ms/step - loss: 0.7555 - val_loss: 1.0013\n",
            "Epoch 70/100\n",
            "149/149 [==============================] - 0s 2ms/step - loss: 0.7529 - val_loss: 0.6162\n",
            "Epoch 71/100\n",
            "149/149 [==============================] - 0s 2ms/step - loss: 0.9447 - val_loss: 0.6897\n",
            "Epoch 72/100\n",
            "149/149 [==============================] - 0s 2ms/step - loss: 1.3532 - val_loss: 22.2137\n",
            "Epoch 73/100\n",
            "149/149 [==============================] - 0s 2ms/step - loss: 6.4994 - val_loss: 0.8279\n",
            "Epoch 74/100\n",
            "149/149 [==============================] - 0s 2ms/step - loss: 1.8321 - val_loss: 0.5952\n",
            "Epoch 75/100\n",
            "149/149 [==============================] - 0s 2ms/step - loss: 0.7474 - val_loss: 0.7250\n",
            "Epoch 76/100\n",
            "149/149 [==============================] - 0s 2ms/step - loss: 0.9932 - val_loss: 0.6986\n",
            "Epoch 77/100\n",
            "149/149 [==============================] - 0s 2ms/step - loss: 0.6760 - val_loss: 0.9307\n",
            "Epoch 78/100\n",
            "149/149 [==============================] - 0s 2ms/step - loss: 4.4055 - val_loss: 1.0513\n",
            "Epoch 79/100\n",
            "149/149 [==============================] - 0s 2ms/step - loss: 0.7672 - val_loss: 0.5988\n",
            "Epoch 80/100\n",
            "149/149 [==============================] - 0s 2ms/step - loss: 0.7802 - val_loss: 0.6224\n",
            "Epoch 81/100\n",
            "149/149 [==============================] - 0s 2ms/step - loss: 1.4194 - val_loss: 0.5891\n",
            "Epoch 82/100\n",
            "149/149 [==============================] - 0s 2ms/step - loss: 0.7749 - val_loss: 3.1622\n",
            "Epoch 83/100\n",
            "149/149 [==============================] - 0s 2ms/step - loss: 8.7456 - val_loss: 0.6117\n",
            "Epoch 84/100\n",
            "149/149 [==============================] - 0s 2ms/step - loss: 0.8951 - val_loss: 0.7172\n",
            "Epoch 85/100\n",
            "149/149 [==============================] - 0s 2ms/step - loss: 5.4364 - val_loss: 0.6400\n",
            "Epoch 86/100\n",
            "149/149 [==============================] - 0s 2ms/step - loss: 0.6655 - val_loss: 0.6007\n",
            "Epoch 87/100\n",
            "149/149 [==============================] - 0s 2ms/step - loss: 0.8033 - val_loss: 0.7000\n",
            "Epoch 88/100\n",
            "149/149 [==============================] - 0s 2ms/step - loss: 0.9137 - val_loss: 0.6083\n",
            "Epoch 89/100\n",
            "149/149 [==============================] - 0s 2ms/step - loss: 0.8242 - val_loss: 1.3909\n",
            "Epoch 90/100\n",
            "149/149 [==============================] - 0s 2ms/step - loss: 0.7430 - val_loss: 0.5762\n",
            "Epoch 91/100\n",
            "149/149 [==============================] - 0s 2ms/step - loss: 0.6809 - val_loss: 0.6946\n",
            "Epoch 92/100\n",
            "149/149 [==============================] - 0s 2ms/step - loss: 0.8898 - val_loss: 0.8896\n",
            "Epoch 93/100\n",
            "149/149 [==============================] - 0s 2ms/step - loss: 1.1263 - val_loss: 0.7430\n",
            "Epoch 94/100\n",
            "149/149 [==============================] - 0s 2ms/step - loss: 1.1984 - val_loss: 0.5686\n",
            "Epoch 95/100\n",
            "149/149 [==============================] - 0s 2ms/step - loss: 1.1503 - val_loss: 0.6272\n",
            "Epoch 96/100\n",
            "149/149 [==============================] - 0s 2ms/step - loss: 1.2014 - val_loss: 2.8601\n",
            "Epoch 97/100\n",
            "149/149 [==============================] - 0s 2ms/step - loss: 7.6330 - val_loss: 2.1792\n",
            "Epoch 98/100\n",
            "149/149 [==============================] - 0s 2ms/step - loss: 0.9824 - val_loss: 0.6107\n",
            "Epoch 99/100\n",
            "149/149 [==============================] - 0s 2ms/step - loss: 0.6637 - val_loss: 1.7409\n",
            "Epoch 100/100\n",
            "149/149 [==============================] - 0s 2ms/step - loss: 0.6966 - val_loss: 0.5742\n"
          ]
        }
      ],
      "source": [
        "hist = model.fit(X_train, y_train, validation_split=0.2, epochs=100, batch_size=100)"
      ]
    },
    {
      "cell_type": "markdown",
      "metadata": {
        "id": "vLaM7Zs_uW0b"
      },
      "source": [
        "- 시각화 한 후 어떻게 해야할지"
      ]
    },
    {
      "cell_type": "code",
      "execution_count": null,
      "metadata": {
        "id": "ptdilHcPun8A"
      },
      "outputs": [],
      "source": [
        "# 5번째 부터 데이터 보기 "
      ]
    },
    {
      "cell_type": "code",
      "execution_count": 17,
      "metadata": {
        "id": "Y533Xuhwun5x"
      },
      "outputs": [],
      "source": [
        "y_loss = hist.history['loss']\n",
        "y_vloss = hist.history['val_loss']\n",
        "xs = np.arange(1, len(y_loss)+1)"
      ]
    },
    {
      "cell_type": "code",
      "execution_count": 21,
      "metadata": {
        "colab": {
          "base_uri": "https://localhost:8080/",
          "height": 501
        },
        "id": "0furSQ8zum0W",
        "outputId": "43d0d8f3-975d-4af3-e79f-624885ba0236"
      },
      "outputs": [
        {
          "data": {
            "image/png": "[encoded data removed]",
            "text/plain": [
              "<Figure size 864x576 with 1 Axes>"
            ]
          },
          "metadata": {
            "needs_background": "light"
          },
          "output_type": "display_data"
        }
      ],
      "source": [
        "import matplotlib.pyplot as plt\n",
        "plt.figure(figsize=(12,8))\n",
        "plt.plot(xs, y_loss, ms=5, label='train loss')\n",
        "plt.plot(xs, y_vloss, ms=5, label='validation loss')\n",
        "plt.legend()\n",
        "plt.grid()\n",
        "plt.xlabel('Epoch')\n",
        "plt.ylim([0,8])\n",
        "plt.show()"
      ]
    },
    {
      "cell_type": "markdown",
      "metadata": {
        "id": "h7KDSlN6vYsd"
      },
      "source": [
        "- loss 최대값 8.7456 "
      ]
    },
    {
      "cell_type": "code",
      "execution_count": 26,
      "metadata": {
        "colab": {
          "base_uri": "https://localhost:8080/"
        },
        "id": "XVI1bcxpwcHO",
        "outputId": "8ca25fae-b41c-43fe-9687-a606c4e13cbb"
      },
      "outputs": [
        {
          "data": {
            "text/plain": [
              "dict_keys(['loss', 'val_loss'])"
            ]
          },
          "execution_count": 26,
          "metadata": {},
          "output_type": "execute_result"
        }
      ],
      "source": [
        "hist.history.keys()"
      ]
    },
    {
      "cell_type": "markdown",
      "metadata": {
        "id": "_ba8e1bBwuBW"
      },
      "source": [
        "## case 2 ) 모델 재정의 , 콜백 함수 사용 "
      ]
    },
    {
      "cell_type": "code",
      "execution_count": 27,
      "metadata": {
        "colab": {
          "base_uri": "https://localhost:8080/"
        },
        "id": "dAafeYyNwtuG",
        "outputId": "b761803a-3b5f-4d56-f421-c6f196af38a5"
      },
      "outputs": [
        {
          "name": "stdout",
          "output_type": "stream",
          "text": [
            "Model: \"sequential_3\"\n",
            "_________________________________________________________________\n",
            " Layer (type)                Output Shape              Param #   \n",
            "=================================================================\n",
            " dense_9 (Dense)             (None, 10)                90        \n",
            "                                                                 \n",
            " dense_10 (Dense)            (None, 16)                176       \n",
            "                                                                 \n",
            " dense_11 (Dense)            (None, 6)                 102       \n",
            "                                                                 \n",
            " dense_12 (Dense)            (None, 1)                 7         \n",
            "                                                                 \n",
            "=================================================================\n",
            "Total params: 375\n",
            "Trainable params: 375\n",
            "Non-trainable params: 0\n",
            "_________________________________________________________________\n"
          ]
        }
      ],
      "source": [
        "# 항아리식으로 가보자 feat ms.park\n",
        "model2 = Sequential([\n",
        "    Dense(10, input_dim=8, activation='relu'),\n",
        "    Dense(16, activation='relu'),\n",
        "    Dense(6, activation='relu'),\n",
        "    Dense(1)\n",
        "])\n",
        "model2.summary()"
      ]
    },
    {
      "cell_type": "code",
      "execution_count": 29,
      "metadata": {
        "id": "rBkZXo7wwfe5"
      },
      "outputs": [],
      "source": [
        "# 옵티마이저 알엠에스 프롬. \n",
        "model2.compile(optimizer='rmsprop', loss='mean_squared_error')"
      ]
    },
    {
      "cell_type": "code",
      "execution_count": 31,
      "metadata": {
        "id": "8DyQB1jfxpe2"
      },
      "outputs": [],
      "source": [
        "# 콜백 정의할것 \n",
        "from tensorflow.keras.callbacks import ModelCheckpoint, EarlyStopping\n",
        "model_path = 'california_house2.h5'\n",
        "checkpoint = ModelCheckpoint(\n",
        "    model_path, monitor='val_loss', verbose=1, save_best_only=True\n",
        ")\n",
        "early_stop = EarlyStopping(patience=20)"
      ]
    },
    {
      "cell_type": "code",
      "execution_count": 33,
      "metadata": {
        "colab": {
          "base_uri": "https://localhost:8080/"
        },
        "id": "kwVdQVzvw5iu",
        "outputId": "b0cf0d82-a7f1-464d-bc35-be7d3ce0b2d2"
      },
      "outputs": [
        {
          "name": "stdout",
          "output_type": "stream",
          "text": [
            "\n",
            "Epoch 00001: val_loss improved from inf to 3.70977, saving model to california_house2.h5\n",
            "\n",
            "Epoch 00002: val_loss improved from 3.70977 to 1.57063, saving model to california_house2.h5\n",
            "\n",
            "Epoch 00003: val_loss did not improve from 1.57063\n",
            "\n",
            "Epoch 00004: val_loss improved from 1.57063 to 1.47015, saving model to california_house2.h5\n",
            "\n",
            "Epoch 00005: val_loss improved from 1.47015 to 1.39385, saving model to california_house2.h5\n",
            "\n",
            "Epoch 00006: val_loss did not improve from 1.39385\n",
            "\n",
            "Epoch 00007: val_loss did not improve from 1.39385\n",
            "\n",
            "Epoch 00008: val_loss improved from 1.39385 to 1.31339, saving model to california_house2.h5\n",
            "\n",
            "Epoch 00009: val_loss improved from 1.31339 to 1.23469, saving model to california_house2.h5\n",
            "\n",
            "Epoch 00010: val_loss did not improve from 1.23469\n",
            "\n",
            "Epoch 00011: val_loss did not improve from 1.23469\n",
            "\n",
            "Epoch 00012: val_loss did not improve from 1.23469\n",
            "\n",
            "Epoch 00013: val_loss did not improve from 1.23469\n",
            "\n",
            "Epoch 00014: val_loss improved from 1.23469 to 1.10098, saving model to california_house2.h5\n",
            "\n",
            "Epoch 00015: val_loss did not improve from 1.10098\n",
            "\n",
            "Epoch 00016: val_loss did not improve from 1.10098\n",
            "\n",
            "Epoch 00017: val_loss did not improve from 1.10098\n",
            "\n",
            "Epoch 00018: val_loss improved from 1.10098 to 0.97883, saving model to california_house2.h5\n",
            "\n",
            "Epoch 00019: val_loss did not improve from 0.97883\n",
            "\n",
            "Epoch 00020: val_loss did not improve from 0.97883\n",
            "\n",
            "Epoch 00021: val_loss improved from 0.97883 to 0.87638, saving model to california_house2.h5\n",
            "\n",
            "Epoch 00022: val_loss did not improve from 0.87638\n",
            "\n",
            "Epoch 00023: val_loss did not improve from 0.87638\n",
            "\n",
            "Epoch 00024: val_loss did not improve from 0.87638\n",
            "\n",
            "Epoch 00025: val_loss did not improve from 0.87638\n",
            "\n",
            "Epoch 00026: val_loss did not improve from 0.87638\n",
            "\n",
            "Epoch 00027: val_loss did not improve from 0.87638\n",
            "\n",
            "Epoch 00028: val_loss did not improve from 0.87638\n",
            "\n",
            "Epoch 00029: val_loss did not improve from 0.87638\n",
            "\n",
            "Epoch 00030: val_loss did not improve from 0.87638\n",
            "\n",
            "Epoch 00031: val_loss did not improve from 0.87638\n",
            "\n",
            "Epoch 00032: val_loss improved from 0.87638 to 0.77132, saving model to california_house2.h5\n",
            "\n",
            "Epoch 00033: val_loss did not improve from 0.77132\n",
            "\n",
            "Epoch 00034: val_loss did not improve from 0.77132\n",
            "\n",
            "Epoch 00035: val_loss improved from 0.77132 to 0.72322, saving model to california_house2.h5\n",
            "\n",
            "Epoch 00036: val_loss did not improve from 0.72322\n",
            "\n",
            "Epoch 00037: val_loss did not improve from 0.72322\n",
            "\n",
            "Epoch 00038: val_loss did not improve from 0.72322\n",
            "\n",
            "Epoch 00039: val_loss did not improve from 0.72322\n",
            "\n",
            "Epoch 00040: val_loss did not improve from 0.72322\n",
            "\n",
            "Epoch 00041: val_loss improved from 0.72322 to 0.67748, saving model to california_house2.h5\n",
            "\n",
            "Epoch 00042: val_loss did not improve from 0.67748\n",
            "\n",
            "Epoch 00043: val_loss improved from 0.67748 to 0.67088, saving model to california_house2.h5\n",
            "\n",
            "Epoch 00044: val_loss did not improve from 0.67088\n",
            "\n",
            "Epoch 00045: val_loss did not improve from 0.67088\n",
            "\n",
            "Epoch 00046: val_loss did not improve from 0.67088\n",
            "\n",
            "Epoch 00047: val_loss improved from 0.67088 to 0.66444, saving model to california_house2.h5\n",
            "\n",
            "Epoch 00048: val_loss did not improve from 0.66444\n",
            "\n",
            "Epoch 00049: val_loss did not improve from 0.66444\n",
            "\n",
            "Epoch 00050: val_loss improved from 0.66444 to 0.63805, saving model to california_house2.h5\n",
            "\n",
            "Epoch 00051: val_loss did not improve from 0.63805\n",
            "\n",
            "Epoch 00052: val_loss did not improve from 0.63805\n",
            "\n",
            "Epoch 00053: val_loss did not improve from 0.63805\n",
            "\n",
            "Epoch 00054: val_loss did not improve from 0.63805\n",
            "\n",
            "Epoch 00055: val_loss did not improve from 0.63805\n",
            "\n",
            "Epoch 00056: val_loss did not improve from 0.63805\n",
            "\n",
            "Epoch 00057: val_loss did not improve from 0.63805\n",
            "\n",
            "Epoch 00058: val_loss did not improve from 0.63805\n",
            "\n",
            "Epoch 00059: val_loss improved from 0.63805 to 0.63059, saving model to california_house2.h5\n",
            "\n",
            "Epoch 00060: val_loss improved from 0.63059 to 0.62592, saving model to california_house2.h5\n",
            "\n",
            "Epoch 00061: val_loss did not improve from 0.62592\n",
            "\n",
            "Epoch 00062: val_loss improved from 0.62592 to 0.62255, saving model to california_house2.h5\n",
            "\n",
            "Epoch 00063: val_loss did not improve from 0.62255\n",
            "\n",
            "Epoch 00064: val_loss did not improve from 0.62255\n",
            "\n",
            "Epoch 00065: val_loss did not improve from 0.62255\n",
            "\n",
            "Epoch 00066: val_loss did not improve from 0.62255\n",
            "\n",
            "Epoch 00067: val_loss improved from 0.62255 to 0.60737, saving model to california_house2.h5\n",
            "\n",
            "Epoch 00068: val_loss did not improve from 0.60737\n",
            "\n",
            "Epoch 00069: val_loss did not improve from 0.60737\n",
            "\n",
            "Epoch 00070: val_loss did not improve from 0.60737\n",
            "\n",
            "Epoch 00071: val_loss did not improve from 0.60737\n",
            "\n",
            "Epoch 00072: val_loss did not improve from 0.60737\n",
            "\n",
            "Epoch 00073: val_loss did not improve from 0.60737\n",
            "\n",
            "Epoch 00074: val_loss did not improve from 0.60737\n",
            "\n",
            "Epoch 00075: val_loss did not improve from 0.60737\n",
            "\n",
            "Epoch 00076: val_loss did not improve from 0.60737\n",
            "\n",
            "Epoch 00077: val_loss did not improve from 0.60737\n",
            "\n",
            "Epoch 00078: val_loss did not improve from 0.60737\n",
            "\n",
            "Epoch 00079: val_loss did not improve from 0.60737\n",
            "\n",
            "Epoch 00080: val_loss did not improve from 0.60737\n",
            "\n",
            "Epoch 00081: val_loss did not improve from 0.60737\n",
            "\n",
            "Epoch 00082: val_loss did not improve from 0.60737\n",
            "\n",
            "Epoch 00083: val_loss improved from 0.60737 to 0.60213, saving model to california_house2.h5\n",
            "\n",
            "Epoch 00084: val_loss did not improve from 0.60213\n",
            "\n",
            "Epoch 00085: val_loss did not improve from 0.60213\n",
            "\n",
            "Epoch 00086: val_loss did not improve from 0.60213\n",
            "\n",
            "Epoch 00087: val_loss did not improve from 0.60213\n",
            "\n",
            "Epoch 00088: val_loss did not improve from 0.60213\n",
            "\n",
            "Epoch 00089: val_loss did not improve from 0.60213\n",
            "\n",
            "Epoch 00090: val_loss did not improve from 0.60213\n",
            "\n",
            "Epoch 00091: val_loss did not improve from 0.60213\n",
            "\n",
            "Epoch 00092: val_loss did not improve from 0.60213\n",
            "\n",
            "Epoch 00093: val_loss did not improve from 0.60213\n",
            "\n",
            "Epoch 00094: val_loss did not improve from 0.60213\n",
            "\n",
            "Epoch 00095: val_loss did not improve from 0.60213\n",
            "\n",
            "Epoch 00096: val_loss improved from 0.60213 to 0.58112, saving model to california_house2.h5\n",
            "\n",
            "Epoch 00097: val_loss did not improve from 0.58112\n",
            "\n",
            "Epoch 00098: val_loss did not improve from 0.58112\n",
            "\n",
            "Epoch 00099: val_loss did not improve from 0.58112\n",
            "\n",
            "Epoch 00100: val_loss did not improve from 0.58112\n",
            "\n",
            "Epoch 00101: val_loss improved from 0.58112 to 0.58102, saving model to california_house2.h5\n",
            "\n",
            "Epoch 00102: val_loss did not improve from 0.58102\n",
            "\n",
            "Epoch 00103: val_loss did not improve from 0.58102\n",
            "\n",
            "Epoch 00104: val_loss did not improve from 0.58102\n",
            "\n",
            "Epoch 00105: val_loss did not improve from 0.58102\n",
            "\n",
            "Epoch 00106: val_loss improved from 0.58102 to 0.56854, saving model to california_house2.h5\n",
            "\n",
            "Epoch 00107: val_loss did not improve from 0.56854\n",
            "\n",
            "Epoch 00108: val_loss did not improve from 0.56854\n",
            "\n",
            "Epoch 00109: val_loss improved from 0.56854 to 0.54905, saving model to california_house2.h5\n",
            "\n",
            "Epoch 00110: val_loss did not improve from 0.54905\n",
            "\n",
            "Epoch 00111: val_loss did not improve from 0.54905\n",
            "\n",
            "Epoch 00112: val_loss did not improve from 0.54905\n",
            "\n",
            "Epoch 00113: val_loss did not improve from 0.54905\n",
            "\n",
            "Epoch 00114: val_loss did not improve from 0.54905\n",
            "\n",
            "Epoch 00115: val_loss did not improve from 0.54905\n",
            "\n",
            "Epoch 00116: val_loss did not improve from 0.54905\n",
            "\n",
            "Epoch 00117: val_loss did not improve from 0.54905\n",
            "\n",
            "Epoch 00118: val_loss did not improve from 0.54905\n",
            "\n",
            "Epoch 00119: val_loss did not improve from 0.54905\n",
            "\n",
            "Epoch 00120: val_loss did not improve from 0.54905\n",
            "\n",
            "Epoch 00121: val_loss did not improve from 0.54905\n",
            "\n",
            "Epoch 00122: val_loss did not improve from 0.54905\n",
            "\n",
            "Epoch 00123: val_loss did not improve from 0.54905\n",
            "\n",
            "Epoch 00124: val_loss did not improve from 0.54905\n",
            "\n",
            "Epoch 00125: val_loss did not improve from 0.54905\n",
            "\n",
            "Epoch 00126: val_loss did not improve from 0.54905\n",
            "\n",
            "Epoch 00127: val_loss did not improve from 0.54905\n",
            "\n",
            "Epoch 00128: val_loss did not improve from 0.54905\n",
            "\n",
            "Epoch 00129: val_loss did not improve from 0.54905\n"
          ]
        }
      ],
      "source": [
        "# fit.transform 없는 버전들 체크할 것 . 120번까지 돌고 스탑 됨. 시가가화 후 수정핼 볼것. \n",
        "hist2 = model2.fit(X_train, y_train, validation_split=0.2, \n",
        "                   epochs=1000, batch_size=128, verbose=0,\n",
        "                   callbacks=[checkpoint, early_stop])"
      ]
    },
    {
      "cell_type": "code",
      "execution_count": 34,
      "metadata": {
        "id": "UdjrGf4iw5gb"
      },
      "outputs": [],
      "source": [
        "y_loss = hist2.history['loss']\n",
        "y_vloss = hist2.history['val_loss']\n",
        "xs = np.arange(1, len(y_loss)+1)"
      ]
    },
    {
      "cell_type": "code",
      "execution_count": 39,
      "metadata": {
        "colab": {
          "base_uri": "https://localhost:8080/",
          "height": 501
        },
        "id": "ibXNNI91w5eQ",
        "outputId": "9a1e3255-a36a-4f9e-9808-5436c250603e"
      },
      "outputs": [
        {
          "data": {
            "image/png": "[encoded data removed]",
            "text/plain": [
              "<Figure size 864x576 with 1 Axes>"
            ]
          },
          "metadata": {
            "needs_background": "light"
          },
          "output_type": "display_data"
        }
      ],
      "source": [
        "# import matplotlib.pyplot as plt\n",
        "plt.figure(figsize=(12,8))\n",
        "plt.plot(xs, y_loss, ms=5, label='train loss')\n",
        "plt.plot(xs, y_vloss, ms=5, label='validation loss')\n",
        "plt.legend()\n",
        "plt.grid()\n",
        "plt.xlabel('Epoch')\n",
        "plt.ylim([0,6]) # 수업버전하고 다르게 내껀 첫 loss 70 나와서 y값 제한 둠.\n",
        "plt.show()"
      ]
    },
    {
      "cell_type": "markdown",
      "metadata": {
        "id": "cluPuOAtw5b-"
      },
      "source": [
        "- 평가  성능 다운된 수업과 반대방향인데 수정 해볼것. "
      ]
    },
    {
      "cell_type": "code",
      "execution_count": 40,
      "metadata": {
        "id": "EO8mfxBs0P5N"
      },
      "outputs": [],
      "source": [
        "pred = model.predict(X_test)\n",
        "pred2 = model2.predict(X_test)"
      ]
    },
    {
      "cell_type": "code",
      "execution_count": 41,
      "metadata": {
        "colab": {
          "base_uri": "https://localhost:8080/"
        },
        "id": "-_xpfwLSw5Vf",
        "outputId": "20769824-8dc4-4206-c991-b1e589a79cfc"
      },
      "outputs": [
        {
          "data": {
            "text/plain": [
              "(0.5720062522230401, 0.5543111782887399)"
            ]
          },
          "execution_count": 41,
          "metadata": {},
          "output_type": "execute_result"
        }
      ],
      "source": [
        "from sklearn.metrics import mean_squared_error, r2_score\n",
        "\n",
        "mean_squared_error(y_test, pred), r2_score(y_test, pred)\n",
        "# (0.5720062522230401, 0.5543111782887399)"
      ]
    },
    {
      "cell_type": "code",
      "execution_count": 42,
      "metadata": {
        "colab": {
          "base_uri": "https://localhost:8080/"
        },
        "id": "dib0qaYN0rnF",
        "outputId": "9f4eef18-4d5b-4d57-ca0b-77b911573623"
      },
      "outputs": [
        {
          "data": {
            "text/plain": [
              "(0.735398467219512, 0.4270012345677485)"
            ]
          },
          "execution_count": 42,
          "metadata": {},
          "output_type": "execute_result"
        }
      ],
      "source": [
        "mean_squared_error(y_test, pred2), r2_score(y_test, pred2)\n",
        "# (0.735398467219512, 0.4270012345677485)"
      ]
    },
    {
      "cell_type": "markdown",
      "metadata": {
        "id": "7Wbjtbwb0uXy"
      },
      "source": [
        "- 예측치 비교"
      ]
    },
    {
      "cell_type": "code",
      "execution_count": 43,
      "metadata": {
        "colab": {
          "base_uri": "https://localhost:8080/",
          "height": 363
        },
        "id": "Kuggrd9A08kd",
        "outputId": "67977b2f-880f-4a80-a66f-54c898bba40e"
      },
      "outputs": [
        {
          "data": {
            "text/html": [
              "\n",
              "  <div id=\"df-e7df5859-fe3c-4852-a349-171533f74826\">\n",
              "    <div class=\"colab-df-container\">\n",
              "      <div>\n",
              "<style scoped>\n",
              "    .dataframe tbody tr th:only-of-type {\n",
              "        vertical-align: middle;\n",
              "    }\n",
              "\n",
              "    .dataframe tbody tr th {\n",
              "        vertical-align: top;\n",
              "    }\n",
              "\n",
              "    .dataframe thead th {\n",
              "        text-align: right;\n",
              "    }\n",
              "</style>\n",
              "<table border=\"1\" class=\"dataframe\">\n",
              "  <thead>\n",
              "    <tr style=\"text-align: right;\">\n",
              "      <th></th>\n",
              "      <th>y_test</th>\n",
              "      <th>pred</th>\n",
              "      <th>pred2</th>\n",
              "    </tr>\n",
              "  </thead>\n",
              "  <tbody>\n",
              "    <tr>\n",
              "      <th>0</th>\n",
              "      <td>4.771</td>\n",
              "      <td>4.478663</td>\n",
              "      <td>3.342354</td>\n",
              "    </tr>\n",
              "    <tr>\n",
              "      <th>1</th>\n",
              "      <td>1.371</td>\n",
              "      <td>1.599329</td>\n",
              "      <td>1.008789</td>\n",
              "    </tr>\n",
              "    <tr>\n",
              "      <th>2</th>\n",
              "      <td>1.233</td>\n",
              "      <td>1.791254</td>\n",
              "      <td>1.155702</td>\n",
              "    </tr>\n",
              "    <tr>\n",
              "      <th>3</th>\n",
              "      <td>0.938</td>\n",
              "      <td>1.470179</td>\n",
              "      <td>1.045247</td>\n",
              "    </tr>\n",
              "    <tr>\n",
              "      <th>4</th>\n",
              "      <td>3.260</td>\n",
              "      <td>3.132139</td>\n",
              "      <td>2.785170</td>\n",
              "    </tr>\n",
              "    <tr>\n",
              "      <th>5</th>\n",
              "      <td>1.516</td>\n",
              "      <td>1.708559</td>\n",
              "      <td>1.301715</td>\n",
              "    </tr>\n",
              "    <tr>\n",
              "      <th>6</th>\n",
              "      <td>2.738</td>\n",
              "      <td>2.489752</td>\n",
              "      <td>1.954634</td>\n",
              "    </tr>\n",
              "    <tr>\n",
              "      <th>7</th>\n",
              "      <td>1.368</td>\n",
              "      <td>1.851435</td>\n",
              "      <td>1.396458</td>\n",
              "    </tr>\n",
              "    <tr>\n",
              "      <th>8</th>\n",
              "      <td>1.175</td>\n",
              "      <td>0.985979</td>\n",
              "      <td>0.862199</td>\n",
              "    </tr>\n",
              "    <tr>\n",
              "      <th>9</th>\n",
              "      <td>2.966</td>\n",
              "      <td>2.846880</td>\n",
              "      <td>2.501725</td>\n",
              "    </tr>\n",
              "  </tbody>\n",
              "</table>\n",
              "</div>\n",
              "      <button class=\"colab-df-convert\" onclick=\"convertToInteractive('df-e7df5859-fe3c-4852-a349-171533f74826')\"\n",
              "              title=\"Convert this dataframe to an interactive table.\"\n",
              "              style=\"display:none;\">\n",
              "        \n",
              "  <svg xmlns=\"http://www.w3.org/2000/svg\" height=\"24px\"viewBox=\"0 0 24 24\"\n",
              "       width=\"24px\">\n",
              "    <path d=\"M0 0h24v24H0V0z\" fill=\"none\"/>\n",
              "    <path d=\"M18.56 5.44l.94 2.06.94-2.06 2.06-.94-2.06-.94-.94-2.06-.94 2.06-2.06.94zm-11 1L8.5 8.5l.94-2.06 2.06-.94-2.06-.94L8.5 2.5l-.94 2.06-2.06.94zm10 10l.94 2.06.94-2.06 2.06-.94-2.06-.94-.94-2.06-.94 2.06-2.06.94z\"/><path d=\"M17.41 7.96l-1.37-1.37c-.4-.4-.92-.59-1.43-.59-.52 0-1.04.2-1.43.59L10.3 9.45l-7.72 7.72c-.78.78-.78 2.05 0 2.83L4 21.41c.39.39.9.59 1.41.59.51 0 1.02-.2 1.41-.59l7.78-7.78 2.81-2.81c.8-.78.8-2.07 0-2.86zM5.41 20L4 18.59l7.72-7.72 1.47 1.35L5.41 20z\"/>\n",
              "  </svg>\n",
              "      </button>\n",
              "      \n",
              "  <style>\n",
              "    .colab-df-container {\n",
              "      display:flex;\n",
              "      flex-wrap:wrap;\n",
              "      gap: 12px;\n",
              "    }\n",
              "\n",
              "    .colab-df-convert {\n",
              "      background-color: #E8F0FE;\n",
              "      border: none;\n",
              "      border-radius: 50%;\n",
              "      cursor: pointer;\n",
              "      display: none;\n",
              "      fill: #1967D2;\n",
              "      height: 32px;\n",
              "      padding: 0 0 0 0;\n",
              "      width: 32px;\n",
              "    }\n",
              "\n",
              "    .colab-df-convert:hover {\n",
              "      background-color: #E2EBFA;\n",
              "      box-shadow: 0px 1px 2px rgba(60, 64, 67, 0.3), 0px 1px 3px 1px rgba(60, 64, 67, 0.15);\n",
              "      fill: #174EA6;\n",
              "    }\n",
              "\n",
              "    [theme=dark] .colab-df-convert {\n",
              "      background-color: #3B4455;\n",
              "      fill: #D2E3FC;\n",
              "    }\n",
              "\n",
              "    [theme=dark] .colab-df-convert:hover {\n",
              "      background-color: #434B5C;\n",
              "      box-shadow: 0px 1px 3px 1px rgba(0, 0, 0, 0.15);\n",
              "      filter: drop-shadow(0px 1px 2px rgba(0, 0, 0, 0.3));\n",
              "      fill: #FFFFFF;\n",
              "    }\n",
              "  </style>\n",
              "\n",
              "      <script>\n",
              "        const buttonEl =\n",
              "          document.querySelector('#df-e7df5859-fe3c-4852-a349-171533f74826 button.colab-df-convert');\n",
              "        buttonEl.style.display =\n",
              "          google.colab.kernel.accessAllowed ? 'block' : 'none';\n",
              "\n",
              "        async function convertToInteractive(key) {\n",
              "          const element = document.querySelector('#df-e7df5859-fe3c-4852-a349-171533f74826');\n",
              "          const dataTable =\n",
              "            await google.colab.kernel.invokeFunction('convertToInteractive',\n",
              "                                                     [key], {});\n",
              "          if (!dataTable) return;\n",
              "\n",
              "          const docLinkHtml = 'Like what you see? Visit the ' +\n",
              "            '<a target=\"_blank\" href=https://colab.research.google.com/notebooks/data_table.ipynb>data table notebook</a>'\n",
              "            + ' to learn more about interactive tables.';\n",
              "          element.innerHTML = '';\n",
              "          dataTable['output_type'] = 'display_data';\n",
              "          await google.colab.output.renderOutput(dataTable, element);\n",
              "          const docLink = document.createElement('div');\n",
              "          docLink.innerHTML = docLinkHtml;\n",
              "          element.appendChild(docLink);\n",
              "        }\n",
              "      </script>\n",
              "    </div>\n",
              "  </div>\n",
              "  "
            ],
            "text/plain": [
              "   y_test      pred     pred2\n",
              "0   4.771  4.478663  3.342354\n",
              "1   1.371  1.599329  1.008789\n",
              "2   1.233  1.791254  1.155702\n",
              "3   0.938  1.470179  1.045247\n",
              "4   3.260  3.132139  2.785170\n",
              "5   1.516  1.708559  1.301715\n",
              "6   2.738  2.489752  1.954634\n",
              "7   1.368  1.851435  1.396458\n",
              "8   1.175  0.985979  0.862199\n",
              "9   2.966  2.846880  2.501725"
            ]
          },
          "execution_count": 43,
          "metadata": {},
          "output_type": "execute_result"
        }
      ],
      "source": [
        "df = pd.DataFrame({\n",
        "    'y_test' : y_test, 'pred' : pred.flatten(), 'pred2' : pred2.flatten()\n",
        "})\n",
        "df.head(10)"
      ]
    },
    {
      "cell_type": "code",
      "execution_count": null,
      "metadata": {
        "id": "22Svy8f31NJX"
      },
      "outputs": [],
      "source": []
    }
  ],
  "metadata": {
    "colab": {
      "collapsed_sections": [],
      "name": "42.회귀-캘리포니아집값.ipynb",
      "provenance": []
    },
    "kernelspec": {
      "display_name": "Python 3",
      "name": "python3"
    },
    "language_info": {
      "codemirror_mode": {
        "name": "ipython",
        "version": 3
      },
      "file_extension": ".py",
      "mimetype": "text/x-python",
      "name": "python",
      "nbconvert_exporter": "python",
      "pygments_lexer": "ipython3",
      "version": "3.8.8"
    }
  },
  "nbformat": 4,
  "nbformat_minor": 0
}
