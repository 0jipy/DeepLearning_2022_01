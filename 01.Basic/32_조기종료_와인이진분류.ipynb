{
  "nbformat": 4,
  "nbformat_minor": 0,
  "metadata": {
    "colab": {
      "name": "32.조기종료-와인이진분류.ipynb",
      "provenance": [],
      "collapsed_sections": []
    },
    "kernelspec": {
      "name": "python3",
      "display_name": "Python 3"
    },
    "language_info": {
      "name": "python"
    }
  },
  "cells": [
    {
      "cell_type": "markdown",
      "source": [
        "# 베스트모델 찾은 후 조기 종료 - 와인 이진분류"
      ],
      "metadata": {
        "id": "Ofi-2lHjdAND"
      }
    },
    {
      "cell_type": "code",
      "source": [
        "import numpy as np \n",
        "import pandas as pd\n",
        "import tensorflow as tf\n",
        "seed = 2022\n",
        "np.random.seed(seed)\n",
        "tf.random.set_seed(seed)"
      ],
      "metadata": {
        "id": "wcMNyYAadGNq"
      },
      "execution_count": 26,
      "outputs": []
    },
    {
      "cell_type": "code",
      "source": [
        "from google.colab import files\n",
        "up = files.upload()\n",
        "filename = list(up.keys())[0]"
      ],
      "metadata": {
        "colab": {
          "base_uri": "https://localhost:8080/"
        },
        "id": "4CotQxC5dIDj",
        "outputId": "ceac4e64-f1a2-4983-f369-4a28c6d1a1a0"
      },
      "execution_count": 27,
      "outputs": [
        {
          "output_type": "display_data",
          "data": {
            "text/html": [
              "\n",
              "     <input type=\"file\" id=\"files-5ad79303-b3a5-4f4b-8591-fe6d9f064e96\" name=\"files[]\" multiple disabled\n",
              "        style=\"border:none\" />\n",
              "     <output id=\"result-5ad79303-b3a5-4f4b-8591-fe6d9f064e96\">\n",
              "      Upload widget is only available when the cell has been executed in the\n",
              "      current browser session. Please rerun this cell to enable.\n",
              "      </output>\n",
              "      <script src=\"/nbextensions/google.colab/files.js\"></script> "
            ],
            "text/plain": [
              "<IPython.core.display.HTML object>"
            ]
          },
          "metadata": {}
        },
        {
          "output_type": "error",
          "ename": "KeyboardInterrupt",
          "evalue": "ignored",
          "traceback": [
            "\u001b[0;31m---------------------------------------------------------------------------\u001b[0m",
            "\u001b[0;31mKeyboardInterrupt\u001b[0m                         Traceback (most recent call last)",
            "\u001b[0;32m<ipython-input-27-a8ab5e24b4ee>\u001b[0m in \u001b[0;36m<module>\u001b[0;34m()\u001b[0m\n\u001b[1;32m      1\u001b[0m \u001b[0;32mfrom\u001b[0m \u001b[0mgoogle\u001b[0m\u001b[0;34m.\u001b[0m\u001b[0mcolab\u001b[0m \u001b[0;32mimport\u001b[0m \u001b[0mfiles\u001b[0m\u001b[0;34m\u001b[0m\u001b[0;34m\u001b[0m\u001b[0m\n\u001b[0;32m----> 2\u001b[0;31m \u001b[0mup\u001b[0m \u001b[0;34m=\u001b[0m \u001b[0mfiles\u001b[0m\u001b[0;34m.\u001b[0m\u001b[0mupload\u001b[0m\u001b[0;34m(\u001b[0m\u001b[0;34m)\u001b[0m\u001b[0;34m\u001b[0m\u001b[0;34m\u001b[0m\u001b[0m\n\u001b[0m\u001b[1;32m      3\u001b[0m \u001b[0mfilename\u001b[0m \u001b[0;34m=\u001b[0m \u001b[0mlist\u001b[0m\u001b[0;34m(\u001b[0m\u001b[0mup\u001b[0m\u001b[0;34m.\u001b[0m\u001b[0mkeys\u001b[0m\u001b[0;34m(\u001b[0m\u001b[0;34m)\u001b[0m\u001b[0;34m)\u001b[0m\u001b[0;34m[\u001b[0m\u001b[0;36m0\u001b[0m\u001b[0;34m]\u001b[0m\u001b[0;34m\u001b[0m\u001b[0;34m\u001b[0m\u001b[0m\n",
            "\u001b[0;32m/usr/local/lib/python3.7/dist-packages/google/colab/files.py\u001b[0m in \u001b[0;36mupload\u001b[0;34m()\u001b[0m\n\u001b[1;32m     61\u001b[0m   result = _output.eval_js(\n\u001b[1;32m     62\u001b[0m       'google.colab._files._uploadFiles(\"{input_id}\", \"{output_id}\")'.format(\n\u001b[0;32m---> 63\u001b[0;31m           input_id=input_id, output_id=output_id))\n\u001b[0m\u001b[1;32m     64\u001b[0m   \u001b[0mfiles\u001b[0m \u001b[0;34m=\u001b[0m \u001b[0m_collections\u001b[0m\u001b[0;34m.\u001b[0m\u001b[0mdefaultdict\u001b[0m\u001b[0;34m(\u001b[0m\u001b[0m_six\u001b[0m\u001b[0;34m.\u001b[0m\u001b[0mbinary_type\u001b[0m\u001b[0;34m)\u001b[0m\u001b[0;34m\u001b[0m\u001b[0;34m\u001b[0m\u001b[0m\n\u001b[1;32m     65\u001b[0m   \u001b[0;31m# Mapping from original filename to filename as saved locally.\u001b[0m\u001b[0;34m\u001b[0m\u001b[0;34m\u001b[0m\u001b[0;34m\u001b[0m\u001b[0m\n",
            "\u001b[0;32m/usr/local/lib/python3.7/dist-packages/google/colab/output/_js.py\u001b[0m in \u001b[0;36meval_js\u001b[0;34m(script, ignore_result, timeout_sec)\u001b[0m\n\u001b[1;32m     38\u001b[0m   \u001b[0;32mif\u001b[0m \u001b[0mignore_result\u001b[0m\u001b[0;34m:\u001b[0m\u001b[0;34m\u001b[0m\u001b[0;34m\u001b[0m\u001b[0m\n\u001b[1;32m     39\u001b[0m     \u001b[0;32mreturn\u001b[0m\u001b[0;34m\u001b[0m\u001b[0;34m\u001b[0m\u001b[0m\n\u001b[0;32m---> 40\u001b[0;31m   \u001b[0;32mreturn\u001b[0m \u001b[0m_message\u001b[0m\u001b[0;34m.\u001b[0m\u001b[0mread_reply_from_input\u001b[0m\u001b[0;34m(\u001b[0m\u001b[0mrequest_id\u001b[0m\u001b[0;34m,\u001b[0m \u001b[0mtimeout_sec\u001b[0m\u001b[0;34m)\u001b[0m\u001b[0;34m\u001b[0m\u001b[0;34m\u001b[0m\u001b[0m\n\u001b[0m\u001b[1;32m     41\u001b[0m \u001b[0;34m\u001b[0m\u001b[0m\n\u001b[1;32m     42\u001b[0m \u001b[0;34m\u001b[0m\u001b[0m\n",
            "\u001b[0;32m/usr/local/lib/python3.7/dist-packages/google/colab/_message.py\u001b[0m in \u001b[0;36mread_reply_from_input\u001b[0;34m(message_id, timeout_sec)\u001b[0m\n\u001b[1;32m     99\u001b[0m     \u001b[0mreply\u001b[0m \u001b[0;34m=\u001b[0m \u001b[0m_read_next_input_message\u001b[0m\u001b[0;34m(\u001b[0m\u001b[0;34m)\u001b[0m\u001b[0;34m\u001b[0m\u001b[0;34m\u001b[0m\u001b[0m\n\u001b[1;32m    100\u001b[0m     \u001b[0;32mif\u001b[0m \u001b[0mreply\u001b[0m \u001b[0;34m==\u001b[0m \u001b[0m_NOT_READY\u001b[0m \u001b[0;32mor\u001b[0m \u001b[0;32mnot\u001b[0m \u001b[0misinstance\u001b[0m\u001b[0;34m(\u001b[0m\u001b[0mreply\u001b[0m\u001b[0;34m,\u001b[0m \u001b[0mdict\u001b[0m\u001b[0;34m)\u001b[0m\u001b[0;34m:\u001b[0m\u001b[0;34m\u001b[0m\u001b[0;34m\u001b[0m\u001b[0m\n\u001b[0;32m--> 101\u001b[0;31m       \u001b[0mtime\u001b[0m\u001b[0;34m.\u001b[0m\u001b[0msleep\u001b[0m\u001b[0;34m(\u001b[0m\u001b[0;36m0.025\u001b[0m\u001b[0;34m)\u001b[0m\u001b[0;34m\u001b[0m\u001b[0;34m\u001b[0m\u001b[0m\n\u001b[0m\u001b[1;32m    102\u001b[0m       \u001b[0;32mcontinue\u001b[0m\u001b[0;34m\u001b[0m\u001b[0;34m\u001b[0m\u001b[0m\n\u001b[1;32m    103\u001b[0m     if (reply.get('type') == 'colab_reply' and\n",
            "\u001b[0;31mKeyboardInterrupt\u001b[0m: "
          ]
        }
      ]
    },
    {
      "cell_type": "code",
      "source": [
        "# df = pd.read_csv(filename, header=None)\n",
        "df = pd.read_csv('wine.csv')\n",
        "df.head()"
      ],
      "metadata": {
        "colab": {
          "base_uri": "https://localhost:8080/",
          "height": 206
        },
        "id": "l4jpJ-FjdJuV",
        "outputId": "de957d0c-db8d-4a2b-d060-f319cdf83090"
      },
      "execution_count": 28,
      "outputs": [
        {
          "output_type": "execute_result",
          "data": {
            "text/html": [
              "\n",
              "  <div id=\"df-c28497a4-c383-4b7e-b71c-888d23194d48\">\n",
              "    <div class=\"colab-df-container\">\n",
              "      <div>\n",
              "<style scoped>\n",
              "    .dataframe tbody tr th:only-of-type {\n",
              "        vertical-align: middle;\n",
              "    }\n",
              "\n",
              "    .dataframe tbody tr th {\n",
              "        vertical-align: top;\n",
              "    }\n",
              "\n",
              "    .dataframe thead th {\n",
              "        text-align: right;\n",
              "    }\n",
              "</style>\n",
              "<table border=\"1\" class=\"dataframe\">\n",
              "  <thead>\n",
              "    <tr style=\"text-align: right;\">\n",
              "      <th></th>\n",
              "      <th>7.4</th>\n",
              "      <th>0.7</th>\n",
              "      <th>0</th>\n",
              "      <th>1.9</th>\n",
              "      <th>0.076</th>\n",
              "      <th>11</th>\n",
              "      <th>34</th>\n",
              "      <th>0.9978</th>\n",
              "      <th>3.51</th>\n",
              "      <th>0.56</th>\n",
              "      <th>9.4</th>\n",
              "      <th>5</th>\n",
              "      <th>1</th>\n",
              "    </tr>\n",
              "  </thead>\n",
              "  <tbody>\n",
              "    <tr>\n",
              "      <th>0</th>\n",
              "      <td>7.8</td>\n",
              "      <td>0.88</td>\n",
              "      <td>0.00</td>\n",
              "      <td>2.6</td>\n",
              "      <td>0.098</td>\n",
              "      <td>25.0</td>\n",
              "      <td>67.0</td>\n",
              "      <td>0.9968</td>\n",
              "      <td>3.20</td>\n",
              "      <td>0.68</td>\n",
              "      <td>9.8</td>\n",
              "      <td>5</td>\n",
              "      <td>1</td>\n",
              "    </tr>\n",
              "    <tr>\n",
              "      <th>1</th>\n",
              "      <td>7.8</td>\n",
              "      <td>0.76</td>\n",
              "      <td>0.04</td>\n",
              "      <td>2.3</td>\n",
              "      <td>0.092</td>\n",
              "      <td>15.0</td>\n",
              "      <td>54.0</td>\n",
              "      <td>0.9970</td>\n",
              "      <td>3.26</td>\n",
              "      <td>0.65</td>\n",
              "      <td>9.8</td>\n",
              "      <td>5</td>\n",
              "      <td>1</td>\n",
              "    </tr>\n",
              "    <tr>\n",
              "      <th>2</th>\n",
              "      <td>11.2</td>\n",
              "      <td>0.28</td>\n",
              "      <td>0.56</td>\n",
              "      <td>1.9</td>\n",
              "      <td>0.075</td>\n",
              "      <td>17.0</td>\n",
              "      <td>60.0</td>\n",
              "      <td>0.9980</td>\n",
              "      <td>3.16</td>\n",
              "      <td>0.58</td>\n",
              "      <td>9.8</td>\n",
              "      <td>6</td>\n",
              "      <td>1</td>\n",
              "    </tr>\n",
              "    <tr>\n",
              "      <th>3</th>\n",
              "      <td>7.4</td>\n",
              "      <td>0.70</td>\n",
              "      <td>0.00</td>\n",
              "      <td>1.9</td>\n",
              "      <td>0.076</td>\n",
              "      <td>11.0</td>\n",
              "      <td>34.0</td>\n",
              "      <td>0.9978</td>\n",
              "      <td>3.51</td>\n",
              "      <td>0.56</td>\n",
              "      <td>9.4</td>\n",
              "      <td>5</td>\n",
              "      <td>1</td>\n",
              "    </tr>\n",
              "    <tr>\n",
              "      <th>4</th>\n",
              "      <td>7.4</td>\n",
              "      <td>0.66</td>\n",
              "      <td>0.00</td>\n",
              "      <td>1.8</td>\n",
              "      <td>0.075</td>\n",
              "      <td>13.0</td>\n",
              "      <td>40.0</td>\n",
              "      <td>0.9978</td>\n",
              "      <td>3.51</td>\n",
              "      <td>0.56</td>\n",
              "      <td>9.4</td>\n",
              "      <td>5</td>\n",
              "      <td>1</td>\n",
              "    </tr>\n",
              "  </tbody>\n",
              "</table>\n",
              "</div>\n",
              "      <button class=\"colab-df-convert\" onclick=\"convertToInteractive('df-c28497a4-c383-4b7e-b71c-888d23194d48')\"\n",
              "              title=\"Convert this dataframe to an interactive table.\"\n",
              "              style=\"display:none;\">\n",
              "        \n",
              "  <svg xmlns=\"http://www.w3.org/2000/svg\" height=\"24px\"viewBox=\"0 0 24 24\"\n",
              "       width=\"24px\">\n",
              "    <path d=\"M0 0h24v24H0V0z\" fill=\"none\"/>\n",
              "    <path d=\"M18.56 5.44l.94 2.06.94-2.06 2.06-.94-2.06-.94-.94-2.06-.94 2.06-2.06.94zm-11 1L8.5 8.5l.94-2.06 2.06-.94-2.06-.94L8.5 2.5l-.94 2.06-2.06.94zm10 10l.94 2.06.94-2.06 2.06-.94-2.06-.94-.94-2.06-.94 2.06-2.06.94z\"/><path d=\"M17.41 7.96l-1.37-1.37c-.4-.4-.92-.59-1.43-.59-.52 0-1.04.2-1.43.59L10.3 9.45l-7.72 7.72c-.78.78-.78 2.05 0 2.83L4 21.41c.39.39.9.59 1.41.59.51 0 1.02-.2 1.41-.59l7.78-7.78 2.81-2.81c.8-.78.8-2.07 0-2.86zM5.41 20L4 18.59l7.72-7.72 1.47 1.35L5.41 20z\"/>\n",
              "  </svg>\n",
              "      </button>\n",
              "      \n",
              "  <style>\n",
              "    .colab-df-container {\n",
              "      display:flex;\n",
              "      flex-wrap:wrap;\n",
              "      gap: 12px;\n",
              "    }\n",
              "\n",
              "    .colab-df-convert {\n",
              "      background-color: #E8F0FE;\n",
              "      border: none;\n",
              "      border-radius: 50%;\n",
              "      cursor: pointer;\n",
              "      display: none;\n",
              "      fill: #1967D2;\n",
              "      height: 32px;\n",
              "      padding: 0 0 0 0;\n",
              "      width: 32px;\n",
              "    }\n",
              "\n",
              "    .colab-df-convert:hover {\n",
              "      background-color: #E2EBFA;\n",
              "      box-shadow: 0px 1px 2px rgba(60, 64, 67, 0.3), 0px 1px 3px 1px rgba(60, 64, 67, 0.15);\n",
              "      fill: #174EA6;\n",
              "    }\n",
              "\n",
              "    [theme=dark] .colab-df-convert {\n",
              "      background-color: #3B4455;\n",
              "      fill: #D2E3FC;\n",
              "    }\n",
              "\n",
              "    [theme=dark] .colab-df-convert:hover {\n",
              "      background-color: #434B5C;\n",
              "      box-shadow: 0px 1px 3px 1px rgba(0, 0, 0, 0.15);\n",
              "      filter: drop-shadow(0px 1px 2px rgba(0, 0, 0, 0.3));\n",
              "      fill: #FFFFFF;\n",
              "    }\n",
              "  </style>\n",
              "\n",
              "      <script>\n",
              "        const buttonEl =\n",
              "          document.querySelector('#df-c28497a4-c383-4b7e-b71c-888d23194d48 button.colab-df-convert');\n",
              "        buttonEl.style.display =\n",
              "          google.colab.kernel.accessAllowed ? 'block' : 'none';\n",
              "\n",
              "        async function convertToInteractive(key) {\n",
              "          const element = document.querySelector('#df-c28497a4-c383-4b7e-b71c-888d23194d48');\n",
              "          const dataTable =\n",
              "            await google.colab.kernel.invokeFunction('convertToInteractive',\n",
              "                                                     [key], {});\n",
              "          if (!dataTable) return;\n",
              "\n",
              "          const docLinkHtml = 'Like what you see? Visit the ' +\n",
              "            '<a target=\"_blank\" href=https://colab.research.google.com/notebooks/data_table.ipynb>data table notebook</a>'\n",
              "            + ' to learn more about interactive tables.';\n",
              "          element.innerHTML = '';\n",
              "          dataTable['output_type'] = 'display_data';\n",
              "          await google.colab.output.renderOutput(dataTable, element);\n",
              "          const docLink = document.createElement('div');\n",
              "          docLink.innerHTML = docLinkHtml;\n",
              "          element.appendChild(docLink);\n",
              "        }\n",
              "      </script>\n",
              "    </div>\n",
              "  </div>\n",
              "  "
            ],
            "text/plain": [
              "    7.4   0.7     0  1.9  0.076    11    34  0.9978  3.51  0.56  9.4  5  1\n",
              "0   7.8  0.88  0.00  2.6  0.098  25.0  67.0  0.9968  3.20  0.68  9.8  5  1\n",
              "1   7.8  0.76  0.04  2.3  0.092  15.0  54.0  0.9970  3.26  0.65  9.8  5  1\n",
              "2  11.2  0.28  0.56  1.9  0.075  17.0  60.0  0.9980  3.16  0.58  9.8  6  1\n",
              "3   7.4  0.70  0.00  1.9  0.076  11.0  34.0  0.9978  3.51  0.56  9.4  5  1\n",
              "4   7.4  0.66  0.00  1.8  0.075  13.0  40.0  0.9978  3.51  0.56  9.4  5  1"
            ]
          },
          "metadata": {},
          "execution_count": 28
        }
      ]
    },
    {
      "cell_type": "code",
      "source": [
        "np.unique(df.values[:, -1], return_counts=True)\n",
        "# 0 이 화이트  1이 레드 "
      ],
      "metadata": {
        "colab": {
          "base_uri": "https://localhost:8080/"
        },
        "id": "DXpOY4UXdvKB",
        "outputId": "faf8eb2e-afe6-47f2-eab7-d09e4dbcd0ac"
      },
      "execution_count": 29,
      "outputs": [
        {
          "output_type": "execute_result",
          "data": {
            "text/plain": [
              "(array([0., 1.]), array([4898, 1598]))"
            ]
          },
          "metadata": {},
          "execution_count": 29
        }
      ]
    },
    {
      "cell_type": "markdown",
      "source": [
        "- train / test data "
      ],
      "metadata": {
        "id": "j0V7q3vBdk2Z"
      }
    },
    {
      "cell_type": "code",
      "source": [
        "# y 0과1 레이블인코딩 이나 원핫인코딩 필요없어\n",
        "# X 값 스케일링 (정규화)\n",
        "from sklearn.preprocessing import StandardScaler\n",
        "X_scaled = StandardScaler().fit_transform(df.values[:,:-1])"
      ],
      "metadata": {
        "id": "V-Df8Chedpey"
      },
      "execution_count": 30,
      "outputs": []
    },
    {
      "cell_type": "code",
      "source": [
        "from sklearn.model_selection import train_test_split\n",
        "X_train, X_test, y_train, y_test = train_test_split(\n",
        "    X_scaled, df.values[:,-1], stratify =df.values[:,-1],  random_state=seed\n",
        ")\n",
        "X_train.shape, X_test.shape, y_train.shape,  y_test.shape\n",
        "# 12개의 엘리먼트 들어와. 와인등급으로 다중분류, 레드 화이트로 이진분류"
      ],
      "metadata": {
        "colab": {
          "base_uri": "https://localhost:8080/"
        },
        "id": "BaQ9zwIgdX5v",
        "outputId": "bb294e78-ec4e-4161-e237-a22d81bfe983"
      },
      "execution_count": 31,
      "outputs": [
        {
          "output_type": "execute_result",
          "data": {
            "text/plain": [
              "((4872, 12), (1624, 12), (4872,), (1624,))"
            ]
          },
          "metadata": {},
          "execution_count": 31
        }
      ]
    },
    {
      "cell_type": "markdown",
      "source": [
        "- 모델 정의 / 설정"
      ],
      "metadata": {
        "id": "BJaMgE0Mdjrk"
      }
    },
    {
      "cell_type": "code",
      "source": [
        "from tensorflow.keras.models import Sequential\n",
        "from tensorflow.keras.layers import Dense"
      ],
      "metadata": {
        "id": "4mSKw5z3iDoT"
      },
      "execution_count": 32,
      "outputs": []
    },
    {
      "cell_type": "code",
      "source": [
        "model = Sequential([\n",
        "        Dense(30, input_dim=12, activation='relu'),\n",
        "        Dense(12, activation='relu'),\n",
        "        Dense(8, activation='relu'),\n",
        "        Dense(1, activation='sigmoid')\n",
        "])\n",
        "model.summary()"
      ],
      "metadata": {
        "colab": {
          "base_uri": "https://localhost:8080/"
        },
        "id": "JK2Zo6ZOia3s",
        "outputId": "eb3bedd8-5c47-49c4-c4b5-49682e85723e"
      },
      "execution_count": 33,
      "outputs": [
        {
          "output_type": "stream",
          "name": "stdout",
          "text": [
            "Model: \"sequential_1\"\n",
            "_________________________________________________________________\n",
            " Layer (type)                Output Shape              Param #   \n",
            "=================================================================\n",
            " dense_4 (Dense)             (None, 30)                390       \n",
            "                                                                 \n",
            " dense_5 (Dense)             (None, 12)                372       \n",
            "                                                                 \n",
            " dense_6 (Dense)             (None, 8)                 104       \n",
            "                                                                 \n",
            " dense_7 (Dense)             (None, 1)                 9         \n",
            "                                                                 \n",
            "=================================================================\n",
            "Total params: 875\n",
            "Trainable params: 875\n",
            "Non-trainable params: 0\n",
            "_________________________________________________________________\n"
          ]
        }
      ]
    },
    {
      "cell_type": "code",
      "source": [
        "# 컴파일\n",
        "model.compile(optimizer='adam', loss='binary_crossentropy', metrics=['accuracy']\n",
        ")"
      ],
      "metadata": {
        "id": "bqkRD_UKkuwz"
      },
      "execution_count": 34,
      "outputs": []
    },
    {
      "cell_type": "markdown",
      "source": [
        "- 모델 저장관련 설정"
      ],
      "metadata": {
        "id": "-OPD-xJgjC2c"
      }
    },
    {
      "cell_type": "code",
      "source": [
        "import os\n",
        "if not os.path.exists('model'):\n",
        "    os.mkdir('model')"
      ],
      "metadata": {
        "id": "JyiUs67MiyFO"
      },
      "execution_count": 36,
      "outputs": []
    },
    {
      "cell_type": "code",
      "source": [
        "model_path = 'model/best_wine.h5'\n",
        "# model_path = 'model/wine_{epoch:03d}_{val_loss:.4f}.h5'"
      ],
      "metadata": {
        "id": "uIfWrZGvjTfz"
      },
      "execution_count": null,
      "outputs": []
    },
    {
      "cell_type": "code",
      "source": [
        "# 콜백.체크포인트 설정 \n",
        "from tensorflow.keras.callbacks import ModelCheckpoint\n",
        "checkpoint = ModelCheckpoint(\n",
        "    model_path, monitor='val_loss', verbose=1, save_best_only=True\n",
        ")"
      ],
      "metadata": {
        "id": "wDZQzpfwjTXz"
      },
      "execution_count": 37,
      "outputs": []
    },
    {
      "cell_type": "markdown",
      "source": [
        "- 조기 종료(자동 중단) 관련 설정"
      ],
      "metadata": {
        "id": "jQmHni2jnwlR"
      }
    },
    {
      "cell_type": "code",
      "source": [
        "from tensorflow.keras.callbacks import EarlyStopping\n",
        "early_stopping = EarlyStopping(patience=20)"
      ],
      "metadata": {
        "id": "3zlIKvBVn0uh"
      },
      "execution_count": 38,
      "outputs": []
    },
    {
      "cell_type": "markdown",
      "source": [
        "- 모델학습및 저장"
      ],
      "metadata": {
        "id": "ZbSdbzUXkZRr"
      }
    },
    {
      "cell_type": "code",
      "source": [
        "hist = model.fit(X_train, y_train, validation_split=0.2, verbose=0,\n",
        "                 epochs=200, batch_size=200, \n",
        "                 callbacks=[checkpoint, early_stopping])"
      ],
      "metadata": {
        "colab": {
          "base_uri": "https://localhost:8080/"
        },
        "id": "d9IJo7yckZLC",
        "outputId": "2e0b0352-cbb5-43c2-948e-9975456b66b1"
      },
      "execution_count": 39,
      "outputs": [
        {
          "output_type": "stream",
          "name": "stdout",
          "text": [
            "\n",
            "Epoch 00001: val_loss improved from inf to 0.24063, saving model to model/best_wine.h5\n",
            "\n",
            "Epoch 00002: val_loss improved from 0.24063 to 0.14831, saving model to model/best_wine.h5\n",
            "\n",
            "Epoch 00003: val_loss improved from 0.14831 to 0.10060, saving model to model/best_wine.h5\n",
            "\n",
            "Epoch 00004: val_loss improved from 0.10060 to 0.07587, saving model to model/best_wine.h5\n",
            "\n",
            "Epoch 00005: val_loss improved from 0.07587 to 0.06344, saving model to model/best_wine.h5\n",
            "\n",
            "Epoch 00006: val_loss improved from 0.06344 to 0.05635, saving model to model/best_wine.h5\n",
            "\n",
            "Epoch 00007: val_loss improved from 0.05635 to 0.05264, saving model to model/best_wine.h5\n",
            "\n",
            "Epoch 00008: val_loss improved from 0.05264 to 0.05054, saving model to model/best_wine.h5\n",
            "\n",
            "Epoch 00009: val_loss improved from 0.05054 to 0.04914, saving model to model/best_wine.h5\n",
            "\n",
            "Epoch 00010: val_loss improved from 0.04914 to 0.04836, saving model to model/best_wine.h5\n",
            "\n",
            "Epoch 00011: val_loss improved from 0.04836 to 0.04772, saving model to model/best_wine.h5\n",
            "\n",
            "Epoch 00012: val_loss improved from 0.04772 to 0.04755, saving model to model/best_wine.h5\n",
            "\n",
            "Epoch 00013: val_loss improved from 0.04755 to 0.04686, saving model to model/best_wine.h5\n",
            "\n",
            "Epoch 00014: val_loss improved from 0.04686 to 0.04641, saving model to model/best_wine.h5\n",
            "\n",
            "Epoch 00015: val_loss improved from 0.04641 to 0.04633, saving model to model/best_wine.h5\n",
            "\n",
            "Epoch 00016: val_loss improved from 0.04633 to 0.04574, saving model to model/best_wine.h5\n",
            "\n",
            "Epoch 00017: val_loss improved from 0.04574 to 0.04538, saving model to model/best_wine.h5\n",
            "\n",
            "Epoch 00018: val_loss did not improve from 0.04538\n",
            "\n",
            "Epoch 00019: val_loss improved from 0.04538 to 0.04508, saving model to model/best_wine.h5\n",
            "\n",
            "Epoch 00020: val_loss improved from 0.04508 to 0.04468, saving model to model/best_wine.h5\n",
            "\n",
            "Epoch 00021: val_loss improved from 0.04468 to 0.04466, saving model to model/best_wine.h5\n",
            "\n",
            "Epoch 00022: val_loss improved from 0.04466 to 0.04462, saving model to model/best_wine.h5\n",
            "\n",
            "Epoch 00023: val_loss improved from 0.04462 to 0.04407, saving model to model/best_wine.h5\n",
            "\n",
            "Epoch 00024: val_loss improved from 0.04407 to 0.04399, saving model to model/best_wine.h5\n",
            "\n",
            "Epoch 00025: val_loss improved from 0.04399 to 0.04374, saving model to model/best_wine.h5\n",
            "\n",
            "Epoch 00026: val_loss improved from 0.04374 to 0.04368, saving model to model/best_wine.h5\n",
            "\n",
            "Epoch 00027: val_loss improved from 0.04368 to 0.04345, saving model to model/best_wine.h5\n",
            "\n",
            "Epoch 00028: val_loss improved from 0.04345 to 0.04326, saving model to model/best_wine.h5\n",
            "\n",
            "Epoch 00029: val_loss improved from 0.04326 to 0.04323, saving model to model/best_wine.h5\n",
            "\n",
            "Epoch 00030: val_loss improved from 0.04323 to 0.04315, saving model to model/best_wine.h5\n",
            "\n",
            "Epoch 00031: val_loss improved from 0.04315 to 0.04261, saving model to model/best_wine.h5\n",
            "\n",
            "Epoch 00032: val_loss improved from 0.04261 to 0.04215, saving model to model/best_wine.h5\n",
            "\n",
            "Epoch 00033: val_loss did not improve from 0.04215\n",
            "\n",
            "Epoch 00034: val_loss did not improve from 0.04215\n",
            "\n",
            "Epoch 00035: val_loss did not improve from 0.04215\n",
            "\n",
            "Epoch 00036: val_loss improved from 0.04215 to 0.04205, saving model to model/best_wine.h5\n",
            "\n",
            "Epoch 00037: val_loss did not improve from 0.04205\n",
            "\n",
            "Epoch 00038: val_loss improved from 0.04205 to 0.04193, saving model to model/best_wine.h5\n",
            "\n",
            "Epoch 00039: val_loss improved from 0.04193 to 0.04188, saving model to model/best_wine.h5\n",
            "\n",
            "Epoch 00040: val_loss improved from 0.04188 to 0.04173, saving model to model/best_wine.h5\n",
            "\n",
            "Epoch 00041: val_loss improved from 0.04173 to 0.04171, saving model to model/best_wine.h5\n",
            "\n",
            "Epoch 00042: val_loss improved from 0.04171 to 0.04169, saving model to model/best_wine.h5\n",
            "\n",
            "Epoch 00043: val_loss improved from 0.04169 to 0.04156, saving model to model/best_wine.h5\n",
            "\n",
            "Epoch 00044: val_loss did not improve from 0.04156\n",
            "\n",
            "Epoch 00045: val_loss did not improve from 0.04156\n",
            "\n",
            "Epoch 00046: val_loss improved from 0.04156 to 0.04139, saving model to model/best_wine.h5\n",
            "\n",
            "Epoch 00047: val_loss did not improve from 0.04139\n",
            "\n",
            "Epoch 00048: val_loss improved from 0.04139 to 0.04111, saving model to model/best_wine.h5\n",
            "\n",
            "Epoch 00049: val_loss did not improve from 0.04111\n",
            "\n",
            "Epoch 00050: val_loss did not improve from 0.04111\n",
            "\n",
            "Epoch 00051: val_loss did not improve from 0.04111\n",
            "\n",
            "Epoch 00052: val_loss did not improve from 0.04111\n",
            "\n",
            "Epoch 00053: val_loss did not improve from 0.04111\n",
            "\n",
            "Epoch 00054: val_loss did not improve from 0.04111\n",
            "\n",
            "Epoch 00055: val_loss did not improve from 0.04111\n",
            "\n",
            "Epoch 00056: val_loss did not improve from 0.04111\n",
            "\n",
            "Epoch 00057: val_loss did not improve from 0.04111\n",
            "\n",
            "Epoch 00058: val_loss improved from 0.04111 to 0.04109, saving model to model/best_wine.h5\n",
            "\n",
            "Epoch 00059: val_loss did not improve from 0.04109\n",
            "\n",
            "Epoch 00060: val_loss improved from 0.04109 to 0.04092, saving model to model/best_wine.h5\n",
            "\n",
            "Epoch 00061: val_loss did not improve from 0.04092\n",
            "\n",
            "Epoch 00062: val_loss did not improve from 0.04092\n",
            "\n",
            "Epoch 00063: val_loss did not improve from 0.04092\n",
            "\n",
            "Epoch 00064: val_loss did not improve from 0.04092\n",
            "\n",
            "Epoch 00065: val_loss did not improve from 0.04092\n",
            "\n",
            "Epoch 00066: val_loss did not improve from 0.04092\n",
            "\n",
            "Epoch 00067: val_loss did not improve from 0.04092\n",
            "\n",
            "Epoch 00068: val_loss did not improve from 0.04092\n",
            "\n",
            "Epoch 00069: val_loss did not improve from 0.04092\n",
            "\n",
            "Epoch 00070: val_loss did not improve from 0.04092\n",
            "\n",
            "Epoch 00071: val_loss did not improve from 0.04092\n",
            "\n",
            "Epoch 00072: val_loss did not improve from 0.04092\n",
            "\n",
            "Epoch 00073: val_loss did not improve from 0.04092\n",
            "\n",
            "Epoch 00074: val_loss did not improve from 0.04092\n",
            "\n",
            "Epoch 00075: val_loss did not improve from 0.04092\n",
            "\n",
            "Epoch 00076: val_loss did not improve from 0.04092\n",
            "\n",
            "Epoch 00077: val_loss did not improve from 0.04092\n",
            "\n",
            "Epoch 00078: val_loss did not improve from 0.04092\n",
            "\n",
            "Epoch 00079: val_loss did not improve from 0.04092\n",
            "\n",
            "Epoch 00080: val_loss did not improve from 0.04092\n"
          ]
        }
      ]
    },
    {
      "cell_type": "markdown",
      "source": [
        "- 베스트 모델 로딩한 후 평가"
      ],
      "metadata": {
        "id": "MuwbmUVGkc5P"
      }
    },
    {
      "cell_type": "code",
      "source": [
        "from tensorflow.keras.models import load_model\n",
        "best_model = load_model(model_path)\n",
        "best_model.evaluate(X_test, y_test)"
      ],
      "metadata": {
        "colab": {
          "base_uri": "https://localhost:8080/"
        },
        "id": "3W4WL4Lqkcz7",
        "outputId": "46daa77c-47bc-4d6f-b0eb-6f2051fee0c8"
      },
      "execution_count": 40,
      "outputs": [
        {
          "output_type": "stream",
          "name": "stdout",
          "text": [
            "51/51 [==============================] - 0s 2ms/step - loss: 0.0157 - accuracy: 0.9957\n"
          ]
        },
        {
          "output_type": "execute_result",
          "data": {
            "text/plain": [
              "[0.015707815065979958, 0.9956896305084229]"
            ]
          },
          "metadata": {},
          "execution_count": 40
        }
      ]
    },
    {
      "cell_type": "markdown",
      "source": [
        "- 훈련과정 시각화"
      ],
      "metadata": {
        "id": "kxnmrBLQmYqe"
      }
    },
    {
      "cell_type": "code",
      "source": [
        "import matplotlib.pyplot as plt\n",
        "y_acc = hist.history['accuracy']\n",
        "y_vloss = hist.history['val_loss']\n",
        "xs = np.arange(1, len(y_acc)+1)"
      ],
      "metadata": {
        "id": "g_Pxd9FcZ0au"
      },
      "execution_count": null,
      "outputs": []
    },
    {
      "cell_type": "code",
      "source": [
        "plt.figure(figsize=(12,8))\n",
        "plt.plot(xs, y_acc, ms=5, label='train accuracy')\n",
        "plt.plot(xs, y_vloss, ms=5, label='validation loss')\n",
        "plt.legend()\n",
        "plt.grid()\n",
        "plt.xlabel('Epoch')\n",
        "plt.show()"
      ],
      "metadata": {
        "colab": {
          "base_uri": "https://localhost:8080/",
          "height": 497
        },
        "id": "P1Haz2JtaDqt",
        "outputId": "4f00120b-ba5e-4369-9d5a-2f5f67cb113e"
      },
      "execution_count": 41,
      "outputs": [
        {
          "output_type": "display_data",
          "data": {
            "image/png": "[encoded data removed]",
            "text/plain": [
              "<Figure size 864x576 with 1 Axes>"
            ]
          },
          "metadata": {
            "needs_background": "light"
          }
        }
      ]
    },
    {
      "cell_type": "code",
      "source": [
        ""
      ],
      "metadata": {
        "id": "oPaDhbAdo_ob"
      },
      "execution_count": null,
      "outputs": []
    }
  ]
}