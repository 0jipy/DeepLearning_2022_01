{
  "cells": [
    {
      "cell_type": "markdown",
      "metadata": {
        "id": "OiVYjtsNyei9"
      },
      "source": [
        "## 좀머좀머 졸렬한 좀머씨. 쥐스킨트는 어느나라? 경시경시주시경시\n",
        "\n",
        "# 타이타닉 생존율 예측 정확도 경시대회 \n",
        "  -- seaborn titanic dataset으로 --\n",
        "\n",
        "결과  \n",
        "    - model_one : 0.8268  \n",
        "    - model_two : 0.8491619825363159 (최대)\n"
      ]
    },
    {
      "cell_type": "markdown",
      "metadata": {
        "id": "OGBlY1X_0ls8"
      },
      "source": [
        "### 1. 데이터 불러오기 및 전처리\n",
        "- feature selection \n",
        "- 결측치 처리 및 카테고리 값 레이블 인코딩"
      ]
    },
    {
      "cell_type": "code",
      "execution_count": 9,
      "metadata": {
        "id": "CW7vD2JM0Zp8"
      },
      "outputs": [],
      "source": [
        "# 1. 피쳐 셀렉션"
      ]
    },
    {
      "cell_type": "code",
      "execution_count": 2,
      "metadata": {
        "id": "8LhCwhDCy54u"
      },
      "outputs": [],
      "source": [
        "import seaborn as sns"
      ]
    },
    {
      "cell_type": "code",
      "execution_count": 5,
      "metadata": {
        "colab": {
          "base_uri": "https://localhost:8080/",
          "height": 206
        },
        "id": "7TLEqBYGzXG7",
        "outputId": "dddbda60-a9e4-4cb9-e235-9e1346753af2"
      },
      "outputs": [
        {
          "data": {
            "text/html": [
              "\n",
              "  <div id=\"df-0b54f864-29f0-421c-8341-ccf97236763c\">\n",
              "    <div class=\"colab-df-container\">\n",
              "      <div>\n",
              "<style scoped>\n",
              "    .dataframe tbody tr th:only-of-type {\n",
              "        vertical-align: middle;\n",
              "    }\n",
              "\n",
              "    .dataframe tbody tr th {\n",
              "        vertical-align: top;\n",
              "    }\n",
              "\n",
              "    .dataframe thead th {\n",
              "        text-align: right;\n",
              "    }\n",
              "</style>\n",
              "<table border=\"1\" class=\"dataframe\">\n",
              "  <thead>\n",
              "    <tr style=\"text-align: right;\">\n",
              "      <th></th>\n",
              "      <th>survived</th>\n",
              "      <th>pclass</th>\n",
              "      <th>sex</th>\n",
              "      <th>age</th>\n",
              "      <th>sibsp</th>\n",
              "      <th>parch</th>\n",
              "      <th>fare</th>\n",
              "      <th>embarked</th>\n",
              "      <th>class</th>\n",
              "      <th>who</th>\n",
              "      <th>adult_male</th>\n",
              "      <th>deck</th>\n",
              "      <th>embark_town</th>\n",
              "      <th>alive</th>\n",
              "      <th>alone</th>\n",
              "    </tr>\n",
              "  </thead>\n",
              "  <tbody>\n",
              "    <tr>\n",
              "      <th>0</th>\n",
              "      <td>0</td>\n",
              "      <td>3</td>\n",
              "      <td>male</td>\n",
              "      <td>22.0</td>\n",
              "      <td>1</td>\n",
              "      <td>0</td>\n",
              "      <td>7.2500</td>\n",
              "      <td>S</td>\n",
              "      <td>Third</td>\n",
              "      <td>man</td>\n",
              "      <td>True</td>\n",
              "      <td>NaN</td>\n",
              "      <td>Southampton</td>\n",
              "      <td>no</td>\n",
              "      <td>False</td>\n",
              "    </tr>\n",
              "    <tr>\n",
              "      <th>1</th>\n",
              "      <td>1</td>\n",
              "      <td>1</td>\n",
              "      <td>female</td>\n",
              "      <td>38.0</td>\n",
              "      <td>1</td>\n",
              "      <td>0</td>\n",
              "      <td>71.2833</td>\n",
              "      <td>C</td>\n",
              "      <td>First</td>\n",
              "      <td>woman</td>\n",
              "      <td>False</td>\n",
              "      <td>C</td>\n",
              "      <td>Cherbourg</td>\n",
              "      <td>yes</td>\n",
              "      <td>False</td>\n",
              "    </tr>\n",
              "    <tr>\n",
              "      <th>2</th>\n",
              "      <td>1</td>\n",
              "      <td>3</td>\n",
              "      <td>female</td>\n",
              "      <td>26.0</td>\n",
              "      <td>0</td>\n",
              "      <td>0</td>\n",
              "      <td>7.9250</td>\n",
              "      <td>S</td>\n",
              "      <td>Third</td>\n",
              "      <td>woman</td>\n",
              "      <td>False</td>\n",
              "      <td>NaN</td>\n",
              "      <td>Southampton</td>\n",
              "      <td>yes</td>\n",
              "      <td>True</td>\n",
              "    </tr>\n",
              "    <tr>\n",
              "      <th>3</th>\n",
              "      <td>1</td>\n",
              "      <td>1</td>\n",
              "      <td>female</td>\n",
              "      <td>35.0</td>\n",
              "      <td>1</td>\n",
              "      <td>0</td>\n",
              "      <td>53.1000</td>\n",
              "      <td>S</td>\n",
              "      <td>First</td>\n",
              "      <td>woman</td>\n",
              "      <td>False</td>\n",
              "      <td>C</td>\n",
              "      <td>Southampton</td>\n",
              "      <td>yes</td>\n",
              "      <td>False</td>\n",
              "    </tr>\n",
              "    <tr>\n",
              "      <th>4</th>\n",
              "      <td>0</td>\n",
              "      <td>3</td>\n",
              "      <td>male</td>\n",
              "      <td>35.0</td>\n",
              "      <td>0</td>\n",
              "      <td>0</td>\n",
              "      <td>8.0500</td>\n",
              "      <td>S</td>\n",
              "      <td>Third</td>\n",
              "      <td>man</td>\n",
              "      <td>True</td>\n",
              "      <td>NaN</td>\n",
              "      <td>Southampton</td>\n",
              "      <td>no</td>\n",
              "      <td>True</td>\n",
              "    </tr>\n",
              "  </tbody>\n",
              "</table>\n",
              "</div>\n",
              "      <button class=\"colab-df-convert\" onclick=\"convertToInteractive('df-0b54f864-29f0-421c-8341-ccf97236763c')\"\n",
              "              title=\"Convert this dataframe to an interactive table.\"\n",
              "              style=\"display:none;\">\n",
              "        \n",
              "  <svg xmlns=\"http://www.w3.org/2000/svg\" height=\"24px\"viewBox=\"0 0 24 24\"\n",
              "       width=\"24px\">\n",
              "    <path d=\"M0 0h24v24H0V0z\" fill=\"none\"/>\n",
              "    <path d=\"M18.56 5.44l.94 2.06.94-2.06 2.06-.94-2.06-.94-.94-2.06-.94 2.06-2.06.94zm-11 1L8.5 8.5l.94-2.06 2.06-.94-2.06-.94L8.5 2.5l-.94 2.06-2.06.94zm10 10l.94 2.06.94-2.06 2.06-.94-2.06-.94-.94-2.06-.94 2.06-2.06.94z\"/><path d=\"M17.41 7.96l-1.37-1.37c-.4-.4-.92-.59-1.43-.59-.52 0-1.04.2-1.43.59L10.3 9.45l-7.72 7.72c-.78.78-.78 2.05 0 2.83L4 21.41c.39.39.9.59 1.41.59.51 0 1.02-.2 1.41-.59l7.78-7.78 2.81-2.81c.8-.78.8-2.07 0-2.86zM5.41 20L4 18.59l7.72-7.72 1.47 1.35L5.41 20z\"/>\n",
              "  </svg>\n",
              "      </button>\n",
              "      \n",
              "  <style>\n",
              "    .colab-df-container {\n",
              "      display:flex;\n",
              "      flex-wrap:wrap;\n",
              "      gap: 12px;\n",
              "    }\n",
              "\n",
              "    .colab-df-convert {\n",
              "      background-color: #E8F0FE;\n",
              "      border: none;\n",
              "      border-radius: 50%;\n",
              "      cursor: pointer;\n",
              "      display: none;\n",
              "      fill: #1967D2;\n",
              "      height: 32px;\n",
              "      padding: 0 0 0 0;\n",
              "      width: 32px;\n",
              "    }\n",
              "\n",
              "    .colab-df-convert:hover {\n",
              "      background-color: #E2EBFA;\n",
              "      box-shadow: 0px 1px 2px rgba(60, 64, 67, 0.3), 0px 1px 3px 1px rgba(60, 64, 67, 0.15);\n",
              "      fill: #174EA6;\n",
              "    }\n",
              "\n",
              "    [theme=dark] .colab-df-convert {\n",
              "      background-color: #3B4455;\n",
              "      fill: #D2E3FC;\n",
              "    }\n",
              "\n",
              "    [theme=dark] .colab-df-convert:hover {\n",
              "      background-color: #434B5C;\n",
              "      box-shadow: 0px 1px 3px 1px rgba(0, 0, 0, 0.15);\n",
              "      filter: drop-shadow(0px 1px 2px rgba(0, 0, 0, 0.3));\n",
              "      fill: #FFFFFF;\n",
              "    }\n",
              "  </style>\n",
              "\n",
              "      <script>\n",
              "        const buttonEl =\n",
              "          document.querySelector('#df-0b54f864-29f0-421c-8341-ccf97236763c button.colab-df-convert');\n",
              "        buttonEl.style.display =\n",
              "          google.colab.kernel.accessAllowed ? 'block' : 'none';\n",
              "\n",
              "        async function convertToInteractive(key) {\n",
              "          const element = document.querySelector('#df-0b54f864-29f0-421c-8341-ccf97236763c');\n",
              "          const dataTable =\n",
              "            await google.colab.kernel.invokeFunction('convertToInteractive',\n",
              "                                                     [key], {});\n",
              "          if (!dataTable) return;\n",
              "\n",
              "          const docLinkHtml = 'Like what you see? Visit the ' +\n",
              "            '<a target=\"_blank\" href=https://colab.research.google.com/notebooks/data_table.ipynb>data table notebook</a>'\n",
              "            + ' to learn more about interactive tables.';\n",
              "          element.innerHTML = '';\n",
              "          dataTable['output_type'] = 'display_data';\n",
              "          await google.colab.output.renderOutput(dataTable, element);\n",
              "          const docLink = document.createElement('div');\n",
              "          docLink.innerHTML = docLinkHtml;\n",
              "          element.appendChild(docLink);\n",
              "        }\n",
              "      </script>\n",
              "    </div>\n",
              "  </div>\n",
              "  "
            ],
            "text/plain": [
              "   survived  pclass     sex   age  ...  deck  embark_town  alive  alone\n",
              "0         0       3    male  22.0  ...   NaN  Southampton     no  False\n",
              "1         1       1  female  38.0  ...     C    Cherbourg    yes  False\n",
              "2         1       3  female  26.0  ...   NaN  Southampton    yes   True\n",
              "3         1       1  female  35.0  ...     C  Southampton    yes  False\n",
              "4         0       3    male  35.0  ...   NaN  Southampton     no   True\n",
              "\n",
              "[5 rows x 15 columns]"
            ]
          },
          "execution_count": 5,
          "metadata": {},
          "output_type": "execute_result"
        }
      ],
      "source": [
        "df = sns.load_dataset('titanic')\n",
        "df.head()"
      ]
    },
    {
      "cell_type": "code",
      "execution_count": 10,
      "metadata": {
        "colab": {
          "base_uri": "https://localhost:8080/",
          "height": 423
        },
        "id": "31e9XSu-0Fdy",
        "outputId": "2e081e7f-2ba5-4779-ddea-547a5af5db7d"
      },
      "outputs": [
        {
          "data": {
            "text/html": [
              "\n",
              "  <div id=\"df-f8d5e65d-a7ed-4a5e-8ee9-902f7a1eccf4\">\n",
              "    <div class=\"colab-df-container\">\n",
              "      <div>\n",
              "<style scoped>\n",
              "    .dataframe tbody tr th:only-of-type {\n",
              "        vertical-align: middle;\n",
              "    }\n",
              "\n",
              "    .dataframe tbody tr th {\n",
              "        vertical-align: top;\n",
              "    }\n",
              "\n",
              "    .dataframe thead th {\n",
              "        text-align: right;\n",
              "    }\n",
              "</style>\n",
              "<table border=\"1\" class=\"dataframe\">\n",
              "  <thead>\n",
              "    <tr style=\"text-align: right;\">\n",
              "      <th></th>\n",
              "      <th>survived</th>\n",
              "      <th>pclass</th>\n",
              "      <th>sex</th>\n",
              "      <th>age</th>\n",
              "      <th>sibsp</th>\n",
              "      <th>parch</th>\n",
              "      <th>fare</th>\n",
              "      <th>embarked</th>\n",
              "      <th>deck</th>\n",
              "    </tr>\n",
              "  </thead>\n",
              "  <tbody>\n",
              "    <tr>\n",
              "      <th>0</th>\n",
              "      <td>0</td>\n",
              "      <td>3</td>\n",
              "      <td>male</td>\n",
              "      <td>22.0</td>\n",
              "      <td>1</td>\n",
              "      <td>0</td>\n",
              "      <td>7.2500</td>\n",
              "      <td>S</td>\n",
              "      <td>NaN</td>\n",
              "    </tr>\n",
              "    <tr>\n",
              "      <th>1</th>\n",
              "      <td>1</td>\n",
              "      <td>1</td>\n",
              "      <td>female</td>\n",
              "      <td>38.0</td>\n",
              "      <td>1</td>\n",
              "      <td>0</td>\n",
              "      <td>71.2833</td>\n",
              "      <td>C</td>\n",
              "      <td>C</td>\n",
              "    </tr>\n",
              "    <tr>\n",
              "      <th>2</th>\n",
              "      <td>1</td>\n",
              "      <td>3</td>\n",
              "      <td>female</td>\n",
              "      <td>26.0</td>\n",
              "      <td>0</td>\n",
              "      <td>0</td>\n",
              "      <td>7.9250</td>\n",
              "      <td>S</td>\n",
              "      <td>NaN</td>\n",
              "    </tr>\n",
              "    <tr>\n",
              "      <th>3</th>\n",
              "      <td>1</td>\n",
              "      <td>1</td>\n",
              "      <td>female</td>\n",
              "      <td>35.0</td>\n",
              "      <td>1</td>\n",
              "      <td>0</td>\n",
              "      <td>53.1000</td>\n",
              "      <td>S</td>\n",
              "      <td>C</td>\n",
              "    </tr>\n",
              "    <tr>\n",
              "      <th>4</th>\n",
              "      <td>0</td>\n",
              "      <td>3</td>\n",
              "      <td>male</td>\n",
              "      <td>35.0</td>\n",
              "      <td>0</td>\n",
              "      <td>0</td>\n",
              "      <td>8.0500</td>\n",
              "      <td>S</td>\n",
              "      <td>NaN</td>\n",
              "    </tr>\n",
              "    <tr>\n",
              "      <th>...</th>\n",
              "      <td>...</td>\n",
              "      <td>...</td>\n",
              "      <td>...</td>\n",
              "      <td>...</td>\n",
              "      <td>...</td>\n",
              "      <td>...</td>\n",
              "      <td>...</td>\n",
              "      <td>...</td>\n",
              "      <td>...</td>\n",
              "    </tr>\n",
              "    <tr>\n",
              "      <th>886</th>\n",
              "      <td>0</td>\n",
              "      <td>2</td>\n",
              "      <td>male</td>\n",
              "      <td>27.0</td>\n",
              "      <td>0</td>\n",
              "      <td>0</td>\n",
              "      <td>13.0000</td>\n",
              "      <td>S</td>\n",
              "      <td>NaN</td>\n",
              "    </tr>\n",
              "    <tr>\n",
              "      <th>887</th>\n",
              "      <td>1</td>\n",
              "      <td>1</td>\n",
              "      <td>female</td>\n",
              "      <td>19.0</td>\n",
              "      <td>0</td>\n",
              "      <td>0</td>\n",
              "      <td>30.0000</td>\n",
              "      <td>S</td>\n",
              "      <td>B</td>\n",
              "    </tr>\n",
              "    <tr>\n",
              "      <th>888</th>\n",
              "      <td>0</td>\n",
              "      <td>3</td>\n",
              "      <td>female</td>\n",
              "      <td>NaN</td>\n",
              "      <td>1</td>\n",
              "      <td>2</td>\n",
              "      <td>23.4500</td>\n",
              "      <td>S</td>\n",
              "      <td>NaN</td>\n",
              "    </tr>\n",
              "    <tr>\n",
              "      <th>889</th>\n",
              "      <td>1</td>\n",
              "      <td>1</td>\n",
              "      <td>male</td>\n",
              "      <td>26.0</td>\n",
              "      <td>0</td>\n",
              "      <td>0</td>\n",
              "      <td>30.0000</td>\n",
              "      <td>C</td>\n",
              "      <td>C</td>\n",
              "    </tr>\n",
              "    <tr>\n",
              "      <th>890</th>\n",
              "      <td>0</td>\n",
              "      <td>3</td>\n",
              "      <td>male</td>\n",
              "      <td>32.0</td>\n",
              "      <td>0</td>\n",
              "      <td>0</td>\n",
              "      <td>7.7500</td>\n",
              "      <td>Q</td>\n",
              "      <td>NaN</td>\n",
              "    </tr>\n",
              "  </tbody>\n",
              "</table>\n",
              "<p>891 rows × 9 columns</p>\n",
              "</div>\n",
              "      <button class=\"colab-df-convert\" onclick=\"convertToInteractive('df-f8d5e65d-a7ed-4a5e-8ee9-902f7a1eccf4')\"\n",
              "              title=\"Convert this dataframe to an interactive table.\"\n",
              "              style=\"display:none;\">\n",
              "        \n",
              "  <svg xmlns=\"http://www.w3.org/2000/svg\" height=\"24px\"viewBox=\"0 0 24 24\"\n",
              "       width=\"24px\">\n",
              "    <path d=\"M0 0h24v24H0V0z\" fill=\"none\"/>\n",
              "    <path d=\"M18.56 5.44l.94 2.06.94-2.06 2.06-.94-2.06-.94-.94-2.06-.94 2.06-2.06.94zm-11 1L8.5 8.5l.94-2.06 2.06-.94-2.06-.94L8.5 2.5l-.94 2.06-2.06.94zm10 10l.94 2.06.94-2.06 2.06-.94-2.06-.94-.94-2.06-.94 2.06-2.06.94z\"/><path d=\"M17.41 7.96l-1.37-1.37c-.4-.4-.92-.59-1.43-.59-.52 0-1.04.2-1.43.59L10.3 9.45l-7.72 7.72c-.78.78-.78 2.05 0 2.83L4 21.41c.39.39.9.59 1.41.59.51 0 1.02-.2 1.41-.59l7.78-7.78 2.81-2.81c.8-.78.8-2.07 0-2.86zM5.41 20L4 18.59l7.72-7.72 1.47 1.35L5.41 20z\"/>\n",
              "  </svg>\n",
              "      </button>\n",
              "      \n",
              "  <style>\n",
              "    .colab-df-container {\n",
              "      display:flex;\n",
              "      flex-wrap:wrap;\n",
              "      gap: 12px;\n",
              "    }\n",
              "\n",
              "    .colab-df-convert {\n",
              "      background-color: #E8F0FE;\n",
              "      border: none;\n",
              "      border-radius: 50%;\n",
              "      cursor: pointer;\n",
              "      display: none;\n",
              "      fill: #1967D2;\n",
              "      height: 32px;\n",
              "      padding: 0 0 0 0;\n",
              "      width: 32px;\n",
              "    }\n",
              "\n",
              "    .colab-df-convert:hover {\n",
              "      background-color: #E2EBFA;\n",
              "      box-shadow: 0px 1px 2px rgba(60, 64, 67, 0.3), 0px 1px 3px 1px rgba(60, 64, 67, 0.15);\n",
              "      fill: #174EA6;\n",
              "    }\n",
              "\n",
              "    [theme=dark] .colab-df-convert {\n",
              "      background-color: #3B4455;\n",
              "      fill: #D2E3FC;\n",
              "    }\n",
              "\n",
              "    [theme=dark] .colab-df-convert:hover {\n",
              "      background-color: #434B5C;\n",
              "      box-shadow: 0px 1px 3px 1px rgba(0, 0, 0, 0.15);\n",
              "      filter: drop-shadow(0px 1px 2px rgba(0, 0, 0, 0.3));\n",
              "      fill: #FFFFFF;\n",
              "    }\n",
              "  </style>\n",
              "\n",
              "      <script>\n",
              "        const buttonEl =\n",
              "          document.querySelector('#df-f8d5e65d-a7ed-4a5e-8ee9-902f7a1eccf4 button.colab-df-convert');\n",
              "        buttonEl.style.display =\n",
              "          google.colab.kernel.accessAllowed ? 'block' : 'none';\n",
              "\n",
              "        async function convertToInteractive(key) {\n",
              "          const element = document.querySelector('#df-f8d5e65d-a7ed-4a5e-8ee9-902f7a1eccf4');\n",
              "          const dataTable =\n",
              "            await google.colab.kernel.invokeFunction('convertToInteractive',\n",
              "                                                     [key], {});\n",
              "          if (!dataTable) return;\n",
              "\n",
              "          const docLinkHtml = 'Like what you see? Visit the ' +\n",
              "            '<a target=\"_blank\" href=https://colab.research.google.com/notebooks/data_table.ipynb>data table notebook</a>'\n",
              "            + ' to learn more about interactive tables.';\n",
              "          element.innerHTML = '';\n",
              "          dataTable['output_type'] = 'display_data';\n",
              "          await google.colab.output.renderOutput(dataTable, element);\n",
              "          const docLink = document.createElement('div');\n",
              "          docLink.innerHTML = docLinkHtml;\n",
              "          element.appendChild(docLink);\n",
              "        }\n",
              "      </script>\n",
              "    </div>\n",
              "  </div>\n",
              "  "
            ],
            "text/plain": [
              "     survived  pclass     sex   age  sibsp  parch     fare embarked deck\n",
              "0           0       3    male  22.0      1      0   7.2500        S  NaN\n",
              "1           1       1  female  38.0      1      0  71.2833        C    C\n",
              "2           1       3  female  26.0      0      0   7.9250        S  NaN\n",
              "3           1       1  female  35.0      1      0  53.1000        S    C\n",
              "4           0       3    male  35.0      0      0   8.0500        S  NaN\n",
              "..        ...     ...     ...   ...    ...    ...      ...      ...  ...\n",
              "886         0       2    male  27.0      0      0  13.0000        S  NaN\n",
              "887         1       1  female  19.0      0      0  30.0000        S    B\n",
              "888         0       3  female   NaN      1      2  23.4500        S  NaN\n",
              "889         1       1    male  26.0      0      0  30.0000        C    C\n",
              "890         0       3    male  32.0      0      0   7.7500        Q  NaN\n",
              "\n",
              "[891 rows x 9 columns]"
            ]
          },
          "execution_count": 10,
          "metadata": {},
          "output_type": "execute_result"
        }
      ],
      "source": [
        "df = df[['survived', 'pclass', 'sex', 'age', 'sibsp', 'parch', 'fare', 'embarked', 'deck']]\n",
        "# df"
      ]
    },
    {
      "cell_type": "code",
      "execution_count": 11,
      "metadata": {
        "colab": {
          "base_uri": "https://localhost:8080/"
        },
        "id": "HAkWLEhz0PEO",
        "outputId": "20610718-6af6-4599-92f3-a0aefbf320a1"
      },
      "outputs": [
        {
          "data": {
            "text/plain": [
              "survived      0\n",
              "pclass        0\n",
              "sex           0\n",
              "age         177\n",
              "sibsp         0\n",
              "parch         0\n",
              "fare          0\n",
              "embarked      2\n",
              "deck        688\n",
              "dtype: int64"
            ]
          },
          "execution_count": 11,
          "metadata": {},
          "output_type": "execute_result"
        }
      ],
      "source": [
        "df.isna().sum()"
      ]
    },
    {
      "cell_type": "code",
      "execution_count": 12,
      "metadata": {
        "colab": {
          "base_uri": "https://localhost:8080/"
        },
        "id": "Cq7BtQm11KnZ",
        "outputId": "0343fffb-7c52-471c-9c94-09759965eeab"
      },
      "outputs": [
        {
          "data": {
            "text/plain": [
              "0"
            ]
          },
          "execution_count": 12,
          "metadata": {},
          "output_type": "execute_result"
        }
      ],
      "source": [
        "# age 컬럼은 평균으로 대체\n",
        "df.age.fillna(df.age.mean(),inplace=True)\n",
        "df.age.isna().sum()"
      ]
    },
    {
      "cell_type": "code",
      "execution_count": 14,
      "metadata": {
        "colab": {
          "base_uri": "https://localhost:8080/"
        },
        "id": "zXZ80FqS1RTv",
        "outputId": "6b3c9bea-1a51-42d8-824d-a5942ca9977c"
      },
      "outputs": [
        {
          "data": {
            "text/plain": [
              "0"
            ]
          },
          "execution_count": 14,
          "metadata": {},
          "output_type": "execute_result"
        }
      ],
      "source": [
        "# embarked 컬럼은 최빈값으로 대체\n",
        "df.embarked.value_counts()\n",
        "df.embarked.fillna('S', inplace=True)\n",
        "df.embarked.isna().sum()"
      ]
    },
    {
      "cell_type": "code",
      "execution_count": 15,
      "metadata": {
        "colab": {
          "base_uri": "https://localhost:8080/"
        },
        "id": "FMfV_nAk1TI3",
        "outputId": "d7d5c25c-9c3b-4c1e-83ad-89360bcbc0b4"
      },
      "outputs": [
        {
          "data": {
            "text/plain": [
              "survived    0\n",
              "pclass      0\n",
              "sex         0\n",
              "age         0\n",
              "sibsp       0\n",
              "parch       0\n",
              "fare        0\n",
              "embarked    0\n",
              "dtype: int64"
            ]
          },
          "execution_count": 15,
          "metadata": {},
          "output_type": "execute_result"
        }
      ],
      "source": [
        "# 결측치 다수인 deck컬럼 삭제\n",
        "df.drop(columns=['deck'],inplace=True)"
      ]
    },
    {
      "cell_type": "markdown",
      "metadata": {
        "id": "xFhK1dLG1kLf"
      },
      "source": [
        "- 레이블 인코딩. 카테코리 값 sex, embarked 컬럼 숫자로 변환 "
      ]
    },
    {
      "cell_type": "code",
      "execution_count": 18,
      "metadata": {
        "colab": {
          "base_uri": "https://localhost:8080/",
          "height": 206
        },
        "id": "i3jomawU16Ll",
        "outputId": "330bd5ca-a75d-4825-b5da-96a8c674ee6e"
      },
      "outputs": [
        {
          "data": {
            "text/html": [
              "\n",
              "  <div id=\"df-ec7814a3-fe3e-4ceb-a974-a5253cb9a14a\">\n",
              "    <div class=\"colab-df-container\">\n",
              "      <div>\n",
              "<style scoped>\n",
              "    .dataframe tbody tr th:only-of-type {\n",
              "        vertical-align: middle;\n",
              "    }\n",
              "\n",
              "    .dataframe tbody tr th {\n",
              "        vertical-align: top;\n",
              "    }\n",
              "\n",
              "    .dataframe thead th {\n",
              "        text-align: right;\n",
              "    }\n",
              "</style>\n",
              "<table border=\"1\" class=\"dataframe\">\n",
              "  <thead>\n",
              "    <tr style=\"text-align: right;\">\n",
              "      <th></th>\n",
              "      <th>survived</th>\n",
              "      <th>pclass</th>\n",
              "      <th>sex</th>\n",
              "      <th>age</th>\n",
              "      <th>sibsp</th>\n",
              "      <th>parch</th>\n",
              "      <th>fare</th>\n",
              "      <th>embarked</th>\n",
              "    </tr>\n",
              "  </thead>\n",
              "  <tbody>\n",
              "    <tr>\n",
              "      <th>0</th>\n",
              "      <td>0</td>\n",
              "      <td>3</td>\n",
              "      <td>1</td>\n",
              "      <td>22.0</td>\n",
              "      <td>1</td>\n",
              "      <td>0</td>\n",
              "      <td>7.2500</td>\n",
              "      <td>2</td>\n",
              "    </tr>\n",
              "    <tr>\n",
              "      <th>1</th>\n",
              "      <td>1</td>\n",
              "      <td>1</td>\n",
              "      <td>0</td>\n",
              "      <td>38.0</td>\n",
              "      <td>1</td>\n",
              "      <td>0</td>\n",
              "      <td>71.2833</td>\n",
              "      <td>0</td>\n",
              "    </tr>\n",
              "    <tr>\n",
              "      <th>2</th>\n",
              "      <td>1</td>\n",
              "      <td>3</td>\n",
              "      <td>0</td>\n",
              "      <td>26.0</td>\n",
              "      <td>0</td>\n",
              "      <td>0</td>\n",
              "      <td>7.9250</td>\n",
              "      <td>2</td>\n",
              "    </tr>\n",
              "    <tr>\n",
              "      <th>3</th>\n",
              "      <td>1</td>\n",
              "      <td>1</td>\n",
              "      <td>0</td>\n",
              "      <td>35.0</td>\n",
              "      <td>1</td>\n",
              "      <td>0</td>\n",
              "      <td>53.1000</td>\n",
              "      <td>2</td>\n",
              "    </tr>\n",
              "    <tr>\n",
              "      <th>4</th>\n",
              "      <td>0</td>\n",
              "      <td>3</td>\n",
              "      <td>1</td>\n",
              "      <td>35.0</td>\n",
              "      <td>0</td>\n",
              "      <td>0</td>\n",
              "      <td>8.0500</td>\n",
              "      <td>2</td>\n",
              "    </tr>\n",
              "  </tbody>\n",
              "</table>\n",
              "</div>\n",
              "      <button class=\"colab-df-convert\" onclick=\"convertToInteractive('df-ec7814a3-fe3e-4ceb-a974-a5253cb9a14a')\"\n",
              "              title=\"Convert this dataframe to an interactive table.\"\n",
              "              style=\"display:none;\">\n",
              "        \n",
              "  <svg xmlns=\"http://www.w3.org/2000/svg\" height=\"24px\"viewBox=\"0 0 24 24\"\n",
              "       width=\"24px\">\n",
              "    <path d=\"M0 0h24v24H0V0z\" fill=\"none\"/>\n",
              "    <path d=\"M18.56 5.44l.94 2.06.94-2.06 2.06-.94-2.06-.94-.94-2.06-.94 2.06-2.06.94zm-11 1L8.5 8.5l.94-2.06 2.06-.94-2.06-.94L8.5 2.5l-.94 2.06-2.06.94zm10 10l.94 2.06.94-2.06 2.06-.94-2.06-.94-.94-2.06-.94 2.06-2.06.94z\"/><path d=\"M17.41 7.96l-1.37-1.37c-.4-.4-.92-.59-1.43-.59-.52 0-1.04.2-1.43.59L10.3 9.45l-7.72 7.72c-.78.78-.78 2.05 0 2.83L4 21.41c.39.39.9.59 1.41.59.51 0 1.02-.2 1.41-.59l7.78-7.78 2.81-2.81c.8-.78.8-2.07 0-2.86zM5.41 20L4 18.59l7.72-7.72 1.47 1.35L5.41 20z\"/>\n",
              "  </svg>\n",
              "      </button>\n",
              "      \n",
              "  <style>\n",
              "    .colab-df-container {\n",
              "      display:flex;\n",
              "      flex-wrap:wrap;\n",
              "      gap: 12px;\n",
              "    }\n",
              "\n",
              "    .colab-df-convert {\n",
              "      background-color: #E8F0FE;\n",
              "      border: none;\n",
              "      border-radius: 50%;\n",
              "      cursor: pointer;\n",
              "      display: none;\n",
              "      fill: #1967D2;\n",
              "      height: 32px;\n",
              "      padding: 0 0 0 0;\n",
              "      width: 32px;\n",
              "    }\n",
              "\n",
              "    .colab-df-convert:hover {\n",
              "      background-color: #E2EBFA;\n",
              "      box-shadow: 0px 1px 2px rgba(60, 64, 67, 0.3), 0px 1px 3px 1px rgba(60, 64, 67, 0.15);\n",
              "      fill: #174EA6;\n",
              "    }\n",
              "\n",
              "    [theme=dark] .colab-df-convert {\n",
              "      background-color: #3B4455;\n",
              "      fill: #D2E3FC;\n",
              "    }\n",
              "\n",
              "    [theme=dark] .colab-df-convert:hover {\n",
              "      background-color: #434B5C;\n",
              "      box-shadow: 0px 1px 3px 1px rgba(0, 0, 0, 0.15);\n",
              "      filter: drop-shadow(0px 1px 2px rgba(0, 0, 0, 0.3));\n",
              "      fill: #FFFFFF;\n",
              "    }\n",
              "  </style>\n",
              "\n",
              "      <script>\n",
              "        const buttonEl =\n",
              "          document.querySelector('#df-ec7814a3-fe3e-4ceb-a974-a5253cb9a14a button.colab-df-convert');\n",
              "        buttonEl.style.display =\n",
              "          google.colab.kernel.accessAllowed ? 'block' : 'none';\n",
              "\n",
              "        async function convertToInteractive(key) {\n",
              "          const element = document.querySelector('#df-ec7814a3-fe3e-4ceb-a974-a5253cb9a14a');\n",
              "          const dataTable =\n",
              "            await google.colab.kernel.invokeFunction('convertToInteractive',\n",
              "                                                     [key], {});\n",
              "          if (!dataTable) return;\n",
              "\n",
              "          const docLinkHtml = 'Like what you see? Visit the ' +\n",
              "            '<a target=\"_blank\" href=https://colab.research.google.com/notebooks/data_table.ipynb>data table notebook</a>'\n",
              "            + ' to learn more about interactive tables.';\n",
              "          element.innerHTML = '';\n",
              "          dataTable['output_type'] = 'display_data';\n",
              "          await google.colab.output.renderOutput(dataTable, element);\n",
              "          const docLink = document.createElement('div');\n",
              "          docLink.innerHTML = docLinkHtml;\n",
              "          element.appendChild(docLink);\n",
              "        }\n",
              "      </script>\n",
              "    </div>\n",
              "  </div>\n",
              "  "
            ],
            "text/plain": [
              "   survived  pclass  sex   age  sibsp  parch     fare  embarked\n",
              "0         0       3    1  22.0      1      0   7.2500         2\n",
              "1         1       1    0  38.0      1      0  71.2833         0\n",
              "2         1       3    0  26.0      0      0   7.9250         2\n",
              "3         1       1    0  35.0      1      0  53.1000         2\n",
              "4         0       3    1  35.0      0      0   8.0500         2"
            ]
          },
          "execution_count": 18,
          "metadata": {},
          "output_type": "execute_result"
        }
      ],
      "source": [
        "from sklearn.preprocessing import LabelEncoder\n",
        "df.sex = LabelEncoder().fit_transform(df.sex)\n",
        "df.embarked = LabelEncoder().fit_transform(df.embarked)\n",
        "df.head()"
      ]
    },
    {
      "cell_type": "markdown",
      "metadata": {
        "id": "TbD2gYgG2aDz"
      },
      "source": [
        "### 2. Train / Test dataset 분리\n",
        "    - 스케일링 \n",
        "    - 훈련셋, 테스트셋 분리"
      ]
    },
    {
      "cell_type": "code",
      "execution_count": 20,
      "metadata": {
        "id": "xLiVA17B3kGi"
      },
      "outputs": [],
      "source": [
        "import numpy as np"
      ]
    },
    {
      "cell_type": "code",
      "execution_count": 22,
      "metadata": {
        "colab": {
          "base_uri": "https://localhost:8080/"
        },
        "id": "ufgqD_pX2fJC",
        "outputId": "8056fda6-a98c-4476-8c1a-f3802f09dbd7"
      },
      "outputs": [
        {
          "data": {
            "text/plain": [
              "(array([0., 1.]), array([549, 342]))"
            ]
          },
          "execution_count": 22,
          "metadata": {},
          "output_type": "execute_result"
        }
      ],
      "source": [
        "# survived 가 타켓임. 인덱스 0 \n",
        "np.unique(df.values[:, 0], return_counts=True)"
      ]
    },
    {
      "cell_type": "code",
      "execution_count": null,
      "metadata": {
        "id": "ICUtz69c8Qto"
      },
      "outputs": [],
      "source": [
        "# y 데이터 준비  0 / 1 이라 인코딩, 스케일링 필요없음.\n",
        "y = df.iloc[:, 0].values\n",
        "y"
      ]
    },
    {
      "cell_type": "code",
      "execution_count": null,
      "metadata": {
        "id": "3sxtfHfx64_S"
      },
      "outputs": [],
      "source": [
        "# X 데이터 준비 스탠다드 스케일링(표준정규분포) 하여 0~1 사이의 값으로 사용\n",
        "df.iloc[:,1:].values"
      ]
    },
    {
      "cell_type": "code",
      "execution_count": 40,
      "metadata": {
        "id": "1nuHRt_43g-K"
      },
      "outputs": [],
      "source": [
        "from sklearn.preprocessing import StandardScaler\n",
        "X_scaled = StandardScaler().fit_transform(df.iloc[:,1:].values)"
      ]
    },
    {
      "cell_type": "code",
      "execution_count": 56,
      "metadata": {
        "id": "g5EzR9v64V0F"
      },
      "outputs": [],
      "source": [
        "from sklearn.model_selection import train_test_split\n",
        "X_train, X_test, y_train, y_test = train_test_split(\n",
        "    X_scaled, y, stratify=y, random_state=2022, test_size=0.2\n",
        ")"
      ]
    },
    {
      "cell_type": "code",
      "execution_count": 62,
      "metadata": {
        "colab": {
          "base_uri": "https://localhost:8080/"
        },
        "id": "DGhF00SC8INd",
        "outputId": "dd4cd258-710e-480a-e6f1-0ad7c48945d5"
      },
      "outputs": [
        {
          "data": {
            "text/plain": [
              "((712, 7), (179, 7), (712,), (179,))"
            ]
          },
          "execution_count": 62,
          "metadata": {},
          "output_type": "execute_result"
        }
      ],
      "source": [
        "X_train.shape, X_test.shape, y_train.shape, y_test.shape\n",
        "# input 모양은 피처 7개로 받기"
      ]
    },
    {
      "cell_type": "markdown",
      "metadata": {
        "id": "EbXtXPWY8Ikp"
      },
      "source": [
        "### 모델 정의 / 설정"
      ]
    },
    {
      "cell_type": "code",
      "execution_count": 46,
      "metadata": {
        "id": "t15MdhRF9QOf"
      },
      "outputs": [],
      "source": [
        "from tensorflow.keras.models import Sequential\n",
        "from tensorflow.keras.layers import Dense"
      ]
    },
    {
      "cell_type": "code",
      "execution_count": 48,
      "metadata": {
        "colab": {
          "base_uri": "https://localhost:8080/"
        },
        "id": "-MJiRWVj9hEN",
        "outputId": "91d80193-091c-44f8-8ce8-b6610da56c64"
      },
      "outputs": [
        {
          "name": "stdout",
          "output_type": "stream",
          "text": [
            "Model: \"sequential\"\n",
            "_________________________________________________________________\n",
            " Layer (type)                Output Shape              Param #   \n",
            "=================================================================\n",
            " dense (Dense)               (None, 10)                80        \n",
            "                                                                 \n",
            " dense_1 (Dense)             (None, 33)                363       \n",
            "                                                                 \n",
            " dense_2 (Dense)             (None, 21)                714       \n",
            "                                                                 \n",
            " dense_3 (Dense)             (None, 1)                 22        \n",
            "                                                                 \n",
            "=================================================================\n",
            "Total params: 1,179\n",
            "Trainable params: 1,179\n",
            "Non-trainable params: 0\n",
            "_________________________________________________________________\n"
          ]
        }
      ],
      "source": [
        "model_one = Sequential([\n",
        "    Dense(10, input_dim=7, activation='relu'),  #렐루 곱하기 렐루는 엘렐렐렐루\n",
        "    Dense(33, activation='relu'),\n",
        "    Dense(21, activation='relu'),\n",
        "    Dense(1, activation='sigmoid')\n",
        "])\n",
        "model_one.summary() "
      ]
    },
    {
      "cell_type": "code",
      "execution_count": 50,
      "metadata": {
        "id": "dR-A51I__jOd"
      },
      "outputs": [],
      "source": [
        "model_one.compile(optimizer='adam', loss='binary_crossentropy', metrics=['accuracy'])"
      ]
    },
    {
      "cell_type": "markdown",
      "metadata": {
        "id": "gFH7i3to_-NS"
      },
      "source": [
        "- 모델저장"
      ]
    },
    {
      "cell_type": "code",
      "execution_count": 51,
      "metadata": {
        "id": "jmrUlvYpAEiP"
      },
      "outputs": [],
      "source": [
        "import os\n",
        "if not os.path.exists('model'):\n",
        "    os.mkdir('model')"
      ]
    },
    {
      "cell_type": "code",
      "execution_count": 53,
      "metadata": {
        "id": "ebpiPIWfAS9R"
      },
      "outputs": [],
      "source": [
        "model_path = 'model/best_titanic.h5'"
      ]
    },
    {
      "cell_type": "markdown",
      "metadata": {
        "id": "Q_V7VoPTAc5X"
      },
      "source": [
        "- 모델 학습 및 저장"
      ]
    },
    {
      "cell_type": "code",
      "execution_count": 54,
      "metadata": {
        "id": "vuGOGRwzA_KA"
      },
      "outputs": [],
      "source": [
        "from tensorflow.keras.callbacks import ModelCheckpoint\n",
        "checkpoint = ModelCheckpoint(model_path, monitor='val_loss', verbose=1, save_best_only=True)"
      ]
    },
    {
      "cell_type": "code",
      "execution_count": null,
      "metadata": {
        "id": "AlU6TCj7AgQf"
      },
      "outputs": [],
      "source": [
        "hist = model_one.fit(X_train, y_train, validation_split=0.2, verbose=0,\n",
        "                     epochs=200, batch_size=200,\n",
        "                     callbacks=[checkpoint])"
      ]
    },
    {
      "cell_type": "markdown",
      "metadata": {
        "id": "9hJx7jNUB_Lb"
      },
      "source": [
        "- 베스트 모델 로딩후 평가"
      ]
    },
    {
      "cell_type": "code",
      "execution_count": 59,
      "metadata": {
        "colab": {
          "base_uri": "https://localhost:8080/"
        },
        "id": "ZgoJOfs9CrOm",
        "outputId": "376e62d6-dafb-4f52-99f0-3aef821202f2"
      },
      "outputs": [
        {
          "name": "stdout",
          "output_type": "stream",
          "text": [
            "6/6 [==============================] - 0s 2ms/step - loss: 0.3929 - accuracy: 0.8268\n"
          ]
        },
        {
          "data": {
            "text/plain": [
              "[0.39294442534446716, 0.826815664768219]"
            ]
          },
          "execution_count": 59,
          "metadata": {},
          "output_type": "execute_result"
        }
      ],
      "source": [
        "from tensorflow.keras.models import load_model\n",
        "best_model = load_model(model_path)\n",
        "best_model.evaluate(X_test, y_test)"
      ]
    },
    {
      "cell_type": "markdown",
      "metadata": {
        "id": "Ji2MuPfeDtQt"
      },
      "source": [
        "- 학습과정 시각화"
      ]
    },
    {
      "cell_type": "code",
      "execution_count": 60,
      "metadata": {
        "id": "RIjl2z9YD07q"
      },
      "outputs": [],
      "source": [
        "import matplotlib.pyplot as plt\n",
        "y_acc = hist.history['accuracy']\n",
        "y_vloss = hist.history['val_loss']\n",
        "xs = np.arange(1, len(y_acc)+1)"
      ]
    },
    {
      "cell_type": "code",
      "execution_count": 61,
      "metadata": {
        "colab": {
          "base_uri": "https://localhost:8080/",
          "height": 497
        },
        "id": "h0kYoCtFD3qw",
        "outputId": "9c244f82-f51c-4501-d7de-bb7e8b85cdf4"
      },
      "outputs": [
        {
          "data": {
            "image/png": "[encoded data removed]",
            "text/plain": [
              "<Figure size 864x576 with 1 Axes>"
            ]
          },
          "metadata": {
            "needs_background": "light"
          },
          "output_type": "display_data"
        }
      ],
      "source": [
        "plt.figure(figsize=(12,8))\n",
        "plt.plot(xs, y_acc, ms=5, label='train accuracy')\n",
        "plt.plot(xs, y_vloss, ms=5, label='validation loss')\n",
        "plt.legend()\n",
        "plt.grid()\n",
        "plt.xlabel('Epoch')\n",
        "plt.show()"
      ]
    },
    {
      "cell_type": "markdown",
      "metadata": {
        "id": "K6jIs3dLD6VH"
      },
      "source": [
        "#### model_two\n",
        "- 레이어를 늘리고 , 노드수를 늘리면 성능향상이 될까?"
      ]
    },
    {
      "cell_type": "code",
      "execution_count": 63,
      "metadata": {
        "colab": {
          "base_uri": "https://localhost:8080/"
        },
        "id": "Wht0-PFWHU3M",
        "outputId": "3fb16641-e0b3-4d96-c1c3-973dfd6d8a6a"
      },
      "outputs": [
        {
          "name": "stdout",
          "output_type": "stream",
          "text": [
            "Model: \"sequential_1\"\n",
            "_________________________________________________________________\n",
            " Layer (type)                Output Shape              Param #   \n",
            "=================================================================\n",
            " dense_4 (Dense)             (None, 100)               800       \n",
            "                                                                 \n",
            " dense_5 (Dense)             (None, 100)               10100     \n",
            "                                                                 \n",
            " dense_6 (Dense)             (None, 21)                2121      \n",
            "                                                                 \n",
            " dense_7 (Dense)             (None, 11)                242       \n",
            "                                                                 \n",
            " dense_8 (Dense)             (None, 1)                 12        \n",
            "                                                                 \n",
            "=================================================================\n",
            "Total params: 13,275\n",
            "Trainable params: 13,275\n",
            "Non-trainable params: 0\n",
            "_________________________________________________________________\n"
          ]
        }
      ],
      "source": [
        "model_two = Sequential([\n",
        "    Dense(100, input_dim=7, activation='relu'),  #렐루 곱하기 렐루는 엘렐렐렐루\n",
        "    Dense(100, activation='relu'),\n",
        "    Dense(21, activation='relu'),\n",
        "    Dense(11, activation='relu'),\n",
        "    Dense(1, activation='sigmoid')\n",
        "])\n",
        "model_two.summary() \n",
        "# 파라미터의 총수가 많이 늘었다."
      ]
    },
    {
      "cell_type": "code",
      "execution_count": 64,
      "metadata": {
        "id": "Wqi6YkxMJdt2"
      },
      "outputs": [],
      "source": [
        "model_two.compile(optimizer='adam', loss='binary_crossentropy', metrics=['accuracy'])"
      ]
    },
    {
      "cell_type": "code",
      "execution_count": 66,
      "metadata": {
        "id": "8oWkMExqLROb"
      },
      "outputs": [],
      "source": [
        "from tensorflow.keras.callbacks import EarlyStopping\n",
        "early_stopping = EarlyStopping(patience=20)"
      ]
    },
    {
      "cell_type": "code",
      "execution_count": 65,
      "metadata": {
        "id": "E9hTFQwgKHGA"
      },
      "outputs": [],
      "source": [
        "model_path = 'model/titanic_two.h5'\n",
        "checkpoint = ModelCheckpoint(\n",
        "    model_path, monitor='val_loss', verbose=2, save_best_only=True\n",
        ")"
      ]
    },
    {
      "cell_type": "code",
      "execution_count": 68,
      "metadata": {
        "colab": {
          "base_uri": "https://localhost:8080/"
        },
        "id": "aa8ohjsxKvS5",
        "outputId": "6d520301-9912-4ca3-a783-282e191cd379"
      },
      "outputs": [
        {
          "name": "stdout",
          "output_type": "stream",
          "text": [
            "Epoch 1/200\n",
            "\n",
            "Epoch 00001: val_loss improved from inf to 0.63983, saving model to model/titanic_two.h5\n",
            "3/3 - 1s - loss: 0.6609 - accuracy: 0.6872 - val_loss: 0.6398 - val_accuracy: 0.6573 - 847ms/epoch - 282ms/step\n",
            "Epoch 2/200\n",
            "\n",
            "Epoch 00002: val_loss improved from 0.63983 to 0.60816, saving model to model/titanic_two.h5\n",
            "3/3 - 0s - loss: 0.6236 - accuracy: 0.7364 - val_loss: 0.6082 - val_accuracy: 0.7692 - 64ms/epoch - 21ms/step\n",
            "Epoch 3/200\n",
            "\n",
            "Epoch 00003: val_loss improved from 0.60816 to 0.57490, saving model to model/titanic_two.h5\n",
            "3/3 - 0s - loss: 0.5867 - accuracy: 0.8049 - val_loss: 0.5749 - val_accuracy: 0.7902 - 72ms/epoch - 24ms/step\n",
            "Epoch 4/200\n",
            "\n",
            "Epoch 00004: val_loss improved from 0.57490 to 0.54084, saving model to model/titanic_two.h5\n",
            "3/3 - 0s - loss: 0.5488 - accuracy: 0.8207 - val_loss: 0.5408 - val_accuracy: 0.7902 - 62ms/epoch - 21ms/step\n",
            "Epoch 5/200\n",
            "\n",
            "Epoch 00005: val_loss improved from 0.54084 to 0.51183, saving model to model/titanic_two.h5\n",
            "3/3 - 0s - loss: 0.5106 - accuracy: 0.8155 - val_loss: 0.5118 - val_accuracy: 0.7902 - 65ms/epoch - 22ms/step\n",
            "Epoch 6/200\n",
            "\n",
            "Epoch 00006: val_loss improved from 0.51183 to 0.49311, saving model to model/titanic_two.h5\n",
            "3/3 - 0s - loss: 0.4788 - accuracy: 0.8172 - val_loss: 0.4931 - val_accuracy: 0.7832 - 64ms/epoch - 21ms/step\n",
            "Epoch 7/200\n",
            "\n",
            "Epoch 00007: val_loss improved from 0.49311 to 0.48397, saving model to model/titanic_two.h5\n",
            "3/3 - 0s - loss: 0.4523 - accuracy: 0.8172 - val_loss: 0.4840 - val_accuracy: 0.7762 - 72ms/epoch - 24ms/step\n",
            "Epoch 8/200\n",
            "\n",
            "Epoch 00008: val_loss improved from 0.48397 to 0.48073, saving model to model/titanic_two.h5\n",
            "3/3 - 0s - loss: 0.4374 - accuracy: 0.8155 - val_loss: 0.4807 - val_accuracy: 0.7762 - 60ms/epoch - 20ms/step\n",
            "Epoch 9/200\n",
            "\n",
            "Epoch 00009: val_loss did not improve from 0.48073\n",
            "3/3 - 0s - loss: 0.4267 - accuracy: 0.8155 - val_loss: 0.4812 - val_accuracy: 0.7762 - 33ms/epoch - 11ms/step\n",
            "Epoch 10/200\n",
            "\n",
            "Epoch 00010: val_loss improved from 0.48073 to 0.47910, saving model to model/titanic_two.h5\n",
            "3/3 - 0s - loss: 0.4191 - accuracy: 0.8225 - val_loss: 0.4791 - val_accuracy: 0.7762 - 59ms/epoch - 20ms/step\n",
            "Epoch 11/200\n",
            "\n",
            "Epoch 00011: val_loss improved from 0.47910 to 0.47568, saving model to model/titanic_two.h5\n",
            "3/3 - 0s - loss: 0.4121 - accuracy: 0.8225 - val_loss: 0.4757 - val_accuracy: 0.7762 - 77ms/epoch - 26ms/step\n",
            "Epoch 12/200\n",
            "\n",
            "Epoch 00012: val_loss improved from 0.47568 to 0.47153, saving model to model/titanic_two.h5\n",
            "3/3 - 0s - loss: 0.4052 - accuracy: 0.8330 - val_loss: 0.4715 - val_accuracy: 0.7972 - 68ms/epoch - 23ms/step\n",
            "Epoch 13/200\n",
            "\n",
            "Epoch 00013: val_loss improved from 0.47153 to 0.46554, saving model to model/titanic_two.h5\n",
            "3/3 - 0s - loss: 0.3989 - accuracy: 0.8313 - val_loss: 0.4655 - val_accuracy: 0.8042 - 67ms/epoch - 22ms/step\n",
            "Epoch 14/200\n",
            "\n",
            "Epoch 00014: val_loss improved from 0.46554 to 0.45984, saving model to model/titanic_two.h5\n",
            "3/3 - 0s - loss: 0.3942 - accuracy: 0.8330 - val_loss: 0.4598 - val_accuracy: 0.8252 - 73ms/epoch - 24ms/step\n",
            "Epoch 15/200\n",
            "\n",
            "Epoch 00015: val_loss improved from 0.45984 to 0.45668, saving model to model/titanic_two.h5\n",
            "3/3 - 0s - loss: 0.3905 - accuracy: 0.8383 - val_loss: 0.4567 - val_accuracy: 0.8322 - 79ms/epoch - 26ms/step\n",
            "Epoch 16/200\n",
            "\n",
            "Epoch 00016: val_loss improved from 0.45668 to 0.45339, saving model to model/titanic_two.h5\n",
            "3/3 - 0s - loss: 0.3858 - accuracy: 0.8401 - val_loss: 0.4534 - val_accuracy: 0.8252 - 67ms/epoch - 22ms/step\n",
            "Epoch 17/200\n",
            "\n",
            "Epoch 00017: val_loss improved from 0.45339 to 0.45282, saving model to model/titanic_two.h5\n",
            "3/3 - 0s - loss: 0.3815 - accuracy: 0.8383 - val_loss: 0.4528 - val_accuracy: 0.8252 - 65ms/epoch - 22ms/step\n",
            "Epoch 18/200\n",
            "\n",
            "Epoch 00018: val_loss improved from 0.45282 to 0.45248, saving model to model/titanic_two.h5\n",
            "3/3 - 0s - loss: 0.3786 - accuracy: 0.8401 - val_loss: 0.4525 - val_accuracy: 0.8112 - 81ms/epoch - 27ms/step\n",
            "Epoch 19/200\n",
            "\n",
            "Epoch 00019: val_loss improved from 0.45248 to 0.45123, saving model to model/titanic_two.h5\n",
            "3/3 - 0s - loss: 0.3745 - accuracy: 0.8436 - val_loss: 0.4512 - val_accuracy: 0.8322 - 68ms/epoch - 23ms/step\n",
            "Epoch 20/200\n",
            "\n",
            "Epoch 00020: val_loss did not improve from 0.45123\n",
            "3/3 - 0s - loss: 0.3718 - accuracy: 0.8401 - val_loss: 0.4518 - val_accuracy: 0.8182 - 35ms/epoch - 12ms/step\n",
            "Epoch 21/200\n",
            "\n",
            "Epoch 00021: val_loss improved from 0.45123 to 0.45110, saving model to model/titanic_two.h5\n",
            "3/3 - 0s - loss: 0.3688 - accuracy: 0.8436 - val_loss: 0.4511 - val_accuracy: 0.8322 - 68ms/epoch - 23ms/step\n",
            "Epoch 22/200\n",
            "\n",
            "Epoch 00022: val_loss did not improve from 0.45110\n",
            "3/3 - 0s - loss: 0.3663 - accuracy: 0.8418 - val_loss: 0.4515 - val_accuracy: 0.8042 - 32ms/epoch - 11ms/step\n",
            "Epoch 23/200\n",
            "\n",
            "Epoch 00023: val_loss improved from 0.45110 to 0.45098, saving model to model/titanic_two.h5\n",
            "3/3 - 0s - loss: 0.3636 - accuracy: 0.8471 - val_loss: 0.4510 - val_accuracy: 0.8042 - 66ms/epoch - 22ms/step\n",
            "Epoch 24/200\n",
            "\n",
            "Epoch 00024: val_loss improved from 0.45098 to 0.45089, saving model to model/titanic_two.h5\n",
            "3/3 - 0s - loss: 0.3617 - accuracy: 0.8471 - val_loss: 0.4509 - val_accuracy: 0.8042 - 67ms/epoch - 22ms/step\n",
            "Epoch 25/200\n",
            "\n",
            "Epoch 00025: val_loss did not improve from 0.45089\n",
            "3/3 - 0s - loss: 0.3597 - accuracy: 0.8489 - val_loss: 0.4511 - val_accuracy: 0.8112 - 36ms/epoch - 12ms/step\n",
            "Epoch 26/200\n",
            "\n",
            "Epoch 00026: val_loss did not improve from 0.45089\n",
            "3/3 - 0s - loss: 0.3584 - accuracy: 0.8506 - val_loss: 0.4556 - val_accuracy: 0.7972 - 33ms/epoch - 11ms/step\n",
            "Epoch 27/200\n",
            "\n",
            "Epoch 00027: val_loss did not improve from 0.45089\n",
            "3/3 - 0s - loss: 0.3556 - accuracy: 0.8489 - val_loss: 0.4553 - val_accuracy: 0.8182 - 34ms/epoch - 11ms/step\n",
            "Epoch 28/200\n",
            "\n",
            "Epoch 00028: val_loss did not improve from 0.45089\n",
            "3/3 - 0s - loss: 0.3529 - accuracy: 0.8559 - val_loss: 0.4551 - val_accuracy: 0.8392 - 37ms/epoch - 12ms/step\n",
            "Epoch 29/200\n",
            "\n",
            "Epoch 00029: val_loss did not improve from 0.45089\n",
            "3/3 - 0s - loss: 0.3509 - accuracy: 0.8489 - val_loss: 0.4555 - val_accuracy: 0.8322 - 27ms/epoch - 9ms/step\n",
            "Epoch 30/200\n",
            "\n",
            "Epoch 00030: val_loss did not improve from 0.45089\n",
            "3/3 - 0s - loss: 0.3488 - accuracy: 0.8506 - val_loss: 0.4592 - val_accuracy: 0.7972 - 31ms/epoch - 10ms/step\n",
            "Epoch 31/200\n",
            "\n",
            "Epoch 00031: val_loss did not improve from 0.45089\n",
            "3/3 - 0s - loss: 0.3470 - accuracy: 0.8576 - val_loss: 0.4579 - val_accuracy: 0.7972 - 33ms/epoch - 11ms/step\n",
            "Epoch 32/200\n",
            "\n",
            "Epoch 00032: val_loss did not improve from 0.45089\n",
            "3/3 - 0s - loss: 0.3454 - accuracy: 0.8612 - val_loss: 0.4572 - val_accuracy: 0.8182 - 32ms/epoch - 11ms/step\n",
            "Epoch 33/200\n",
            "\n",
            "Epoch 00033: val_loss did not improve from 0.45089\n",
            "3/3 - 0s - loss: 0.3429 - accuracy: 0.8576 - val_loss: 0.4602 - val_accuracy: 0.8322 - 32ms/epoch - 11ms/step\n",
            "Epoch 34/200\n",
            "\n",
            "Epoch 00034: val_loss did not improve from 0.45089\n",
            "3/3 - 0s - loss: 0.3409 - accuracy: 0.8541 - val_loss: 0.4629 - val_accuracy: 0.8322 - 35ms/epoch - 12ms/step\n",
            "Epoch 35/200\n",
            "\n",
            "Epoch 00035: val_loss did not improve from 0.45089\n",
            "3/3 - 0s - loss: 0.3396 - accuracy: 0.8524 - val_loss: 0.4644 - val_accuracy: 0.8182 - 34ms/epoch - 11ms/step\n",
            "Epoch 36/200\n",
            "\n",
            "Epoch 00036: val_loss did not improve from 0.45089\n",
            "3/3 - 0s - loss: 0.3378 - accuracy: 0.8541 - val_loss: 0.4644 - val_accuracy: 0.8252 - 37ms/epoch - 12ms/step\n",
            "Epoch 37/200\n",
            "\n",
            "Epoch 00037: val_loss did not improve from 0.45089\n",
            "3/3 - 0s - loss: 0.3358 - accuracy: 0.8576 - val_loss: 0.4650 - val_accuracy: 0.8252 - 36ms/epoch - 12ms/step\n",
            "Epoch 38/200\n",
            "\n",
            "Epoch 00038: val_loss did not improve from 0.45089\n",
            "3/3 - 0s - loss: 0.3340 - accuracy: 0.8629 - val_loss: 0.4668 - val_accuracy: 0.8252 - 40ms/epoch - 13ms/step\n",
            "Epoch 39/200\n",
            "\n",
            "Epoch 00039: val_loss did not improve from 0.45089\n",
            "3/3 - 0s - loss: 0.3320 - accuracy: 0.8612 - val_loss: 0.4698 - val_accuracy: 0.8042 - 35ms/epoch - 12ms/step\n",
            "Epoch 40/200\n",
            "\n",
            "Epoch 00040: val_loss did not improve from 0.45089\n",
            "3/3 - 0s - loss: 0.3306 - accuracy: 0.8612 - val_loss: 0.4706 - val_accuracy: 0.8252 - 49ms/epoch - 16ms/step\n",
            "Epoch 41/200\n",
            "\n",
            "Epoch 00041: val_loss did not improve from 0.45089\n",
            "3/3 - 0s - loss: 0.3284 - accuracy: 0.8629 - val_loss: 0.4701 - val_accuracy: 0.8252 - 33ms/epoch - 11ms/step\n",
            "Epoch 42/200\n",
            "\n",
            "Epoch 00042: val_loss did not improve from 0.45089\n",
            "3/3 - 0s - loss: 0.3280 - accuracy: 0.8647 - val_loss: 0.4702 - val_accuracy: 0.8042 - 43ms/epoch - 14ms/step\n",
            "Epoch 43/200\n",
            "\n",
            "Epoch 00043: val_loss did not improve from 0.45089\n",
            "3/3 - 0s - loss: 0.3269 - accuracy: 0.8699 - val_loss: 0.4707 - val_accuracy: 0.8042 - 32ms/epoch - 11ms/step\n",
            "Epoch 44/200\n",
            "\n",
            "Epoch 00044: val_loss did not improve from 0.45089\n",
            "3/3 - 0s - loss: 0.3243 - accuracy: 0.8682 - val_loss: 0.4744 - val_accuracy: 0.8112 - 33ms/epoch - 11ms/step\n"
          ]
        }
      ],
      "source": [
        "hist = model_two.fit(X_train, y_train, validation_split=0.2, verbose=2,\n",
        "                 epochs = 200, batch_size=200, \n",
        "                 callbacks = [checkpoint, early_stopping])"
      ]
    },
    {
      "cell_type": "code",
      "execution_count": 69,
      "metadata": {
        "id": "Pn6BDYrcLrjw"
      },
      "outputs": [],
      "source": [
        "# 모델평가 및 시각화"
      ]
    },
    {
      "cell_type": "code",
      "execution_count": 70,
      "metadata": {
        "colab": {
          "base_uri": "https://localhost:8080/"
        },
        "id": "xJifwA7SL9HD",
        "outputId": "393e71a5-b590-44c2-b33e-f9d26e4b5f71"
      },
      "outputs": [
        {
          "name": "stdout",
          "output_type": "stream",
          "text": [
            "6/6 [==============================] - 0s 3ms/step - loss: 0.4039 - accuracy: 0.8492\n"
          ]
        },
        {
          "data": {
            "text/plain": [
              "[0.40386852622032166, 0.8491619825363159]"
            ]
          },
          "execution_count": 70,
          "metadata": {},
          "output_type": "execute_result"
        }
      ],
      "source": [
        "best_model = load_model(model_path)\n",
        "best_model.evaluate(X_test, y_test)"
      ]
    },
    {
      "cell_type": "code",
      "execution_count": 71,
      "metadata": {
        "id": "iUVSu35pL-cK"
      },
      "outputs": [],
      "source": [
        "y_acc = hist.history['accuracy']\n",
        "y_vloss = hist.history['val_loss']\n",
        "xs = np.arange(1, len(y_acc)+1)\n"
      ]
    },
    {
      "cell_type": "code",
      "execution_count": 72,
      "metadata": {
        "colab": {
          "base_uri": "https://localhost:8080/",
          "height": 497
        },
        "id": "_5VzrjGnL-cL",
        "outputId": "d6f742fa-8458-4cf5-ae32-4ab7681f5c7d"
      },
      "outputs": [
        {
          "data": {
            "image/png": "[encoded data removed]",
            "text/plain": [
              "<Figure size 864x576 with 1 Axes>"
            ]
          },
          "metadata": {
            "needs_background": "light"
          },
          "output_type": "display_data"
        }
      ],
      "source": [
        "plt.figure(figsize=(12,8))\n",
        "plt.plot(xs, y_acc, ms=5, label='train accuracy')\n",
        "plt.plot(xs, y_vloss, ms=5, label='validation loss')\n",
        "plt.legend()\n",
        "plt.grid()\n",
        "plt.xlabel('Epoch')\n",
        "plt.show()\n",
        "# 20번 정도 많에 최저 validation loss 찾아."
      ]
    },
    {
      "cell_type": "code",
      "execution_count": null,
      "metadata": {
        "id": "fxTkYyx_MUij"
      },
      "outputs": [],
      "source": []
    }
  ],
  "metadata": {
    "colab": {
      "collapsed_sections": [],
      "name": "__경진대회_타이타닉.ipynb",
      "provenance": []
    },
    "kernelspec": {
      "display_name": "Python 3",
      "name": "python3"
    },
    "language_info": {
      "name": "python"
    }
  },
  "nbformat": 4,
  "nbformat_minor": 0
}
