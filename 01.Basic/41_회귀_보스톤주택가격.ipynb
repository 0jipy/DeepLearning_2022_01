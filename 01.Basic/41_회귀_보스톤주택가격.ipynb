{
  "nbformat": 4,
  "nbformat_minor": 0,
  "metadata": {
    "colab": {
      "name": "41.회귀-보스톤주택가격.ipynb",
      "provenance": [],
      "collapsed_sections": []
    },
    "kernelspec": {
      "name": "python3",
      "display_name": "Python 3"
    },
    "language_info": {
      "name": "python"
    }
  },
  "cells": [
    {
      "cell_type": "markdown",
      "source": [
        "# 회귀 - 보스턴 집값 예측 "
      ],
      "metadata": {
        "id": "v_qO69GPtgDq"
      }
    },
    {
      "cell_type": "code",
      "source": [
        "import numpy as np \n",
        "import pandas as pd\n",
        "import tensorflow as tf\n",
        "seed = 2022\n",
        "np.random.seed(seed)\n",
        "tf.random.set_seed(seed)"
      ],
      "metadata": {
        "id": "41R1XXd7rzFe"
      },
      "execution_count": 1,
      "outputs": []
    },
    {
      "cell_type": "code",
      "source": [
        "# import warnings.filterwarnings('ignore')"
      ],
      "metadata": {
        "id": "Wz22eAuvtzw0"
      },
      "execution_count": 2,
      "outputs": []
    },
    {
      "cell_type": "code",
      "source": [
        "from sklearn.datasets import load_boston\n",
        "boston = load_boston()"
      ],
      "metadata": {
        "colab": {
          "base_uri": "https://localhost:8080/"
        },
        "id": "ZCVdlo34tlUH",
        "outputId": "5bb14eed-10df-4f9c-b5d6-27ea0a782f45"
      },
      "execution_count": 3,
      "outputs": [
        {
          "output_type": "stream",
          "name": "stderr",
          "text": [
            "/usr/local/lib/python3.7/dist-packages/sklearn/utils/deprecation.py:87: FutureWarning: Function load_boston is deprecated; `load_boston` is deprecated in 1.0 and will be removed in 1.2.\n",
            "\n",
            "    The Boston housing prices dataset has an ethical problem. You can refer to\n",
            "    the documentation of this function for further details.\n",
            "\n",
            "    The scikit-learn maintainers therefore strongly discourage the use of this\n",
            "    dataset unless the purpose of the code is to study and educate about\n",
            "    ethical issues in data science and machine learning.\n",
            "\n",
            "    In this special case, you can fetch the dataset from the original\n",
            "    source::\n",
            "\n",
            "        import pandas as pd\n",
            "        import numpy as np\n",
            "\n",
            "\n",
            "        data_url = \"http://lib.stat.cmu.edu/datasets/boston\"\n",
            "        raw_df = pd.read_csv(data_url, sep=\"\\s+\", skiprows=22, header=None)\n",
            "        data = np.hstack([raw_df.values[::2, :], raw_df.values[1::2, :2]])\n",
            "        target = raw_df.values[1::2, 2]\n",
            "\n",
            "    Alternative datasets include the California housing dataset (i.e.\n",
            "    :func:`~sklearn.datasets.fetch_california_housing`) and the Ames housing\n",
            "    dataset. You can load the datasets as follows::\n",
            "\n",
            "        from sklearn.datasets import fetch_california_housing\n",
            "        housing = fetch_california_housing()\n",
            "\n",
            "    for the California housing dataset and::\n",
            "\n",
            "        from sklearn.datasets import fetch_openml\n",
            "        housing = fetch_openml(name=\"house_prices\", as_frame=True)\n",
            "\n",
            "    for the Ames housing dataset.\n",
            "    \n",
            "  warnings.warn(msg, category=FutureWarning)\n"
          ]
        }
      ]
    },
    {
      "cell_type": "code",
      "source": [
        "from sklearn.model_selection import train_test_split\n",
        "X_train, X_test, y_train, y_test = train_test_split(\n",
        "    boston.data, boston.target, test_size = 0.1, random_state=seed\n",
        ")\n",
        "X_train.shape, X_test.shape, y_train.shape, y_test.shape"
      ],
      "metadata": {
        "colab": {
          "base_uri": "https://localhost:8080/"
        },
        "id": "7WiucgsstwtP",
        "outputId": "bac53486-0e7a-4177-d93b-76629df6b1d2"
      },
      "execution_count": 4,
      "outputs": [
        {
          "output_type": "execute_result",
          "data": {
            "text/plain": [
              "((455, 13), (51, 13), (455,), (51,))"
            ]
          },
          "metadata": {},
          "execution_count": 4
        }
      ]
    },
    {
      "cell_type": "code",
      "source": [
        "# 모델정의 설정 및 학습 "
      ],
      "metadata": {
        "id": "ARaqk6Qbv00A"
      },
      "execution_count": 5,
      "outputs": []
    },
    {
      "cell_type": "code",
      "source": [
        "from tensorflow.keras.models import Sequential\n",
        "from tensorflow.keras.layers import Dense"
      ],
      "metadata": {
        "id": "p1mXv231yiOS"
      },
      "execution_count": 6,
      "outputs": []
    },
    {
      "cell_type": "code",
      "source": [
        "# del model"
      ],
      "metadata": {
        "id": "vC_U8d993e_2"
      },
      "execution_count": 7,
      "outputs": []
    },
    {
      "cell_type": "code",
      "source": [
        "model = Sequential([\n",
        "    Dense(30, input_dim=13, activation='relu'),\n",
        "    Dense(12, activation='relu'),\n",
        "    Dense(1)    # 회귀라서 활성화 함수 없어\n",
        "])\n",
        "model.summary()"
      ],
      "metadata": {
        "colab": {
          "base_uri": "https://localhost:8080/"
        },
        "id": "Gi5THzKZyvXS",
        "outputId": "ebd112be-becf-4c5c-8f01-456373315fa2"
      },
      "execution_count": 8,
      "outputs": [
        {
          "output_type": "stream",
          "name": "stdout",
          "text": [
            "Model: \"sequential\"\n",
            "_________________________________________________________________\n",
            " Layer (type)                Output Shape              Param #   \n",
            "=================================================================\n",
            " dense (Dense)               (None, 30)                420       \n",
            "                                                                 \n",
            " dense_1 (Dense)             (None, 12)                372       \n",
            "                                                                 \n",
            " dense_2 (Dense)             (None, 1)                 13        \n",
            "                                                                 \n",
            "=================================================================\n",
            "Total params: 805\n",
            "Trainable params: 805\n",
            "Non-trainable params: 0\n",
            "_________________________________________________________________\n"
          ]
        }
      ]
    },
    {
      "cell_type": "code",
      "source": [
        "# 컴파일 # 회귀의 경우에 정확도 없어. metrics 따로 없습니다 # 메트릭스 지정하면 아래 버보스 주절주절 옵션에 나올것이다. \n",
        "model.compile(optimizer='adam', loss='mean_squared_error') "
      ],
      "metadata": {
        "id": "QPP6xkDzzIX3"
      },
      "execution_count": 9,
      "outputs": []
    },
    {
      "cell_type": "code",
      "source": [
        "# hist = model.fit(X_train, y_train, epochs=100, batch_size=60, verbose=1) # 기본 버보스가 1인듯\n",
        "# # 데이터가 한 500건 되니 50으로 한다. \n",
        "\n",
        "# hist = model.fit(X_train, y_train, validation_split=0.1, epochs=20, batch_size=60)  # 밸리데이션 등 세부옵션 주면 버보스 섦명에 추가로 나와 기본값은 1인듯. \n",
        "hist = model.fit(X_train, y_train, validation_split=0.1, epochs=500, batch_size=60, verbose=0)"
      ],
      "metadata": {
        "id": "TcrNDAkx5iRN"
      },
      "execution_count": 18,
      "outputs": []
    },
    {
      "cell_type": "markdown",
      "source": [
        "시각화 타임 "
      ],
      "metadata": {
        "id": "Qj5CCCdx5Cfa"
      }
    },
    {
      "cell_type": "code",
      "source": [
        "# y_loss = hist.history['loss']\n",
        "# y_vloss = hist.history['val_loss']\n",
        "# xs = np.arange(1, len(y_loss)+1)"
      ],
      "metadata": {
        "id": "2ipI3Q6O6b_X"
      },
      "execution_count": 11,
      "outputs": []
    },
    {
      "cell_type": "code",
      "source": [
        "y_loss = hist.history['loss'][5:]\n",
        "y_vloss = hist.history['val_loss'][5:]\n",
        "xs = np.arange(6, len(y_loss)+6)"
      ],
      "metadata": {
        "id": "oS7r54U_73a9"
      },
      "execution_count": 33,
      "outputs": []
    },
    {
      "cell_type": "code",
      "source": [
        "import matplotlib.pyplot as plt\n",
        "plt.figure(figsize=(12,8))\n",
        "plt.plot(xs, y_loss, label=\"Train loss\")\n",
        "plt.plot(xs, y_vloss, label='Validation loss')\n",
        "plt.legend()\n",
        "plt.grid()\n",
        "plt.show()"
      ],
      "metadata": {
        "colab": {
          "base_uri": "https://localhost:8080/",
          "height": 483
        },
        "id": "YdsOtYWs6b9E",
        "outputId": "f3c1fd2f-5417-4d9f-80aa-f38a2dca1a9d"
      },
      "execution_count": 34,
      "outputs": [
        {
          "output_type": "display_data",
          "data": {
            "image/png": "[encoded data removed]",
            "text/plain": [
              "<Figure size 864x576 with 1 Axes>"
            ]
          },
          "metadata": {
            "needs_background": "light"
          }
        }
      ]
    },
    {
      "cell_type": "code",
      "source": [
        ""
      ],
      "metadata": {
        "id": "KPVgN4hs6b6k"
      },
      "execution_count": null,
      "outputs": []
    },
    {
      "cell_type": "code",
      "source": [
        "# plt.figure(figsize=(12,8))\n",
        "# plt.plot(xs, y_acc, ms=5, label='train accuracy')\n",
        "# plt.plot(xs, y_vloss, ms=5, label='validation loss')\n",
        "# plt.legend()\n",
        "# plt.grid()\n",
        "# plt.xlabel('Epoch')\n",
        "# plt.show()"
      ],
      "metadata": {
        "id": "rb_VHEbg6dXh"
      },
      "execution_count": null,
      "outputs": []
    },
    {
      "cell_type": "markdown",
      "source": [
        "평가 및 예측"
      ],
      "metadata": {
        "id": "fM7vQXTM8kZV"
      }
    },
    {
      "cell_type": "code",
      "source": [
        "# 평가 예측값과 실제값의 비교\n",
        "model.evaluate(X_test, y_test,verbose=2)"
      ],
      "metadata": {
        "colab": {
          "base_uri": "https://localhost:8080/"
        },
        "id": "Q0Ar66Hs8QoE",
        "outputId": "d3042079-6a31-4050-c23b-bb0318a1f2d4"
      },
      "execution_count": 15,
      "outputs": [
        {
          "output_type": "stream",
          "name": "stdout",
          "text": [
            "2/2 - 0s - loss: 29.9504 - 16ms/epoch - 8ms/step\n"
          ]
        },
        {
          "output_type": "execute_result",
          "data": {
            "text/plain": [
              "29.950382232666016"
            ]
          },
          "metadata": {},
          "execution_count": 15
        }
      ]
    },
    {
      "cell_type": "code",
      "source": [
        "pred = model.predict(X_test)"
      ],
      "metadata": {
        "id": "RBOCGHIt8ZbP"
      },
      "execution_count": 16,
      "outputs": []
    },
    {
      "cell_type": "code",
      "source": [
        "from sklearn.metrics import r2_score, mean_squared_error\n",
        "mse = mean_squared_error(y_test, pred)\n",
        "r2 = r2_score(y_test, pred)\n",
        "mse, r2"
      ],
      "metadata": {
        "colab": {
          "base_uri": "https://localhost:8080/"
        },
        "id": "TVEsRFvy80Ok",
        "outputId": "5016bbec-5801-4ab6-c342-94ef6c4f5d89"
      },
      "execution_count": 17,
      "outputs": [
        {
          "output_type": "execute_result",
          "data": {
            "text/plain": [
              "(29.950373969221044, 0.6432135921006688)"
            ]
          },
          "metadata": {},
          "execution_count": 17
        }
      ]
    },
    {
      "cell_type": "markdown",
      "source": [
        "예측 값과 실제값의 비교"
      ],
      "metadata": {
        "id": "ejtwdTTt9Jdv"
      }
    },
    {
      "cell_type": "code",
      "source": [
        "# \n",
        "df = pd.DataFrame({\n",
        "    'y_test':y_test, 'pred':pred.flatten()\n",
        "})\n",
        "df.head(10)\n",
        "# 1,-1 안되나?"
      ],
      "metadata": {
        "colab": {
          "base_uri": "https://localhost:8080/",
          "height": 363
        },
        "id": "EXOK8dLn9dUc",
        "outputId": "316e06fd-2714-4182-c94b-f36cba6ce2f9"
      },
      "execution_count": 25,
      "outputs": [
        {
          "output_type": "execute_result",
          "data": {
            "text/html": [
              "\n",
              "  <div id=\"df-92b6cb4b-7d57-4bb6-b7f4-75fc582f7f15\">\n",
              "    <div class=\"colab-df-container\">\n",
              "      <div>\n",
              "<style scoped>\n",
              "    .dataframe tbody tr th:only-of-type {\n",
              "        vertical-align: middle;\n",
              "    }\n",
              "\n",
              "    .dataframe tbody tr th {\n",
              "        vertical-align: top;\n",
              "    }\n",
              "\n",
              "    .dataframe thead th {\n",
              "        text-align: right;\n",
              "    }\n",
              "</style>\n",
              "<table border=\"1\" class=\"dataframe\">\n",
              "  <thead>\n",
              "    <tr style=\"text-align: right;\">\n",
              "      <th></th>\n",
              "      <th>y_test</th>\n",
              "      <th>pred</th>\n",
              "    </tr>\n",
              "  </thead>\n",
              "  <tbody>\n",
              "    <tr>\n",
              "      <th>0</th>\n",
              "      <td>20.1</td>\n",
              "      <td>21.983509</td>\n",
              "    </tr>\n",
              "    <tr>\n",
              "      <th>1</th>\n",
              "      <td>11.9</td>\n",
              "      <td>9.911211</td>\n",
              "    </tr>\n",
              "    <tr>\n",
              "      <th>2</th>\n",
              "      <td>20.6</td>\n",
              "      <td>18.760216</td>\n",
              "    </tr>\n",
              "    <tr>\n",
              "      <th>3</th>\n",
              "      <td>33.2</td>\n",
              "      <td>32.877945</td>\n",
              "    </tr>\n",
              "    <tr>\n",
              "      <th>4</th>\n",
              "      <td>20.8</td>\n",
              "      <td>17.891756</td>\n",
              "    </tr>\n",
              "    <tr>\n",
              "      <th>5</th>\n",
              "      <td>13.5</td>\n",
              "      <td>6.994967</td>\n",
              "    </tr>\n",
              "    <tr>\n",
              "      <th>6</th>\n",
              "      <td>24.7</td>\n",
              "      <td>24.351927</td>\n",
              "    </tr>\n",
              "    <tr>\n",
              "      <th>7</th>\n",
              "      <td>13.9</td>\n",
              "      <td>10.490944</td>\n",
              "    </tr>\n",
              "    <tr>\n",
              "      <th>8</th>\n",
              "      <td>10.4</td>\n",
              "      <td>12.877160</td>\n",
              "    </tr>\n",
              "    <tr>\n",
              "      <th>9</th>\n",
              "      <td>19.7</td>\n",
              "      <td>12.022337</td>\n",
              "    </tr>\n",
              "  </tbody>\n",
              "</table>\n",
              "</div>\n",
              "      <button class=\"colab-df-convert\" onclick=\"convertToInteractive('df-92b6cb4b-7d57-4bb6-b7f4-75fc582f7f15')\"\n",
              "              title=\"Convert this dataframe to an interactive table.\"\n",
              "              style=\"display:none;\">\n",
              "        \n",
              "  <svg xmlns=\"http://www.w3.org/2000/svg\" height=\"24px\"viewBox=\"0 0 24 24\"\n",
              "       width=\"24px\">\n",
              "    <path d=\"M0 0h24v24H0V0z\" fill=\"none\"/>\n",
              "    <path d=\"M18.56 5.44l.94 2.06.94-2.06 2.06-.94-2.06-.94-.94-2.06-.94 2.06-2.06.94zm-11 1L8.5 8.5l.94-2.06 2.06-.94-2.06-.94L8.5 2.5l-.94 2.06-2.06.94zm10 10l.94 2.06.94-2.06 2.06-.94-2.06-.94-.94-2.06-.94 2.06-2.06.94z\"/><path d=\"M17.41 7.96l-1.37-1.37c-.4-.4-.92-.59-1.43-.59-.52 0-1.04.2-1.43.59L10.3 9.45l-7.72 7.72c-.78.78-.78 2.05 0 2.83L4 21.41c.39.39.9.59 1.41.59.51 0 1.02-.2 1.41-.59l7.78-7.78 2.81-2.81c.8-.78.8-2.07 0-2.86zM5.41 20L4 18.59l7.72-7.72 1.47 1.35L5.41 20z\"/>\n",
              "  </svg>\n",
              "      </button>\n",
              "      \n",
              "  <style>\n",
              "    .colab-df-container {\n",
              "      display:flex;\n",
              "      flex-wrap:wrap;\n",
              "      gap: 12px;\n",
              "    }\n",
              "\n",
              "    .colab-df-convert {\n",
              "      background-color: #E8F0FE;\n",
              "      border: none;\n",
              "      border-radius: 50%;\n",
              "      cursor: pointer;\n",
              "      display: none;\n",
              "      fill: #1967D2;\n",
              "      height: 32px;\n",
              "      padding: 0 0 0 0;\n",
              "      width: 32px;\n",
              "    }\n",
              "\n",
              "    .colab-df-convert:hover {\n",
              "      background-color: #E2EBFA;\n",
              "      box-shadow: 0px 1px 2px rgba(60, 64, 67, 0.3), 0px 1px 3px 1px rgba(60, 64, 67, 0.15);\n",
              "      fill: #174EA6;\n",
              "    }\n",
              "\n",
              "    [theme=dark] .colab-df-convert {\n",
              "      background-color: #3B4455;\n",
              "      fill: #D2E3FC;\n",
              "    }\n",
              "\n",
              "    [theme=dark] .colab-df-convert:hover {\n",
              "      background-color: #434B5C;\n",
              "      box-shadow: 0px 1px 3px 1px rgba(0, 0, 0, 0.15);\n",
              "      filter: drop-shadow(0px 1px 2px rgba(0, 0, 0, 0.3));\n",
              "      fill: #FFFFFF;\n",
              "    }\n",
              "  </style>\n",
              "\n",
              "      <script>\n",
              "        const buttonEl =\n",
              "          document.querySelector('#df-92b6cb4b-7d57-4bb6-b7f4-75fc582f7f15 button.colab-df-convert');\n",
              "        buttonEl.style.display =\n",
              "          google.colab.kernel.accessAllowed ? 'block' : 'none';\n",
              "\n",
              "        async function convertToInteractive(key) {\n",
              "          const element = document.querySelector('#df-92b6cb4b-7d57-4bb6-b7f4-75fc582f7f15');\n",
              "          const dataTable =\n",
              "            await google.colab.kernel.invokeFunction('convertToInteractive',\n",
              "                                                     [key], {});\n",
              "          if (!dataTable) return;\n",
              "\n",
              "          const docLinkHtml = 'Like what you see? Visit the ' +\n",
              "            '<a target=\"_blank\" href=https://colab.research.google.com/notebooks/data_table.ipynb>data table notebook</a>'\n",
              "            + ' to learn more about interactive tables.';\n",
              "          element.innerHTML = '';\n",
              "          dataTable['output_type'] = 'display_data';\n",
              "          await google.colab.output.renderOutput(dataTable, element);\n",
              "          const docLink = document.createElement('div');\n",
              "          docLink.innerHTML = docLinkHtml;\n",
              "          element.appendChild(docLink);\n",
              "        }\n",
              "      </script>\n",
              "    </div>\n",
              "  </div>\n",
              "  "
            ],
            "text/plain": [
              "   y_test       pred\n",
              "0    20.1  21.983509\n",
              "1    11.9   9.911211\n",
              "2    20.6  18.760216\n",
              "3    33.2  32.877945\n",
              "4    20.8  17.891756\n",
              "5    13.5   6.994967\n",
              "6    24.7  24.351927\n",
              "7    13.9  10.490944\n",
              "8    10.4  12.877160\n",
              "9    19.7  12.022337"
            ]
          },
          "metadata": {},
          "execution_count": 25
        }
      ]
    },
    {
      "cell_type": "code",
      "source": [
        "y_test.shape, pred.shape"
      ],
      "metadata": {
        "colab": {
          "base_uri": "https://localhost:8080/"
        },
        "id": "IRkHqule9eG5",
        "outputId": "25d13625-b472-430b-ee96-4358110e9bd2"
      },
      "execution_count": 27,
      "outputs": [
        {
          "output_type": "execute_result",
          "data": {
            "text/plain": [
              "((51,), (51, 1))"
            ]
          },
          "metadata": {},
          "execution_count": 27
        }
      ]
    },
    {
      "cell_type": "code",
      "source": [
        "# 보스톤 코드 돌릴수 있는 파이썬 파일 만들고 실행 "
      ],
      "metadata": {
        "id": "EpXSAoMM-N8p"
      },
      "execution_count": null,
      "outputs": []
    },
    {
      "cell_type": "markdown",
      "source": [
        "테스트 프로그램 뭘 추가해야 할까?"
      ],
      "metadata": {
        "id": "782rZ4VVBbvU"
      }
    },
    {
      "cell_type": "code",
      "source": [
        "index = 30\n",
        "X_test[index], y_test[index]"
      ],
      "metadata": {
        "colab": {
          "base_uri": "https://localhost:8080/"
        },
        "id": "Swdt50vOBdQ8",
        "outputId": "dc000aa3-e883-432e-90bb-8dd807dab50b"
      },
      "execution_count": 28,
      "outputs": [
        {
          "output_type": "execute_result",
          "data": {
            "text/plain": [
              "(array([1.5876e-01, 0.0000e+00, 1.0810e+01, 0.0000e+00, 4.1300e-01,\n",
              "        5.9610e+00, 1.7500e+01, 5.2873e+00, 4.0000e+00, 3.0500e+02,\n",
              "        1.9200e+01, 3.7694e+02, 9.8800e+00]), 21.7)"
            ]
          },
          "metadata": {},
          "execution_count": 28
        }
      ]
    },
    {
      "cell_type": "code",
      "source": [
        "pred_value = model.predict(X_test[index].reshape(1,-1))  # [21.192657]\n",
        "pred_value"
      ],
      "metadata": {
        "colab": {
          "base_uri": "https://localhost:8080/"
        },
        "id": "x-kpozHMBpIT",
        "outputId": "10d71d63-4446-4190-f247-3b172f90ba3a"
      },
      "execution_count": 31,
      "outputs": [
        {
          "output_type": "execute_result",
          "data": {
            "text/plain": [
              "array([[21.192657]], dtype=float32)"
            ]
          },
          "metadata": {},
          "execution_count": 31
        }
      ]
    },
    {
      "cell_type": "markdown",
      "source": [
        "리쉐입의 문제 "
      ],
      "metadata": {
        "id": "-G7_8ioRBzSV"
      }
    },
    {
      "cell_type": "code",
      "source": [
        "print(f'실제값: {y_test[index]}, 예측값 : {pred_value[0,0]:.2f}')"
      ],
      "metadata": {
        "colab": {
          "base_uri": "https://localhost:8080/"
        },
        "id": "5uWRP5cmDXDU",
        "outputId": "90b8c760-f699-4df4-a3a3-27d0a52fcf9f"
      },
      "execution_count": 32,
      "outputs": [
        {
          "output_type": "stream",
          "name": "stdout",
          "text": [
            "실제값: 21.7, 예측값 : 21.19\n"
          ]
        }
      ]
    },
    {
      "cell_type": "code",
      "source": [
        "model.save('boston.h5')"
      ],
      "metadata": {
        "id": "RVQi1lRCDp18"
      },
      "execution_count": 35,
      "outputs": []
    },
    {
      "cell_type": "code",
      "source": [
        "# 점심 이후 boston2 만들고 시작 "
      ],
      "metadata": {
        "id": "COW_YGJ1dgVg"
      },
      "execution_count": 36,
      "outputs": []
    },
    {
      "cell_type": "code",
      "source": [
        "!python boston.py"
      ],
      "metadata": {
        "colab": {
          "base_uri": "https://localhost:8080/"
        },
        "id": "Dn0o0fLmfMVv",
        "outputId": "c4f7b683-32fa-447e-d7a9-da0a306265ad"
      },
      "execution_count": 40,
      "outputs": [
        {
          "output_type": "stream",
          "name": "stdout",
          "text": [
            "2022-01-12 04:15:00.466354: E tensorflow/stream_executor/cuda/cuda_driver.cc:271] failed call to cuInit: CUDA_ERROR_NO_DEVICE: no CUDA-capable device is detected\n",
            "0 ~ 100 정수값을 입력하세요.> 37\n",
            "실제값: 27.1, 예측값 : 17.68\n"
          ]
        }
      ]
    },
    {
      "cell_type": "code",
      "source": [
        "!python boston2.py"
      ],
      "metadata": {
        "colab": {
          "base_uri": "https://localhost:8080/"
        },
        "id": "YEIJRJGOfFVd",
        "outputId": "b2ea2d50-f2d1-4b00-fc54-6be896bc593f"
      },
      "execution_count": 38,
      "outputs": [
        {
          "output_type": "stream",
          "name": "stdout",
          "text": [
            "2022-01-12 04:13:48.023642: E tensorflow/stream_executor/cuda/cuda_driver.cc:271] failed call to cuInit: CUDA_ERROR_NO_DEVICE: no CUDA-capable device is detected\n",
            "0 ~ 100 정수값을 입력하세요.> 10\n",
            "실제값: 21.4, 예측값 : 21.02\n"
          ]
        }
      ]
    },
    {
      "cell_type": "code",
      "source": [
        "!python boston3.py"
      ],
      "metadata": {
        "colab": {
          "base_uri": "https://localhost:8080/"
        },
        "id": "-tiT-cYyh4UA",
        "outputId": "58f2d749-1120-4412-ed53-bf98cc7a9d9c"
      },
      "execution_count": 43,
      "outputs": [
        {
          "output_type": "stream",
          "name": "stdout",
          "text": [
            "boston3.py 1\n",
            "사용법 : python boston3.py test_dataset_index(0~50\n"
          ]
        }
      ]
    },
    {
      "cell_type": "code",
      "source": [
        "!python boston3.py"
      ],
      "metadata": {
        "colab": {
          "base_uri": "https://localhost:8080/"
        },
        "id": "AyWv7d87jSwv",
        "outputId": "09ec2667-e4f5-4667-8dfc-a853cd21f904"
      },
      "execution_count": 45,
      "outputs": [
        {
          "output_type": "stream",
          "name": "stdout",
          "text": [
            "boston3.py 1\n",
            "사용법 : python boston3.py test_dataset_index(0~50\n"
          ]
        }
      ]
    },
    {
      "cell_type": "code",
      "source": [
        "!python boston3.py 42"
      ],
      "metadata": {
        "colab": {
          "base_uri": "https://localhost:8080/"
        },
        "id": "T5q23xOYjkq6",
        "outputId": "1e9d9f42-e459-4c11-feb1-d4ee1db82b66"
      },
      "execution_count": 46,
      "outputs": [
        {
          "output_type": "stream",
          "name": "stdout",
          "text": [
            "2022-01-12 04:31:56.942359: E tensorflow/stream_executor/cuda/cuda_driver.cc:271] failed call to cuInit: CUDA_ERROR_NO_DEVICE: no CUDA-capable device is detected\n",
            "실제값: 20.4, 예측값 : 15.39\n"
          ]
        }
      ]
    },
    {
      "cell_type": "code",
      "source": [
        "!python boston3.py one"
      ],
      "metadata": {
        "colab": {
          "base_uri": "https://localhost:8080/"
        },
        "id": "d0q9Si3hjnfz",
        "outputId": "546df29b-1797-405c-da15-a1b5d1eb1f08"
      },
      "execution_count": 47,
      "outputs": [
        {
          "output_type": "stream",
          "name": "stdout",
          "text": [
            "정수를 입력하세요\n",
            "사용법 : python boston3.py test_dataset_index(0~50\n"
          ]
        }
      ]
    },
    {
      "cell_type": "code",
      "source": [
        "!python boston3.py 100"
      ],
      "metadata": {
        "colab": {
          "base_uri": "https://localhost:8080/"
        },
        "id": "e4ArpnGuk6ms",
        "outputId": "122a9671-4a3e-4ff4-816b-24678982963a"
      },
      "execution_count": 49,
      "outputs": [
        {
          "output_type": "stream",
          "name": "stdout",
          "text": [
            "0과 50사이의 정수를 입력하세요\n",
            "사용법 : python boston3.py test_dataset_index(0~50) 2> /dev/null\n"
          ]
        }
      ]
    },
    {
      "cell_type": "code",
      "source": [
        "!python boston3.py 3 2> /dev/null"
      ],
      "metadata": {
        "id": "uaqjocZ6lDJ9"
      },
      "execution_count": null,
      "outputs": []
    },
    {
      "cell_type": "markdown",
      "source": [
        "# 리눅스 설명 .\n",
        "0  stdin\n",
        "1  stdout  스탠다드 아웃\n",
        "2  stderr   스탠다드 에러는 디바이스 널로 보내라. 데이타 씽크 쓰레기통. 아무나 데이터를 집어넣어 버려. "
      ],
      "metadata": {
        "id": "AxGKHAKMm8hT"
      }
    },
    {
      "cell_type": "code",
      "source": [
        "!python boston3.py 33 2> /dev/null\n",
        "# 에러 메시지 출력되지 않는 코드. "
      ],
      "metadata": {
        "colab": {
          "base_uri": "https://localhost:8080/"
        },
        "id": "cuCnOm7VnuCj",
        "outputId": "acf6082c-bc32-4f74-ca33-ebafc0aafce5"
      },
      "execution_count": 51,
      "outputs": [
        {
          "output_type": "stream",
          "name": "stdout",
          "text": [
            "실제값: 17.5, 예측값 : 16.92\n"
          ]
        }
      ]
    },
    {
      "cell_type": "code",
      "source": [
        ""
      ],
      "metadata": {
        "id": "U5u_ENwbnvP0"
      },
      "execution_count": null,
      "outputs": []
    }
  ]
}