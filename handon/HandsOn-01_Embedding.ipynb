{
 "cells": [
  {
   "cell_type": "markdown",
   "metadata": {},
   "source": [
    "# Chapter 7. 텍스트 문서의 범주화 - (1) 텍스트 임베딩\n"
   ]
  },
  {
   "cell_type": "markdown",
   "metadata": {},
   "source": [
    "### 핸즈온 안내\n",
    "\n",
    "- Chapter07 텍스트 문서의 범주화 핸즈온에 필요한 패키지 및 데이터\n",
    "    - PyPi\n",
    "        - keras (2.2.4)\n",
    "        - tensorflow (1.13.1)\n",
    "        - gensim (3.7.1)\n",
    "        - bs4 (0.0.1)\n",
    "        - 그 외 나머지 패키지들은 아나콘다 기본 PyPi 패키지 사용 가능\n",
    "    - 데이터\n",
    "        - Chapter07 디렉토리에 data 폴더 생성 후 다음 데이터들을 다운로드 받아 압축해제\n",
    "        - IMDB 영화 리뷰 데이터셋 : http://ai.stanford.edu/~amaas/data/sentiment/\n",
    "        - 아마존 영화 리뷰 데이터셋 : https://www.kaggle.com/bittlingmayer/amazonreviews\n",
    "        - pre-train GloVe 모델 : http://nlp.stanford.edu/data/glove.6B.zip"
   ]
  },
  {
   "cell_type": "markdown",
   "metadata": {},
   "source": [
    "### 텍스트 분류의 예시\n",
    "- 스팸 메일 필터링\n",
    "- 감성 분류\n",
    "- 장르 분류\n",
    "- 보험금 청구서 사기 탐지 등"
   ]
  },
  {
   "cell_type": "markdown",
   "metadata": {},
   "source": [
    "### 전통적인 텍스트 범주화\n",
    "- 문장 나누기\n",
    "- 토큰화(Tokenization)\n",
    "- 어간 추출 (Stemming)\n",
    "    - ('재생해', '재생하고', '재생했다') -> 기본형 '재생하다'\n",
    "- 원형 복원 (Lemmatization)\n",
    "    - 'better' -> 원형 'good' (사전에 정의됨)\n",
    "- 텍스트 정리 : 대소문자 변환, 오타 수정, 불용어 제거 등"
   ]
  },
  {
   "cell_type": "markdown",
   "metadata": {},
   "source": [
    "### BoW (Bag of Words)\n",
    "- 텍스트 문서에서 특징을 추출하고 텍스트의 벡터 표현을 생성하는, 가장 간단하면서도 강력한 기술 중 하나\n",
    "- 순서 없이 각 단어의 빈도를 기반으로 생성한 희소한(sparse) 벡터"
   ]
  },
  {
   "cell_type": "markdown",
   "metadata": {},
   "source": [
    "### TF-IDF (Term Frequency – Inverse Document Frequency)\n",
    "- TF-IDF 값은 어떤 단어가 특정 문서에 나타나는 횟수에 비례하여 늘어나고, 그 단어가 전체 문서에서 두루 나타나는 빈도수에 비례하여 작아진다\n",
    "- TF-IDF = TF x IDF\n",
    "    - TF : 문서 내 단어가 등장한 빈도\n",
    "    - IDF : 단어가 다른 문서에 자주 등장한 빈도의 역수"
   ]
  },
  {
   "cell_type": "code",
   "execution_count": 1,
   "metadata": {},
   "outputs": [],
   "source": [
    "import os\n",
    "import nltk\n",
    "# import logging\n",
    "import pandas as pd\n",
    "import numpy as np"
   ]
  },
  {
   "cell_type": "markdown",
   "metadata": {},
   "source": [
    "----\n",
    "## IMDB dataset\n",
    "\n",
    "- IMDB 영화 리뷰 데이터를 다운로드 받아 data 디렉토리에 압축 해제한다\n",
    "    - 다운로드 : http://ai.stanford.edu/~amaas/data/sentiment/\n",
    "    - 저장경로 : data/aclImdb\n",
    "- IMDB 영화 리뷰 데이터 세트\n",
    "    - 바이너리로 감성을 분류하기 위한 데이터 세트다. 훈련을 위한 25,000개 영화 리뷰 데이터와 테스트를 위한 25,000개 영화 리뷰 데이터가 포함돼 있다. 또한 레이블이 지정되지 않은 추가 데이터도 있다. (10만건, 510MB)\n",
    "- 로드 함수는 dataloader/loader.py 참조"
   ]
  },
  {
   "cell_type": "code",
   "execution_count": 2,
   "metadata": {},
   "outputs": [],
   "source": [
    "from dataloader.loader import Loader"
   ]
  },
  {
   "cell_type": "code",
   "execution_count": 3,
   "metadata": {},
   "outputs": [
    {
     "name": "stdout",
     "output_type": "stream",
     "text": [
      "train_df.shape : (25000, 2)\n",
      "test_df.shape : (25000, 2)\n",
      "unsupervised.shape : (50000, 1)\n"
     ]
    }
   ],
   "source": [
    "# train, test, unsup 데이터 로드하기\n",
    "# data/aclImdb 경로에 저장한 IMDB 영화 리뷰 데이터를 로드한다\n",
    "\n",
    "train_df = Loader.load_imdb_data('train')\n",
    "print(f'train_df.shape : {train_df.shape}')\n",
    "\n",
    "test_df = Loader.load_imdb_data('test')\n",
    "print(f'test_df.shape : {test_df.shape}')\n",
    "\n",
    "unsupervised = Loader.load_imdb_unsup()\n",
    "print(f'unsupervised.shape : {unsupervised.shape}')"
   ]
  },
  {
   "cell_type": "code",
   "execution_count": 48,
   "metadata": {},
   "outputs": [
    {
     "data": {
      "text/html": [
       "<div>\n",
       "<style scoped>\n",
       "    .dataframe tbody tr th:only-of-type {\n",
       "        vertical-align: middle;\n",
       "    }\n",
       "\n",
       "    .dataframe tbody tr th {\n",
       "        vertical-align: top;\n",
       "    }\n",
       "\n",
       "    .dataframe thead th {\n",
       "        text-align: right;\n",
       "    }\n",
       "</style>\n",
       "<table border=\"1\" class=\"dataframe\">\n",
       "  <thead>\n",
       "    <tr style=\"text-align: right;\">\n",
       "      <th></th>\n",
       "      <th>review</th>\n",
       "      <th>sentiment</th>\n",
       "    </tr>\n",
       "  </thead>\n",
       "  <tbody>\n",
       "    <tr>\n",
       "      <th>17609</th>\n",
       "      <td>I have yet to read Shirley Jackson's novel, so...</td>\n",
       "      <td>0</td>\n",
       "    </tr>\n",
       "    <tr>\n",
       "      <th>1851</th>\n",
       "      <td>The Secret of Kells is a film I've been waitin...</td>\n",
       "      <td>1</td>\n",
       "    </tr>\n",
       "    <tr>\n",
       "      <th>6171</th>\n",
       "      <td>I remember seeing this movie when I was about ...</td>\n",
       "      <td>1</td>\n",
       "    </tr>\n",
       "    <tr>\n",
       "      <th>23542</th>\n",
       "      <td>Instead, go to the zoo, buy some peanuts and f...</td>\n",
       "      <td>0</td>\n",
       "    </tr>\n",
       "    <tr>\n",
       "      <th>16722</th>\n",
       "      <td>It was the tag-line \"in the tradition of Ameri...</td>\n",
       "      <td>0</td>\n",
       "    </tr>\n",
       "  </tbody>\n",
       "</table>\n",
       "</div>"
      ],
      "text/plain": [
       "                                                  review  sentiment\n",
       "17609  I have yet to read Shirley Jackson's novel, so...          0\n",
       "1851   The Secret of Kells is a film I've been waitin...          1\n",
       "6171   I remember seeing this movie when I was about ...          1\n",
       "23542  Instead, go to the zoo, buy some peanuts and f...          0\n",
       "16722  It was the tag-line \"in the tradition of Ameri...          0"
      ]
     },
     "execution_count": 48,
     "metadata": {},
     "output_type": "execute_result"
    }
   ],
   "source": [
    "train_df.head()"
   ]
  },
  {
   "cell_type": "code",
   "execution_count": 67,
   "metadata": {},
   "outputs": [],
   "source": [
    "# df csv로 내보내기 로드에 10분 이상씩 걸려 중간파일 작성\n",
    "train_df.to_csv('data/train_df.csv', sep='/', na_rep='NaN', header=True, index=True)\n",
    "test_df.to_csv('data/test_df.csv', sep='/', na_rep='NaN', header=True, index=True)\n",
    "unsupervised.to_csv('data/unsupervised.csv', sep='/', na_rep='NaN', header=True, index=True)"
   ]
  },
  {
   "cell_type": "code",
   "execution_count": 69,
   "metadata": {},
   "outputs": [
    {
     "data": {
      "text/html": [
       "<div>\n",
       "<style scoped>\n",
       "    .dataframe tbody tr th:only-of-type {\n",
       "        vertical-align: middle;\n",
       "    }\n",
       "\n",
       "    .dataframe tbody tr th {\n",
       "        vertical-align: top;\n",
       "    }\n",
       "\n",
       "    .dataframe thead th {\n",
       "        text-align: right;\n",
       "    }\n",
       "</style>\n",
       "<table border=\"1\" class=\"dataframe\">\n",
       "  <thead>\n",
       "    <tr style=\"text-align: right;\">\n",
       "      <th></th>\n",
       "      <th>Unnamed: 0</th>\n",
       "      <th>review</th>\n",
       "      <th>sentiment</th>\n",
       "    </tr>\n",
       "  </thead>\n",
       "  <tbody>\n",
       "    <tr>\n",
       "      <th>0</th>\n",
       "      <td>17609</td>\n",
       "      <td>I have yet to read Shirley Jackson's novel, so...</td>\n",
       "      <td>0</td>\n",
       "    </tr>\n",
       "    <tr>\n",
       "      <th>1</th>\n",
       "      <td>1851</td>\n",
       "      <td>The Secret of Kells is a film I've been waitin...</td>\n",
       "      <td>1</td>\n",
       "    </tr>\n",
       "    <tr>\n",
       "      <th>2</th>\n",
       "      <td>6171</td>\n",
       "      <td>I remember seeing this movie when I was about ...</td>\n",
       "      <td>1</td>\n",
       "    </tr>\n",
       "    <tr>\n",
       "      <th>3</th>\n",
       "      <td>23542</td>\n",
       "      <td>Instead, go to the zoo, buy some peanuts and f...</td>\n",
       "      <td>0</td>\n",
       "    </tr>\n",
       "    <tr>\n",
       "      <th>4</th>\n",
       "      <td>16722</td>\n",
       "      <td>It was the tag-line \"in the tradition of Ameri...</td>\n",
       "      <td>0</td>\n",
       "    </tr>\n",
       "  </tbody>\n",
       "</table>\n",
       "</div>"
      ],
      "text/plain": [
       "   Unnamed: 0                                             review  sentiment\n",
       "0       17609  I have yet to read Shirley Jackson's novel, so...          0\n",
       "1        1851  The Secret of Kells is a film I've been waitin...          1\n",
       "2        6171  I remember seeing this movie when I was about ...          1\n",
       "3       23542  Instead, go to the zoo, buy some peanuts and f...          0\n",
       "4       16722  It was the tag-line \"in the tradition of Ameri...          0"
      ]
     },
     "execution_count": 69,
     "metadata": {},
     "output_type": "execute_result"
    }
   ],
   "source": [
    "# csv 불러오기용 테스트\n",
    "a = pd.read_csv('data/train_df.csv', sep='/')\n",
    "a.head()"
   ]
  },
  {
   "cell_type": "code",
   "execution_count": 73,
   "metadata": {},
   "outputs": [],
   "source": [
    "# df 엑셀 시트로 내보내기\n",
    "\n",
    "base_dir = \"data/\"\n",
    "file_nm_train = \"train_df.xlsx\"\n",
    "xlxs_dir_train = os.path.join(base_dir, file_nm_train)\n",
    "\n",
    "file_nm_test = \"test_df.xlsx\"\n",
    "xlxs_dir_test = os.path.join(base_dir, file_nm_test)\n",
    "\n",
    "file_nm_unsupervised = \"unsupervised.xlsx\"\n",
    "xlxs_dir_unsupervised = os.path.join(base_dir, file_nm_unsupervised)"
   ]
  },
  {
   "cell_type": "code",
   "execution_count": null,
   "metadata": {},
   "outputs": [],
   "source": [
    "# #-- write an object to an Excel sheet using pd.DataFrame.to_excel()\n",
    "\n",
    "# train_df.to_excel(xlxs_dir_train, # directory and file name to write\n",
    "#             sheet_name = 'Sheet1', \n",
    "#             na_rep = 'NaN', \n",
    "#             float_format = \"%.2f\", \n",
    "#             header = True, \n",
    "#             #columns = [\"group\", \"value_1\", \"value_2\"], # if header is False\n",
    "\n",
    "#             index = True, \n",
    "#             index_label = \"id\", \n",
    "#             startrow = 1, \n",
    "#             startcol = 1, \n",
    "\n",
    "#             #engine = 'xlsxwriter', \n",
    "#             freeze_panes = (2, 0)\n",
    "#             ) \n",
    "# test_df.to_excel(xlxs_dir_test, # directory and file name to write\n",
    "#             sheet_name = 'Sheet1', \n",
    "#             na_rep = 'NaN', \n",
    "#             float_format = \"%.2f\", \n",
    "#             header = True, \n",
    "#             #columns = [\"group\", \"value_1\", \"value_2\"], # if header is False\n",
    "\n",
    "#             index = True, \n",
    "#             index_label = \"id\", \n",
    "#             startrow = 1, \n",
    "#             startcol = 1, \n",
    "\n",
    "#             #engine = 'xlsxwriter', \n",
    "#             freeze_panes = (2, 0)\n",
    "#             ) \n",
    "# unsupervised.to_excel(xlxs_dir_unsupervised, # directory and file name to write\n",
    "#             sheet_name = 'Sheet1', \n",
    "#             na_rep = 'NaN', \n",
    "#             float_format = \"%.2f\", \n",
    "#             header = True, \n",
    "#             #columns = [\"group\", \"value_1\", \"value_2\"], # if header is False\n",
    "\n",
    "#             index = True, \n",
    "#             index_label = \"id\", \n",
    "#             startrow = 1, \n",
    "#             startcol = 1, \n",
    "\n",
    "#             #engine = 'xlsxwriter', \n",
    "#             freeze_panes = (2, 0)\n",
    "#             ) \n",
    "\n",
    "\n",
    "# # 출처: https://rfriend.tistory.com/466 [R, Python 분석과 프로그래밍의 친구 (by R Friend)]"
   ]
  },
  {
   "cell_type": "code",
   "execution_count": 75,
   "metadata": {},
   "outputs": [
    {
     "name": "stdout",
     "output_type": "stream",
     "text": [
      "corpus size : 100000\n"
     ]
    }
   ],
   "source": [
    "# 로드한 train, test, unsupervised 텍스트 데이터를 하나로 묶기\n",
    "corpus = unsupervised['review'].tolist() + train_df['review'].tolist() + test_df['review'].tolist()\n",
    "print(f'corpus size : {len(corpus)}')"
   ]
  },
  {
   "cell_type": "markdown",
   "metadata": {},
   "source": [
    "----\n",
    "## tokenize\n",
    "\n",
    "- 각 문장을 단어들의 리스트로 tokenize한다"
   ]
  },
  {
   "cell_type": "code",
   "execution_count": null,
   "metadata": {},
   "outputs": [],
   "source": [
    "corpus[0], corpus[1]"
   ]
  },
  {
   "cell_type": "code",
   "execution_count": 77,
   "metadata": {},
   "outputs": [
    {
     "name": "stdout",
     "output_type": "stream",
     "text": [
      "tokenized_corpus size : 100000\n",
      "tokenized_corpus[0] : \n",
      " ['one', 'of', 'the', 'things', 'i', 'like', 'about', 'escape', 'from', 'new', 'york', 'is', 'the', 'fact', 'that', 'the', 'lead', 'character', 'is', 'named', 'snake', '.', 'it', 'was', 'a', 'snake', 'who', 'tricked', 'mankind', 'out', 'of', 'paradise', 'and', 'in', 'john', 'carpenter', \"'\", 's', 'world', 'a', 'snake', 'is', 'what', 'saves', 'the', 'free', 'world', \"'\", 's', 'leader', '.', 'of', 'course', 'the', 'free', 'world', 'ain', \"'\", 't', 'all', 'that', 'free', 'any', 'more', '.', 'in', 'escape', 'from', 'new', 'york', 'crime', 'has', 'risen', 'to', 'astronomic', 'proportions', ',', 'so', 'much', 'so', 'that', 'the', 'entire', 'island', 'of', 'manhattan', 'is', 'now', 'one', 'big', 'prison', 'surrounded', 'by', 'the', 'national', 'police', 'force', '.', 'we', 'now', 'have', 'one', 'of', 'those', ',', 'i', 'assume', 'this', 'is', 'what', 'the', 'federal', 'bureau', 'of', 'investigation', 'has', 'morphed', 'into', '.', 'and', 'the', 'usa', 'is', 'at', 'war', ',', 'with', 'who', 'they', 'don', \"'\", 't', 'say', '.', 'but', 'the', 'enemies', 'of', 'the', 'new', 'american', 'way', 'of', 'life', 'have', 'seized', 'air', 'force', 'one', 'and', 'crash', 'it', 'in', 'a', 'suicide', 'move', 'worthy', 'of', 'what', 'we', 'see', 'from', 'the', 'middle', 'east', '.', 'but', 'president', 'donald', 'pleasance', ',', 'who', 'looks', 'a', 'whole', 'lot', 'like', 'peter', 'sellers', \"'\", 's', 'president', 'from', 'dr', '.', 'strangelove', '.', 'he', 'escapes', 'in', 'a', 'pod', 'that', 'crashes', 'on', 'the', 'prison', 'island', 'of', 'manhattan', '.', 'what', 'to', 'do', ',', 'but', 'rescue', 'pleasance', '.', 'and', 'the', 'guy', 'that', 'police', 'chief', 'lee', 'van', 'cleef', 'has', 'in', 'mind', 'is', 'snake', 'plissken', ',', 'former', 'war', 'hero', ',', 'now', 'career', 'criminal', 'with', 'a', 'rooster', 'cogburn', 'patch', 'and', 'played', 'by', 'kurt', 'russell', '.', 'to', 'make', 'sure', 'that', 'russell', 'doesn', \"'\", 't', 'double', '-', 'cross', 'him', ',', 'van', 'cleef', 'implants', 'a', 'couple', 'of', 'mini', 'bombs', 'in', 'his', 'veins', ',', 'just', 'enough', 'for', 'him', 'to', 'bleed', 'out', 'when', 'detonated', 'in', 'seconds', '.', 'and', 'they', 'will', 'detonate', '22', 'hours', 'from', 'the', 'point', 'implantation', '.', 'the', 'rest', 'of', 'the', 'film', 'is', 'russell', \"'\", 's', 'rescue', 'of', 'president', 'pleasance', 'who', 'is', 'being', 'held', 'by', 'the', 'head', 'of', 'the', 'criminal', 'society', 'that', 'has', 'grown', 'up', 'in', 'manhattan', 'headed', 'by', 'isaac', 'hayes', '.', 'russell', 'gets', 'some', 'help', 'and', 'some', 'betrayal', 'from', 'folks', 'like', 'adrienne', 'barbeau', ',', 'ernest', 'borgnine', ',', 'harry', 'dean', 'stanton', 'and', 'season', 'hubley', '.', 'to', 'see', 'who', 'does', 'what', ',', 'watch', 'the', 'film', '.', 'escape', 'from', 'new', 'york', 'is', 'a', 'fun', 'science', 'fiction', 'film', 'that', \"'\", 's', 'attained', 'a', 'cult', 'status', 'of', 'sorts', '.', 'certainly', 'the', 'world', 'has', 'not', 'quite', 'developed', 'as', 'john', 'carpenter', 'envisioned', 'it', 'for', '1997', '.', 'or', 'has', 'it', '?']\n"
     ]
    }
   ],
   "source": [
    "# tokenize sentences in corpus\n",
    "# nltk.word_tokenize와 달리, 단어 속 특수기호도 모두 split한다\n",
    "\n",
    "wpt = nltk.WordPunctTokenizer()\n",
    "tokenized_corpus = [wpt.tokenize(document.lower()) for document in corpus]\n",
    "\n",
    "print(f'tokenized_corpus size : {len(tokenized_corpus)}')\n",
    "print(f'tokenized_corpus[0] : \\n', tokenized_corpus[0])"
   ]
  },
  {
   "cell_type": "markdown",
   "metadata": {},
   "source": [
    "----\n",
    "## Word2Vec\n",
    "\n",
    "- 예측을 통한 심층 학습 기반 모델로서  밀집, 고품질, 분산성, 연속성을 가진 단어 표현 벡터를 생성한다. \n",
    "- 단어 표현 벡터는 문맥과 의미의 유사성을 표현한다\n",
    "- 단어 임베딩 표현을 만들기 위해 두 가지 아키텍처\n",
    "    - CBOW (Continuous Bag of Words)\n",
    "    - Skip-gram\n",
    "- 본 핸즈온에선 gensim word2vec을 사용하며, gensim은 다음 명령어로 설치할 수 있다.\n",
    "```\n",
    "pip install gensim\n",
    "```\n"
   ]
  },
  {
   "cell_type": "markdown",
   "metadata": {},
   "source": [
    "![word2vec](assets/handson01_word2vec.png)"
   ]
  },
  {
   "cell_type": "code",
   "execution_count": 88,
   "metadata": {},
   "outputs": [],
   "source": [
    "from gensim.models import word2vec"
   ]
  },
  {
   "cell_type": "code",
   "execution_count": 89,
   "metadata": {},
   "outputs": [],
   "source": [
    "w2v_model = word2vec.Word2Vec(tokenized_corpus,\n",
    "                            vector_size=50,\n",
    "                            window=10,\n",
    "                            min_count=5,\n",
    "                            sample=1e-3,\n",
    "                            epochs=10   #iter=30 이 아니라 epoch=10 으로 변경해 실행.                         \n",
    "                            )\n",
    "# 학습된 모델 저장\n",
    "w2v_model.save('w2v_imdb.model')"
   ]
  },
  {
   "cell_type": "code",
   "execution_count": null,
   "metadata": {
    "scrolled": true
   },
   "outputs": [],
   "source": [
    "# # word2vec 모델 학습시키기\n",
    "\n",
    "# # word2vec 학습 과정 로그찍기\n",
    "# # logging.basicConfig(format='%(asctime)s : %(levelname)s : %(message)s', level=logging.INFO)\n",
    "\n",
    "# # word2vec 모델 학습\n",
    "# # 도서의 소스코드대로(iter=1000) 실행시키면 5~6시간 이상 소요되므로 주의바랍니다.\n",
    "# w2v_model = word2vec.Word2Vec(tokenized_corpus, \n",
    "#                               size=50,      # Word vector dimensionality\n",
    "#                               window=10,    # Context window size\n",
    "#                               min_count=5,  # Minimum word count\n",
    "#                               sample=1e-3,  # Downsample setting for frequent words \n",
    "#                               iter=30       # Number of iterations (epochs) over the corpus\n",
    "#                              )\n",
    "\n",
    "# # 학습된 모델 저장\n",
    "# w2v_model.save('w2v_imdb.model')"
   ]
  },
  {
   "cell_type": "code",
   "execution_count": 91,
   "metadata": {},
   "outputs": [
    {
     "name": "stdout",
     "output_type": "stream",
     "text": [
      "vocab size : 54660\n",
      "vector size : 50\n"
     ]
    }
   ],
   "source": [
    "# 위에서 학습하여 파일로 저장한 word2vec 모델을 로드\n",
    "w2v_model = word2vec.Word2Vec.load('w2v_imdb.model')\n",
    "# print(f'vocab size : {len(w2v_model.wv.vocab)}')  # 젠심 3.8\n",
    "print(f'vocab size : {len(w2v_model.wv.index_to_key)}')  # 젠심 .4.0 수정 words = list(model.wv.index_to_key)\n",
    "print(f'vector size : {w2v_model.wv.vector_size}')\n"
   ]
  },
  {
   "cell_type": "markdown",
   "metadata": {},
   "source": [
    "----\n",
    "## Word2Vec 유사단어 구하기"
   ]
  },
  {
   "cell_type": "code",
   "execution_count": 92,
   "metadata": {},
   "outputs": [
    {
     "data": {
      "text/plain": [
       "[('inferior', 0.8695114850997925),\n",
       " ('lauded', 0.7130250334739685),\n",
       " ('maligned', 0.6903098821640015),\n",
       " ('surpasses', 0.6728796362876892),\n",
       " ('weaker', 0.66311115026474),\n",
       " ('exceeds', 0.6572374105453491),\n",
       " ('comparable', 0.6499431133270264),\n",
       " ('imitated', 0.6424542665481567),\n",
       " ('cruder', 0.6329089403152466),\n",
       " ('truer', 0.6246416568756104)]"
      ]
     },
     "execution_count": 92,
     "metadata": {},
     "output_type": "execute_result"
    }
   ],
   "source": [
    "w2v_model.wv.most_similar(['superior'])\n",
    "# 슈페리어와 유사한 단어 및 확률."
   ]
  },
  {
   "cell_type": "code",
   "execution_count": 93,
   "metadata": {},
   "outputs": [
    {
     "data": {
      "text/html": [
       "<div>\n",
       "<style scoped>\n",
       "    .dataframe tbody tr th:only-of-type {\n",
       "        vertical-align: middle;\n",
       "    }\n",
       "\n",
       "    .dataframe tbody tr th {\n",
       "        vertical-align: top;\n",
       "    }\n",
       "\n",
       "    .dataframe thead th {\n",
       "        text-align: right;\n",
       "    }\n",
       "</style>\n",
       "<table border=\"1\" class=\"dataframe\">\n",
       "  <thead>\n",
       "    <tr style=\"text-align: right;\">\n",
       "      <th></th>\n",
       "      <th>0</th>\n",
       "      <th>1</th>\n",
       "      <th>2</th>\n",
       "      <th>3</th>\n",
       "      <th>4</th>\n",
       "    </tr>\n",
       "  </thead>\n",
       "  <tbody>\n",
       "    <tr>\n",
       "      <th>good</th>\n",
       "      <td>bad</td>\n",
       "      <td>decent</td>\n",
       "      <td>great</td>\n",
       "      <td>nice</td>\n",
       "      <td>cool</td>\n",
       "    </tr>\n",
       "    <tr>\n",
       "      <th>superior</th>\n",
       "      <td>inferior</td>\n",
       "      <td>lauded</td>\n",
       "      <td>maligned</td>\n",
       "      <td>surpasses</td>\n",
       "      <td>weaker</td>\n",
       "    </tr>\n",
       "    <tr>\n",
       "      <th>violent</th>\n",
       "      <td>brutal</td>\n",
       "      <td>sadistic</td>\n",
       "      <td>violence</td>\n",
       "      <td>gruesome</td>\n",
       "      <td>graphic</td>\n",
       "    </tr>\n",
       "    <tr>\n",
       "      <th>romantic</th>\n",
       "      <td>romance</td>\n",
       "      <td>screwball</td>\n",
       "      <td>frothy</td>\n",
       "      <td>bittersweet</td>\n",
       "      <td>lighthearted</td>\n",
       "    </tr>\n",
       "    <tr>\n",
       "      <th>nasty</th>\n",
       "      <td>sadistic</td>\n",
       "      <td>demented</td>\n",
       "      <td>sleazy</td>\n",
       "      <td>vicious</td>\n",
       "      <td>gory</td>\n",
       "    </tr>\n",
       "    <tr>\n",
       "      <th>unfortunate</th>\n",
       "      <td>inconceivable</td>\n",
       "      <td>disastrous</td>\n",
       "      <td>unlikely</td>\n",
       "      <td>important</td>\n",
       "      <td>dubious</td>\n",
       "    </tr>\n",
       "    <tr>\n",
       "      <th>predictable</th>\n",
       "      <td>dull</td>\n",
       "      <td>boring</td>\n",
       "      <td>clichéd</td>\n",
       "      <td>formulaic</td>\n",
       "      <td>contrived</td>\n",
       "    </tr>\n",
       "    <tr>\n",
       "      <th>hilarious</th>\n",
       "      <td>funny</td>\n",
       "      <td>hysterical</td>\n",
       "      <td>priceless</td>\n",
       "      <td>amusing</td>\n",
       "      <td>humorous</td>\n",
       "    </tr>\n",
       "    <tr>\n",
       "      <th>fascinating</th>\n",
       "      <td>compelling</td>\n",
       "      <td>enthralling</td>\n",
       "      <td>captivating</td>\n",
       "      <td>unique</td>\n",
       "      <td>truthful</td>\n",
       "    </tr>\n",
       "    <tr>\n",
       "      <th>boring</th>\n",
       "      <td>dull</td>\n",
       "      <td>tedious</td>\n",
       "      <td>pointless</td>\n",
       "      <td>predictable</td>\n",
       "      <td>unoriginal</td>\n",
       "    </tr>\n",
       "    <tr>\n",
       "      <th>confused</th>\n",
       "      <td>disturbed</td>\n",
       "      <td>irritated</td>\n",
       "      <td>annoyed</td>\n",
       "      <td>puzzled</td>\n",
       "      <td>frustrated</td>\n",
       "    </tr>\n",
       "    <tr>\n",
       "      <th>sensitive</th>\n",
       "      <td>compassionate</td>\n",
       "      <td>articulate</td>\n",
       "      <td>sincere</td>\n",
       "      <td>delicate</td>\n",
       "      <td>gentle</td>\n",
       "    </tr>\n",
       "    <tr>\n",
       "      <th>imaginative</th>\n",
       "      <td>inventive</td>\n",
       "      <td>innovative</td>\n",
       "      <td>ingenious</td>\n",
       "      <td>stylish</td>\n",
       "      <td>effective</td>\n",
       "    </tr>\n",
       "    <tr>\n",
       "      <th>senseless</th>\n",
       "      <td>nonsensical</td>\n",
       "      <td>pointless</td>\n",
       "      <td>meaningless</td>\n",
       "      <td>useless</td>\n",
       "      <td>illogical</td>\n",
       "    </tr>\n",
       "    <tr>\n",
       "      <th>bland</th>\n",
       "      <td>dull</td>\n",
       "      <td>lifeless</td>\n",
       "      <td>unappealing</td>\n",
       "      <td>uninspiring</td>\n",
       "      <td>forgettable</td>\n",
       "    </tr>\n",
       "    <tr>\n",
       "      <th>disappointing</th>\n",
       "      <td>disappointed</td>\n",
       "      <td>enjoyable</td>\n",
       "      <td>unsatisfying</td>\n",
       "      <td>forgettable</td>\n",
       "      <td>surprising</td>\n",
       "    </tr>\n",
       "  </tbody>\n",
       "</table>\n",
       "</div>"
      ],
      "text/plain": [
       "                           0            1             2            3  \\\n",
       "good                     bad       decent         great         nice   \n",
       "superior            inferior       lauded      maligned    surpasses   \n",
       "violent               brutal     sadistic      violence     gruesome   \n",
       "romantic             romance    screwball        frothy  bittersweet   \n",
       "nasty               sadistic     demented        sleazy      vicious   \n",
       "unfortunate    inconceivable   disastrous      unlikely    important   \n",
       "predictable             dull       boring       clichéd    formulaic   \n",
       "hilarious              funny   hysterical     priceless      amusing   \n",
       "fascinating       compelling  enthralling   captivating       unique   \n",
       "boring                  dull      tedious     pointless  predictable   \n",
       "confused           disturbed    irritated       annoyed      puzzled   \n",
       "sensitive      compassionate   articulate       sincere     delicate   \n",
       "imaginative        inventive   innovative     ingenious      stylish   \n",
       "senseless        nonsensical    pointless   meaningless      useless   \n",
       "bland                   dull     lifeless   unappealing  uninspiring   \n",
       "disappointing   disappointed    enjoyable  unsatisfying  forgettable   \n",
       "\n",
       "                          4  \n",
       "good                   cool  \n",
       "superior             weaker  \n",
       "violent             graphic  \n",
       "romantic       lighthearted  \n",
       "nasty                  gory  \n",
       "unfortunate         dubious  \n",
       "predictable       contrived  \n",
       "hilarious          humorous  \n",
       "fascinating        truthful  \n",
       "boring           unoriginal  \n",
       "confused         frustrated  \n",
       "sensitive            gentle  \n",
       "imaginative       effective  \n",
       "senseless         illogical  \n",
       "bland           forgettable  \n",
       "disappointing    surprising  "
      ]
     },
     "execution_count": 93,
     "metadata": {},
     "output_type": "execute_result"
    }
   ],
   "source": [
    "similar_words = {search_term: [item[0] for item in w2v_model.wv.most_similar([search_term], topn=5)]\n",
    "                 for search_term in ['good','superior','violent', 'romantic', 'nasty', 'unfortunate', \n",
    "                                      'predictable', 'hilarious', 'fascinating', 'boring','confused', 'sensitive',\n",
    "                                     'imaginative','senseless', 'bland','disappointing']}\n",
    "pd.DataFrame(similar_words).transpose()"
   ]
  },
  {
   "cell_type": "markdown",
   "metadata": {},
   "source": [
    "----\n",
    "## 시각화"
   ]
  },
  {
   "cell_type": "code",
   "execution_count": 94,
   "metadata": {},
   "outputs": [],
   "source": [
    "import matplotlib.pyplot as plt\n",
    "from sklearn.manifold import TSNE"
   ]
  },
  {
   "cell_type": "code",
   "execution_count": 95,
   "metadata": {},
   "outputs": [
    {
     "data": {
      "image/png": "[encoded data removed]",
      "text/plain": [
       "<Figure size 1008x576 with 1 Axes>"
      ]
     },
     "metadata": {
      "needs_background": "light"
     },
     "output_type": "display_data"
    }
   ],
   "source": [
    "pd.options.display.max_colwidth = 200\n",
    "words = sum([[k] + v for k, v in similar_words.items()], [])\n",
    "wvs = w2v_model.wv[words]\n",
    "\n",
    "tsne = TSNE(n_components=2, random_state=0, n_iter=10000, perplexity=2)\n",
    "np.set_printoptions(suppress=True)\n",
    "T = tsne.fit_transform(wvs)\n",
    "labels = words\n",
    "\n",
    "plt.figure(figsize=(14, 8))\n",
    "plt.scatter(T[:, 0], T[:, 1], c='orange', edgecolors='r')\n",
    "for label, x, y in zip(labels, T[:, 0], T[:, 1]):\n",
    "    plt.annotate(label, xy=(x+1, y+1), xytext=(0, 0), textcoords='offset points')\n",
    "\n",
    "# 역자의 깃헙 사진과 꽤 다른걸로 보아. 학습횟수가 (epoch=10) 부족했던 것으로 보인다. \n",
    "# epoch=30으로 수정후 다시 로드해 봐야. \n",
    "# 역자 깃헙. https://github.com/songys/handson-Code/blob/master/Chapter07/HandsOn-01_Embedding.ipynb"
   ]
  },
  {
   "cell_type": "markdown",
   "metadata": {},
   "source": [
    "----\n",
    "## GloVe\n",
    "\n",
    "- pre-train된 GloVe 임베딩 벡터를 다운로드 받아 data 디렉토리에 압축 해제한다\n",
    "    - 다운로드 : http://nlp.stanford.edu/data/glove.6B.zip\n",
    "    - 저장경로 : data/glove.6B\n",
    "- 글로벌 벡터(Global Vectors)의 약자로, 밀집 단어 벡터를 얻기 위해 사용하는 word2vec과 유사한 비지도 학습모델\n",
    "- 학습 과정에서 전역적인 단어-문맥 동시출현행렬을 사용\n",
    "- Word2Vec과의 비교\n",
    "    - Word2vec은 단어 동시 발생 쌍 각각의 국소적이고 개별적인 예제로부터 시작\n",
    "    - GloVe는 코퍼스에 있는 모든 단어의 동시 발생 통계를 전역에서 결합해서 시작한다\n",
    "- 본 핸즈온에서 구현된 코드는 dataloader/embeddings.py 를 참조\n"
   ]
  },
  {
   "cell_type": "code",
   "execution_count": 96,
   "metadata": {},
   "outputs": [],
   "source": [
    "from dataloader.embeddings import GloVe"
   ]
  },
  {
   "cell_type": "code",
   "execution_count": 97,
   "metadata": {},
   "outputs": [
    {
     "name": "stdout",
     "output_type": "stream",
     "text": [
      "Reading 50 dim GloVe vectors\n",
      "Found 400000 word vectors.\n",
      "words not found in embeddings: 0\n"
     ]
    }
   ],
   "source": [
    "# glove.6B.50d pre-trained 벡터 로드\n",
    "glove = GloVe(50)\n",
    "initial_embeddings = glove.get_embedding({'good':2, 'movie':3, 'computer':4, 'coffee':5})"
   ]
  },
  {
   "cell_type": "code",
   "execution_count": 98,
   "metadata": {},
   "outputs": [
    {
     "data": {
      "text/plain": [
       "(6, 50)"
      ]
     },
     "execution_count": 98,
     "metadata": {},
     "output_type": "execute_result"
    }
   ],
   "source": [
    "# 로드한 임베딩 벡터의 단어 수가 입력 vocab보다 2개 많은 이유는\n",
    "# 0번째는 공백 단어를 위한 벡터로, zero 벡터이다\n",
    "# 1번째는 OOV(Out-Of-Vocabulary)를 위한 벡터로, 나머지 벡터들의 평균이다\n",
    "# GloVe에서 찾지 못한 단어들의 벡터값은 이 OOV용 평균벡터에 약간의 노이즈를 더해 사용한다\n",
    "initial_embeddings.shape"
   ]
  },
  {
   "cell_type": "code",
   "execution_count": 99,
   "metadata": {},
   "outputs": [
    {
     "data": {
      "text/plain": [
       "array([-0.35585999,  0.52130002, -0.61070001, -0.30131   ,  0.94862002,\n",
       "       -0.31538999, -0.59830999,  0.12188   , -0.031943  ,  0.55694997,\n",
       "       -0.10621   ,  0.63398999, -0.4734    , -0.075895  ,  0.38247001,\n",
       "        0.081569  ,  0.82213998,  0.22220001, -0.0083764 , -0.76620001,\n",
       "       -0.56252998,  0.61759001,  0.20292   , -0.048598  ,  0.87814999,\n",
       "       -1.65489995, -0.77418   ,  0.15435   ,  0.94823003, -0.39520001,\n",
       "        3.73020005,  0.82854998, -0.14104   ,  0.016395  ,  0.21115001,\n",
       "       -0.036085  , -0.15587001,  0.86583   ,  0.26309001, -0.71015   ,\n",
       "       -0.03677   ,  0.0018282 , -0.17704   ,  0.27032   ,  0.11026   ,\n",
       "        0.14133   , -0.057322  ,  0.27206999,  0.31305   ,  0.92771   ])"
      ]
     },
     "execution_count": 99,
     "metadata": {},
     "output_type": "execute_result"
    }
   ],
   "source": [
    "initial_embeddings[2]"
   ]
  },
  {
   "cell_type": "markdown",
   "metadata": {},
   "source": [
    "결과 설명 마크다운 추가해 작성해둘것."
   ]
  },
  {
   "cell_type": "code",
   "execution_count": null,
   "metadata": {},
   "outputs": [],
   "source": []
  }
 ],
 "metadata": {
  "kernelspec": {
   "display_name": "Python 3",
   "language": "python",
   "name": "python3"
  },
  "language_info": {
   "codemirror_mode": {
    "name": "ipython",
    "version": 3
   },
   "file_extension": ".py",
   "mimetype": "text/x-python",
   "name": "python",
   "nbconvert_exporter": "python",
   "pygments_lexer": "ipython3",
   "version": "3.8.8"
  }
 },
 "nbformat": 4,
 "nbformat_minor": 2
}
