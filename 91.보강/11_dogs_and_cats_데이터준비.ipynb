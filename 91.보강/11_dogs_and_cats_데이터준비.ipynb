{
  "nbformat": 4,
  "nbformat_minor": 0,
  "metadata": {
    "colab": {
      "name": "11.dogs_and_cats_데이터준비.ipynb",
      "provenance": [],
      "collapsed_sections": []
    },
    "kernelspec": {
      "name": "python3",
      "display_name": "Python 3"
    },
    "language_info": {
      "name": "python"
    }
  },
  "cells": [
    {
      "cell_type": "markdown",
      "source": [
        "# 오늘 뭐하지?\n",
        "    - 시간이 걸리긴 하지만 "
      ],
      "metadata": {
        "id": "vFBdnuaOGvXh"
      }
    },
    {
      "cell_type": "code",
      "source": [
        "# 지피유 끊고 이미지 센터링 코드 먼저 확인 할것. "
      ],
      "metadata": {
        "id": "luePh5tHHta7"
      },
      "execution_count": null,
      "outputs": []
    },
    {
      "cell_type": "code",
      "source": [
        "import cv2\n",
        "import numpy as np\n",
        "from PIL import Image\n",
        "import matplotlib.pyplot as plt"
      ],
      "metadata": {
        "id": "ve2WnWnWKrhw"
      },
      "execution_count": 9,
      "outputs": []
    },
    {
      "cell_type": "code",
      "source": [
        "!wget https://storage.googleapis.com/mledu-datasets/cats_and_dogs_filtered.zip"
      ],
      "metadata": {
        "colab": {
          "base_uri": "https://localhost:8080/"
        },
        "id": "0mh76R2NKzY1",
        "outputId": "894d8bd5-9054-450f-c42a-99aefe0186ca"
      },
      "execution_count": 2,
      "outputs": [
        {
          "output_type": "stream",
          "name": "stdout",
          "text": [
            "--2022-01-23 04:42:39--  https://storage.googleapis.com/mledu-datasets/cats_and_dogs_filtered.zip\n",
            "Resolving storage.googleapis.com (storage.googleapis.com)... 173.194.210.128, 173.194.212.128, 173.194.213.128, ...\n",
            "Connecting to storage.googleapis.com (storage.googleapis.com)|173.194.210.128|:443... connected.\n",
            "HTTP request sent, awaiting response... 200 OK\n",
            "Length: 68606236 (65M) [application/zip]\n",
            "Saving to: ‘cats_and_dogs_filtered.zip’\n",
            "\n",
            "cats_and_dogs_filte 100%[===================>]  65.43M   267MB/s    in 0.2s    \n",
            "\n",
            "2022-01-23 04:42:39 (267 MB/s) - ‘cats_and_dogs_filtered.zip’ saved [68606236/68606236]\n",
            "\n"
          ]
        }
      ]
    },
    {
      "cell_type": "code",
      "source": [
        "!unzip cats_and_dogs_filtered.zip > /dev/null"
      ],
      "metadata": {
        "id": "MKdxTsT7K7m1"
      },
      "execution_count": 3,
      "outputs": []
    },
    {
      "cell_type": "code",
      "source": [
        "# 이미지를 센터링해서 이미지를 리턴하는 함수\n",
        "IMAGE_SIZE = 150\n",
        "\n",
        "def center_image(img):\n",
        "    h, w, _ = np.array(img).shape\n",
        "    if h > w:\n",
        "        width, height = IMAGE_SIZE, (h * IMAGE_SIZE) // w\n",
        "    else:\n",
        "        width, height = (w * IMAGE_SIZE) // h, IMAGE_SIZE\n",
        "\n",
        "    new_img = np.array(img.resize((width,height)))\n",
        "\n",
        "    diff = abs(width - height)//2\n",
        "    if width > height:\n",
        "        final_img = new_img[:, diff:diff+IMAGE_SIZE, :]\n",
        "    else:\n",
        "        final_img = new_img[diff:diff+IMAGE_SIZE, :, :]\n",
        "\n",
        "    return final_img"
      ],
      "metadata": {
        "id": "d-kOUtLCPy7L"
      },
      "execution_count": 10,
      "outputs": []
    },
    {
      "cell_type": "code",
      "source": [
        "import os\n",
        "CENTER_DIR = 'cats_and_dogs_centered'\n",
        "if not os.path.exists(CENTER_DIR):\n",
        "    os.mkdir(CENTER_DIR)"
      ],
      "metadata": {
        "id": "588LnFuJK-Ut"
      },
      "execution_count": 4,
      "outputs": []
    },
    {
      "cell_type": "code",
      "source": [
        "train_dir = f'{CENTER_DIR}/train'\n",
        "validation_dir = f'{CENTER_DIR}/validation'\n",
        "train_cats_dir = f'{CENTER_DIR}/train/cats'\n",
        "train_dogs_dir = f'{CENTER_DIR}/train/dogs'\n",
        "validation_cats_dir = f'{CENTER_DIR}/validation/cats'\n",
        "validation_dogs_dir = f'{CENTER_DIR}/validation/dogs'"
      ],
      "metadata": {
        "id": "blFOzzVMLXjT"
      },
      "execution_count": 5,
      "outputs": []
    },
    {
      "cell_type": "code",
      "source": [
        "for dir in [train_dir, validation_dir, train_cats_dir, train_dogs_dir, validation_cats_dir, validation_dogs_dir]:\n",
        "    os.mkdir(dir)"
      ],
      "metadata": {
        "id": "d6wVz5xtLn6i"
      },
      "execution_count": 6,
      "outputs": []
    },
    {
      "cell_type": "code",
      "source": [
        "old_train_dir = 'cats_and_dogs_filtered/train'\n",
        "old_validation_dir = 'cats_and_dogs_filtered/validation'\n",
        "old_train_cats_dir = 'cats_and_dogs_filtered/train/cats'\n",
        "old_train_dogs_dir = 'cats_and_dogs_filtered/train/dogs'\n",
        "old_validation_cats_dir = 'cats_and_dogs_filtered/validation/cats'\n",
        "old_validation_dogs_dir = 'cats_and_dogs_filtered/validation/dogs'"
      ],
      "metadata": {
        "id": "klqQmtc8MltS"
      },
      "execution_count": 7,
      "outputs": []
    },
    {
      "cell_type": "code",
      "source": [
        "from glob import glob\n",
        "for src_dir in [old_train_cats_dir, old_train_dogs_dir, old_validation_cats_dir,old_validation_dogs_dir]:\n",
        "    dst_dir = src_dir.split('/')[1:]\n",
        "    dst_dir = '/'.join([CENTER_DIR]+dst_dir)\n",
        "    # print(dst_dir)\n",
        "    for fname in glob(f'{src_dir}/*.jpg'):\n",
        "        dst_fname = fname.split('/')[-1]\n",
        "        src_img = Image.open(fname)             # 사이즈가 제각각인 이미지\n",
        "        dst_img = center_image(src_img)         # 150 x 150 으로 centering 된 이미지\n",
        "        dst_img.save(f'{dst_dir}/{dst_fname}')\n"
      ],
      "metadata": {
        "id": "GOvneEjPM7uq"
      },
      "execution_count": 12,
      "outputs": []
    },
    {
      "cell_type": "code",
      "source": [
        ""
      ],
      "metadata": {
        "id": "shtgOoYXNlLa"
      },
      "execution_count": null,
      "outputs": []
    }
  ]
}