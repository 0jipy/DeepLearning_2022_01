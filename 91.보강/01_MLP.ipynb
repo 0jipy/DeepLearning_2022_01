{
  "nbformat": 4,
  "nbformat_minor": 0,
  "metadata": {
    "colab": {
      "name": "01.MLP.ipynb",
      "provenance": [],
      "collapsed_sections": []
    },
    "kernelspec": {
      "name": "python3",
      "display_name": "Python 3"
    },
    "language_info": {
      "name": "python"
    }
  },
  "cells": [
    {
      "cell_type": "markdown",
      "source": [
        "# 다층 퍼셉트론 - XOR"
      ],
      "metadata": {
        "id": "ABEnFCSJEc9f"
      }
    },
    {
      "cell_type": "code",
      "execution_count": 1,
      "metadata": {
        "id": "Snu-0-xOEanN"
      },
      "outputs": [],
      "source": [
        "import numpy as np"
      ]
    },
    {
      "cell_type": "code",
      "source": [
        "W1 = np.array([[-2,2],[-2,2]])\n",
        "w11, w12 = W1[:,0], W1[:,1] \n",
        "w11, w12"
      ],
      "metadata": {
        "colab": {
          "base_uri": "https://localhost:8080/"
        },
        "id": "lM4Fyk7JHWzS",
        "outputId": "765bf36f-2630-4a20-94a4-81a2f8d9c42a"
      },
      "execution_count": 3,
      "outputs": [
        {
          "output_type": "execute_result",
          "data": {
            "text/plain": [
              "(array([-2, -2]), array([2, 2]))"
            ]
          },
          "metadata": {},
          "execution_count": 3
        }
      ]
    },
    {
      "cell_type": "code",
      "source": [
        "w2 = np.array([1,1])\n",
        "b11, b12 = 3, -1\n",
        "b2 = -1"
      ],
      "metadata": {
        "id": "3ECBUYhSID9V"
      },
      "execution_count": 4,
      "outputs": []
    },
    {
      "cell_type": "code",
      "source": [
        "# NAND Gate - n1\n",
        "for x1, x2 in [(0,0), (0,1), (1,0), (1,1)]:\n",
        "    sum = w11[0] * x1 + w11[1] * x2 + b11\n",
        "    print(sum)"
      ],
      "metadata": {
        "colab": {
          "base_uri": "https://localhost:8080/"
        },
        "id": "z2sCx3BAI6a1",
        "outputId": "c4898ef0-0ef2-43d5-b12c-e8ac53d178be"
      },
      "execution_count": 5,
      "outputs": [
        {
          "output_type": "stream",
          "name": "stdout",
          "text": [
            "3\n",
            "1\n",
            "1\n",
            "-1\n"
          ]
        }
      ]
    },
    {
      "cell_type": "code",
      "source": [
        "# NAND Gate - n1\n",
        "for x1, x2 in [(0,0), (0,1), (1,0), (1,1)]:\n",
        "    sum = w11[0] * x1 + w11[1] * x2 + b11\n",
        "    print(1 if sum > 0 else 0)              # sigmoid"
      ],
      "metadata": {
        "colab": {
          "base_uri": "https://localhost:8080/"
        },
        "id": "UioBvtQ6J2g8",
        "outputId": "7cb7df17-47a5-4360-a50b-a94be0daf5e0"
      },
      "execution_count": 6,
      "outputs": [
        {
          "output_type": "stream",
          "name": "stdout",
          "text": [
            "1\n",
            "1\n",
            "1\n",
            "0\n"
          ]
        }
      ]
    },
    {
      "cell_type": "code",
      "source": [
        "# OR Gate - n2\n",
        "for x1, x2 in [(0,0), (0,1), (1,0), (1,1)]:\n",
        "    sum = w12[0] * x1 + w12[1] * x2 + b12\n",
        "    print(sum)"
      ],
      "metadata": {
        "colab": {
          "base_uri": "https://localhost:8080/"
        },
        "id": "CZpw_QWSKMJM",
        "outputId": "f91eefcc-268b-4558-d958-86537abb33b9"
      },
      "execution_count": 7,
      "outputs": [
        {
          "output_type": "stream",
          "name": "stdout",
          "text": [
            "-1\n",
            "1\n",
            "1\n",
            "3\n"
          ]
        }
      ]
    },
    {
      "cell_type": "code",
      "source": [
        "# OR Gate - n2\n",
        "for x1, x2 in [(0,0), (0,1), (1,0), (1,1)]:\n",
        "    sum = w12[0] * x1 + w12[1] * x2 + b12\n",
        "    print(1 if sum > 0 else 0)"
      ],
      "metadata": {
        "colab": {
          "base_uri": "https://localhost:8080/"
        },
        "id": "OvPGHwwOKskx",
        "outputId": "1c7db18a-e914-4948-e0b0-f612881e6eec"
      },
      "execution_count": 8,
      "outputs": [
        {
          "output_type": "stream",
          "name": "stdout",
          "text": [
            "0\n",
            "1\n",
            "1\n",
            "1\n"
          ]
        }
      ]
    },
    {
      "cell_type": "code",
      "source": [
        "def perceptron(X, W, b):\n",
        "    y = np.dot(W, X) + b                # y = WX + b\n",
        "    return 1 if y > 0 else 0            # sigmoid 역할"
      ],
      "metadata": {
        "id": "bXgBSPaVK0rh"
      },
      "execution_count": 33,
      "outputs": []
    },
    {
      "cell_type": "code",
      "source": [
        "# NAND 게이트\n",
        "for x1, x2 in [(0,0), (0,1), (1,0), (1,1)]:\n",
        "    x = np.array([x1, x2])\n",
        "    print(perceptron(x, w11, b11))"
      ],
      "metadata": {
        "colab": {
          "base_uri": "https://localhost:8080/"
        },
        "id": "189DvTllLddb",
        "outputId": "bf30d16e-a352-4ac4-dff2-266663984f94"
      },
      "execution_count": 31,
      "outputs": [
        {
          "output_type": "stream",
          "name": "stdout",
          "text": [
            "1\n",
            "1\n",
            "1\n",
            "0\n"
          ]
        }
      ]
    },
    {
      "cell_type": "code",
      "source": [
        "# OR Gate\n",
        "for x in [(0,0), (0,1), (1,0), (1,1)]:\n",
        "    print(perceptron(np.array(x), w12, b12))"
      ],
      "metadata": {
        "colab": {
          "base_uri": "https://localhost:8080/"
        },
        "id": "jQcFO2WbMGDU",
        "outputId": "e46b926b-09d2-401d-d00f-3331e742d1da"
      },
      "execution_count": 25,
      "outputs": [
        {
          "output_type": "stream",
          "name": "stdout",
          "text": [
            "0\n",
            "1\n",
            "1\n",
            "1\n"
          ]
        }
      ]
    },
    {
      "cell_type": "code",
      "source": [
        "def nand_gate(x1, x2):\n",
        "    return perceptron(np.array([x1,x2]), w11, b11)\n",
        "\n",
        "def or_gate(x1, x2):\n",
        "    return perceptron(np.array([x1,x2]), w12, b12)\n",
        "\n",
        "def and_gate(x1, x2):\n",
        "    return perceptron(np.array([x1,x2]), w2, b2)"
      ],
      "metadata": {
        "id": "z0w77Z7iUd5v"
      },
      "execution_count": 26,
      "outputs": []
    },
    {
      "cell_type": "code",
      "source": [
        "for x in [(0,0), (0,1), (1,0), (1,1)]:\n",
        "    ng = nand_gate(*x)\n",
        "    og = or_gate(*x)\n",
        "    xorg = and_gate(ng, og)\n",
        "    print(f'입력값: {x}, 출력값: {xorg}')"
      ],
      "metadata": {
        "colab": {
          "base_uri": "https://localhost:8080/"
        },
        "id": "G5t3cobUUd1c",
        "outputId": "5ddc6272-3a5e-4727-be9e-94c46f7bf734"
      },
      "execution_count": 27,
      "outputs": [
        {
          "output_type": "stream",
          "name": "stdout",
          "text": [
            "입력값: (0, 0), 출력값: 0\n",
            "입력값: (0, 1), 출력값: 1\n",
            "입력값: (1, 0), 출력값: 1\n",
            "입력값: (1, 1), 출력값: 0\n"
          ]
        }
      ]
    },
    {
      "cell_type": "code",
      "source": [
        "def xor_gate(x1, x2):\n",
        "    return and_gate(nand_gate(x1, x2), or_gate(x1, x2))"
      ],
      "metadata": {
        "id": "PbCqa0hLUdyf"
      },
      "execution_count": 28,
      "outputs": []
    },
    {
      "cell_type": "code",
      "source": [
        "for x in [(0,0), (0,1), (1,0), (1,1)]:\n",
        "    print(f'입력값: {x}, 출력값: {xor_gate(*x)}')"
      ],
      "metadata": {
        "colab": {
          "base_uri": "https://localhost:8080/"
        },
        "id": "zXKLVXJdUdvT",
        "outputId": "9888e8a9-4cd6-4720-d18b-a77fab676c69"
      },
      "execution_count": 29,
      "outputs": [
        {
          "output_type": "stream",
          "name": "stdout",
          "text": [
            "입력값: (0, 0), 출력값: 0\n",
            "입력값: (0, 1), 출력값: 1\n",
            "입력값: (1, 0), 출력값: 1\n",
            "입력값: (1, 1), 출력값: 0\n"
          ]
        }
      ]
    },
    {
      "cell_type": "markdown",
      "source": [
        "### Perceptron"
      ],
      "metadata": {
        "id": "XM21hKswZIfs"
      }
    },
    {
      "cell_type": "code",
      "source": [
        "W = np.array([2.3, 3.2, 5.8, -4.3])\n",
        "X = np.array([0, 1, 1, 0])\n",
        "bias = -3\n",
        "perceptron(X, W, bias)"
      ],
      "metadata": {
        "colab": {
          "base_uri": "https://localhost:8080/"
        },
        "id": "qIDdf8T7ZMvr",
        "outputId": "9f96444c-c497-49ac-c94f-9d0e14dbed7a"
      },
      "execution_count": 34,
      "outputs": [
        {
          "output_type": "execute_result",
          "data": {
            "text/plain": [
              "1"
            ]
          },
          "metadata": {},
          "execution_count": 34
        }
      ]
    },
    {
      "cell_type": "code",
      "source": [
        "l = [1, 2, 3]\n",
        "a = np.array(l)\n",
        "type(l), type(a)"
      ],
      "metadata": {
        "colab": {
          "base_uri": "https://localhost:8080/"
        },
        "id": "3nWs2wl0anKU",
        "outputId": "7eb13006-1208-4e48-a64b-cca4b47413dc"
      },
      "execution_count": 35,
      "outputs": [
        {
          "output_type": "execute_result",
          "data": {
            "text/plain": [
              "(list, numpy.ndarray)"
            ]
          },
          "metadata": {},
          "execution_count": 35
        }
      ]
    },
    {
      "cell_type": "code",
      "source": [
        "l * 3"
      ],
      "metadata": {
        "colab": {
          "base_uri": "https://localhost:8080/"
        },
        "id": "iFzjB6FMaxLb",
        "outputId": "53570fc3-e55d-4b53-e14b-21b4b55a337e"
      },
      "execution_count": 36,
      "outputs": [
        {
          "output_type": "execute_result",
          "data": {
            "text/plain": [
              "[1, 2, 3, 1, 2, 3, 1, 2, 3]"
            ]
          },
          "metadata": {},
          "execution_count": 36
        }
      ]
    },
    {
      "cell_type": "code",
      "source": [
        "a * 3"
      ],
      "metadata": {
        "colab": {
          "base_uri": "https://localhost:8080/"
        },
        "id": "aogTPdALa2oJ",
        "outputId": "11b48594-fecc-40d1-e87d-6966ab2eaf9c"
      },
      "execution_count": 37,
      "outputs": [
        {
          "output_type": "execute_result",
          "data": {
            "text/plain": [
              "array([3, 6, 9])"
            ]
          },
          "metadata": {},
          "execution_count": 37
        }
      ]
    },
    {
      "cell_type": "code",
      "source": [
        "a.reshape(1,-1)"
      ],
      "metadata": {
        "colab": {
          "base_uri": "https://localhost:8080/"
        },
        "id": "34jFQcbLbfI8",
        "outputId": "8429b649-c502-4ffd-cd60-081fba7e1331"
      },
      "execution_count": 39,
      "outputs": [
        {
          "output_type": "execute_result",
          "data": {
            "text/plain": [
              "array([[1, 2, 3]])"
            ]
          },
          "metadata": {},
          "execution_count": 39
        }
      ]
    },
    {
      "cell_type": "code",
      "source": [
        "[l]"
      ],
      "metadata": {
        "colab": {
          "base_uri": "https://localhost:8080/"
        },
        "id": "1iqPrNYWbmw4",
        "outputId": "a7e0b62b-c59e-488b-a644-a3f179a6a418"
      },
      "execution_count": 41,
      "outputs": [
        {
          "output_type": "execute_result",
          "data": {
            "text/plain": [
              "[[1, 2, 3]]"
            ]
          },
          "metadata": {},
          "execution_count": 41
        }
      ]
    },
    {
      "cell_type": "markdown",
      "source": [
        "### 참고 사항\n",
        "- 위치형 가변인수, 키워드형 가변인수를 사용할 때\n",
        "- `*args`, `**kwargs` 와 같이 리스트(튜플) 언패킹, 딕셔너리 언패킹을 이용할 수 있음"
      ],
      "metadata": {
        "id": "WRum53vDUIoV"
      }
    },
    {
      "cell_type": "code",
      "source": [
        "z = [10, 20, 30]\n",
        "print(z)"
      ],
      "metadata": {
        "colab": {
          "base_uri": "https://localhost:8080/"
        },
        "id": "uCo2Ul0cMeDB",
        "outputId": "beb82948-f3e2-48de-ec13-7b45f4a33c70"
      },
      "execution_count": 18,
      "outputs": [
        {
          "output_type": "stream",
          "name": "stdout",
          "text": [
            "[10, 20, 30]\n"
          ]
        }
      ]
    },
    {
      "cell_type": "code",
      "source": [
        "# list unpacking\n",
        "print(*z)           # print(10, 20, 30)"
      ],
      "metadata": {
        "colab": {
          "base_uri": "https://localhost:8080/"
        },
        "id": "NKvi0vsENx2p",
        "outputId": "f71a5c8d-99fe-4562-d3ec-7f46358470ac"
      },
      "execution_count": 19,
      "outputs": [
        {
          "output_type": "stream",
          "name": "stdout",
          "text": [
            "10 20 30\n"
          ]
        }
      ]
    },
    {
      "cell_type": "code",
      "source": [
        "# dictionary unpacking\n",
        "d = {'sep':', ', 'end':'#######\\n'}\n",
        "print(d)"
      ],
      "metadata": {
        "colab": {
          "base_uri": "https://localhost:8080/"
        },
        "id": "PC9lCl3gN0-Y",
        "outputId": "4c03bd4b-cd67-4530-ef6f-f5dbffa15efd"
      },
      "execution_count": 23,
      "outputs": [
        {
          "output_type": "stream",
          "name": "stdout",
          "text": [
            "{'sep': ', ', 'end': '#######\\n'}\n"
          ]
        }
      ]
    },
    {
      "cell_type": "code",
      "source": [
        "print(1, 2, **d)            # print(1, 2, sep=', ', end='#######\\n')"
      ],
      "metadata": {
        "colab": {
          "base_uri": "https://localhost:8080/"
        },
        "id": "Z6gE6WEzSw8S",
        "outputId": "d4dadb93-a2eb-4d90-e9a4-bfc7cf79ea10"
      },
      "execution_count": 24,
      "outputs": [
        {
          "output_type": "stream",
          "name": "stdout",
          "text": [
            "1, 2#######\n"
          ]
        }
      ]
    },
    {
      "cell_type": "code",
      "source": [
        ""
      ],
      "metadata": {
        "id": "PDtnuv6vSywX"
      },
      "execution_count": null,
      "outputs": []
    }
  ]
}