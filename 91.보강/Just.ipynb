{
 "cells": [
  {
   "cell_type": "code",
   "execution_count": 3,
   "metadata": {},
   "outputs": [],
   "source": [
    "from bs4 import BeautifulSoup\n",
    "import requests\n",
    "import pandas as pd"
   ]
  },
  {
   "cell_type": "code",
   "execution_count": 5,
   "metadata": {},
   "outputs": [],
   "source": [
    "JUSTWATCH_URL = \"https://www.justwatch.com/kr/%EC%98%81%ED%99%94\""
   ]
  },
  {
   "cell_type": "code",
   "execution_count": 6,
   "metadata": {},
   "outputs": [
    {
     "data": {
      "text/plain": [
       "<Response [200]>"
      ]
     },
     "execution_count": 6,
     "metadata": {},
     "output_type": "execute_result"
    }
   ],
   "source": [
    "response = requests.get(JUSTWATCH_URL)\n",
    "response"
   ]
  },
  {
   "cell_type": "code",
   "execution_count": 7,
   "metadata": {},
   "outputs": [],
   "source": [
    "dom = BeautifulSoup(response.content, 'html.parser')"
   ]
  },
  {
   "cell_type": "code",
   "execution_count": 24,
   "metadata": {},
   "outputs": [
    {
     "data": {
      "text/plain": [
       "<img alt=\"프리 가이\" class=\"picture-comp__img\" data-v-6c068c3e=\"\" loading=\"eager\" src=\"https://www.justwatch.com/images/poster/253033499/s166/peuri-gai\"/>"
      ]
     },
     "execution_count": 24,
     "metadata": {},
     "output_type": "execute_result"
    }
   ],
   "source": [
    "# dom.select(\"#base > div.title-list.title-list--CLS-block > div > div:nth-child(2) > div:nth-child(1) > div > div:nth-child(1) > a > div > picture > img\")\n",
    "dom.select_one(\"#base > div.title-list.title-list--CLS-block > div > div:nth-child(2) > div:nth-child(1) > div > div:nth-child(1) > a > div > picture >img[alt]\")"
   ]
  },
  {
   "cell_type": "code",
   "execution_count": 29,
   "metadata": {},
   "outputs": [
    {
     "data": {
      "text/plain": [
       "[<img alt=\"JustWatch\" src=\"appassets/img/logo/JustWatch-logo-large.png\"/>,\n",
       " <img alt=\"Netflix\" class=\"\" data-v-09bd084e=\"\" src=\"https://www.justwatch.com/images/icon/207360008/s100\" title=\"Netflix\"/>,\n",
       " <img alt=\"Amazon Prime Video\" class=\"\" data-v-09bd084e=\"\" src=\"https://www.justwatch.com/images/icon/52449861/s100\" title=\"Amazon Prime Video\"/>,\n",
       " <img alt=\"Disney Plus\" class=\"\" data-v-09bd084e=\"\" src=\"https://www.justwatch.com/images/icon/147638351/s100\" title=\"Disney Plus\"/>,\n",
       " <img alt=\"wavve\" class=\"\" data-v-09bd084e=\"\" src=\"https://www.justwatch.com/images/icon/155655742/s100\" title=\"wavve\"/>,\n",
       " <img alt=\"Watcha\" class=\"\" data-v-09bd084e=\"\" src=\"https://www.justwatch.com/images/icon/2538290/s100\" title=\"Watcha\"/>,\n",
       " <img alt=\"Apple TV Plus\" class=\"\" data-v-09bd084e=\"\" src=\"https://www.justwatch.com/images/icon/152862153/s100\" title=\"Apple TV Plus\"/>,\n",
       " <img alt=\"Naver Store\" class=\"\" data-v-09bd084e=\"\" src=\"https://www.justwatch.com/images/icon/2538289/s100\" title=\"Naver Store\"/>,\n",
       " <img alt=\"Google Play Movies\" class=\"lazyload\" data-sizes=\"auto\" data-src=\"https://images.justwatch.com/icon/169478387/s100\" data-v-09bd084e=\"\" src=\"data:image/gif;base64,R0lGODlhAQABAAAAACH5BAEKAAEALAAAAAABAAEAAAICTAEAOw==\" title=\"Google Play Movies\"/>,\n",
       " <img alt=\"Mubi\" class=\"lazyload\" data-sizes=\"auto\" data-src=\"https://images.justwatch.com/icon/164970114/s100\" data-v-09bd084e=\"\" src=\"data:image/gif;base64,R0lGODlhAQABAAAAACH5BAEKAAEALAAAAAABAAEAAAICTAEAOw==\" title=\"Mubi\"/>,\n",
       " <img alt=\"GuideDoc\" class=\"lazyload\" data-sizes=\"auto\" data-src=\"https://images.justwatch.com/icon/2625277/s100\" data-v-09bd084e=\"\" src=\"data:image/gif;base64,R0lGODlhAQABAAAAACH5BAEKAAEALAAAAAABAAEAAAICTAEAOw==\" title=\"GuideDoc\"/>,\n",
       " <img alt=\"Daum\" class=\"lazyload\" data-sizes=\"auto\" data-src=\"https://images.justwatch.com/icon/2655283/s100\" data-v-09bd084e=\"\" src=\"data:image/gif;base64,R0lGODlhAQABAAAAACH5BAEKAAEALAAAAAABAAEAAAICTAEAOw==\" title=\"Daum\"/>,\n",
       " <img alt=\"Megabox\" class=\"lazyload\" data-sizes=\"auto\" data-src=\"https://images.justwatch.com/icon/2539917/s100\" data-v-09bd084e=\"\" src=\"data:image/gif;base64,R0lGODlhAQABAAAAACH5BAEKAAEALAAAAAABAAEAAAICTAEAOw==\" title=\"Megabox\"/>,\n",
       " <img alt=\"Crunchyroll\" class=\"lazyload\" data-sizes=\"auto\" data-src=\"https://images.justwatch.com/icon/127445869/s100\" data-v-09bd084e=\"\" src=\"data:image/gif;base64,R0lGODlhAQABAAAAACH5BAEKAAEALAAAAAABAAEAAAICTAEAOw==\" title=\"Crunchyroll\"/>,\n",
       " <img alt=\"Curiosity Stream\" class=\"lazyload\" data-sizes=\"auto\" data-src=\"https://images.justwatch.com/icon/48600036/s100\" data-v-09bd084e=\"\" src=\"data:image/gif;base64,R0lGODlhAQABAAAAACH5BAEKAAEALAAAAAABAAEAAAICTAEAOw==\" title=\"Curiosity Stream\"/>,\n",
       " <img alt=\"Spamflix\" class=\"lazyload\" data-sizes=\"auto\" data-src=\"https://images.justwatch.com/icon/240831409/s100\" data-v-09bd084e=\"\" src=\"data:image/gif;base64,R0lGODlhAQABAAAAACH5BAEKAAEALAAAAAABAAEAAAICTAEAOw==\" title=\"Spamflix\"/>,\n",
       " <img alt=\"DOCSVILLE\" class=\"lazyload\" data-sizes=\"auto\" data-src=\"https://images.justwatch.com/icon/208148387/s100\" data-v-09bd084e=\"\" src=\"data:image/gif;base64,R0lGODlhAQABAAAAACH5BAEKAAEALAAAAAABAAEAAAICTAEAOw==\" title=\"DOCSVILLE\"/>,\n",
       " <img alt=\"Plex\" class=\"lazyload\" data-sizes=\"auto\" data-src=\"https://images.justwatch.com/icon/243059301/s100\" data-v-09bd084e=\"\" src=\"data:image/gif;base64,R0lGODlhAQABAAAAACH5BAEKAAEALAAAAAABAAEAAAICTAEAOw==\" title=\"Plex\"/>,\n",
       " <img alt=\"WOW Presents Plus\" class=\"lazyload\" data-sizes=\"auto\" data-src=\"https://images.justwatch.com/icon/243229654/s100\" data-v-09bd084e=\"\" src=\"data:image/gif;base64,R0lGODlhAQABAAAAACH5BAEKAAEALAAAAAABAAEAAAICTAEAOw==\" title=\"WOW Presents Plus\"/>,\n",
       " <img alt=\"Magellan TV\" class=\"lazyload\" data-sizes=\"auto\" data-src=\"https://images.justwatch.com/icon/243233518/s100\" data-v-09bd084e=\"\" src=\"data:image/gif;base64,R0lGODlhAQABAAAAACH5BAEKAAEALAAAAAABAAEAAAICTAEAOw==\" title=\"Magellan TV\"/>,\n",
       " <img alt=\"BroadwayHD\" class=\"lazyload\" data-sizes=\"auto\" data-src=\"https://images.justwatch.com/icon/243239329/s100\" data-v-09bd084e=\"\" src=\"data:image/gif;base64,R0lGODlhAQABAAAAACH5BAEKAAEALAAAAAABAAEAAAICTAEAOw==\" title=\"BroadwayHD\"/>,\n",
       " <img alt=\"Filmzie\" class=\"lazyload\" data-sizes=\"auto\" data-src=\"https://images.justwatch.com/icon/243251295/s100\" data-v-09bd084e=\"\" src=\"data:image/gif;base64,R0lGODlhAQABAAAAACH5BAEKAAEALAAAAAABAAEAAAICTAEAOw==\" title=\"Filmzie\"/>,\n",
       " <img alt=\"Dekkoo\" class=\"lazyload\" data-sizes=\"auto\" data-src=\"https://images.justwatch.com/icon/202068207/s100\" data-v-09bd084e=\"\" src=\"data:image/gif;base64,R0lGODlhAQABAAAAACH5BAEKAAEALAAAAAABAAEAAAICTAEAOw==\" title=\"Dekkoo\"/>,\n",
       " <img alt=\"True Story\" class=\"lazyload\" data-sizes=\"auto\" data-src=\"https://images.justwatch.com/icon/244289819/s100\" data-v-09bd084e=\"\" src=\"data:image/gif;base64,R0lGODlhAQABAAAAACH5BAEKAAEALAAAAAABAAEAAAICTAEAOw==\" title=\"True Story\"/>,\n",
       " <img alt=\"DocAlliance Films\" class=\"lazyload\" data-sizes=\"auto\" data-src=\"https://images.justwatch.com/icon/244290074/s100\" data-v-09bd084e=\"\" src=\"data:image/gif;base64,R0lGODlhAQABAAAAACH5BAEKAAEALAAAAAABAAEAAAICTAEAOw==\" title=\"DocAlliance Films\"/>,\n",
       " <img alt=\"Hoichoi\" class=\"lazyload\" data-sizes=\"auto\" data-src=\"https://images.justwatch.com/icon/141253805/s100\" data-v-09bd084e=\"\" src=\"data:image/gif;base64,R0lGODlhAQABAAAAACH5BAEKAAEALAAAAAABAAEAAAICTAEAOw==\" title=\"Hoichoi\"/>,\n",
       " <img alt=\"Eventive\" class=\"lazyload\" data-sizes=\"auto\" data-src=\"https://images.justwatch.com/icon/258768419/s100\" data-v-09bd084e=\"\" src=\"data:image/gif;base64,R0lGODlhAQABAAAAACH5BAEKAAEALAAAAAABAAEAAAICTAEAOw==\" title=\"Eventive\"/>,\n",
       " <img alt=\"프리 가이\" class=\"picture-comp__img\" data-v-6c068c3e=\"\" loading=\"eager\" src=\"https://www.justwatch.com/images/poster/253033499/s166/peuri-gai\"/>,\n",
       " <img alt=\"프렌치 디스패치\" class=\"picture-comp__img\" data-v-6c068c3e=\"\" loading=\"eager\" src=\"https://www.justwatch.com/images/poster/253886581/s166/peurenci-diseupaeci\"/>,\n",
       " <img alt=\"씽\" class=\"picture-comp__img\" data-v-6c068c3e=\"\" loading=\"eager\" src=\"https://www.justwatch.com/images/poster/183793686/s166/ssing\"/>,\n",
       " <img alt=\"라스트 듀얼: 최후의 결투\" class=\"picture-comp__img\" data-v-6c068c3e=\"\" loading=\"eager\" src=\"https://www.justwatch.com/images/poster/252604877/s166/deo-raseuteu-dyueol\"/>,\n",
       " <img alt=\"씽2게더\" class=\"picture-comp__img lazyload\" data-sizes=\"auto\" data-src=\"https://images.justwatch.com/poster/256958900/s166/ssing2gedeo\" data-v-6c068c3e=\"\" loading=\"eager\" src=\"data:image/gif;base64,R0lGODlhAQABAAAAACH5BAEKAAEALAAAAAABAAEAAAICTAEAOw==\"/>,\n",
       " <img alt=\"듄\" class=\"picture-comp__img lazyload\" data-sizes=\"auto\" data-src=\"https://images.justwatch.com/poster/257562108/s166/dyun\" data-v-6c068c3e=\"\" loading=\"eager\" src=\"data:image/gif;base64,R0lGODlhAQABAAAAACH5BAEKAAEALAAAAAABAAEAAAICTAEAOw==\"/>,\n",
       " <img alt=\"베놈 2: 렛 데어 비 카니지\" class=\"picture-comp__img lazyload\" data-sizes=\"auto\" data-src=\"https://images.justwatch.com/poster/249817089/s166/benom-2-res-deeo-bi-kaniji\" data-v-6c068c3e=\"\" loading=\"eager\" src=\"data:image/gif;base64,R0lGODlhAQABAAAAACH5BAEKAAEALAAAAAABAAEAAAICTAEAOw==\"/>,\n",
       " <img alt=\"킹스맨: 퍼스트 에이전트\" class=\"picture-comp__img lazyload\" data-sizes=\"auto\" data-src=\"https://images.justwatch.com/poster/256159438/s166/kingseumaen-peoseuteu-eijeonteu\" data-v-6c068c3e=\"\" loading=\"eager\" src=\"data:image/gif;base64,R0lGODlhAQABAAAAACH5BAEKAAEALAAAAAABAAEAAAICTAEAOw==\"/>,\n",
       " <img alt=\"스파이더맨: 노 웨이 홈\" class=\"picture-comp__img lazyload\" data-sizes=\"auto\" data-src=\"https://images.justwatch.com/poster/256858290/s166/seupaideomaen-no-wei-hom\" data-v-6c068c3e=\"\" loading=\"eager\" src=\"data:image/gif;base64,R0lGODlhAQABAAAAACH5BAEKAAEALAAAAAABAAEAAAICTAEAOw==\"/>,\n",
       " <img alt=\"오리엔트 특급 살인\" class=\"picture-comp__img lazyload\" data-sizes=\"auto\" data-src=\"https://images.justwatch.com/poster/35385773/s166/murder-on-the-orient-express\" data-v-6c068c3e=\"\" loading=\"eager\" src=\"data:image/gif;base64,R0lGODlhAQABAAAAACH5BAEKAAEALAAAAAABAAEAAAICTAEAOw==\"/>,\n",
       " <img alt=\"노매드랜드\" class=\"picture-comp__img lazyload\" data-sizes=\"auto\" data-src=\"https://images.justwatch.com/poster/244575124/s166/nomaedeuraendeu\" data-v-6c068c3e=\"\" loading=\"eager\" src=\"data:image/gif;base64,R0lGODlhAQABAAAAACH5BAEKAAEALAAAAAABAAEAAAICTAEAOw==\"/>,\n",
       " <img alt=\"경관의 피\" class=\"picture-comp__img lazyload\" data-sizes=\"auto\" data-src=\"https://images.justwatch.com/poster/256841167/s166/gyeonggwanyi-pi\" data-v-6c068c3e=\"\" loading=\"eager\" src=\"data:image/gif;base64,R0lGODlhAQABAAAAACH5BAEKAAEALAAAAAABAAEAAAICTAEAOw==\"/>,\n",
       " <img alt=\"마녀\" class=\"picture-comp__img lazyload\" data-sizes=\"auto\" data-src=\"https://images.justwatch.com/poster/75604933/s166/the-witch-part-1-the-subversion\" data-v-6c068c3e=\"\" loading=\"eager\" src=\"data:image/gif;base64,R0lGODlhAQABAAAAACH5BAEKAAEALAAAAAABAAEAAAICTAEAOw==\"/>,\n",
       " <img alt=\"테넷\" class=\"picture-comp__img lazyload\" data-sizes=\"auto\" data-src=\"https://images.justwatch.com/poster/193792450/s166/tenes\" data-v-6c068c3e=\"\" loading=\"eager\" src=\"data:image/gif;base64,R0lGODlhAQABAAAAACH5BAEKAAEALAAAAAABAAEAAAICTAEAOw==\"/>,\n",
       " <img alt=\"북스마트\" class=\"picture-comp__img lazyload\" data-sizes=\"auto\" data-src=\"https://images.justwatch.com/poster/240894229/s166/bugseumateu\" data-v-6c068c3e=\"\" loading=\"eager\" src=\"data:image/gif;base64,R0lGODlhAQABAAAAACH5BAEKAAEALAAAAAABAAEAAAICTAEAOw==\"/>,\n",
       " <img alt=\"매트릭스: 리저렉션\" class=\"picture-comp__img lazyload\" data-sizes=\"auto\" data-src=\"https://images.justwatch.com/poster/256856020/s166/deo-maeteurigseu-rejeoregsyeon\" data-v-6c068c3e=\"\" loading=\"eager\" src=\"data:image/gif;base64,R0lGODlhAQABAAAAACH5BAEKAAEALAAAAAABAAEAAAICTAEAOw==\"/>,\n",
       " <img alt=\"연애 빠진 로맨스\" class=\"picture-comp__img lazyload\" data-sizes=\"auto\" data-src=\"https://images.justwatch.com/poster/255380438/s166/yeonae-bbajin-romaenseu\" data-v-6c068c3e=\"\" loading=\"eager\" src=\"data:image/gif;base64,R0lGODlhAQABAAAAACH5BAEKAAEALAAAAAABAAEAAAICTAEAOw==\"/>,\n",
       " <img alt=\"반지의 제왕: 반지 원정대\" class=\"picture-comp__img lazyload\" data-sizes=\"auto\" data-src=\"https://images.justwatch.com/poster/113609577/s166/banjiyi-jewang-banji-weonjeongdae\" data-v-6c068c3e=\"\" loading=\"eager\" src=\"data:image/gif;base64,R0lGODlhAQABAAAAACH5BAEKAAEALAAAAAABAAEAAAICTAEAOw==\"/>,\n",
       " <img alt=\"드라이브 마이 카\" class=\"picture-comp__img lazyload\" data-sizes=\"auto\" data-src=\"https://images.justwatch.com/poster/249776570/s166/drive-my-car\" data-v-6c068c3e=\"\" loading=\"eager\" src=\"data:image/gif;base64,R0lGODlhAQABAAAAACH5BAEKAAEALAAAAAABAAEAAAICTAEAOw==\"/>,\n",
       " <img alt=\"조커\" class=\"picture-comp__img lazyload\" data-sizes=\"auto\" data-src=\"https://images.justwatch.com/poster/146489071/s166/jokeo\" data-v-6c068c3e=\"\" loading=\"eager\" src=\"data:image/gif;base64,R0lGODlhAQABAAAAACH5BAEKAAEALAAAAAABAAEAAAICTAEAOw==\"/>,\n",
       " <img alt=\"콰이어트 플레이스 2\" class=\"picture-comp__img lazyload\" data-sizes=\"auto\" data-src=\"https://images.justwatch.com/poster/164531851/s166/kwaieoteu-peulreiseu-2\" data-v-6c068c3e=\"\" loading=\"eager\" src=\"data:image/gif;base64,R0lGODlhAQABAAAAACH5BAEKAAEALAAAAAABAAEAAAICTAEAOw==\"/>,\n",
       " <img alt=\"더 수어사이드 스쿼드\" class=\"picture-comp__img lazyload\" data-sizes=\"auto\" data-src=\"https://images.justwatch.com/poster/247178135/s166/deo-sueosaideu-seukweodeu\" data-v-6c068c3e=\"\" loading=\"eager\" src=\"data:image/gif;base64,R0lGODlhAQABAAAAACH5BAEKAAEALAAAAAABAAEAAAICTAEAOw==\"/>,\n",
       " <img alt=\"하우스 오브 구찌\" class=\"picture-comp__img lazyload\" data-sizes=\"auto\" data-src=\"https://images.justwatch.com/poster/257953121/s166/hauseu-obeu-gujji\" data-v-6c068c3e=\"\" loading=\"eager\" src=\"data:image/gif;base64,R0lGODlhAQABAAAAACH5BAEKAAEALAAAAAABAAEAAAICTAEAOw==\"/>,\n",
       " <img alt=\"Titane\" class=\"picture-comp__img lazyload\" data-sizes=\"auto\" data-src=\"https://images.justwatch.com/poster/259259935/s166/titane\" data-v-6c068c3e=\"\" loading=\"eager\" src=\"data:image/gif;base64,R0lGODlhAQABAAAAACH5BAEKAAEALAAAAAABAAEAAAICTAEAOw==\"/>,\n",
       " <img alt=\"1917\" class=\"picture-comp__img lazyload\" data-sizes=\"auto\" data-src=\"https://images.justwatch.com/poster/165639540/s166/1917\" data-v-6c068c3e=\"\" loading=\"eager\" src=\"data:image/gif;base64,R0lGODlhAQABAAAAACH5BAEKAAEALAAAAAABAAEAAAICTAEAOw==\"/>,\n",
       " <img alt=\"킬러의 보디가드 2\" class=\"picture-comp__img lazyload\" data-sizes=\"auto\" data-src=\"https://images.justwatch.com/poster/247251482/s166/kilreoyi-bodigadeu-2\" data-v-6c068c3e=\"\" loading=\"eager\" src=\"data:image/gif;base64,R0lGODlhAQABAAAAACH5BAEKAAEALAAAAAABAAEAAAICTAEAOw==\"/>,\n",
       " <img alt=\"뮌헨: 전쟁의 문턱에서\" class=\"picture-comp__img lazyload\" data-sizes=\"auto\" data-src=\"https://images.justwatch.com/poster/260956003/s166/munich-the-edge-of-war\" data-v-6c068c3e=\"\" loading=\"eager\" src=\"data:image/gif;base64,R0lGODlhAQABAAAAACH5BAEKAAEALAAAAAABAAEAAAICTAEAOw==\"/>,\n",
       " <img alt=\"13시간\" class=\"picture-comp__img lazyload\" data-sizes=\"auto\" data-src=\"https://images.justwatch.com/poster/184866271/s166/13sigan\" data-v-6c068c3e=\"\" loading=\"eager\" src=\"data:image/gif;base64,R0lGODlhAQABAAAAACH5BAEKAAEALAAAAAABAAEAAAICTAEAOw==\"/>,\n",
       " <img alt=\"엔칸토: 마법의 세계\" class=\"picture-comp__img lazyload\" data-sizes=\"auto\" data-src=\"https://images.justwatch.com/poster/254343314/s166/encanto\" data-v-6c068c3e=\"\" loading=\"eager\" src=\"data:image/gif;base64,R0lGODlhAQABAAAAACH5BAEKAAEALAAAAAABAAEAAAICTAEAOw==\"/>,\n",
       " <img alt=\"그린 나이트\" class=\"picture-comp__img lazyload\" data-sizes=\"auto\" data-src=\"https://images.justwatch.com/poster/248826704/s166/geurin-naiteu\" data-v-6c068c3e=\"\" loading=\"eager\" src=\"data:image/gif;base64,R0lGODlhAQABAAAAACH5BAEKAAEALAAAAAABAAEAAAICTAEAOw==\"/>,\n",
       " <img alt=\"레디 플레이어 원\" class=\"picture-comp__img lazyload\" data-sizes=\"auto\" data-src=\"https://images.justwatch.com/poster/50902721/s166/redi-peulreieo-weon\" data-v-6c068c3e=\"\" loading=\"eager\" src=\"data:image/gif;base64,R0lGODlhAQABAAAAACH5BAEKAAEALAAAAAABAAEAAAICTAEAOw==\"/>,\n",
       " <img alt=\"존 윅\" class=\"picture-comp__img lazyload\" data-sizes=\"auto\" data-src=\"https://images.justwatch.com/poster/187285619/s166/john-wick\" data-v-6c068c3e=\"\" loading=\"eager\" src=\"data:image/gif;base64,R0lGODlhAQABAAAAACH5BAEKAAEALAAAAAABAAEAAAICTAEAOw==\"/>,\n",
       " <img alt=\"장르만 로맨스\" class=\"picture-comp__img lazyload\" data-sizes=\"auto\" data-src=\"https://images.justwatch.com/poster/254230220/s166/jangreuman-romaenseu\" data-v-6c068c3e=\"\" loading=\"eager\" src=\"data:image/gif;base64,R0lGODlhAQABAAAAACH5BAEKAAEALAAAAAABAAEAAAICTAEAOw==\"/>,\n",
       " <img alt=\"모가디슈\" class=\"picture-comp__img lazyload\" data-sizes=\"auto\" data-src=\"https://images.justwatch.com/poster/259455355/s166/mogadisyu\" data-v-6c068c3e=\"\" loading=\"eager\" src=\"data:image/gif;base64,R0lGODlhAQABAAAAACH5BAEKAAEALAAAAAABAAEAAAICTAEAOw==\"/>,\n",
       " <img alt=\"007 노 타임 투 다이\" class=\"picture-comp__img lazyload\" data-sizes=\"auto\" data-src=\"https://images.justwatch.com/poster/251148716/s166/007-no-taim-tu-dai\" data-v-6c068c3e=\"\" loading=\"eager\" src=\"data:image/gif;base64,R0lGODlhAQABAAAAACH5BAEKAAEALAAAAAABAAEAAAICTAEAOw==\"/>,\n",
       " <img alt=\"수호 인형\" class=\"picture-comp__img lazyload\" data-sizes=\"auto\" data-src=\"https://images.justwatch.com/poster/246447002/s166/gadieon\" data-v-6c068c3e=\"\" loading=\"eager\" src=\"data:image/gif;base64,R0lGODlhAQABAAAAACH5BAEKAAEALAAAAAABAAEAAAICTAEAOw==\"/>,\n",
       " <img alt=\"이터널스\" class=\"picture-comp__img lazyload\" data-sizes=\"auto\" data-src=\"https://images.justwatch.com/poster/252160622/s166/iteoneolseu\" data-v-6c068c3e=\"\" loading=\"eager\" src=\"data:image/gif;base64,R0lGODlhAQABAAAAACH5BAEKAAEALAAAAAABAAEAAAICTAEAOw==\"/>,\n",
       " <img alt=\"어나더 라운드\" class=\"picture-comp__img lazyload\" data-sizes=\"auto\" data-src=\"https://images.justwatch.com/poster/256222742/s166/eonadeo-raundeu\" data-v-6c068c3e=\"\" loading=\"eager\" src=\"data:image/gif;base64,R0lGODlhAQABAAAAACH5BAEKAAEALAAAAAABAAEAAAICTAEAOw==\"/>,\n",
       " <img alt=\"디어 에반 핸슨\" class=\"picture-comp__img lazyload\" data-sizes=\"auto\" data-src=\"https://images.justwatch.com/poster/253936405/s166/dieo-eban-haenseun\" data-v-6c068c3e=\"\" loading=\"eager\" src=\"data:image/gif;base64,R0lGODlhAQABAAAAACH5BAEKAAEALAAAAAABAAEAAAICTAEAOw==\"/>,\n",
       " <img alt=\"폭포\" class=\"picture-comp__img lazyload\" data-sizes=\"auto\" data-src=\"https://images.justwatch.com/poster/251616914/s166/pogpo\" data-v-6c068c3e=\"\" loading=\"eager\" src=\"data:image/gif;base64,R0lGODlhAQABAAAAACH5BAEKAAEALAAAAAABAAEAAAICTAEAOw==\"/>]"
      ]
     },
     "execution_count": 29,
     "metadata": {},
     "output_type": "execute_result"
    }
   ],
   "source": [
    "dom.select(\"img[alt]\")"
   ]
  },
  {
   "cell_type": "code",
   "execution_count": null,
   "metadata": {},
   "outputs": [],
   "source": [
    "#base > div.title-list.title-list--CLS-block > div > div:nth-child(2) > div:nth-child(1) > div > div:nth-child(1) > a > div"
   ]
  },
  {
   "cell_type": "code",
   "execution_count": null,
   "metadata": {},
   "outputs": [],
   "source": [
    "#base > div.title-list.title-list--CLS-block > div > div:nth-child(2) > div:nth-child(1) > div > div:nth-child(1) > a > div > picture > img"
   ]
  },
  {
   "cell_type": "code",
   "execution_count": 46,
   "metadata": {},
   "outputs": [
    {
     "data": {
      "text/plain": [
       "'프리 가이'"
      ]
     },
     "execution_count": 46,
     "metadata": {},
     "output_type": "execute_result"
    }
   ],
   "source": [
    "dom.select(\"img\")[27]['alt']"
   ]
  },
  {
   "cell_type": "markdown",
   "metadata": {},
   "source": []
  },
  {
   "cell_type": "code",
   "execution_count": 47,
   "metadata": {},
   "outputs": [
    {
     "data": {
      "text/plain": [
       "'프렌치 디스패치'"
      ]
     },
     "execution_count": 47,
     "metadata": {},
     "output_type": "execute_result"
    }
   ],
   "source": [
    "dom.select(\"img\")[28]['alt']"
   ]
  },
  {
   "cell_type": "code",
   "execution_count": 56,
   "metadata": {},
   "outputs": [
    {
     "data": {
      "text/plain": [
       "'폭포'"
      ]
     },
     "execution_count": 56,
     "metadata": {},
     "output_type": "execute_result"
    }
   ],
   "source": [
    "dom.select(\"img\")[66]['alt']"
   ]
  },
  {
   "cell_type": "code",
   "execution_count": null,
   "metadata": {},
   "outputs": [],
   "source": []
  }
 ],
 "metadata": {
  "interpreter": {
   "hash": "b3ba2566441a7c06988d0923437866b63cedc61552a5af99d1f4fb67d367b25f"
  },
  "kernelspec": {
   "display_name": "Python 3.8.8 ('base')",
   "language": "python",
   "name": "python3"
  },
  "language_info": {
   "codemirror_mode": {
    "name": "ipython",
    "version": 3
   },
   "file_extension": ".py",
   "mimetype": "text/x-python",
   "name": "python",
   "nbconvert_exporter": "python",
   "pygments_lexer": "ipython3",
   "version": "3.8.8"
  },
  "orig_nbformat": 4
 },
 "nbformat": 4,
 "nbformat_minor": 2
}
