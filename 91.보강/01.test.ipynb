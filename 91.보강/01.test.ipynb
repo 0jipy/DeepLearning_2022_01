{
 "cells": [
  {
   "cell_type": "markdown",
   "metadata": {},
   "source": [
    "파이썬 데코레이터 설명\n",
    "- 데코레이터는 장식하다. 꾸미다. "
   ]
  },
  {
   "cell_type": "markdown",
   "metadata": {},
   "source": [
    "@로 시작하는 것이 데코레이터."
   ]
  },
  {
   "cell_type": "code",
   "execution_count": 2,
   "metadata": {},
   "outputs": [],
   "source": [
    "class Calc:\n",
    "    @staticmethod  #데코레이터\n",
    "    def add(a, b):\n",
    "        print(a + b)"
   ]
  },
  {
   "cell_type": "code",
   "execution_count": 3,
   "metadata": {},
   "outputs": [
    {
     "name": "stdout",
     "output_type": "stream",
     "text": [
      "hello 함수 시작\n",
      "hello\n",
      "hello 끝\n",
      "hello 함수 시작\n",
      "hello\n",
      "hello 끝\n"
     ]
    }
   ],
   "source": [
    "def hello():\n",
    "    print('hello 함수 시작')\n",
    "    print('hello')\n",
    "    print('hello 끝')\n",
    "\n",
    "def world():\n",
    "    print('hello 함수 시작')\n",
    "    print('hello')\n",
    "    print('hello 끝')\n",
    "\n",
    "\n",
    "hello()\n",
    "world()"
   ]
  },
  {
   "cell_type": "code",
   "execution_count": 4,
   "metadata": {},
   "outputs": [],
   "source": [
    "# 다른함수에 시작과 끝을 출력하고 싶다면 함수를 만들 때마다 print를 넣어야 합니다. \n",
    "# 이럴경우 데코레이터를 활용"
   ]
  },
  {
   "cell_type": "code",
   "execution_count": null,
   "metadata": {},
   "outputs": [],
   "source": [
    "def trace(func):     # 호출할 함수를 매개변수로 받음\n",
    "    def wrapper():   # 호출할 함수를 감싸는 함수\n",
    "        print(func.__name__, '함수 시작')  #__name__으로 함수 이름 출력\n",
    "        func()                             #\n",
    "        print(func.__name__, '함수 끝')"
   ]
  }
 ],
 "metadata": {
  "interpreter": {
   "hash": "b3ba2566441a7c06988d0923437866b63cedc61552a5af99d1f4fb67d367b25f"
  },
  "kernelspec": {
   "display_name": "Python 3.8.8 ('base')",
   "language": "python",
   "name": "python3"
  },
  "language_info": {
   "codemirror_mode": {
    "name": "ipython",
    "version": 3
   },
   "file_extension": ".py",
   "mimetype": "text/x-python",
   "name": "python",
   "nbconvert_exporter": "python",
   "pygments_lexer": "ipython3",
   "version": "3.8.8"
  },
  "orig_nbformat": 4
 },
 "nbformat": 4,
 "nbformat_minor": 2
}
