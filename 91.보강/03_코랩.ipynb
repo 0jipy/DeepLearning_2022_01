{
  "nbformat": 4,
  "nbformat_minor": 0,
  "metadata": {
    "colab": {
      "name": "03.코랩.ipynb",
      "provenance": []
    },
    "kernelspec": {
      "name": "python3",
      "display_name": "Python 3"
    },
    "language_info": {
      "name": "python"
    }
  },
  "cells": [
    {
      "cell_type": "markdown",
      "source": [
        "# Colab 환경, 연습"
      ],
      "metadata": {
        "id": "5MhrAIqTkj4B"
      }
    },
    {
      "cell_type": "code",
      "execution_count": 1,
      "metadata": {
        "colab": {
          "base_uri": "https://localhost:8080/"
        },
        "id": "wjDbDSEfkjOG",
        "outputId": "9aa3d9c2-255f-42fc-f895-ffaad6133189"
      },
      "outputs": [
        {
          "output_type": "stream",
          "name": "stdout",
          "text": [
            "Ubuntu 18.04.5 LTS\n"
          ]
        }
      ],
      "source": [
        "# OS(Operating System, 운영체제)\n",
        "!cat /etc/issue.net"
      ]
    },
    {
      "cell_type": "code",
      "source": [
        "# CPU 정보\n",
        "!head /proc/cpuinfo"
      ],
      "metadata": {
        "colab": {
          "base_uri": "https://localhost:8080/"
        },
        "id": "wmc_f700k0ou",
        "outputId": "d55237f8-8a6a-4738-fed0-c0a48f0cb36c"
      },
      "execution_count": 2,
      "outputs": [
        {
          "output_type": "stream",
          "name": "stdout",
          "text": [
            "processor\t: 0\n",
            "vendor_id\t: GenuineIntel\n",
            "cpu family\t: 6\n",
            "model\t\t: 79\n",
            "model name\t: Intel(R) Xeon(R) CPU @ 2.20GHz\n",
            "stepping\t: 0\n",
            "microcode\t: 0x1\n",
            "cpu MHz\t\t: 2199.998\n",
            "cache size\t: 56320 KB\n",
            "physical id\t: 0\n"
          ]
        }
      ]
    },
    {
      "cell_type": "code",
      "source": [
        "# Memory 정보\n",
        "!head -n 3 /proc/meminfo"
      ],
      "metadata": {
        "colab": {
          "base_uri": "https://localhost:8080/"
        },
        "id": "g9utUvzIlnZ5",
        "outputId": "954c737c-1bd0-4d15-a3f8-eac890a13900"
      },
      "execution_count": 3,
      "outputs": [
        {
          "output_type": "stream",
          "name": "stdout",
          "text": [
            "MemTotal:       13302912 kB\n",
            "MemFree:        10861364 kB\n",
            "MemAvailable:   12518120 kB\n"
          ]
        }
      ]
    },
    {
      "cell_type": "code",
      "source": [
        "# GPU 정보\n",
        "!nvidia-smi"
      ],
      "metadata": {
        "colab": {
          "base_uri": "https://localhost:8080/"
        },
        "id": "eqWfpminl5fE",
        "outputId": "46e6a9ef-9368-47da-be71-517bc2bc0e56"
      },
      "execution_count": 4,
      "outputs": [
        {
          "output_type": "stream",
          "name": "stdout",
          "text": [
            "NVIDIA-SMI has failed because it couldn't communicate with the NVIDIA driver. Make sure that the latest NVIDIA driver is installed and running.\n",
            "\n"
          ]
        }
      ]
    },
    {
      "cell_type": "code",
      "source": [
        "# 파이썬 버전\n",
        "!python --version"
      ],
      "metadata": {
        "colab": {
          "base_uri": "https://localhost:8080/"
        },
        "id": "BRzUhdBQmpq2",
        "outputId": "647905f0-1b90-48f5-b90f-2559fe99f6c2"
      },
      "execution_count": 5,
      "outputs": [
        {
          "output_type": "stream",
          "name": "stdout",
          "text": [
            "Python 3.7.12\n"
          ]
        }
      ]
    },
    {
      "cell_type": "code",
      "source": [
        "# tensorflow 버전\n",
        "import tensorflow as tf\n",
        "tf.__version__"
      ],
      "metadata": {
        "colab": {
          "base_uri": "https://localhost:8080/",
          "height": 36
        },
        "id": "Uc9oSP5Tnu3j",
        "outputId": "f10e2e4d-e89f-4fd3-f447-5a71c36fc26b"
      },
      "execution_count": 6,
      "outputs": [
        {
          "output_type": "execute_result",
          "data": {
            "application/vnd.google.colaboratory.intrinsic+json": {
              "type": "string"
            },
            "text/plain": [
              "'2.7.0'"
            ]
          },
          "metadata": {},
          "execution_count": 6
        }
      ]
    },
    {
      "cell_type": "code",
      "source": [
        "print('한글')"
      ],
      "metadata": {
        "colab": {
          "base_uri": "https://localhost:8080/"
        },
        "id": "QoV2lDAcn68U",
        "outputId": "ceaf23f2-651d-43f8-d704-009b48aaf134"
      },
      "execution_count": 7,
      "outputs": [
        {
          "output_type": "stream",
          "name": "stdout",
          "text": [
            "한글\n"
          ]
        }
      ]
    },
    {
      "cell_type": "code",
      "source": [
        "# 호스트 이름\n",
        "!hostname"
      ],
      "metadata": {
        "colab": {
          "base_uri": "https://localhost:8080/"
        },
        "id": "18irf0RJoGwl",
        "outputId": "dedd23a2-66a1-4578-bf60-bbf137db2f9d"
      },
      "execution_count": 8,
      "outputs": [
        {
          "output_type": "stream",
          "name": "stdout",
          "text": [
            "946054b99429\n"
          ]
        }
      ]
    },
    {
      "cell_type": "code",
      "source": [
        "!pwd"
      ],
      "metadata": {
        "colab": {
          "base_uri": "https://localhost:8080/"
        },
        "id": "VFmmDQXroZSt",
        "outputId": "2a0b063a-caf8-484e-c80b-3087f4a5302f"
      },
      "execution_count": 12,
      "outputs": [
        {
          "output_type": "stream",
          "name": "stdout",
          "text": [
            "/content\n"
          ]
        }
      ]
    },
    {
      "cell_type": "code",
      "source": [
        "!whoami"
      ],
      "metadata": {
        "colab": {
          "base_uri": "https://localhost:8080/"
        },
        "id": "gR5Y7y64orrE",
        "outputId": "09249707-212e-460f-9a1d-8bbb25141e4e"
      },
      "execution_count": 13,
      "outputs": [
        {
          "output_type": "stream",
          "name": "stdout",
          "text": [
            "root\n"
          ]
        }
      ]
    },
    {
      "cell_type": "code",
      "source": [
        "!ls -l /"
      ],
      "metadata": {
        "colab": {
          "base_uri": "https://localhost:8080/"
        },
        "id": "u-lp04olovca",
        "outputId": "4f6bebcb-023f-404e-a695-362ac79484d4"
      },
      "execution_count": 14,
      "outputs": [
        {
          "output_type": "stream",
          "name": "stdout",
          "text": [
            "total 100\n",
            "drwxr-xr-x   1 root root 4096 Jan  7 14:25 bin\n",
            "drwxr-xr-x   2 root root 4096 Apr 24  2018 boot\n",
            "drwxr-xr-x   1 root root 4096 Jan  7 14:33 content\n",
            "drwxr-xr-x   1 root root 4096 Jan 13 14:35 datalab\n",
            "drwxr-xr-x   5 root root  360 Jan 16 06:27 dev\n",
            "drwxr-xr-x   1 root root 4096 Jan 16 06:27 etc\n",
            "drwxr-xr-x   2 root root 4096 Apr 24  2018 home\n",
            "drwxr-xr-x   1 root root 4096 Jan  7 14:26 lib\n",
            "drwxr-xr-x   2 root root 4096 Jan  7 14:14 lib32\n",
            "drwxr-xr-x   1 root root 4096 Jan  7 14:13 lib64\n",
            "drwxr-xr-x   2 root root 4096 Nov 19  2020 media\n",
            "drwxr-xr-x   2 root root 4096 Nov 19  2020 mnt\n",
            "drwxr-xr-x   1 root root 4096 Jan  7 14:28 opt\n",
            "dr-xr-xr-x 169 root root    0 Jan 16 06:27 proc\n",
            "drwxr-xr-x  14 root root 4096 Jan  7 14:27 python-apt\n",
            "drwx------   1 root root 4096 Jan 16 06:27 root\n",
            "drwxr-xr-x   1 root root 4096 Jan  7 14:17 run\n",
            "drwxr-xr-x   1 root root 4096 Jan 16 06:27 sbin\n",
            "drwxr-xr-x   2 root root 4096 Nov 19  2020 srv\n",
            "dr-xr-xr-x  12 root root    0 Jan 16 06:27 sys\n",
            "drwxr-xr-x   3 root root 4096 Jan 13 14:31 tensorflow-1.15.2\n",
            "drwxrwxrwt   1 root root 4096 Jan 16 06:42 tmp\n",
            "drwxr-xr-x   1 root root 4096 Jan 13 14:34 tools\n",
            "drwxr-xr-x   1 root root 4096 Jan  7 14:28 usr\n",
            "drwxr-xr-x   1 root root 4096 Jan 16 06:27 var\n"
          ]
        }
      ]
    },
    {
      "cell_type": "code",
      "source": [
        "from google.colab import drive\n",
        "drive.mount('/content/drive')"
      ],
      "metadata": {
        "id": "g1QGtZnKpjZ3"
      },
      "execution_count": null,
      "outputs": []
    },
    {
      "cell_type": "code",
      "source": [
        "!pwd"
      ],
      "metadata": {
        "colab": {
          "base_uri": "https://localhost:8080/"
        },
        "id": "5KDE4wTIo1M_",
        "outputId": "c44a3c12-b818-44c8-d9a4-d48151e62567"
      },
      "execution_count": 15,
      "outputs": [
        {
          "output_type": "stream",
          "name": "stdout",
          "text": [
            "/content\n"
          ]
        }
      ]
    },
    {
      "cell_type": "code",
      "source": [
        ""
      ],
      "metadata": {
        "id": "pSXchLvApKPT"
      },
      "execution_count": null,
      "outputs": []
    }
  ]
}