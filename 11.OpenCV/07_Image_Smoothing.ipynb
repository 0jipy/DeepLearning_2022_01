{
  "cells": [
    {
      "cell_type": "markdown",
      "metadata": {
        "id": "R9s60NYgygzp"
      },
      "source": [
        "# Image Smoothing (Image Blurring)"
      ]
    },
    {
      "cell_type": "markdown",
      "metadata": {
        "id": "n8NXdrt60zgt"
      },
      "source": [
        "## Image Filtering\n",
        "\n",
        "- 이미지도 음성 신호처럼 주파수로 표현할 수 있음\n",
        "\n",
        "- 일반적으로 고주파는 밝기의 변화가 많은 곳, 즉 경계선 영역에서 나타나며, 일반적인 배경은 저주파로 나타냄 \n",
        "\n",
        "  - 이것을 바탕으로 고주파를 제거하면 Blur처리가 되며, 저주파를 제거하면 대상의 영역을 확인 가능\n",
        "\n",
        "- Low-pass filter(LPF)와 High-pass filter(HPF)를 이용하여,  \n",
        "  LPF를 적용하면 노이즈제거나 blur처리를 할 수 있으며, HPF를 적용하면 경계선을 찾을 수 있음\n",
        "\n",
        "- `cv2.filter2D()`\n",
        "  - 일반적으로 많이 사용되는 필터\n",
        "\n",
        "  - ex) $K = \\frac{1}{25} \\begin{vmatrix} 1 & 1 & 1 & 1 & 1 \\\\ 1 & 1 & 1 & 1 & 1 \\\\  1 & 1 & 1 & 1 & 1 \\\\ 1 & 1 & 1 & 1 & 1 \\\\ 1 & 1 & 1 & 1 & 1 \\end{vmatrix}$"
      ]
    },
    {
      "cell_type": "markdown",
      "metadata": {
        "id": "C4x6xiqVvkn3"
      },
      "source": [
        "![](https://cdn.pixabay.com/photo/2020/10/01/09/35/bee-5618012_960_720.jpg)\n",
        "\n",
        "  <sub>[이미지 출처] https://pixabay.com/photos/bee-insect-flower-honey-bee-5618012/</sub>"
      ]
    },
    {
      "cell_type": "code",
      "execution_count": null,
      "metadata": {
        "id": "9kC1QIN3oBA9"
      },
      "outputs": [],
      "source": []
    },
    {
      "cell_type": "markdown",
      "metadata": {
        "id": "yvBcG6kCrKfT"
      },
      "source": [
        "## Image Blurring\n",
        "- low-pass filter를 이미지에 적용하여 얻을 수 있음\n",
        "\n",
        "- 고주파영역을 제거함으로써 노이즈를 제거하거나 경계선을 흐리게 할 수 있음\n",
        "\n",
        "- OpenCV에서 제공하는 blurring 방법\n",
        "  - `Averaging`\n",
        "\n",
        "  - `Gaussian Filtering`\n",
        "\n",
        "  - `Median Filtering`\n",
        "\n",
        "  - `Bilateral Filtering`"
      ]
    },
    {
      "cell_type": "markdown",
      "metadata": {
        "id": "0pCpXv28ruoa"
      },
      "source": [
        "### Averaging\n",
        "- Box형태의 kernel을 이미지에 적용한 후 평균값을 box의 중심점에 적용하는 형태\n",
        "\n",
        "- `cv2.blur()` 또는 `cv2.boxFilter()` \n",
        "\n",
        "- `cv2.blur()`\n",
        "  - Parameters\t\n",
        "    - `src` : Chennel수는 상관없으나,  \n",
        "        depth(Data Type)은 CV_8U, CV_16U, CV_16S, CV_32F or CV_64F.\n",
        "\n",
        "    - `ksize` : kernel 사이즈(ex; (3,3))\n",
        "\n",
        "  - ex)  $\\ K = \\frac{1}{9} \\begin{vmatrix} 1 & 1 & 1 \\\\ 1 & 1 & 1 \\\\  1 & 1 & 1 \\end{vmatrix}$\n",
        "\n",
        "<br>\n",
        "\n",
        "- 이미지의 Data Type\n",
        "  - `CV_8U` : 8-bit unsigned integer: uchar ( 0..255 )\n",
        "\n",
        "  - `CV_8S` : 8-bit signed integer: schar ( -128..127 )\n",
        "\n",
        "  - `CV_16U` : 16-bit unsigned integer: ushort ( 0..65535 )\n",
        "\n",
        "  - `CV_16S` : 16-bit signed integer: short ( -32768..32767 )\n",
        "\n",
        "  - `CV_32S` : 32-bit signed integer: int ( -2147483648..2147483647 )\n",
        "\n",
        "  - `CV_32F` : 32-bit floating-point number: float ( -FLT_MAX..FLT_MAX, INF, NAN )\n",
        "\n",
        "  - `CV_64F` : 64-bit floating-point number: double ( -DBL_MAX..DBL_MAX, INF, NAN )\n",
        "\n",
        "  - 일반적으로 Data Type과 채널수가 같이 표현이 되어 CV_8UC1 과 같이 표현  \n",
        "    (8bit unsiged integer이면서 채널이 1개)"
      ]
    },
    {
      "cell_type": "code",
      "execution_count": null,
      "metadata": {
        "id": "WhZ5r3sctLB0"
      },
      "outputs": [],
      "source": []
    },
    {
      "cell_type": "markdown",
      "metadata": {
        "id": "BjODcPqQtRo3"
      },
      "source": [
        "### Gaussian Filtering\n",
        "\n",
        "- box filter는 동일한 값으로 구성된 kernel을 사용하지만, Gaussian Filter는 Gaussian함수를 이용한 Kernel을 적용\n",
        "  \n",
        "  - kernel 행렬의 값을 Gaussian 함수를 통해서 수학적으로 생성하여 적용\n",
        "\n",
        "- kernel의 사이즈는 양수이면서 홀수로 지정을 해야 됨\n",
        "\n",
        "- 이미지의 Gaussian Noise (전체적으로 밀도가 동일한 노이즈, 백색노이즈)를 제거하는 데 가장 효과적\n",
        "\n",
        "- `cv2.GaussianBlur()`\n",
        "\n",
        "  - Parameters  \n",
        "    - `img` : Chennel수는 상관없으나, depth(Data Type)은 CV_8U, CV_16U, CV_16S, CV_32F or CV_64F\n",
        "\n",
        "    - `ksize` : (width, height) 형태의 kernel size.  \n",
        "      width와 height는 서로 다를 수 있지만, 양수의 홀수로 지정해야 함\n",
        "\n",
        "    - `sigmaX` : Gaussian kernel standard deviation in X direction."
      ]
    },
    {
      "cell_type": "code",
      "execution_count": null,
      "metadata": {
        "id": "kknvAfr-t8F5"
      },
      "outputs": [],
      "source": []
    },
    {
      "cell_type": "markdown",
      "metadata": {
        "id": "5e8D-lQpuFsT"
      },
      "source": [
        "### Median Filtering\n",
        "- kernel window와 pixel의 값들을 정렬한 후에 중간값을 선택하여 적용\n",
        "\n",
        "- salt-and-pepper noise(점잡음: 무작위적인 희고 검은 점이 나타남) 제거에 가장 효과적\n",
        "\n",
        "- `cv2.medianBlur()`\n",
        "  \n",
        "  - Parameters\t\n",
        "    - `src` : 1, 3, 4 channel image  \n",
        "      depth가 CV_8U, CV_16U, or CV_32F 이면 ksize는 3또는5, CV_8U이면 더 큰 ksize가능\n",
        "    \n",
        "    - `ksize` : 1보다 큰 홀수\n",
        "\n"
      ]
    },
    {
      "cell_type": "code",
      "execution_count": null,
      "metadata": {
        "id": "T6Iu-9Ixuu4l"
      },
      "outputs": [],
      "source": []
    },
    {
      "cell_type": "markdown",
      "metadata": {
        "id": "9_RtYY7_uysM"
      },
      "source": [
        "### Bilateral Filtering\n",
        "- 위 3가지 Blur 방식은 경계선까지 Blur 처리가 되어, 경계선이 흐려지게 됨\n",
        "\n",
        "-  Bilateral Filtering(양방향 필터)은 경계선을 유지하면서 Gaussian Blur처리를 해주는 방법\n",
        "\n",
        "- `cv2.bilateralFilter()`\n",
        "\n",
        "  - Parameters\n",
        "    - `src` : 8-bit, 1 or 3 Channel image\n",
        "    - `d` : filtering시 고려할 주변 pixel 지름\n",
        "    \n",
        "    - `sigmaColor` : Color를 고려할 공간. 숫자가 크면 멀리 있는 색도 고려\n",
        "\n",
        "    - `sigmaSpace` : 숫자가 크면 멀리 있는 pixel도 고려"
      ]
    },
    {
      "cell_type": "code",
      "execution_count": null,
      "metadata": {
        "id": "h2KRCekEvSIt"
      },
      "outputs": [],
      "source": []
    }
  ],
  "metadata": {
    "colab": {
      "collapsed_sections": [],
      "name": "_05 OpenCV Image Smoothing (Image Blurring).ipynb",
      "provenance": []
    },
    "kernelspec": {
      "display_name": "Python 3",
      "name": "python3"
    }
  },
  "nbformat": 4,
  "nbformat_minor": 0
}
