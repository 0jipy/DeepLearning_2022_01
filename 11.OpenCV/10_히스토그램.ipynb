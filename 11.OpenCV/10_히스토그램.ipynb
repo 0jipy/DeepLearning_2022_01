{
  "cells": [
    {
      "cell_type": "markdown",
      "metadata": {
        "id": "9T7cDrWs-F6e"
      },
      "source": [
        "# 히스토그램 (Histogram)"
      ]
    },
    {
      "cell_type": "markdown",
      "metadata": {
        "id": "xX_JcCpA-Jh7"
      },
      "source": [
        "## Histogram\n",
        "\n",
        "- 이미지의 밝기의 분포를 그래프로 표현한 방식\n",
        "\n",
        "- 이미지의 전체의 밝기 분포와 채도(밝고 어두움)을 알 수 있음\n",
        "\n",
        "<img src=\"https://opencv-python.readthedocs.io/en/latest/_images/image013.jpg\">\n",
        "\n",
        "<sub>[이미지 출처] https://www.cambridgeincolour.com/tutorials/histograms1.htm</sub>\n",
        "\n",
        "<br>\n",
        "\n",
        "## 용어 설명\n",
        "\n",
        "- BINS \n",
        "  \n",
        "  - 히스토그램 그래프의 X축의 간격  \n",
        "    위 그림의 경우에는 0 ~ 255를 표현하였기 때문에 BINS값은 256이 된다.  \n",
        "    BINS값이 16이면 0 ~ 15, 16 ~ 31..., 240 ~ 255와 같이 X축이 16개로 표현  \n",
        "    OpenCV에서는 BINS를 histSize 라고 표현\n",
        "\n",
        "- DIMS \n",
        "\n",
        "  - 이미지에서 조사하고자하는 값을 의미  \n",
        "    빛의 강도를 조사할 것인지, RGB값을 조사할 것인지를 결정\n",
        "\n",
        "- RANGE \n",
        "\n",
        "  - 측정하고자하는 값의 범위  \n",
        "\n",
        "<br>\n",
        "\n",
        "- `cv2.calcHist()`\n",
        "\n",
        "  - Parameters\n",
        "    - `image` : 분석대상 이미지(uint8 or float32 type). Array형태.\n",
        "\n",
        "    - `channels` : 분석 채널(X축의 대상)\n",
        "    \n",
        "      - 이미지가 graysacle이면 [0], color 이미지이면 [0],[0,1] 형태(1 : Blue, 2: Green, 3: Red)\n",
        "\n",
        "    - `mask` : 이미지의 분석영역. None이면 전체 영역.\n",
        "\n",
        "    - `histSize` : BINS 값. [256]\n",
        "\n",
        "    - `ranges` : Range값. [0,256]\n"
      ]
    },
    {
      "cell_type": "markdown",
      "metadata": {
        "id": "JzhktmeRvnj6"
      },
      "source": [
        "* flower1.jpg\n",
        "\n",
        "![](https://cdn.pixabay.com/photo/2015/10/09/00/55/lotus-978659_960_720.jpg)\n",
        "\n",
        "<sub>[이미지 출처] https://pixabay.com/ko/photos/%EB%A1%9C%ED%84%B0%EC%8A%A4-%EA%BD%83-%EC%97%AC%EB%A6%84-%EC%A0%A0-%EC%9E%90%EC%97%B0-978659/</sub>\n",
        "\n",
        "* flower2.jpg\n",
        "\n",
        "![](https://cdn.pixabay.com/photo/2012/03/01/00/55/garden-19830_960_720.jpg)\n",
        "\n",
        "<sub>[이미지 출처] https://pixabay.com/ko/photos/%EC%A0%95%EC%9B%90-%EA%BD%83-%EB%82%98%EB%B9%84-19830/</sub>"
      ]
    },
    {
      "cell_type": "code",
      "execution_count": null,
      "metadata": {
        "id": "FVeyzYXHAZ5N"
      },
      "outputs": [],
      "source": []
    },
    {
      "cell_type": "markdown",
      "metadata": {
        "id": "Pt9mQIyoBJp-"
      },
      "source": [
        "## Mask를 적용한 히스토그램"
      ]
    },
    {
      "cell_type": "markdown",
      "metadata": {
        "id": "t3zLDOk2v8_J"
      },
      "source": [
        "![](https://cdn.pixabay.com/photo/2020/03/12/04/07/cat-4923824_960_720.jpg)\n",
        "\n",
        "  <sub>[이미지 출처] https://pixabay.com/photos/cat-pet-feline-animal-4923824/</sub>"
      ]
    },
    {
      "cell_type": "code",
      "execution_count": null,
      "metadata": {
        "id": "UNmvbyGBBdqO"
      },
      "outputs": [],
      "source": []
    },
    {
      "cell_type": "markdown",
      "metadata": {
        "id": "wFupu_7xCAxS"
      },
      "source": [
        "## 히스토그램 평탄화\n",
        "\n",
        "- 이미지의 히스토그램이 특정영역에 너무 집중되어 있으면 contrast가 낮아 좋은 이미지라고 할 수 없음\n",
        "\n",
        "- 전체 영역에 골고루 분포가 되어 있을 때 좋은 이미지라고 할 수 있는데, 아래 히스토그램을 보면 좌측 처럼 특정 영역에 집중되어 있는 분포를 오른쪽 처럼 골고루 분포하도록 하는 작업을 Histogram Equalization 이라고 함\n",
        "\n",
        "- (참고) 이론적인 방법\n",
        "\n",
        "  - 이미지의 각 픽셀의 cumulative distribution function(cdf)값을 구하고 Histogram Equalization 공식에 대입하여 0 ~ 255 사이의 값으로 변환\n",
        "\n",
        "  - 이렇게 새롭게 구해진 값으로 이미지를 표현하면 균일화된 이미지를 얻을 수 있음\n",
        "\n",
        "  <img src=\"https://upload.wikimedia.org/wikipedia/commons/thumb/c/ca/Histogrammeinebnung.png/600px-Histogrammeinebnung.png\">\n",
        "\n",
        "  <sub>[이미지 출처] https://en.wikipedia.org/wiki/Histogram_equalization</sub>"
      ]
    },
    {
      "cell_type": "markdown",
      "metadata": {
        "id": "gzmW4x9uCeVu"
      },
      "source": [
        "- Numpy를 활용하여 균일화 작업\n",
        "\n",
        "* taiwan.jpg\n",
        "\n",
        "  <img src=\"https://cdn.pixabay.com/photo/2020/08/03/13/33/taiwan-5460063_960_720.jpg\">\n",
        "\n",
        "  <sub>[이미지 출처] https://pixabay.com/ko/photos/%EB%8C%80%EB%A7%8C-%EB%8F%84%EC%8B%9C-%EB%8F%84%EC%8B%9C-%ED%92%8D%EA%B2%BD-%EC%97%AC%ED%96%89-5460063/</sub>"
      ]
    },
    {
      "cell_type": "code",
      "execution_count": null,
      "metadata": {
        "id": "1K_LzbVeEtg3"
      },
      "outputs": [],
      "source": []
    },
    {
      "cell_type": "markdown",
      "metadata": {
        "id": "Va5oBWSjFcqu"
      },
      "source": [
        "- OpenCV 함수로 간단하게 처리"
      ]
    },
    {
      "cell_type": "code",
      "execution_count": null,
      "metadata": {
        "id": "PWFhz4RuFpE3"
      },
      "outputs": [],
      "source": []
    },
    {
      "cell_type": "markdown",
      "metadata": {
        "id": "exnsb8P8F59B"
      },
      "source": [
        "## CLAHE (Contrast Limited Adaptive Histogram Equalization)\n",
        "\n",
        "- 지금까지의 처리는 이미지의 전체적인 부분에 균일화를 적용\n",
        "\n",
        "- 하지만 일반적인 이미지는 밝은 부분과 어두운 부분이 섞여 있기 때문에 전체에 적용하는 것은 그렇게 유용하지 않음"
      ]
    },
    {
      "cell_type": "markdown",
      "metadata": {
        "id": "AbfEWVGIGfBW"
      },
      "source": [
        "- 이미지\n",
        "  - 'keyboard.png'\n",
        "\n",
        "  ![](https://cdn.pixabay.com/photo/2015/08/13/01/00/keyboard-886462_960_720.jpg)\n",
        "  \n",
        "  <sub>[이미지 출처] https://pixabay.com/ko/photos/%ED%82%A4%EB%B3%B4%EB%93%9C-%EC%BB%B4%ED%93%A8%ED%84%B0-%ED%82%A4-%ED%99%94%EC%9D%B4%ED%8A%B8-886462/</sub>"
      ]
    },
    {
      "cell_type": "code",
      "execution_count": null,
      "metadata": {
        "id": "h-fThytiGWGj"
      },
      "outputs": [],
      "source": []
    },
    {
      "cell_type": "markdown",
      "metadata": {
        "id": "si1wXPFoGqFh"
      },
      "source": [
        "- 위 결과에서 주변의 어두운 부분은 균일화가 적용되어 밝아졌지만, 가운데 이미지는 너무 밝아져 경계선을 알아볼 수 없게 되어버림\n",
        "\n",
        "- 이 문제를 해결하기 위해서 `adaptive histogram equalization`을 적용하게 됨\n",
        "  - 즉, 이미지를 작은 title형태로 나누어 그 title안에서 Equalization을 적용하는 방식\n",
        "  \n",
        "  - 작은 영역이다 보니 작은 노이즈(극단적으로 어둡거나, 밝은 영역)가 있으면 이것이 반영이 되어 원하는 결과를 얻을 수 없게 됨\n",
        "  \n",
        "  - 이 문제를 피하기 위해서 `contrast limit`라는 값을 적용하여 이 값을 넘어가는 경우는 그 영역은 다른 영역에 균일하게 배분하여 적용"
      ]
    },
    {
      "cell_type": "code",
      "execution_count": null,
      "metadata": {
        "id": "GCJFi8O7HE6J"
      },
      "outputs": [],
      "source": []
    },
    {
      "cell_type": "markdown",
      "metadata": {
        "id": "Wc2Q_-b0IxW-"
      },
      "source": [
        "## 2D Histogram\n",
        "\n",
        "- 지금까지 Histogram은 1차원으로 grayscale 이미지의 pixel의 강도, 즉 빛의 세기를 분석한 결과\n",
        "\n",
        "- 2D Histogrm 은 Color 이미지의 Hue(색상) & Saturation(채도)을 동시에 분석하는 방법\n",
        "\n",
        "- 색상과 채도를 분석하기 때문에 HSV Format으로 변환해야 함\n",
        "\n",
        "- `cv2.calcHist()`\n",
        "\n",
        "  - Parameters\n",
        "    - `image` : HSV로 변환된 이미지\n",
        "\n",
        "    - `channel` : 0-> Hue, 1-> Saturation\n",
        "\n",
        "    - `bins` : [180,256] 첫번째는 Hue, 두번째는 Saturation\n",
        "\n",
        "    - `range` : [0,180,0,256] : Hue(0~180), Saturation(0,256)\n",
        "\n"
      ]
    },
    {
      "cell_type": "markdown",
      "metadata": {
        "id": "YrUaqG9LJlcM"
      },
      "source": [
        "- 이미지\n",
        "\n",
        "  - canal.jpg\n",
        "\n",
        "  <img src=\"https://cdn.pixabay.com/photo/2020/08/14/15/22/canal-5488271_960_720.jpg\">\n",
        "\n",
        "  <sub>[이미지 출처] https://pixabay.com/photos/canal-boats-buildings-reflection-5488271/</sub>"
      ]
    },
    {
      "cell_type": "code",
      "execution_count": null,
      "metadata": {
        "id": "vPC956SkKUi2"
      },
      "outputs": [],
      "source": []
    },
    {
      "cell_type": "markdown",
      "metadata": {
        "id": "gravPOFPK9wd"
      },
      "source": [
        "- 위 Histogram을 보면 X축은 Saturation, Y축은 Hue값을 나타냄\n",
        "\n",
        "- Y축을 보면 100근처에 값이 모여 있는 것을 알 수 있음\n",
        "- HSV모델에서 H가 100이면 하늘색\n",
        "- 이 이미지는 하늘색이 많이 분포되어 있다는 것을 2D Histogram을 통해서 알 수 있음\n"
      ]
    }
  ],
  "metadata": {
    "colab": {
      "collapsed_sections": [],
      "name": "_08 OpenCV 히스토그램 (Histogram).ipynb",
      "provenance": []
    },
    "kernelspec": {
      "display_name": "Python 3",
      "name": "python3"
    }
  },
  "nbformat": 4,
  "nbformat_minor": 0
}
