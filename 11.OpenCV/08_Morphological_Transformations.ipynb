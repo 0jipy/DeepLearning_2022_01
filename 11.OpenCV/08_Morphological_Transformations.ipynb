{
  "cells": [
    {
      "cell_type": "markdown",
      "metadata": {
        "id": "kXkcgGQLwA3I"
      },
      "source": [
        "# Morphological Transformations\n",
        "\n",
        "- Morphologicla Transformation\n",
        "  - 이미지를 Segmentation하여 단순화, 제거, 보정을 통해서 형태를 파악하는 목적으로 사용\n",
        "\n",
        "  - 일반적으로 binary나 grayscale image에 사용\n",
        "\n",
        "  - 사용하는 방법으로는 Dilation(팽창), Erosion(침식), 그리고 2개를 조합한 Opening과 Closing이 있음\n",
        "\n",
        "  - 여기에는 2가지 Input값이 있는데, 하나는 원본 이미지이고 또 다른 하나는 structuring element\n",
        "\n",
        "<br>\n",
        "\n",
        "- structuring element\n",
        "  \n",
        "  - 원본 이미지에 적용되는 kernel\n",
        "  \n",
        "  - 중심을 원점으로 사용할 수도 있고, 원점을 변경할 수도 있음\n",
        "  \n",
        "  - 일반적으로 꽉찬 사각형, 타원형, 십자형을 많이 사용"
      ]
    },
    {
      "cell_type": "markdown",
      "metadata": {
        "id": "823yLdkTwpnx"
      },
      "source": [
        "### Erosion\n",
        "\n",
        "- 각 Pixel에 structuring element를 적용하여 하나라도 0이 있으면 대상 pixel을 제거하는 방법\n",
        "\n",
        "- 작은 object를 제거하는 효과\n",
        "\n",
        "- `cv2.erode()`\n",
        "  - Parameters\n",
        "    - `src` : the depth should be one of CV_8U, CV_16U, CV_16S, CV_32F or CV_64F\n",
        "\n",
        "    - `kernel` : structuring element. cv2.getStructuringElemet() 함수로 만들 수 있음\n",
        "\n",
        "    - `anchor` : structuring element의 중심. default (-1,-1)로 중심점\n",
        "\n",
        "    - `iterations` : erosion 적용 반복 횟수\n",
        "\n",
        "- 아래 그림은 대상 이미지에 십자형 structuring element를 적용한 결과\n",
        "\n",
        "<img src=\"https://opencv-python.readthedocs.io/en/latest/_images/image01.png\">\n",
        "\n",
        "<sub>[이미지 출처] http://www.kocw.net/home/search/kemView.do?kemId=1127905&ar=relateCourse</sub>\n",
        "\n"
      ]
    },
    {
      "cell_type": "markdown",
      "metadata": {
        "id": "YbbXB_aWw9l_"
      },
      "source": [
        "### Dilation\n",
        "\n",
        "- Erosion과 반대 작용\n",
        "\n",
        "- 대상을 확장한 후 작은 구멍을 채우는 방법\n",
        "\n",
        "- Erosion과 마찬가지로 각 pixel에 structuring element를 적용\n",
        "\n",
        "- 대상 pixel에 대해서 OR 연산을 수행\n",
        "  \n",
        "  - 즉 겹치는 부분이 하나라도 있으면 이미지를 확장\n",
        "\n",
        "  <img src=\"https://opencv-python.readthedocs.io/en/latest/_images/image03.png\">\n",
        "\n",
        "\n",
        "- `cv2.dilation()`\n",
        "\n",
        "  - Parameters\t\n",
        "    - `src` : the depth should be one of CV_8U, CV_16U, CV_16S, CV_32F or CV_64F\n",
        "\n",
        "    - `kernel` : structuring element. cv2.getStructuringElemet() 함수로 만들 수 있음.\n",
        "\n",
        "    - `anchor` : structuring element의 중심. default (-1,-1)로 중심점\n",
        "\n",
        "    - `iterations` : dilation 적용 반복 횟수"
      ]
    },
    {
      "cell_type": "markdown",
      "metadata": {
        "id": "zzUsgZgnx31s"
      },
      "source": [
        "### Opening & Closing\n",
        "- Opening과 Closing은 Erosion과 Dilation의 조합 결과\n",
        "\n",
        "- 차이는 어느 것을 먼저 적용을 하는 차이\n",
        "\n",
        "- `Opening` : Erosion적용 후 Dilation 적용. 작은 Object나 돌기 제거에 적합\n",
        "\n",
        "- `Closing` : Dilation적용 후 Erosion 적용. 전체적인 윤곽 파악에 적합\n",
        "\n",
        "<img src=\"https://opencv-python.readthedocs.io/en/latest/_images/image05.png\">\n",
        "\n",
        "- `cv2.morphologyEx()`\n",
        "\n",
        "  - Parameters\n",
        "    \n",
        "    - `src` : 원본 이미지. 채널수는 상관 없으나, depth는 다음 중 하나여야 함\n",
        "        `CV_8U`, `CV_16U`, `CV_16S`, `CV_32F` or `CV_64F`.\n",
        "\n",
        "    - `op` :\n",
        "연산 방법\n",
        "\n",
        "      - `MORPH_OPEN` : an opening operation\n",
        "\n",
        "      - `MORPH_CLOSE` : a closing operation\n",
        "\n",
        "      - `MORPH_GRADIENT` : a morphological gradient. Dilation과 erosion의 차이.\n",
        "\n",
        "      - `MORPH_TOPHAT` : “top hat”. Opeining과 원본 이미지의 차이\n",
        "\n",
        "      - `MORPH_BLACKHAT` : “black hat”. Closing과 원본 이미지의 차이\n",
        "\n",
        "    - `kernel` : structuring element. `cv2.getStructuringElemet()` 함수로 만들 수 있음\n",
        "\n",
        "    - `anchor` : structuring element의 중심. default (-1,-1)로 중심점\n",
        "\n",
        "    - iterations` : erosion and dilation 적용 횟수\n",
        "\n",
        "    - `borderType` : 픽셀 외삽법 `borderInterpolate` 참고  \n",
        "      https://ko.wikipedia.org/wiki/%EB%B3%B4%EC%99%B8%EB%B2%95\n",
        "\n",
        "    - `borderValue` : 테두리 값\n"
      ]
    },
    {
      "cell_type": "markdown",
      "metadata": {
        "id": "DFvi6IaUzYJn"
      },
      "source": [
        "### Structuring Element\n",
        "- 사각형 모양의 structuring element는 numpy 를 통해 만들 수 있음"
      ]
    },
    {
      "cell_type": "code",
      "execution_count": null,
      "metadata": {
        "id": "9fqghvttzfTq"
      },
      "outputs": [],
      "source": []
    },
    {
      "cell_type": "markdown",
      "metadata": {
        "id": "jKDGdK1kzvaQ"
      },
      "source": [
        "- 원이나 타원 모양이 필요한 경우, `cv2.getStructuringElement()` 이용\n",
        "\n",
        "  - Parameters\n",
        "    \n",
        "    - `shape` :\n",
        "Element의 모양.\n",
        "\n",
        "      - `MORPH_RET` : 사각형 모양\n",
        "\n",
        "      - `MORPH_ELLIPSE` : 타원형 모양\n",
        "\n",
        "      - `MORPH_CROSS` : 십자 모양\n",
        "\n",
        "    - `ksize` : structuring element 사이즈"
      ]
    },
    {
      "cell_type": "code",
      "execution_count": null,
      "metadata": {
        "id": "eQZIK4xo45dw"
      },
      "outputs": [],
      "source": []
    },
    {
      "cell_type": "markdown",
      "metadata": {
        "id": "y53_r99h47g8"
      },
      "source": [
        "- 이미지\n",
        "  - https://s3.ap-northeast-2.amazonaws.com/suanlab.com/cv_image/example_img.png\n",
        "  - https://s3.ap-northeast-2.amazonaws.com/suanlab.com/cv_image/example_img2.png\n",
        "  - https://s3.ap-northeast-2.amazonaws.com/suanlab.com/cv_image/example_img4.png"
      ]
    },
    {
      "cell_type": "code",
      "execution_count": null,
      "metadata": {
        "id": "hQIf3SYb2yzR"
      },
      "outputs": [],
      "source": []
    }
  ],
  "metadata": {
    "colab": {
      "collapsed_sections": [],
      "name": "_06 OpenCV Morphological Transformations.ipynb",
      "provenance": []
    },
    "kernelspec": {
      "display_name": "Python 3",
      "name": "python3"
    }
  },
  "nbformat": 4,
  "nbformat_minor": 0
}
