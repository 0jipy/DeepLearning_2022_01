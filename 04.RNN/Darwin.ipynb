{
 "cells": [
  {
   "cell_type": "code",
   "execution_count": 2,
   "metadata": {},
   "outputs": [],
   "source": [
    "import pandas as pd"
   ]
  },
  {
   "cell_type": "code",
   "execution_count": 3,
   "metadata": {},
   "outputs": [
    {
     "data": {
      "text/html": [
       "<div>\n",
       "<style scoped>\n",
       "    .dataframe tbody tr th:only-of-type {\n",
       "        vertical-align: middle;\n",
       "    }\n",
       "\n",
       "    .dataframe tbody tr th {\n",
       "        vertical-align: top;\n",
       "    }\n",
       "\n",
       "    .dataframe thead th {\n",
       "        text-align: right;\n",
       "    }\n",
       "</style>\n",
       "<table border=\"1\" class=\"dataframe\">\n",
       "  <thead>\n",
       "    <tr style=\"text-align: right;\">\n",
       "      <th></th>\n",
       "      <th>E-Book</th>\n",
       "    </tr>\n",
       "  </thead>\n",
       "  <tbody>\n",
       "    <tr>\n",
       "      <th>0</th>\n",
       "      <td>찰스 다윈 저 | 이민재 역 | 홍영남 감수</td>\n",
       "    </tr>\n",
       "    <tr>\n",
       "      <th>1</th>\n",
       "      <td>진화론을 확립한 획기적 저술. 과학계뿐만 아니라 종교·사회적으로도 큰 파장을 일으켰다.</td>\n",
       "    </tr>\n",
       "    <tr>\n",
       "      <th>2</th>\n",
       "      <td>다윈은 약관의 나이에 영국 해군 측량선인 비글호를 타고 남아메리카·오스트레일리아·남...</td>\n",
       "    </tr>\n",
       "    <tr>\n",
       "      <th>3</th>\n",
       "      <td>얻었다. 이후 오랜 연구 끝에 내놓은 《종의 기원》은 인류 지성사에 한 획을 긋는 ...</td>\n",
       "    </tr>\n",
       "    <tr>\n",
       "      <th>4</th>\n",
       "      <td>개정판인 6판을 저본으로 했다. 리처드 도킨스의 《이기적 유전자》를 번역했던 홍영남...</td>\n",
       "    </tr>\n",
       "    <tr>\n",
       "      <th>...</th>\n",
       "      <td>...</td>\n",
       "    </tr>\n",
       "    <tr>\n",
       "      <th>16457</th>\n",
       "      <td>16 젊은 베르테르의 슬픔</td>\n",
       "    </tr>\n",
       "    <tr>\n",
       "      <th>16458</th>\n",
       "      <td>06 훈민정음통사 방종현 저 | 이상규 주해</td>\n",
       "    </tr>\n",
       "    <tr>\n",
       "      <th>16459</th>\n",
       "      <td>07 정치학 아리스토텔레스 저 | 라종일 역</td>\n",
       "    </tr>\n",
       "    <tr>\n",
       "      <th>16460</th>\n",
       "      <td>요한 볼프강 폰 괴테 저 | 이인웅 역</td>\n",
       "    </tr>\n",
       "    <tr>\n",
       "      <th>16461</th>\n",
       "      <td></td>\n",
       "    </tr>\n",
       "  </tbody>\n",
       "</table>\n",
       "<p>16462 rows × 1 columns</p>\n",
       "</div>"
      ],
      "text/plain": [
       "                                                E-Book  \n",
       "0                               찰스 다윈 저 | 이민재 역 | 홍영남 감수\n",
       "1       진화론을 확립한 획기적 저술. 과학계뿐만 아니라 종교·사회적으로도 큰 파장을 일으켰다.\n",
       "2      다윈은 약관의 나이에 영국 해군 측량선인 비글호를 타고 남아메리카·오스트레일리아·남...\n",
       "3      얻었다. 이후 오랜 연구 끝에 내놓은 《종의 기원》은 인류 지성사에 한 획을 긋는 ...\n",
       "4      개정판인 6판을 저본으로 했다. 리처드 도킨스의 《이기적 유전자》를 번역했던 홍영남...\n",
       "...                                                  ...\n",
       "16457                                     16 젊은 베르테르의 슬픔\n",
       "16458                           06 훈민정음통사 방종현 저 | 이상규 주해\n",
       "16459                           07 정치학 아리스토텔레스 저 | 라종일 역\n",
       "16460                              요한 볼프강 폰 괴테 저 | 이인웅 역\n",
       "16461                                                  \n",
       "\n",
       "\n",
       "[16462 rows x 1 columns]"
      ]
     },
     "execution_count": 3,
     "metadata": {},
     "output_type": "execute_result"
    }
   ],
   "source": [
    "df = pd.read_csv('data/The Origin of Species.txt',sep='\\t')\n",
    "df\n"
   ]
  },
  {
   "cell_type": "code",
   "execution_count": 4,
   "metadata": {},
   "outputs": [
    {
     "name": "stdout",
     "output_type": "stream",
     "text": [
      "<class 'pandas.core.frame.DataFrame'>\n",
      "RangeIndex: 16462 entries, 0 to 16461\n",
      "Data columns (total 1 columns):\n",
      " #   Column    Non-Null Count  Dtype \n",
      "---  ------    --------------  ----- \n",
      " 0   E-Book    16462 non-null  object\n",
      "dtypes: object(1)\n",
      "memory usage: 128.7+ KB\n"
     ]
    }
   ],
   "source": [
    "df.info()\n"
   ]
  },
  {
   "cell_type": "code",
   "execution_count": null,
   "metadata": {},
   "outputs": [],
   "source": [
    "####텍스트 읽어오기####\n",
    "##한국어 텍스트##\n",
    "f = open(\"./소나기.txt\",'rt',encoding='utf-8')\n",
    "lines = f.readlines()\n",
    "line = []\n",
    "for i in range(len(lines)):\n",
    "    line.append(lines[i])\n",
    "f.close()\n",
    "\n",
    "print(line)\n",
    "##영어 텍스트##\n",
    "f = open(\"./stevejobs.txt\",'rt',encoding='utf-8')\n",
    "lines2 = f.readlines()\n",
    "line2 = []\n",
    "for i in range(len(lines2)):\n",
    "    line2.append(lines2[i])\n",
    "f.close()\n",
    "\n",
    "print(line2)"
   ]
  },
  {
   "cell_type": "code",
   "execution_count": null,
   "metadata": {},
   "outputs": [],
   "source": [
    "f = open(\"./소나기.txt\",'rt',encoding='utf-8')\n",
    "lines = f.readlines()\n",
    "line = []\n",
    "for i in range(len(lines)):\n",
    "    line.append(lines[i])\n",
    "f.close()"
   ]
  },
  {
   "cell_type": "code",
   "execution_count": 8,
   "metadata": {},
   "outputs": [],
   "source": [
    "f = open('data/The Origin of Species.txt', encoding='utf8')\n",
    "lines = f.readlines()\n",
    "line = []\n",
    "for i in range(len(lines)):\n",
    "    line.append(lines[i])\n",
    "f.close()"
   ]
  },
  {
   "cell_type": "code",
   "execution_count": null,
   "metadata": {},
   "outputs": [],
   "source": [
    "print(line)"
   ]
  },
  {
   "cell_type": "code",
   "execution_count": null,
   "metadata": {},
   "outputs": [],
   "source": [
    "###특수문자 제거하기###\n",
    "##한국어##\n",
    "import re\n",
    "# compile = re.compile(\"[^ ㄱ-ㅣ가-힣]+\")\n",
    "compile = re.compile(\"[^ㄱ-ㅎㅏ-ㅣ가-힣 ]\")\n",
    "for i in range(len(line)):\n",
    "\n",
    "    a = compile.sub(\"\",line[i])\n",
    "    line[i] = a\n",
    "print(line)"
   ]
  },
  {
   "cell_type": "code",
   "execution_count": 19,
   "metadata": {},
   "outputs": [
    {
     "data": {
      "text/plain": [
       "'은 유전된다 개체군은 실제로 생존할 수 있는 것보다 더 많은 자손을 생산'"
      ]
     },
     "execution_count": 19,
     "metadata": {},
     "output_type": "execute_result"
    }
   ],
   "source": [
    "line[200]"
   ]
  },
  {
   "cell_type": "code",
   "execution_count": 25,
   "metadata": {},
   "outputs": [],
   "source": [
    "# 불용어 정의\n",
    "stopwords = ['의','가','이','은','들','는','좀','잘','걍','과','도','를','으로','자','에','와','한','하다','.',',','?','!','\\'','\"']"
   ]
  },
  {
   "cell_type": "code",
   "execution_count": 26,
   "metadata": {},
   "outputs": [
    {
     "data": {
      "text/plain": [
       "['  ',\n",
       " '',\n",
       " '찰스 다윈 저  이민재 역  홍영남 감수',\n",
       " '',\n",
       " '진화론을 확립한 획기적 저술 과학계뿐만 아니라 종교사회적으로도 큰 파장을 일으켰다',\n",
       " '',\n",
       " '다윈은 약관의 나이에 영국 해군 측량선인 비글호를 타고 남아메리카오스트레일리아남아프리카 등을 탐사하면서 자연선택에 관한 힌트를',\n",
       " '얻었다 이후 오랜 연구 끝에 내놓은 종의 기원은 인류 지성사에 한 획을 긋는 고전으로 자리 잡게 된다 이 번역본은 다윈 생전에 출간된 최종',\n",
       " '개정판인 판을 저본으로 했다 리처드 도킨스의 이기적 유전자를 번역했던 홍영남 서울대 명예교수가 꼼꼼하게 감수한 개정 완역본이다',\n",
       " '',\n",
       " ' ',\n",
       " '',\n",
       " ' ',\n",
       " '',\n",
       " '',\n",
       " '본 문서에 대한 저작권은 사단법인 올재에 있으며 이 문서의 전체 또는',\n",
       " '일부에 대하여 상업적 이익을 목적으로 하는 무단 복제 및 배포를 금합니다',\n",
       " '      ',\n",
       " '',\n",
       " '올재의 꿈',\n",
       " '올재는 지혜 나눔을 위해 년 월 설립된 비영리 사단법인입니다 예술과 문화 속에 담긴 지식과',\n",
       " '교양을 널리 소개하고 향유함으로써 격변하는 세상의 지향점을 찾고 올바르고 창의적인 교육의',\n",
       " '기틀을 마련하는 것이 올재의 꿈입니다 특히 올재는 인문 고전이나 문화 예술을 접할 기회가 많지',\n",
       " '않은 소외 계층과 저소득층 청소년들을 위해 다양한 지혜 나눔의 계기를 마련하고자 합니다',\n",
       " '올재의 첫 번째 지혜 나눔은 인문 고전입니다 올재 클래식스는 최고 수준의 번역본을 부담 없는',\n",
       " '가격에 보급합니다 각 종당 천 권을 발행하며 천 권은 교보문고에서 개월간 한정 판매합니다',\n",
       " '미판매된 도서와 발행 부수의 는 복지시설 교정 기관 저소득층 등에 무료 기증합니다 출간한',\n",
       " '번역본은 일정 기간 후 올재 인터넷 홈페이지에 게시합니다',\n",
       " '',\n",
       " '     ',\n",
       " '',\n",
       " '올재의 벗',\n",
       " '올재 클래식스 종의 기원의 발행에 소요되는 제반 비용 상당액은 올재 클래식스의 지혜 나눔',\n",
       " '취지에 적극 공감한 의 도움으로 마련됐습니다 국내 최대의 서점 교보문고는 올재 클래식스의',\n",
       " '유통 지원에 도움을 주셨습니다 표지 제호를 재능 기부해 주신 강병인 캘리그라피연구소 술통',\n",
       " '대표 강병인 님께 감사드립니다 귀한 번역본을 남겨 주신 고 이민재 님께 감사드리며 선친의 글을',\n",
       " '올재에서 펴낼 수 있도록 허락해 주신 이종범 님께도 깊은 감사를 전합니다',\n",
       " '올재 클래식스 출간이 전국 곳곳에 인문 고전 나눔으로 뜨겁게 이어지길 바랍니다 올재의 첫 번째',\n",
       " '지혜 나눔 올재 클래식스 출간에 많은 격려와 박수를 보내 주신 벗들께 다시 한번 감사를 전합니다',\n",
       " '',\n",
       " '정기 후원과 일반 후원으로 올재의 지혜 나눔에 참여하세요',\n",
       " '올재의 벗들이 심은 작은 홀씨가 전국 곳곳에 인문 고전의 꽃으로 피어납니다',\n",
       " '',\n",
       " '올재 후원함  예금주 사단법인 올재',\n",
       " '국민은행 ',\n",
       " '농협은행 ',\n",
       " '신한은행 ',\n",
       " '우리은행 ',\n",
       " '하나은행 ',\n",
       " '올재 후원하러 가기',\n",
       " '',\n",
       " '후원 문의처  올재 사무국',\n",
       " '     ',\n",
       " '',\n",
       " '',\n",
       " '지혜 나눔을 함께한 벗들',\n",
       " '',\n",
       " '',\n",
       " '',\n",
       " '일러두기  ',\n",
       " '감수자의 말 ',\n",
       " '역자 서문 ',\n",
       " '',\n",
       " '멘터판에 대한 서문 ',\n",
       " '역사적 개관 ',\n",
       " '서론 ',\n",
       " '제장',\n",
       " '',\n",
       " '사육 중에 생기는 변이',\n",
       " '',\n",
       " '제장',\n",
       " '',\n",
       " '자연 상태에서 발생하는 변이 ',\n",
       " '',\n",
       " '제장',\n",
       " '',\n",
       " '생존경쟁 ',\n",
       " '',\n",
       " '제장',\n",
       " '',\n",
       " '자연선택 또는 최적자생존',\n",
       " '',\n",
       " '제장',\n",
       " '',\n",
       " '변이의 법칙',\n",
       " '',\n",
       " '제장',\n",
       " '',\n",
       " '이 학설의 난점 ',\n",
       " '',\n",
       " '제장',\n",
       " '',\n",
       " '자연선택설에 관한 여러 가지 이론 ',\n",
       " '',\n",
       " '제장',\n",
       " '',\n",
       " '본능',\n",
       " '',\n",
       " '제장',\n",
       " '',\n",
       " '잡종 ',\n",
       " '',\n",
       " '제장',\n",
       " '',\n",
       " '지질학적 기록의 불완전성에 관하여 ',\n",
       " '',\n",
       " '제장',\n",
       " '',\n",
       " '생물의 지질학적 천이에 관하여 ',\n",
       " '',\n",
       " '제장',\n",
       " '',\n",
       " '지리적 분포 ',\n",
       " '',\n",
       " '제장',\n",
       " '',\n",
       " '지리적 분포 속 ',\n",
       " '',\n",
       " '제장',\n",
       " '',\n",
       " '생물 상호 유연형태학발생학흔적기관 ',\n",
       " '',\n",
       " '제장',\n",
       " '',\n",
       " '요약과 결론 ',\n",
       " '',\n",
       " '일러두기',\n",
       " ' 본 역서의 저본은            ',\n",
       " '        제판이다',\n",
       " ' 원서에서 직접인용한 부분은  로 표기한다',\n",
       " ' 원서에서 대문자 또는 이탤릭체를 사용하였거나 부분 인용 및 강조하고자 한 부분은  로 표기한다',\n",
       " '',\n",
       " '감수자의 말',\n",
       " '홍영남',\n",
       " '서울대학교 생명과학부 명예교수',\n",
       " '이기적 유전자 번역자',\n",
       " '',\n",
       " '찰스 다윈의 종의 기원은 세가 되던 해 년 월 일에 발간되었는데',\n",
       " '그날로 이 초판 부가 매진되었다 그 후 다윈은 년에 마지막 판까',\n",
       " '지 매번 몇 가지 중요한 내용을 수정 보충하였다 초판에서는 다만 자신과 동',\n",
       " '일한 결론에 도달한 앨프리드 러셀 월리스',\n",
       " '',\n",
       " ' 에',\n",
       " '',\n",
       " '대해서만 정중한 감',\n",
       " '',\n",
       " '사를 표하고 있다 제판년에서는 다른 진화론들의 짧은 역사적 개괄이',\n",
       " '추가되었으며 제판년에서는 월리스의 제안을 받아들여 최적자생존이',\n",
       " '라는 표현이 처음 사용되었다 최적자생존이라는 유명한 말은 다윈이 만들어',\n",
       " '낸 것이 아니라 철학자 허버트 스펜서',\n",
       " '',\n",
       " '',\n",
       " '만들었다 그리고 제',\n",
       " '',\n",
       " '판년에서는 특히 역사적 스케치라는 서문을 추가해서 다윈이 선배들의',\n",
       " '업적을 논하지 않았다는 몇몇 논평가들의 비판을 바로잡으려 했다 다윈은 이',\n",
       " '마지막 판본을 가장 대중적인 것으로 만들고 싶어 했고 현대에 나온 종의 기',\n",
       " '원은 대부분 이 판을 토대로 삼았다 이 번역본도 제판을 번역한 것이다',\n",
       " '다윈은 년 월 일 살의 나이로 비글호에 올랐으나 기후가 나빠서',\n",
       " '출항은 월 일로 연기되었다 이 탐사 항해는 년간의 항해를 끝내고 ',\n",
       " '년 월 일 영국에 도착했다 이 항해야말로 다윈에게 그의 모든 과학적 사고',\n",
       " '를 형성케 한 중요한 계기가 되었으며 진정한 진화론자로서 만든 분수령이 되',\n",
       " '었다 항해의 태반은 남아메리카 주변에 머물렀다 특히 년의 짧은 갈라',\n",
       " '파고스 제도 방문 시 그곳에 서식하고 있는 다양한 방울새의 발견은 다윈',\n",
       " '',\n",
       " '',\n",
       " '',\n",
       " '으로 하여금 진화의 실체를 확신하는 계기가 됐다 다윈은 두 번 다시 갈라파',\n",
       " '고스 제도를 가지 못했지만 남은 평생 마음속으로는 수없이 그곳을 찾아갔다',\n",
       " '다윈은 그곳에서 보았던 동식물들의 독특함을 설명할 방법을 찾았다 왜 그렇',\n",
       " '게 많은 생물들이 다른 곳에는 없고 오직 갈라파고스 제도에만 살고 있을까',\n",
       " '왜 동물과 식물 종들이 섬마다 다를까 이런 의문들은 다윈이 일생 동안 해',\n",
       " '왔던 연구의 기초를 이룬다 다윈은 단순히 자연을 관찰하고 수집하고 표본',\n",
       " '을 묘사하는 일에만 그치지 않고 사실에 대해 왜라는 질문을 끊임없이 던지',\n",
       " '며 사실 뒤에 숨겨진 자연의 원리에 대한 온갖 종류의 증거를 참을성 있게 체',\n",
       " '계적으로 정선하였다 다윈은 종이 영원불변하다는 데 대해 의문을 품고 있던',\n",
       " '생각을 년부터 년 사이에 이 놀라운 작품을 준비하고 있었다 그러나',\n",
       " '생물종이 시간이 지나면서 변할 수 있다는 생각은 다윈이 처음으로 제안한 것',\n",
       " '은 아니다',\n",
       " '다윈이 처음으로 년 자연선택이라는 개념을 생각해 낸 것은 세기 초',\n",
       " '의 성직자이자 정치경제학자인 맬서스  의 저서 인구의 원',\n",
       " '리에 관한 에세이',\n",
       " '',\n",
       " '     를',\n",
       " '',\n",
       " '읽은 뒤였다 맬서스',\n",
       " '',\n",
       " '는 생물은 생식할 수 있는 나이까지 살아남을 수 있을 것으로 예상되는 수보',\n",
       " '다 훨씬 많은 자손을 낳는다는 자연의 일반적 원리를 지적하였다 이런 대량',\n",
       " '의 생식능력이 있음에도 불구하고 성체의 수는 여러 세대를 통해 일정하게 남',\n",
       " '아 있는 경향을 나타낸다 맬서스 책은 다윈으로 하여금 한 가지 중요한 점을',\n",
       " '파악하는 데 도움을 주었다 즉 자손들 중에서 어느 것이 살아남고 어느 것이',\n",
       " '도태당하는가 하는 선택이 있을 수 있다는 사실이다 한 종의 개체들 간의 약',\n",
       " '간의 변이의 결과가 자연선택을 통해 생물의 진화가 가능하다는 생각을 전개',\n",
       " '했다',\n",
       " '다윈의 기본적 착상은 개체들 사이에 변이가 존재한다 변이 중 어떤 것',\n",
       " '',\n",
       " '',\n",
       " '',\n",
       " '은 유전된다 개체군은 실제로 생존할 수 있는 것보다 더 많은 자손을 생산']"
      ]
     },
     "execution_count": 26,
     "metadata": {},
     "output_type": "execute_result"
    }
   ],
   "source": [
    "line = [i for i in line if i not in stopwords]\n",
    "line[:200]"
   ]
  },
  {
   "cell_type": "code",
   "execution_count": 27,
   "metadata": {},
   "outputs": [
    {
     "ename": "ModuleNotFoundError",
     "evalue": "No module named 'konlpy'",
     "output_type": "error",
     "traceback": [
      "\u001b[1;31m---------------------------------------------------------------------------\u001b[0m",
      "\u001b[1;31mModuleNotFoundError\u001b[0m                       Traceback (most recent call last)",
      "\u001b[1;32m<ipython-input-27-d9c92d9f8745>\u001b[0m in \u001b[0;36m<module>\u001b[1;34m\u001b[0m\n\u001b[1;32m----> 1\u001b[1;33m \u001b[1;32mfrom\u001b[0m \u001b[0mkonlpy\u001b[0m\u001b[1;33m.\u001b[0m\u001b[0mtag\u001b[0m \u001b[1;32mimport\u001b[0m \u001b[0mOkt\u001b[0m\u001b[1;33m\u001b[0m\u001b[1;33m\u001b[0m\u001b[0m\n\u001b[0m\u001b[0;32m      2\u001b[0m \u001b[0mokt\u001b[0m \u001b[1;33m=\u001b[0m \u001b[0mOkt\u001b[0m\u001b[1;33m(\u001b[0m\u001b[1;33m)\u001b[0m\u001b[1;33m\u001b[0m\u001b[1;33m\u001b[0m\u001b[0m\n",
      "\u001b[1;31mModuleNotFoundError\u001b[0m: No module named 'konlpy'"
     ]
    }
   ],
   "source": [
    "from konlpy.tag import Okt\n",
    "okt = Okt()\n"
   ]
  },
  {
   "cell_type": "code",
   "execution_count": 33,
   "metadata": {},
   "outputs": [
    {
     "ename": "NameError",
     "evalue": "name 'pandas__version__' is not defined",
     "output_type": "error",
     "traceback": [
      "\u001b[1;31m---------------------------------------------------------------------------\u001b[0m",
      "\u001b[1;31mNameError\u001b[0m                                 Traceback (most recent call last)",
      "\u001b[1;32m<ipython-input-33-d18ebe8c7ee4>\u001b[0m in \u001b[0;36m<module>\u001b[1;34m\u001b[0m\n\u001b[1;32m----> 1\u001b[1;33m \u001b[0mpandas__version__\u001b[0m\u001b[1;33m\u001b[0m\u001b[1;33m\u001b[0m\u001b[0m\n\u001b[0m",
      "\u001b[1;31mNameError\u001b[0m: name 'pandas__version__' is not defined"
     ]
    }
   ],
   "source": [
    "pandas__version__"
   ]
  },
  {
   "cell_type": "code",
   "execution_count": null,
   "metadata": {},
   "outputs": [],
   "source": []
  }
 ],
 "metadata": {
  "interpreter": {
   "hash": "b3ba2566441a7c06988d0923437866b63cedc61552a5af99d1f4fb67d367b25f"
  },
  "kernelspec": {
   "display_name": "Python 3.8.8 64-bit ('base': conda)",
   "language": "python",
   "name": "python3"
  },
  "language_info": {
   "codemirror_mode": {
    "name": "ipython",
    "version": 3
   },
   "file_extension": ".py",
   "mimetype": "text/x-python",
   "name": "python",
   "nbconvert_exporter": "python",
   "pygments_lexer": "ipython3",
   "version": "3.8.8"
  },
  "orig_nbformat": 4
 },
 "nbformat": 4,
 "nbformat_minor": 2
}
