{
  "nbformat": 4,
  "nbformat_minor": 0,
  "metadata": {
    "colab": {
      "name": "41.로이터뉴스분류-LSTM.ipynb",
      "provenance": [],
      "collapsed_sections": [],
      "machine_shape": "hm"
    },
    "kernelspec": {
      "name": "python3",
      "display_name": "Python 3"
    },
    "language_info": {
      "name": "python"
    },
    "accelerator": "GPU"
  },
  "cells": [
    {
      "cell_type": "code",
      "execution_count": 7,
      "metadata": {
        "id": "YfSZUZ-TuToK"
      },
      "outputs": [],
      "source": [
        "import numpy as np \n",
        "import tensorflow as tf\n",
        "import matplotlib.pyplot as plt\n",
        "from tensorflow.keras.datasets import reuters\n",
        "import warnings\n",
        "warnings.filterwarnings('ignore')"
      ]
    },
    {
      "cell_type": "code",
      "source": [
        "seed = 2022\n",
        "np.random.seed(seed)\n",
        "tf.random.set_seed(seed)"
      ],
      "metadata": {
        "id": "tPF7YCX1u-9Y"
      },
      "execution_count": 6,
      "outputs": []
    },
    {
      "cell_type": "code",
      "source": [
        "from tensorflow.keras.datasets import reuters\n",
        "(X_train, y_train), (X_test, y_test) = reuters.load_data()"
      ],
      "metadata": {
        "colab": {
          "base_uri": "https://localhost:8080/"
        },
        "id": "s-Tiv7HLutdE",
        "outputId": "841e85c3-d6a0-4857-bba6-a17f18329e62"
      },
      "execution_count": 5,
      "outputs": [
        {
          "output_type": "stream",
          "name": "stdout",
          "text": [
            "Downloading data from https://storage.googleapis.com/tensorflow/tf-keras-datasets/reuters.npz\n",
            "2113536/2110848 [==============================] - 0s 0us/step\n",
            "2121728/2110848 [==============================] - 0s 0us/step\n"
          ]
        }
      ]
    },
    {
      "cell_type": "code",
      "source": [
        "# 데이터 갯수\n",
        "len(X_train), len(X_test)"
      ],
      "metadata": {
        "colab": {
          "base_uri": "https://localhost:8080/"
        },
        "id": "ikSgp5oNvIAa",
        "outputId": "6cd25863-3530-4756-d2f1-ddd8caade569"
      },
      "execution_count": 8,
      "outputs": [
        {
          "output_type": "execute_result",
          "data": {
            "text/plain": [
              "(8982, 2246)"
            ]
          },
          "metadata": {},
          "execution_count": 8
        }
      ]
    },
    {
      "cell_type": "code",
      "source": [
        "# 카테고리 갯수\n",
        "max(y_train) + 1"
      ],
      "metadata": {
        "colab": {
          "base_uri": "https://localhost:8080/"
        },
        "id": "oKreMaqrvH97",
        "outputId": "9832bb1f-e6ca-40f3-d1d8-2a81f286db28"
      },
      "execution_count": 9,
      "outputs": [
        {
          "output_type": "execute_result",
          "data": {
            "text/plain": [
              "46"
            ]
          },
          "metadata": {},
          "execution_count": 9
        }
      ]
    },
    {
      "cell_type": "code",
      "source": [
        "# 첫번째 뉴스\n",
        "print(X_train[0])"
      ],
      "metadata": {
        "colab": {
          "base_uri": "https://localhost:8080/"
        },
        "id": "tnoHutQ5umTh",
        "outputId": "c2e04bd6-4307-4e08-8afe-6d922b1a1a29"
      },
      "execution_count": 10,
      "outputs": [
        {
          "output_type": "stream",
          "name": "stdout",
          "text": [
            "[1, 27595, 28842, 8, 43, 10, 447, 5, 25, 207, 270, 5, 3095, 111, 16, 369, 186, 90, 67, 7, 89, 5, 19, 102, 6, 19, 124, 15, 90, 67, 84, 22, 482, 26, 7, 48, 4, 49, 8, 864, 39, 209, 154, 6, 151, 6, 83, 11, 15, 22, 155, 11, 15, 7, 48, 9, 4579, 1005, 504, 6, 258, 6, 272, 11, 15, 22, 134, 44, 11, 15, 16, 8, 197, 1245, 90, 67, 52, 29, 209, 30, 32, 132, 6, 109, 15, 17, 12]\n"
          ]
        }
      ]
    },
    {
      "cell_type": "code",
      "source": [
        "type(reuters.get_word_index()), reuters.get_word_index()['the']"
      ],
      "metadata": {
        "colab": {
          "base_uri": "https://localhost:8080/"
        },
        "id": "aCcWHHRhvlA4",
        "outputId": "5ad30500-486d-4f1f-8777-93ee453b88a3"
      },
      "execution_count": 13,
      "outputs": [
        {
          "output_type": "execute_result",
          "data": {
            "text/plain": [
              "(dict, 1)"
            ]
          },
          "metadata": {},
          "execution_count": 13
        }
      ]
    },
    {
      "cell_type": "code",
      "source": [
        "index_word = {}\n",
        "for key, value in reuters.get_word_index().items():\n",
        "    index_word[value] = key\n",
        "len(index_word)"
      ],
      "metadata": {
        "colab": {
          "base_uri": "https://localhost:8080/"
        },
        "id": "EeyCSvBzvr-g",
        "outputId": "48aa6ca5-8c6c-40a7-fe71-f04168b01810"
      },
      "execution_count": 16,
      "outputs": [
        {
          "output_type": "execute_result",
          "data": {
            "text/plain": [
              "30979"
            ]
          },
          "metadata": {},
          "execution_count": 16
        }
      ]
    },
    {
      "cell_type": "code",
      "source": [
        "# 첫번째 기사 복원\n",
        "' '.join(index_word[index] for index in X_train[0])"
      ],
      "metadata": {
        "colab": {
          "base_uri": "https://localhost:8080/",
          "height": 73
        },
        "id": "PyG2UMUfwQZJ",
        "outputId": "2858d664-8a27-49a6-d095-05c5696de395"
      },
      "execution_count": 19,
      "outputs": [
        {
          "output_type": "execute_result",
          "data": {
            "application/vnd.google.colaboratory.intrinsic+json": {
              "type": "string"
            },
            "text/plain": [
              "'the wattie nondiscriminatory mln loss for plc said at only ended said commonwealth could 1 traders now april 0 a after said from 1985 and from foreign 000 april 0 prices its account year a but in this mln home an states earlier and rise and revs vs 000 its 16 vs 000 a but 3 psbr oils several and shareholders and dividend vs 000 its all 4 vs 000 1 mln agreed largely april 0 are 2 states will billion total and against 000 pct dlrs'"
            ]
          },
          "metadata": {},
          "execution_count": 19
        }
      ]
    },
    {
      "cell_type": "code",
      "source": [
        "# 뉴스 기사의 길이\n",
        "print('뉴스 최대 길이: ', max(len(s) for s in X_train))\n",
        "print('뉴스 평균 길이: ', sum(map(len, X_train))/ len(X_train))"
      ],
      "metadata": {
        "colab": {
          "base_uri": "https://localhost:8080/"
        },
        "id": "XH5od0wfxHrB",
        "outputId": "d5c7071e-abfd-4263-a1bd-ab1f3da7f568"
      },
      "execution_count": 23,
      "outputs": [
        {
          "output_type": "stream",
          "name": "stdout",
          "text": [
            "뉴스 최대 길이:  2376\n",
            "뉴스 평균 길이:  145.5398574927633\n"
          ]
        }
      ]
    },
    {
      "cell_type": "code",
      "source": [
        "plt.hist([len(l) for l in X_train], bins=50)\n",
        "plt.xlabel('length of samples')\n",
        "plt.ylabel('number of samples')\n",
        "plt.show()"
      ],
      "metadata": {
        "colab": {
          "base_uri": "https://localhost:8080/",
          "height": 279
        },
        "id": "P79amXZlxHoX",
        "outputId": "dfa8b751-b6e0-4777-ab38-d1524e7b6d40"
      },
      "execution_count": 24,
      "outputs": [
        {
          "output_type": "display_data",
          "data": {
            "image/png": "[encoded data removed]",
            "text/plain": [
              "<Figure size 432x288 with 1 Axes>"
            ]
          },
          "metadata": {
            "needs_background": "light"
          }
        }
      ]
    },
    {
      "cell_type": "code",
      "source": [
        "plt.figure(figsize=(12,5))\n",
        "sns.countplot(y_train)\n",
        "plt.show()"
      ],
      "metadata": {
        "colab": {
          "base_uri": "https://localhost:8080/",
          "height": 320
        },
        "id": "u33CfnA0xHlv",
        "outputId": "96de59be-9976-41c5-a6e9-724735573fe5"
      },
      "execution_count": 25,
      "outputs": [
        {
          "output_type": "display_data",
          "data": {
            "image/png": "[encoded data removed]",
            "text/plain": [
              "<Figure size 864x360 with 1 Axes>"
            ]
          },
          "metadata": {
            "needs_background": "light"
          }
        }
      ]
    },
    {
      "cell_type": "markdown",
      "source": [
        "### LSTM으로 로이터 뉴스 분류\n",
        "- 단어 : 빈도수 기준 1,000 단어 (총단어수 : 30, 979)\n",
        "- 문장길이 : 100 단어 (최대 2,376)"
      ],
      "metadata": {
        "id": "Iu2pGB9TxHjI"
      }
    },
    {
      "cell_type": "code",
      "source": [
        "import tensorflow as tf\n",
        "seed = 2022\n",
        "np.random.seed(seed)\n",
        "tf.random.set_seed(seed)"
      ],
      "metadata": {
        "id": "ZEZAmbX3zejn"
      },
      "execution_count": 26,
      "outputs": []
    },
    {
      "cell_type": "code",
      "source": [
        "num_words = 1000\n",
        "max_len = 100"
      ],
      "metadata": {
        "id": "cN44lRoM1G0g"
      },
      "execution_count": 30,
      "outputs": []
    },
    {
      "cell_type": "code",
      "source": [
        "from tensorflow.keras.models import Sequential, load_model\n",
        "from tensorflow.keras.layers import Embedding, LSTM, Dense\n",
        "from tensorflow.keras.preprocessing.sequence import pad_sequences\n",
        "from tensorflow.keras.utils import to_categorical\n",
        "from tensorflow.keras.callbacks import ModelCheckpoint, EarlyStopping  "
      ],
      "metadata": {
        "id": "45wDqaVFzv5y"
      },
      "execution_count": 29,
      "outputs": []
    },
    {
      "cell_type": "code",
      "source": [
        "(X_train, y_train),(X_test, y_test) = reuters.load_data(\n",
        "        num_words = num_words, test_split=0.2)"
      ],
      "metadata": {
        "id": "9GFYPddd0u1s"
      },
      "execution_count": 33,
      "outputs": []
    },
    {
      "cell_type": "code",
      "source": [
        "X_train = pad_sequences(X_train, maxlen=max_len)\n",
        "X_test = pad_sequences(X_test, maxlen=max_len)\n",
        "Y_train = to_categorical(y_train)\n",
        "Y_test = to_categorical(y_test)\n",
        "X_train.shape, X_test.shape, Y_train.shape, Y_test.shape"
      ],
      "metadata": {
        "colab": {
          "base_uri": "https://localhost:8080/"
        },
        "id": "7a2B49MT1QxU",
        "outputId": "224afa94-0cda-4ab5-dff2-0318ca51b205"
      },
      "execution_count": 34,
      "outputs": [
        {
          "output_type": "execute_result",
          "data": {
            "text/plain": [
              "((8982, 100), (2246, 100), (8982, 46), (2246, 46))"
            ]
          },
          "metadata": {},
          "execution_count": 34
        }
      ]
    },
    {
      "cell_type": "markdown",
      "source": [
        "## 모델/정의/설정"
      ],
      "metadata": {
        "id": "qeLZPtyZ1x9a"
      }
    },
    {
      "cell_type": "code",
      "source": [
        "embedding_dim = 128\n",
        "hidden_units = 128\n",
        "num_classes = 46"
      ],
      "metadata": {
        "id": "W0_JvMZ03Ns8"
      },
      "execution_count": 36,
      "outputs": []
    },
    {
      "cell_type": "code",
      "source": [
        "model = Sequential([ \n",
        "    Embedding(num_words, embedding_dim, input_length=max_len),\n",
        "    LSTM(hidden_units),\n",
        "    Dense(num_classes, activation='softmax')\n",
        "])\n",
        "model.summary()"
      ],
      "metadata": {
        "colab": {
          "base_uri": "https://localhost:8080/"
        },
        "id": "5ijHKsJA3MRl",
        "outputId": "59c0503b-633a-43a7-e3d1-36582cd50f76"
      },
      "execution_count": 37,
      "outputs": [
        {
          "output_type": "stream",
          "name": "stdout",
          "text": [
            "Model: \"sequential\"\n",
            "_________________________________________________________________\n",
            " Layer (type)                Output Shape              Param #   \n",
            "=================================================================\n",
            " embedding (Embedding)       (None, 100, 128)          128000    \n",
            "                                                                 \n",
            " lstm (LSTM)                 (None, 128)               131584    \n",
            "                                                                 \n",
            " dense (Dense)               (None, 46)                5934      \n",
            "                                                                 \n",
            "=================================================================\n",
            "Total params: 265,518\n",
            "Trainable params: 265,518\n",
            "Non-trainable params: 0\n",
            "_________________________________________________________________\n"
          ]
        }
      ]
    },
    {
      "cell_type": "code",
      "source": [
        "model.compile('adam', 'categorical_crossentropy', ['accuracy'])"
      ],
      "metadata": {
        "id": "0qyNiAKn3szz"
      },
      "execution_count": 38,
      "outputs": []
    },
    {
      "cell_type": "code",
      "source": [
        "model_path = 'best-reuters-lstm.h5'\n",
        "mc = ModelCheckpoint(model_path, save_best_only=True, verbose=1)\n",
        "es = EarlyStopping(patience=5)"
      ],
      "metadata": {
        "id": "iW_lTV5C4IBu"
      },
      "execution_count": 39,
      "outputs": []
    },
    {
      "cell_type": "code",
      "source": [
        "hist = model.fit(\n",
        "    X_train, Y_train, epochs=30, batch_size=128,\n",
        "    validation_split=0.2, callbacks=[mc,es]\n",
        ")"
      ],
      "metadata": {
        "colab": {
          "base_uri": "https://localhost:8080/"
        },
        "id": "_0E3996e4dNC",
        "outputId": "475b1b0b-4400-4af8-8209-f5a7f7543841"
      },
      "execution_count": 40,
      "outputs": [
        {
          "output_type": "stream",
          "name": "stdout",
          "text": [
            "Epoch 1/30\n",
            "56/57 [============================>.] - ETA: 0s - loss: 2.6775 - accuracy: 0.3350\n",
            "Epoch 00001: val_loss improved from inf to 2.31994, saving model to best-reuters-lstm.h5\n",
            "57/57 [==============================] - 6s 20ms/step - loss: 2.6760 - accuracy: 0.3354 - val_loss: 2.3199 - val_accuracy: 0.3450\n",
            "Epoch 2/30\n",
            "54/57 [===========================>..] - ETA: 0s - loss: 2.0502 - accuracy: 0.4566\n",
            "Epoch 00002: val_loss improved from 2.31994 to 1.92215, saving model to best-reuters-lstm.h5\n",
            "57/57 [==============================] - 1s 12ms/step - loss: 2.0392 - accuracy: 0.4589 - val_loss: 1.9221 - val_accuracy: 0.5114\n",
            "Epoch 3/30\n",
            "56/57 [============================>.] - ETA: 0s - loss: 1.8266 - accuracy: 0.5278\n",
            "Epoch 00003: val_loss improved from 1.92215 to 1.77012, saving model to best-reuters-lstm.h5\n",
            "57/57 [==============================] - 1s 12ms/step - loss: 1.8266 - accuracy: 0.5278 - val_loss: 1.7701 - val_accuracy: 0.5426\n",
            "Epoch 4/30\n",
            "56/57 [============================>.] - ETA: 0s - loss: 1.8137 - accuracy: 0.5188\n",
            "Epoch 00004: val_loss did not improve from 1.77012\n",
            "57/57 [==============================] - 1s 12ms/step - loss: 1.8149 - accuracy: 0.5183 - val_loss: 2.1741 - val_accuracy: 0.2716\n",
            "Epoch 5/30\n",
            "56/57 [============================>.] - ETA: 0s - loss: 1.8085 - accuracy: 0.4760\n",
            "Epoch 00005: val_loss improved from 1.77012 to 1.69893, saving model to best-reuters-lstm.h5\n",
            "57/57 [==============================] - 1s 14ms/step - loss: 1.8082 - accuracy: 0.4764 - val_loss: 1.6989 - val_accuracy: 0.5643\n",
            "Epoch 6/30\n",
            "52/57 [==========================>...] - ETA: 0s - loss: 1.5806 - accuracy: 0.5886\n",
            "Epoch 00006: val_loss improved from 1.69893 to 1.60707, saving model to best-reuters-lstm.h5\n",
            "57/57 [==============================] - 1s 12ms/step - loss: 1.5853 - accuracy: 0.5873 - val_loss: 1.6071 - val_accuracy: 0.5860\n",
            "Epoch 7/30\n",
            "53/57 [==========================>...] - ETA: 0s - loss: 1.4857 - accuracy: 0.6182\n",
            "Epoch 00007: val_loss improved from 1.60707 to 1.52462, saving model to best-reuters-lstm.h5\n",
            "57/57 [==============================] - 1s 12ms/step - loss: 1.4853 - accuracy: 0.6182 - val_loss: 1.5246 - val_accuracy: 0.6116\n",
            "Epoch 8/30\n",
            "52/57 [==========================>...] - ETA: 0s - loss: 1.4182 - accuracy: 0.6351\n",
            "Epoch 00008: val_loss improved from 1.52462 to 1.48314, saving model to best-reuters-lstm.h5\n",
            "57/57 [==============================] - 1s 12ms/step - loss: 1.4116 - accuracy: 0.6362 - val_loss: 1.4831 - val_accuracy: 0.6238\n",
            "Epoch 9/30\n",
            "56/57 [============================>.] - ETA: 0s - loss: 1.3356 - accuracy: 0.6565\n",
            "Epoch 00009: val_loss improved from 1.48314 to 1.47383, saving model to best-reuters-lstm.h5\n",
            "57/57 [==============================] - 1s 12ms/step - loss: 1.3350 - accuracy: 0.6566 - val_loss: 1.4738 - val_accuracy: 0.6366\n",
            "Epoch 10/30\n",
            "56/57 [============================>.] - ETA: 0s - loss: 1.2799 - accuracy: 0.6689\n",
            "Epoch 00010: val_loss improved from 1.47383 to 1.42667, saving model to best-reuters-lstm.h5\n",
            "57/57 [==============================] - 1s 12ms/step - loss: 1.2794 - accuracy: 0.6692 - val_loss: 1.4267 - val_accuracy: 0.6388\n",
            "Epoch 11/30\n",
            "56/57 [============================>.] - ETA: 0s - loss: 1.2121 - accuracy: 0.6902\n",
            "Epoch 00011: val_loss improved from 1.42667 to 1.37069, saving model to best-reuters-lstm.h5\n",
            "57/57 [==============================] - 1s 12ms/step - loss: 1.2130 - accuracy: 0.6900 - val_loss: 1.3707 - val_accuracy: 0.6594\n",
            "Epoch 12/30\n",
            "53/57 [==========================>...] - ETA: 0s - loss: 1.1690 - accuracy: 0.6990\n",
            "Epoch 00012: val_loss did not improve from 1.37069\n",
            "57/57 [==============================] - 1s 12ms/step - loss: 1.1645 - accuracy: 0.7009 - val_loss: 1.3998 - val_accuracy: 0.6622\n",
            "Epoch 13/30\n",
            "54/57 [===========================>..] - ETA: 0s - loss: 1.1102 - accuracy: 0.7134\n",
            "Epoch 00013: val_loss improved from 1.37069 to 1.34821, saving model to best-reuters-lstm.h5\n",
            "57/57 [==============================] - 1s 12ms/step - loss: 1.1085 - accuracy: 0.7140 - val_loss: 1.3482 - val_accuracy: 0.6800\n",
            "Epoch 14/30\n",
            "52/57 [==========================>...] - ETA: 0s - loss: 1.0757 - accuracy: 0.7228\n",
            "Epoch 00014: val_loss improved from 1.34821 to 1.28900, saving model to best-reuters-lstm.h5\n",
            "57/57 [==============================] - 1s 12ms/step - loss: 1.0720 - accuracy: 0.7243 - val_loss: 1.2890 - val_accuracy: 0.6867\n",
            "Epoch 15/30\n",
            "52/57 [==========================>...] - ETA: 0s - loss: 0.9938 - accuracy: 0.7458\n",
            "Epoch 00015: val_loss did not improve from 1.28900\n",
            "57/57 [==============================] - 1s 12ms/step - loss: 1.0010 - accuracy: 0.7422 - val_loss: 1.3007 - val_accuracy: 0.6945\n",
            "Epoch 16/30\n",
            "53/57 [==========================>...] - ETA: 0s - loss: 1.0240 - accuracy: 0.7363\n",
            "Epoch 00016: val_loss did not improve from 1.28900\n",
            "57/57 [==============================] - 1s 12ms/step - loss: 1.0206 - accuracy: 0.7371 - val_loss: 1.3085 - val_accuracy: 0.6856\n",
            "Epoch 17/30\n",
            "54/57 [===========================>..] - ETA: 0s - loss: 0.9716 - accuracy: 0.7517\n",
            "Epoch 00017: val_loss did not improve from 1.28900\n",
            "57/57 [==============================] - 1s 12ms/step - loss: 0.9737 - accuracy: 0.7511 - val_loss: 1.3233 - val_accuracy: 0.6806\n",
            "Epoch 18/30\n",
            "56/57 [============================>.] - ETA: 0s - loss: 0.9368 - accuracy: 0.7620\n",
            "Epoch 00018: val_loss improved from 1.28900 to 1.27955, saving model to best-reuters-lstm.h5\n",
            "57/57 [==============================] - 1s 12ms/step - loss: 0.9366 - accuracy: 0.7619 - val_loss: 1.2796 - val_accuracy: 0.6984\n",
            "Epoch 19/30\n",
            "53/57 [==========================>...] - ETA: 0s - loss: 0.9027 - accuracy: 0.7698\n",
            "Epoch 00019: val_loss did not improve from 1.27955\n",
            "57/57 [==============================] - 1s 11ms/step - loss: 0.8966 - accuracy: 0.7705 - val_loss: 1.3051 - val_accuracy: 0.6917\n",
            "Epoch 20/30\n",
            "54/57 [===========================>..] - ETA: 0s - loss: 0.8648 - accuracy: 0.7811\n",
            "Epoch 00020: val_loss did not improve from 1.27955\n",
            "57/57 [==============================] - 1s 12ms/step - loss: 0.8646 - accuracy: 0.7814 - val_loss: 1.3090 - val_accuracy: 0.6878\n",
            "Epoch 21/30\n",
            "57/57 [==============================] - ETA: 0s - loss: 0.8668 - accuracy: 0.7809\n",
            "Epoch 00021: val_loss did not improve from 1.27955\n",
            "57/57 [==============================] - 1s 12ms/step - loss: 0.8668 - accuracy: 0.7809 - val_loss: 1.2852 - val_accuracy: 0.7067\n",
            "Epoch 22/30\n",
            "56/57 [============================>.] - ETA: 0s - loss: 0.8218 - accuracy: 0.7884\n",
            "Epoch 00022: val_loss did not improve from 1.27955\n",
            "57/57 [==============================] - 1s 12ms/step - loss: 0.8229 - accuracy: 0.7882 - val_loss: 1.2852 - val_accuracy: 0.7078\n",
            "Epoch 23/30\n",
            "53/57 [==========================>...] - ETA: 0s - loss: 0.8275 - accuracy: 0.7867\n",
            "Epoch 00023: val_loss did not improve from 1.27955\n",
            "57/57 [==============================] - 1s 12ms/step - loss: 0.8322 - accuracy: 0.7862 - val_loss: 1.3108 - val_accuracy: 0.6973\n"
          ]
        }
      ]
    },
    {
      "cell_type": "code",
      "source": [
        "best_model = load_model(model_path)\n",
        "best_model.evaluate(X_test, Y_test)"
      ],
      "metadata": {
        "colab": {
          "base_uri": "https://localhost:8080/"
        },
        "id": "Z22hB8pN7I1x",
        "outputId": "ea4fe25a-78ed-40a4-c3cd-ad70b72da31d"
      },
      "execution_count": 43,
      "outputs": [
        {
          "output_type": "stream",
          "name": "stdout",
          "text": [
            "71/71 [==============================] - 1s 4ms/step - loss: 1.2961 - accuracy: 0.6888\n"
          ]
        },
        {
          "output_type": "execute_result",
          "data": {
            "text/plain": [
              "[1.296080470085144, 0.6887800693511963]"
            ]
          },
          "metadata": {},
          "execution_count": 43
        }
      ]
    },
    {
      "cell_type": "markdown",
      "source": [
        "# 학습과정 시각화\n",
        "- 하나의 X축, 두개의 Y축 스케일"
      ],
      "metadata": {
        "id": "UL5yfpaK4oiJ"
      }
    },
    {
      "cell_type": "code",
      "source": [
        "y_acc = hist.history['accuracy']\n",
        "y_vacc = hist.history['val_accuracy']\n",
        "y_loss = hist.history['loss']\n",
        "y_vloss = hist.history['val_loss']\n",
        "x_len = np.arange(1, len(y_acc)+1)"
      ],
      "metadata": {
        "id": "8d7n2K0p4uQQ"
      },
      "execution_count": 41,
      "outputs": []
    },
    {
      "cell_type": "code",
      "source": [
        "fig, ax0 = plt.subplots(figsize=(12,8))\n",
        "ax1 = ax0.twinx()\n",
        "ax0.plot(x_len, y_loss, c='blue', label='train loss')\n",
        "ax0.plot(x_len, y_vloss, c='red', label='val loss')\n",
        "ax0.set_ylabel('loss')\n",
        "ax1.plot(x_len, y_acc, c='darkgreen', label='train acc')\n",
        "ax1.plot(x_len, y_vacc, c='magenta', label='val acc')\n",
        "ax1.set_ylabel('accuracy')\n",
        "ax0.set_xlabel('epoch')\n",
        "ax0.legend(loc='lower center'); ax1.legend(loc='upper center')\n",
        "plt.grid(); plt.show()"
      ],
      "metadata": {
        "colab": {
          "base_uri": "https://localhost:8080/",
          "height": 497
        },
        "id": "prxx_lwA4v9K",
        "outputId": "099e8335-95d0-4f87-d252-587f315085fb"
      },
      "execution_count": 42,
      "outputs": [
        {
          "output_type": "display_data",
          "data": {
            "image/png": "[encoded data removed]",
            "text/plain": [
              "<Figure size 864x576 with 2 Axes>"
            ]
          },
          "metadata": {
            "needs_background": "light"
          }
        }
      ]
    },
    {
      "cell_type": "markdown",
      "source": [
        "- case2) max_len=300"
      ],
      "metadata": {
        "id": "C3FkORft7fkf"
      }
    },
    {
      "cell_type": "code",
      "source": [
        "max_len=300\n",
        "X_train = pad_sequences(X_train, maxlen=max_len)\n",
        "X_test = pad_sequences(X_test, maxlen=max_len)\n",
        "Y_train = to_categorical(y_train)\n",
        "Y_test = to_categorical(y_test)\n",
        "X_train.shape, X_test.shape, Y_train.shape, Y_test.shape"
      ],
      "metadata": {
        "colab": {
          "base_uri": "https://localhost:8080/"
        },
        "id": "NvB920Du8a-J",
        "outputId": "3086dfa2-8929-4354-8b2f-a963165aa5d1"
      },
      "execution_count": 50,
      "outputs": [
        {
          "output_type": "execute_result",
          "data": {
            "text/plain": [
              "((8982, 300), (2246, 300), (8982, 46), (2246, 46))"
            ]
          },
          "metadata": {},
          "execution_count": 50
        }
      ]
    },
    {
      "cell_type": "code",
      "source": [
        "embedding_dim = 128\n",
        "hidden_units = 128\n",
        "num_classes = 46"
      ],
      "metadata": {
        "id": "lvjsq4Er7j9f"
      },
      "execution_count": null,
      "outputs": []
    },
    {
      "cell_type": "code",
      "source": [
        "model2 = Sequential([ \n",
        "    Embedding(num_words, embedding_dim, input_length=max_len),\n",
        "    LSTM(hidden_units),\n",
        "    Dense(num_classes, activation='softmax')\n",
        "])\n",
        "model2.summary()"
      ],
      "metadata": {
        "colab": {
          "base_uri": "https://localhost:8080/"
        },
        "outputId": "78f1c866-cdde-4b8b-fb8e-66e5f26c935d",
        "id": "nzzkSKZF7j9h"
      },
      "execution_count": 51,
      "outputs": [
        {
          "output_type": "stream",
          "name": "stdout",
          "text": [
            "Model: \"sequential_2\"\n",
            "_________________________________________________________________\n",
            " Layer (type)                Output Shape              Param #   \n",
            "=================================================================\n",
            " embedding_2 (Embedding)     (None, 300, 128)          128000    \n",
            "                                                                 \n",
            " lstm_2 (LSTM)               (None, 128)               131584    \n",
            "                                                                 \n",
            " dense_2 (Dense)             (None, 46)                5934      \n",
            "                                                                 \n",
            "=================================================================\n",
            "Total params: 265,518\n",
            "Trainable params: 265,518\n",
            "Non-trainable params: 0\n",
            "_________________________________________________________________\n"
          ]
        }
      ]
    },
    {
      "cell_type": "code",
      "source": [
        "model2.compile('adam', 'categorical_crossentropy', ['accuracy'])"
      ],
      "metadata": {
        "id": "I3jZeUR97j9i"
      },
      "execution_count": 52,
      "outputs": []
    },
    {
      "cell_type": "code",
      "source": [
        "model_path = 'best-reuters-lstm.h5'\n",
        "mc = ModelCheckpoint(model_path, save_best_only=True, verbose=1)\n",
        "es = EarlyStopping(patience=5)"
      ],
      "metadata": {
        "id": "Y9prnFep7j9j"
      },
      "execution_count": 53,
      "outputs": []
    },
    {
      "cell_type": "code",
      "source": [
        "hist2 = model2.fit(\n",
        "    X_train, Y_train, epochs=50, batch_size=128,\n",
        "    validation_split=0.2, callbacks=[mc,es]\n",
        ")"
      ],
      "metadata": {
        "colab": {
          "base_uri": "https://localhost:8080/"
        },
        "outputId": "aa20680a-1365-4757-d7fe-37dccff004fe",
        "id": "KbpujIF07j9k"
      },
      "execution_count": 54,
      "outputs": [
        {
          "output_type": "stream",
          "name": "stdout",
          "text": [
            "Epoch 1/50\n",
            "57/57 [==============================] - ETA: 0s - loss: 2.6729 - accuracy: 0.3470\n",
            "Epoch 00001: val_loss improved from inf to 2.42799, saving model to best-reuters-lstm.h5\n",
            "57/57 [==============================] - 3s 35ms/step - loss: 2.6729 - accuracy: 0.3470 - val_loss: 2.4280 - val_accuracy: 0.3450\n",
            "Epoch 2/50\n",
            "57/57 [==============================] - ETA: 0s - loss: 2.2069 - accuracy: 0.4461\n",
            "Epoch 00002: val_loss improved from 2.42799 to 2.03586, saving model to best-reuters-lstm.h5\n",
            "57/57 [==============================] - 2s 27ms/step - loss: 2.2069 - accuracy: 0.4461 - val_loss: 2.0359 - val_accuracy: 0.5031\n",
            "Epoch 3/50\n",
            "55/57 [===========================>..] - ETA: 0s - loss: 2.0125 - accuracy: 0.5009\n",
            "Epoch 00003: val_loss improved from 2.03586 to 1.94302, saving model to best-reuters-lstm.h5\n",
            "57/57 [==============================] - 2s 28ms/step - loss: 2.0118 - accuracy: 0.5006 - val_loss: 1.9430 - val_accuracy: 0.5192\n",
            "Epoch 4/50\n",
            "57/57 [==============================] - ETA: 0s - loss: 1.9386 - accuracy: 0.5187\n",
            "Epoch 00004: val_loss improved from 1.94302 to 1.80312, saving model to best-reuters-lstm.h5\n",
            "57/57 [==============================] - 2s 27ms/step - loss: 1.9386 - accuracy: 0.5187 - val_loss: 1.8031 - val_accuracy: 0.5498\n",
            "Epoch 5/50\n",
            "55/57 [===========================>..] - ETA: 0s - loss: 1.8008 - accuracy: 0.5511\n",
            "Epoch 00005: val_loss improved from 1.80312 to 1.77471, saving model to best-reuters-lstm.h5\n",
            "57/57 [==============================] - 2s 27ms/step - loss: 1.8008 - accuracy: 0.5509 - val_loss: 1.7747 - val_accuracy: 0.5504\n",
            "Epoch 6/50\n",
            "57/57 [==============================] - ETA: 0s - loss: 1.6687 - accuracy: 0.5734\n",
            "Epoch 00006: val_loss improved from 1.77471 to 1.69856, saving model to best-reuters-lstm.h5\n",
            "57/57 [==============================] - 2s 27ms/step - loss: 1.6687 - accuracy: 0.5734 - val_loss: 1.6986 - val_accuracy: 0.5737\n",
            "Epoch 7/50\n",
            "56/57 [============================>.] - ETA: 0s - loss: 1.6024 - accuracy: 0.6007\n",
            "Epoch 00007: val_loss improved from 1.69856 to 1.62336, saving model to best-reuters-lstm.h5\n",
            "57/57 [==============================] - 2s 28ms/step - loss: 1.6015 - accuracy: 0.6008 - val_loss: 1.6234 - val_accuracy: 0.6027\n",
            "Epoch 8/50\n",
            "55/57 [===========================>..] - ETA: 0s - loss: 1.5269 - accuracy: 0.6115\n",
            "Epoch 00008: val_loss improved from 1.62336 to 1.53476, saving model to best-reuters-lstm.h5\n",
            "57/57 [==============================] - 2s 28ms/step - loss: 1.5212 - accuracy: 0.6135 - val_loss: 1.5348 - val_accuracy: 0.6144\n",
            "Epoch 9/50\n",
            "55/57 [===========================>..] - ETA: 0s - loss: 1.4193 - accuracy: 0.6423\n",
            "Epoch 00009: val_loss improved from 1.53476 to 1.46377, saving model to best-reuters-lstm.h5\n",
            "57/57 [==============================] - 2s 28ms/step - loss: 1.4205 - accuracy: 0.6420 - val_loss: 1.4638 - val_accuracy: 0.6299\n",
            "Epoch 10/50\n",
            "56/57 [============================>.] - ETA: 0s - loss: 1.3870 - accuracy: 0.6523\n",
            "Epoch 00010: val_loss improved from 1.46377 to 1.39830, saving model to best-reuters-lstm.h5\n",
            "57/57 [==============================] - 2s 27ms/step - loss: 1.3861 - accuracy: 0.6526 - val_loss: 1.3983 - val_accuracy: 0.6544\n",
            "Epoch 11/50\n",
            "56/57 [============================>.] - ETA: 0s - loss: 1.2564 - accuracy: 0.6828\n",
            "Epoch 00011: val_loss improved from 1.39830 to 1.35367, saving model to best-reuters-lstm.h5\n",
            "57/57 [==============================] - 2s 29ms/step - loss: 1.2581 - accuracy: 0.6825 - val_loss: 1.3537 - val_accuracy: 0.6644\n",
            "Epoch 12/50\n",
            "55/57 [===========================>..] - ETA: 0s - loss: 1.2058 - accuracy: 0.6953\n",
            "Epoch 00012: val_loss improved from 1.35367 to 1.34023, saving model to best-reuters-lstm.h5\n",
            "57/57 [==============================] - 2s 27ms/step - loss: 1.2072 - accuracy: 0.6952 - val_loss: 1.3402 - val_accuracy: 0.6789\n",
            "Epoch 13/50\n",
            "56/57 [============================>.] - ETA: 0s - loss: 1.1523 - accuracy: 0.7031\n",
            "Epoch 00013: val_loss improved from 1.34023 to 1.30973, saving model to best-reuters-lstm.h5\n",
            "57/57 [==============================] - 2s 27ms/step - loss: 1.1514 - accuracy: 0.7034 - val_loss: 1.3097 - val_accuracy: 0.6756\n",
            "Epoch 14/50\n",
            "55/57 [===========================>..] - ETA: 0s - loss: 1.0883 - accuracy: 0.7237\n",
            "Epoch 00014: val_loss improved from 1.30973 to 1.28006, saving model to best-reuters-lstm.h5\n",
            "57/57 [==============================] - 2s 28ms/step - loss: 1.0863 - accuracy: 0.7244 - val_loss: 1.2801 - val_accuracy: 0.6928\n",
            "Epoch 15/50\n",
            "56/57 [============================>.] - ETA: 0s - loss: 1.0306 - accuracy: 0.7372\n",
            "Epoch 00015: val_loss did not improve from 1.28006\n",
            "57/57 [==============================] - 2s 27ms/step - loss: 1.0315 - accuracy: 0.7371 - val_loss: 1.2914 - val_accuracy: 0.6917\n",
            "Epoch 16/50\n",
            "55/57 [===========================>..] - ETA: 0s - loss: 1.0085 - accuracy: 0.7419\n",
            "Epoch 00016: val_loss did not improve from 1.28006\n",
            "57/57 [==============================] - 2s 27ms/step - loss: 1.0075 - accuracy: 0.7418 - val_loss: 1.2850 - val_accuracy: 0.6923\n",
            "Epoch 17/50\n",
            "57/57 [==============================] - ETA: 0s - loss: 0.9466 - accuracy: 0.7595\n",
            "Epoch 00017: val_loss improved from 1.28006 to 1.25089, saving model to best-reuters-lstm.h5\n",
            "57/57 [==============================] - 2s 28ms/step - loss: 0.9466 - accuracy: 0.7595 - val_loss: 1.2509 - val_accuracy: 0.7056\n",
            "Epoch 18/50\n",
            "55/57 [===========================>..] - ETA: 0s - loss: 0.9083 - accuracy: 0.7679\n",
            "Epoch 00018: val_loss did not improve from 1.25089\n",
            "57/57 [==============================] - 2s 27ms/step - loss: 0.9113 - accuracy: 0.7667 - val_loss: 1.2849 - val_accuracy: 0.7034\n",
            "Epoch 19/50\n",
            "56/57 [============================>.] - ETA: 0s - loss: 0.8726 - accuracy: 0.7759\n",
            "Epoch 00019: val_loss did not improve from 1.25089\n",
            "57/57 [==============================] - 2s 27ms/step - loss: 0.8720 - accuracy: 0.7761 - val_loss: 1.2997 - val_accuracy: 0.7045\n",
            "Epoch 20/50\n",
            "55/57 [===========================>..] - ETA: 0s - loss: 0.8508 - accuracy: 0.7847\n",
            "Epoch 00020: val_loss did not improve from 1.25089\n",
            "57/57 [==============================] - 2s 27ms/step - loss: 0.8510 - accuracy: 0.7837 - val_loss: 1.2857 - val_accuracy: 0.6939\n",
            "Epoch 21/50\n",
            "55/57 [===========================>..] - ETA: 0s - loss: 0.8303 - accuracy: 0.7885\n",
            "Epoch 00021: val_loss did not improve from 1.25089\n",
            "57/57 [==============================] - 2s 27ms/step - loss: 0.8244 - accuracy: 0.7900 - val_loss: 1.2708 - val_accuracy: 0.7078\n",
            "Epoch 22/50\n",
            "55/57 [===========================>..] - ETA: 0s - loss: 0.7883 - accuracy: 0.7993\n",
            "Epoch 00022: val_loss did not improve from 1.25089\n",
            "57/57 [==============================] - 2s 27ms/step - loss: 0.7892 - accuracy: 0.7994 - val_loss: 1.2681 - val_accuracy: 0.7173\n"
          ]
        }
      ]
    },
    {
      "cell_type": "code",
      "source": [
        "best_model = load_model(model_path)\n",
        "best_model.evaluate(X_test, Y_test)"
      ],
      "metadata": {
        "colab": {
          "base_uri": "https://localhost:8080/"
        },
        "outputId": "4fb27513-c5b0-447f-90e8-2685e7298fef",
        "id": "DBbtcuE-7j9m"
      },
      "execution_count": 55,
      "outputs": [
        {
          "output_type": "stream",
          "name": "stdout",
          "text": [
            "71/71 [==============================] - 1s 7ms/step - loss: 1.2763 - accuracy: 0.6897\n"
          ]
        },
        {
          "output_type": "execute_result",
          "data": {
            "text/plain": [
              "[1.2763347625732422, 0.6896705031394958]"
            ]
          },
          "metadata": {},
          "execution_count": 55
        }
      ]
    },
    {
      "cell_type": "code",
      "source": [
        ""
      ],
      "metadata": {
        "id": "blfjrPVI85it"
      },
      "execution_count": null,
      "outputs": []
    },
    {
      "cell_type": "code",
      "source": [
        "y_acc = hist.history['accuracy']\n",
        "y_vacc = hist.history['val_accuracy']\n",
        "y_loss = hist.history['loss']\n",
        "y_vloss = hist.history['val_loss']\n",
        "x_len = np.arange(1, len(y_acc)+1)"
      ],
      "metadata": {
        "id": "RcegHr1m8_8C"
      },
      "execution_count": 56,
      "outputs": []
    },
    {
      "cell_type": "code",
      "source": [
        "fig, ax0 = plt.subplots(figsize=(12,8))\n",
        "ax1 = ax0.twinx()\n",
        "ax0.plot(x_len, y_loss, c='blue', label='train loss')\n",
        "ax0.plot(x_len, y_vloss, c='red', label='val loss')\n",
        "ax0.set_ylabel('loss')\n",
        "ax1.plot(x_len, y_acc, c='darkgreen', label='train acc')\n",
        "ax1.plot(x_len, y_vacc, c='magenta', label='val acc')\n",
        "ax1.set_ylabel('accuracy')\n",
        "ax0.set_xlabel('epoch')\n",
        "ax0.legend(loc='lower center'); ax1.legend(loc='upper center')\n",
        "plt.grid(); plt.show()"
      ],
      "metadata": {
        "colab": {
          "base_uri": "https://localhost:8080/",
          "height": 497
        },
        "outputId": "546fa385-a39c-41cc-d96f-1982633ce1c2",
        "id": "UlLrCw_f8_8F"
      },
      "execution_count": 57,
      "outputs": [
        {
          "output_type": "display_data",
          "data": {
            "image/png": "[encoded data removed]",
            "text/plain": [
              "<Figure size 864x576 with 2 Axes>"
            ]
          },
          "metadata": {
            "needs_background": "light"
          }
        }
      ]
    },
    {
      "cell_type": "code",
      "source": [
        ""
      ],
      "metadata": {
        "id": "sNQkw6QF9BBL"
      },
      "execution_count": null,
      "outputs": []
    }
  ]
}