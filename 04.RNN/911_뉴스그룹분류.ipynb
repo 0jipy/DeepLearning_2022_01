{
  "cells": [
    {
      "cell_type": "markdown",
      "metadata": {
        "id": "R2Zs7kd-mvOS"
      },
      "source": [
        "\n",
        "\n",
        "## 뉴스그룹분류 \n",
        "\n",
        "    - Train / Test 데이터로 분류 되어있으며, \n",
        "    뉴스의 카테고리에 해당하는 내용이 topic dict 자료에 들어있습니다"
      ]
    },
    {
      "cell_type": "markdown",
      "metadata": {
        "id": "cXWlS7pinkEN"
      },
      "source": [
        "- 파일 불러오기 / 경로설정"
      ]
    },
    {
      "cell_type": "code",
      "execution_count": 1,
      "metadata": {
        "colab": {
          "base_uri": "https://localhost:8080/"
        },
        "id": "FLgWpXB92gSf",
        "outputId": "68af507c-2bc2-48e0-c504-7af3aaafea9b"
      },
      "outputs": [
        {
          "name": "stdout",
          "output_type": "stream",
          "text": [
            "Mounted at /content/drive\n"
          ]
        }
      ],
      "source": [
        "from google.colab import drive\n",
        "drive.mount('/content/drive')"
      ]
    },
    {
      "cell_type": "code",
      "execution_count": 67,
      "metadata": {
        "id": "JziXgLuO5tgV"
      },
      "outputs": [],
      "source": [
        "import os\n",
        "os.chdir('/content/drive/MyDrive/뉴스 토픽 분류 AI 경진대회')"
      ]
    },
    {
      "cell_type": "code",
      "execution_count": 68,
      "metadata": {
        "id": "cv0PnKw_51d5"
      },
      "outputs": [],
      "source": [
        "import pandas as pd\n",
        "import numpy as np\n",
        "import tensorflow as tf\n",
        "\n",
        "from sklearn.model_selection import train_test_split"
      ]
    },
    {
      "cell_type": "code",
      "execution_count": 116,
      "metadata": {
        "id": "UJ0bte9f53g3"
      },
      "outputs": [],
      "source": [
        "train      = pd.read_csv(\"open/train_data.csv\")\n",
        "test       = pd.read_csv(\"open/test_data.csv\")\n",
        "# submission = pd.read_csv(\"open/sample_submission.csv\")\n",
        "topic_dict = pd.read_csv(\"open/topic_dict.csv\")"
      ]
    },
    {
      "cell_type": "markdown",
      "metadata": {
        "id": "2T497MUiXbon"
      },
      "source": [
        "## 데이터 탐색 및 트레인/테스트 셋 준비"
      ]
    },
    {
      "cell_type": "markdown",
      "metadata": {
        "id": "G_kJf36OYFW7"
      },
      "source": [
        "- Train"
      ]
    },
    {
      "cell_type": "code",
      "execution_count": 74,
      "metadata": {
        "colab": {
          "base_uri": "https://localhost:8080/"
        },
        "id": "m4s8T8eeYLuW",
        "outputId": "07dea6b3-e1f0-417e-ad0d-6c80a5f5fec0"
      },
      "outputs": [
        {
          "name": "stdout",
          "output_type": "stream",
          "text": [
            "<class 'pandas.core.frame.DataFrame'>\n",
            "RangeIndex: 45654 entries, 0 to 45653\n",
            "Data columns (total 3 columns):\n",
            " #   Column     Non-Null Count  Dtype \n",
            "---  ------     --------------  ----- \n",
            " 0   index      45654 non-null  int64 \n",
            " 1   title      45654 non-null  object\n",
            " 2   topic_idx  45654 non-null  int64 \n",
            "dtypes: int64(2), object(1)\n",
            "memory usage: 1.0+ MB\n"
          ]
        }
      ],
      "source": [
        "train.info()"
      ]
    },
    {
      "cell_type": "code",
      "execution_count": 76,
      "metadata": {
        "colab": {
          "base_uri": "https://localhost:8080/",
          "height": 143
        },
        "id": "mzo0tbC5X50l",
        "outputId": "aaa064fe-864b-49a8-97f7-bf4176c7f6c2"
      },
      "outputs": [
        {
          "data": {
            "text/html": [
              "\n",
              "  <div id=\"df-3d44807f-f293-47ba-9445-fef08177559e\">\n",
              "    <div class=\"colab-df-container\">\n",
              "      <div>\n",
              "<style scoped>\n",
              "    .dataframe tbody tr th:only-of-type {\n",
              "        vertical-align: middle;\n",
              "    }\n",
              "\n",
              "    .dataframe tbody tr th {\n",
              "        vertical-align: top;\n",
              "    }\n",
              "\n",
              "    .dataframe thead th {\n",
              "        text-align: right;\n",
              "    }\n",
              "</style>\n",
              "<table border=\"1\" class=\"dataframe\">\n",
              "  <thead>\n",
              "    <tr style=\"text-align: right;\">\n",
              "      <th></th>\n",
              "      <th>index</th>\n",
              "      <th>title</th>\n",
              "      <th>topic_idx</th>\n",
              "    </tr>\n",
              "  </thead>\n",
              "  <tbody>\n",
              "    <tr>\n",
              "      <th>0</th>\n",
              "      <td>0</td>\n",
              "      <td>인천핀란드 항공기 결항휴가철 여행객 분통</td>\n",
              "      <td>4</td>\n",
              "    </tr>\n",
              "    <tr>\n",
              "      <th>1</th>\n",
              "      <td>1</td>\n",
              "      <td>실리콘밸리 넘어서겠다구글 조원 들여 전역 거점화</td>\n",
              "      <td>4</td>\n",
              "    </tr>\n",
              "    <tr>\n",
              "      <th>2</th>\n",
              "      <td>2</td>\n",
              "      <td>이란 외무 긴장완화 해결책은 미국이 경제전쟁 멈추는 것</td>\n",
              "      <td>4</td>\n",
              "    </tr>\n",
              "  </tbody>\n",
              "</table>\n",
              "</div>\n",
              "      <button class=\"colab-df-convert\" onclick=\"convertToInteractive('df-3d44807f-f293-47ba-9445-fef08177559e')\"\n",
              "              title=\"Convert this dataframe to an interactive table.\"\n",
              "              style=\"display:none;\">\n",
              "        \n",
              "  <svg xmlns=\"http://www.w3.org/2000/svg\" height=\"24px\"viewBox=\"0 0 24 24\"\n",
              "       width=\"24px\">\n",
              "    <path d=\"M0 0h24v24H0V0z\" fill=\"none\"/>\n",
              "    <path d=\"M18.56 5.44l.94 2.06.94-2.06 2.06-.94-2.06-.94-.94-2.06-.94 2.06-2.06.94zm-11 1L8.5 8.5l.94-2.06 2.06-.94-2.06-.94L8.5 2.5l-.94 2.06-2.06.94zm10 10l.94 2.06.94-2.06 2.06-.94-2.06-.94-.94-2.06-.94 2.06-2.06.94z\"/><path d=\"M17.41 7.96l-1.37-1.37c-.4-.4-.92-.59-1.43-.59-.52 0-1.04.2-1.43.59L10.3 9.45l-7.72 7.72c-.78.78-.78 2.05 0 2.83L4 21.41c.39.39.9.59 1.41.59.51 0 1.02-.2 1.41-.59l7.78-7.78 2.81-2.81c.8-.78.8-2.07 0-2.86zM5.41 20L4 18.59l7.72-7.72 1.47 1.35L5.41 20z\"/>\n",
              "  </svg>\n",
              "      </button>\n",
              "      \n",
              "  <style>\n",
              "    .colab-df-container {\n",
              "      display:flex;\n",
              "      flex-wrap:wrap;\n",
              "      gap: 12px;\n",
              "    }\n",
              "\n",
              "    .colab-df-convert {\n",
              "      background-color: #E8F0FE;\n",
              "      border: none;\n",
              "      border-radius: 50%;\n",
              "      cursor: pointer;\n",
              "      display: none;\n",
              "      fill: #1967D2;\n",
              "      height: 32px;\n",
              "      padding: 0 0 0 0;\n",
              "      width: 32px;\n",
              "    }\n",
              "\n",
              "    .colab-df-convert:hover {\n",
              "      background-color: #E2EBFA;\n",
              "      box-shadow: 0px 1px 2px rgba(60, 64, 67, 0.3), 0px 1px 3px 1px rgba(60, 64, 67, 0.15);\n",
              "      fill: #174EA6;\n",
              "    }\n",
              "\n",
              "    [theme=dark] .colab-df-convert {\n",
              "      background-color: #3B4455;\n",
              "      fill: #D2E3FC;\n",
              "    }\n",
              "\n",
              "    [theme=dark] .colab-df-convert:hover {\n",
              "      background-color: #434B5C;\n",
              "      box-shadow: 0px 1px 3px 1px rgba(0, 0, 0, 0.15);\n",
              "      filter: drop-shadow(0px 1px 2px rgba(0, 0, 0, 0.3));\n",
              "      fill: #FFFFFF;\n",
              "    }\n",
              "  </style>\n",
              "\n",
              "      <script>\n",
              "        const buttonEl =\n",
              "          document.querySelector('#df-3d44807f-f293-47ba-9445-fef08177559e button.colab-df-convert');\n",
              "        buttonEl.style.display =\n",
              "          google.colab.kernel.accessAllowed ? 'block' : 'none';\n",
              "\n",
              "        async function convertToInteractive(key) {\n",
              "          const element = document.querySelector('#df-3d44807f-f293-47ba-9445-fef08177559e');\n",
              "          const dataTable =\n",
              "            await google.colab.kernel.invokeFunction('convertToInteractive',\n",
              "                                                     [key], {});\n",
              "          if (!dataTable) return;\n",
              "\n",
              "          const docLinkHtml = 'Like what you see? Visit the ' +\n",
              "            '<a target=\"_blank\" href=https://colab.research.google.com/notebooks/data_table.ipynb>data table notebook</a>'\n",
              "            + ' to learn more about interactive tables.';\n",
              "          element.innerHTML = '';\n",
              "          dataTable['output_type'] = 'display_data';\n",
              "          await google.colab.output.renderOutput(dataTable, element);\n",
              "          const docLink = document.createElement('div');\n",
              "          docLink.innerHTML = docLinkHtml;\n",
              "          element.appendChild(docLink);\n",
              "        }\n",
              "      </script>\n",
              "    </div>\n",
              "  </div>\n",
              "  "
            ],
            "text/plain": [
              "   index                           title  topic_idx\n",
              "0      0          인천핀란드 항공기 결항휴가철 여행객 분통          4\n",
              "1      1      실리콘밸리 넘어서겠다구글 조원 들여 전역 거점화          4\n",
              "2      2  이란 외무 긴장완화 해결책은 미국이 경제전쟁 멈추는 것          4"
            ]
          },
          "execution_count": 76,
          "metadata": {},
          "output_type": "execute_result"
        }
      ],
      "source": [
        "train.head(3)"
      ]
    },
    {
      "cell_type": "code",
      "execution_count": 77,
      "metadata": {
        "colab": {
          "base_uri": "https://localhost:8080/"
        },
        "id": "Sbo6_qkpX-L6",
        "outputId": "4bfa9883-c028-4811-9b67-fe39cec9a327"
      },
      "outputs": [
        {
          "data": {
            "text/plain": [
              "(45654, 3)"
            ]
          },
          "execution_count": 77,
          "metadata": {},
          "output_type": "execute_result"
        }
      ],
      "source": [
        "train.shape"
      ]
    },
    {
      "cell_type": "code",
      "execution_count": 78,
      "metadata": {
        "colab": {
          "base_uri": "https://localhost:8080/"
        },
        "id": "ca4wxFJf_qPI",
        "outputId": "91d9987b-581c-4023-f22a-1dabf5176a50"
      },
      "outputs": [
        {
          "data": {
            "text/plain": [
              "array(['인천핀란드 항공기 결항휴가철 여행객 분통', '실리콘밸리 넘어서겠다구글 조원 들여 전역 거점화',\n",
              "       '이란 외무 긴장완화 해결책은 미국이 경제전쟁 멈추는 것', ..., '게시판 키움증권  키움 영웅전 실전투자대회',\n",
              "       '답변하는 배기동 국립중앙박물관장', ' 한국인터넷기자상 시상식 내달 일 개최특별상 김성후'], dtype=object)"
            ]
          },
          "execution_count": 78,
          "metadata": {},
          "output_type": "execute_result"
        }
      ],
      "source": [
        "train.title = train.title.str.replace('[^가-힣ㄱ-ㅎㅏ-ㅣ ]', '') # 한글만 남기고 제거하기\n",
        "train.title.values"
      ]
    },
    {
      "cell_type": "markdown",
      "metadata": {
        "id": "5ozGLk6DYJ7-"
      },
      "source": [
        "- Test"
      ]
    },
    {
      "cell_type": "code",
      "execution_count": 79,
      "metadata": {
        "colab": {
          "base_uri": "https://localhost:8080/"
        },
        "id": "r5ucL2zCYNSn",
        "outputId": "19758746-c779-42c4-b6e4-843926cea5d1"
      },
      "outputs": [
        {
          "data": {
            "text/plain": [
              "index    0\n",
              "title    0\n",
              "dtype: int64"
            ]
          },
          "execution_count": 79,
          "metadata": {},
          "output_type": "execute_result"
        }
      ],
      "source": [
        "test.isnull().sum() # topic_idx (뉴스그룹번호) 없는것, 비지도학습 체크체크"
      ]
    },
    {
      "cell_type": "code",
      "execution_count": 80,
      "metadata": {
        "colab": {
          "base_uri": "https://localhost:8080/",
          "height": 143
        },
        "id": "YHlOjKcPYcF-",
        "outputId": "656b98cd-063d-488c-f1de-ebfc1d198501"
      },
      "outputs": [
        {
          "data": {
            "text/html": [
              "\n",
              "  <div id=\"df-64f85f54-10c1-4762-bc4a-27f07769b1ff\">\n",
              "    <div class=\"colab-df-container\">\n",
              "      <div>\n",
              "<style scoped>\n",
              "    .dataframe tbody tr th:only-of-type {\n",
              "        vertical-align: middle;\n",
              "    }\n",
              "\n",
              "    .dataframe tbody tr th {\n",
              "        vertical-align: top;\n",
              "    }\n",
              "\n",
              "    .dataframe thead th {\n",
              "        text-align: right;\n",
              "    }\n",
              "</style>\n",
              "<table border=\"1\" class=\"dataframe\">\n",
              "  <thead>\n",
              "    <tr style=\"text-align: right;\">\n",
              "      <th></th>\n",
              "      <th>index</th>\n",
              "      <th>title</th>\n",
              "    </tr>\n",
              "  </thead>\n",
              "  <tbody>\n",
              "    <tr>\n",
              "      <th>0</th>\n",
              "      <td>45654</td>\n",
              "      <td>유튜브 내달 2일까지 크리에이터 지원 공간 운영</td>\n",
              "    </tr>\n",
              "    <tr>\n",
              "      <th>1</th>\n",
              "      <td>45655</td>\n",
              "      <td>어버이날 맑다가 흐려져…남부지방 옅은 황사</td>\n",
              "    </tr>\n",
              "    <tr>\n",
              "      <th>2</th>\n",
              "      <td>45656</td>\n",
              "      <td>내년부터 국가RD 평가 때 논문건수는 반영 않는다</td>\n",
              "    </tr>\n",
              "  </tbody>\n",
              "</table>\n",
              "</div>\n",
              "      <button class=\"colab-df-convert\" onclick=\"convertToInteractive('df-64f85f54-10c1-4762-bc4a-27f07769b1ff')\"\n",
              "              title=\"Convert this dataframe to an interactive table.\"\n",
              "              style=\"display:none;\">\n",
              "        \n",
              "  <svg xmlns=\"http://www.w3.org/2000/svg\" height=\"24px\"viewBox=\"0 0 24 24\"\n",
              "       width=\"24px\">\n",
              "    <path d=\"M0 0h24v24H0V0z\" fill=\"none\"/>\n",
              "    <path d=\"M18.56 5.44l.94 2.06.94-2.06 2.06-.94-2.06-.94-.94-2.06-.94 2.06-2.06.94zm-11 1L8.5 8.5l.94-2.06 2.06-.94-2.06-.94L8.5 2.5l-.94 2.06-2.06.94zm10 10l.94 2.06.94-2.06 2.06-.94-2.06-.94-.94-2.06-.94 2.06-2.06.94z\"/><path d=\"M17.41 7.96l-1.37-1.37c-.4-.4-.92-.59-1.43-.59-.52 0-1.04.2-1.43.59L10.3 9.45l-7.72 7.72c-.78.78-.78 2.05 0 2.83L4 21.41c.39.39.9.59 1.41.59.51 0 1.02-.2 1.41-.59l7.78-7.78 2.81-2.81c.8-.78.8-2.07 0-2.86zM5.41 20L4 18.59l7.72-7.72 1.47 1.35L5.41 20z\"/>\n",
              "  </svg>\n",
              "      </button>\n",
              "      \n",
              "  <style>\n",
              "    .colab-df-container {\n",
              "      display:flex;\n",
              "      flex-wrap:wrap;\n",
              "      gap: 12px;\n",
              "    }\n",
              "\n",
              "    .colab-df-convert {\n",
              "      background-color: #E8F0FE;\n",
              "      border: none;\n",
              "      border-radius: 50%;\n",
              "      cursor: pointer;\n",
              "      display: none;\n",
              "      fill: #1967D2;\n",
              "      height: 32px;\n",
              "      padding: 0 0 0 0;\n",
              "      width: 32px;\n",
              "    }\n",
              "\n",
              "    .colab-df-convert:hover {\n",
              "      background-color: #E2EBFA;\n",
              "      box-shadow: 0px 1px 2px rgba(60, 64, 67, 0.3), 0px 1px 3px 1px rgba(60, 64, 67, 0.15);\n",
              "      fill: #174EA6;\n",
              "    }\n",
              "\n",
              "    [theme=dark] .colab-df-convert {\n",
              "      background-color: #3B4455;\n",
              "      fill: #D2E3FC;\n",
              "    }\n",
              "\n",
              "    [theme=dark] .colab-df-convert:hover {\n",
              "      background-color: #434B5C;\n",
              "      box-shadow: 0px 1px 3px 1px rgba(0, 0, 0, 0.15);\n",
              "      filter: drop-shadow(0px 1px 2px rgba(0, 0, 0, 0.3));\n",
              "      fill: #FFFFFF;\n",
              "    }\n",
              "  </style>\n",
              "\n",
              "      <script>\n",
              "        const buttonEl =\n",
              "          document.querySelector('#df-64f85f54-10c1-4762-bc4a-27f07769b1ff button.colab-df-convert');\n",
              "        buttonEl.style.display =\n",
              "          google.colab.kernel.accessAllowed ? 'block' : 'none';\n",
              "\n",
              "        async function convertToInteractive(key) {\n",
              "          const element = document.querySelector('#df-64f85f54-10c1-4762-bc4a-27f07769b1ff');\n",
              "          const dataTable =\n",
              "            await google.colab.kernel.invokeFunction('convertToInteractive',\n",
              "                                                     [key], {});\n",
              "          if (!dataTable) return;\n",
              "\n",
              "          const docLinkHtml = 'Like what you see? Visit the ' +\n",
              "            '<a target=\"_blank\" href=https://colab.research.google.com/notebooks/data_table.ipynb>data table notebook</a>'\n",
              "            + ' to learn more about interactive tables.';\n",
              "          element.innerHTML = '';\n",
              "          dataTable['output_type'] = 'display_data';\n",
              "          await google.colab.output.renderOutput(dataTable, element);\n",
              "          const docLink = document.createElement('div');\n",
              "          docLink.innerHTML = docLinkHtml;\n",
              "          element.appendChild(docLink);\n",
              "        }\n",
              "      </script>\n",
              "    </div>\n",
              "  </div>\n",
              "  "
            ],
            "text/plain": [
              "   index                        title\n",
              "0  45654   유튜브 내달 2일까지 크리에이터 지원 공간 운영\n",
              "1  45655      어버이날 맑다가 흐려져…남부지방 옅은 황사\n",
              "2  45656  내년부터 국가RD 평가 때 논문건수는 반영 않는다"
            ]
          },
          "execution_count": 80,
          "metadata": {},
          "output_type": "execute_result"
        }
      ],
      "source": [
        "test.head(3)"
      ]
    },
    {
      "cell_type": "code",
      "execution_count": 81,
      "metadata": {
        "colab": {
          "base_uri": "https://localhost:8080/"
        },
        "id": "Cs41uebNG5aQ",
        "outputId": "8fdaff87-23f0-4e2b-fae6-f6d975dd912d"
      },
      "outputs": [
        {
          "data": {
            "text/plain": [
              "array(['유튜브 내달 일까지 크리에이터 지원 공간 운영', '어버이날 맑다가 흐려져남부지방 옅은 황사',\n",
              "       '내년부터 국가 평가 때 논문건수는 반영 않는다', ..., '년 전 부마항쟁 부산 시위 사진 점 최초 공개',\n",
              "       '게시판 아리랑 아프리카개발은행 총회 개회식 생중계', '유영민 과기장관 강소특구는 지역 혁신의 중심지원책 강구'],\n",
              "      dtype=object)"
            ]
          },
          "execution_count": 81,
          "metadata": {},
          "output_type": "execute_result"
        }
      ],
      "source": [
        "test.title = test.title.str.replace('[^가-힣ㄱ-ㅎㅏ-ㅣ ]', '') # 한글만 남기고 제거하기\n",
        "test.title.values"
      ]
    },
    {
      "cell_type": "code",
      "execution_count": 82,
      "metadata": {
        "colab": {
          "base_uri": "https://localhost:8080/"
        },
        "id": "IUVuKMfsYktN",
        "outputId": "2a3956b3-c178-4fec-c269-fad8199d0c54"
      },
      "outputs": [
        {
          "data": {
            "text/plain": [
              "((45654,), (45654,))"
            ]
          },
          "execution_count": 82,
          "metadata": {},
          "output_type": "execute_result"
        }
      ],
      "source": [
        "X_train = train.title.values\n",
        "y_train = train.topic_idx.values\n",
        "X_train.shape, y_train.shape"
      ]
    },
    {
      "cell_type": "code",
      "execution_count": 84,
      "metadata": {
        "colab": {
          "base_uri": "https://localhost:8080/"
        },
        "id": "IH9E_YBXF0DQ",
        "outputId": "8dee8f1b-9392-482e-da0c-d3a48fb1195b"
      },
      "outputs": [
        {
          "data": {
            "text/plain": [
              "(9131,)"
            ]
          },
          "execution_count": 84,
          "metadata": {},
          "output_type": "execute_result"
        }
      ],
      "source": [
        "X_test = test.title.values\n",
        "X_test.shape\n",
        "# 비지도 학습 뉴스카테고리 값인 y_test. 없어. 어떻게 평가를 할 수 있을지? 밸리데이션으로 모델평가?\n",
        "# - ? 실제 데이터 20개 평가해봐야 하나 ?"
      ]
    },
    {
      "cell_type": "code",
      "execution_count": 85,
      "metadata": {
        "colab": {
          "base_uri": "https://localhost:8080/"
        },
        "id": "Lvvx9dTiJSSH",
        "outputId": "ffb2dd65-0e92-402f-81db-09b693ea4381"
      },
      "outputs": [
        {
          "data": {
            "text/plain": [
              "(numpy.ndarray, numpy.ndarray, numpy.ndarray)"
            ]
          },
          "execution_count": 85,
          "metadata": {},
          "output_type": "execute_result"
        }
      ],
      "source": [
        "type(X_train), type(y_train), type(X_test)"
      ]
    },
    {
      "cell_type": "markdown",
      "metadata": {
        "id": "rCy9h49FZd2V"
      },
      "source": [
        "## 피쳐 벡터화 케라스의 토크나이저 이용"
      ]
    },
    {
      "cell_type": "code",
      "execution_count": 86,
      "metadata": {
        "id": "w2aWkvuaZntP"
      },
      "outputs": [],
      "source": [
        "from tensorflow.keras.preprocessing.text import Tokenizer"
      ]
    },
    {
      "cell_type": "code",
      "execution_count": 88,
      "metadata": {
        "id": "EJX1NhmuaPqt"
      },
      "outputs": [],
      "source": [
        "tok = Tokenizer()\n",
        "tok.fit_on_texts(X_train)"
      ]
    },
    {
      "cell_type": "code",
      "execution_count": 89,
      "metadata": {
        "id": "Pg54BPdvM9UZ"
      },
      "outputs": [],
      "source": [
        "threshold = 2\n",
        "total_cnt = len(tok.word_index) # 단어의 수\n",
        "rare_cnt = 0 # 등장 빈도수가 threshold보다 작은 단어의 개수를 카운트\n",
        "total_freq = 0 # 훈련 데이터의 전체 단어 빈도수 총 합\n",
        "rare_freq = 0 # 등장 빈도수가 threshold보다 작은 단어의 등장 빈도수의 총 합"
      ]
    },
    {
      "cell_type": "code",
      "execution_count": null,
      "metadata": {
        "colab": {
          "base_uri": "https://localhost:8080/"
        },
        "id": "-xkxCWFpaf7x",
        "outputId": "2d464f65-ef16-44f3-e9b8-fbc340aa8503"
      },
      "outputs": [],
      "source": [
        "print(tok.word_counts)"
      ]
    },
    {
      "cell_type": "code",
      "execution_count": 93,
      "metadata": {
        "id": "NZ3n4S6HQrMs"
      },
      "outputs": [],
      "source": [
        "for key, value in tok.word_counts.items():  # 딕셔너리라서 items()\n",
        "    total_freq += value\n",
        "    if value < threshold:   # 단어의 등장 빈도가 threshold보다 작을 경우\n",
        "        rare_cnt += 1\n",
        "        rare_freq += value"
      ]
    },
    {
      "cell_type": "code",
      "execution_count": 94,
      "metadata": {
        "colab": {
          "base_uri": "https://localhost:8080/"
        },
        "id": "xmYi-g7_QwcU",
        "outputId": "91216568-eef1-48c0-ec51-3f03a398c8a1"
      },
      "outputs": [
        {
          "name": "stdout",
          "output_type": "stream",
          "text": [
            "단어 집합(vocabulary)의 크기 : 89535\n",
            "등장 빈도가 1번 이하인 희귀 단어의 수: 64241\n",
            "단어 집합에서 희귀 단어의 비율: 71.74959513039593\n",
            "전체 등장 빈도에서 희귀 단어 등장 빈도 비율: 22.334907136350676\n"
          ]
        }
      ],
      "source": [
        "print('단어 집합(vocabulary)의 크기 :',total_cnt)\n",
        "print(f'등장 빈도가 {threshold-1}번 이하인 희귀 단어의 수: {rare_cnt}')\n",
        "print(\"단어 집합에서 희귀 단어의 비율:\", (rare_cnt / total_cnt)*100)\n",
        "print(\"전체 등장 빈도에서 희귀 단어 등장 빈도 비율:\", (rare_freq / total_freq)*100)"
      ]
    },
    {
      "cell_type": "code",
      "execution_count": 95,
      "metadata": {
        "colab": {
          "base_uri": "https://localhost:8080/"
        },
        "id": "PRVPtHV8a_pt",
        "outputId": "fa01bb3c-0a6a-4358-d39c-f9da6c80a19e"
      },
      "outputs": [
        {
          "data": {
            "text/plain": [
              "25296"
            ]
          },
          "execution_count": 95,
          "metadata": {},
          "output_type": "execute_result"
        }
      ],
      "source": [
        "vocab_size = total_cnt-rare_cnt + 2\n",
        "vocab_size"
      ]
    },
    {
      "cell_type": "code",
      "execution_count": 98,
      "metadata": {
        "id": "gL469y8abZGH"
      },
      "outputs": [],
      "source": [
        "tokenizer = Tokenizer(vocab_size, oov_token='OOV')\n",
        "tokenizer.fit_on_texts(X_train)\n",
        "X_train = tokenizer.texts_to_sequences(X_train)\n",
        "X_test = tokenizer.texts_to_sequences(X_test) "
      ]
    },
    {
      "cell_type": "code",
      "execution_count": 99,
      "metadata": {
        "colab": {
          "base_uri": "https://localhost:8080/"
        },
        "id": "jT8YhTK0RP5D",
        "outputId": "2f486500-a37b-46f5-99e8-f87e2b2d34e8"
      },
      "outputs": [
        {
          "name": "stdout",
          "output_type": "stream",
          "text": [
            "제목의 평균길이 : 6.300127042537346\n",
            "제목의 최대 길이 : 12\n"
          ]
        }
      ],
      "source": [
        "print('제목의 평균길이 :',sum(map(len, X_train))/len(X_train))\n",
        "print('제목의 최대 길이 :',max(len(title) for title in X_train))"
      ]
    },
    {
      "cell_type": "code",
      "execution_count": 101,
      "metadata": {
        "id": "NQk1Q1CyTIxV"
      },
      "outputs": [],
      "source": [
        "from tensorflow.keras.models import Sequential, load_model\n",
        "from tensorflow.keras.layers import Embedding, Dense, SimpleRNN, GRU, LSTM\n",
        "from tensorflow.keras.callbacks import ModelCheckpoint, EarlyStopping"
      ]
    },
    {
      "cell_type": "markdown",
      "metadata": {
        "id": "Yt2RRk8zSJ7l"
      },
      "source": [
        "## GRU로 카테고리컬 분류 "
      ]
    },
    {
      "cell_type": "code",
      "execution_count": 103,
      "metadata": {
        "colab": {
          "base_uri": "https://localhost:8080/"
        },
        "id": "sgReGzv1SI3R",
        "outputId": "faa4965a-3093-43c0-a9f2-73d5b1c4b8e4"
      },
      "outputs": [
        {
          "name": "stdout",
          "output_type": "stream",
          "text": [
            "Model: \"sequential_1\"\n",
            "_________________________________________________________________\n",
            " Layer (type)                Output Shape              Param #   \n",
            "=================================================================\n",
            " embedding_1 (Embedding)     (None, 8, 32)             809472    \n",
            "                                                                 \n",
            " gru_1 (GRU)                 (None, 64)                18816     \n",
            "                                                                 \n",
            " dense_1 (Dense)             (None, 7)                 455       \n",
            "                                                                 \n",
            "=================================================================\n",
            "Total params: 828,743\n",
            "Trainable params: 828,743\n",
            "Non-trainable params: 0\n",
            "_________________________________________________________________\n"
          ]
        }
      ],
      "source": [
        "model_GRU = Sequential([\n",
        "        Embedding(vocab_size, 32, input_length=max_len),\n",
        "        GRU(64),\n",
        "        Dense(7, activation='softmax')\n",
        "])\n",
        "model_GRU.summary()"
      ]
    },
    {
      "cell_type": "code",
      "execution_count": 104,
      "metadata": {
        "id": "H2pfKRqJT3i6"
      },
      "outputs": [],
      "source": [
        "# 컴파일\n",
        "model_GRU.compile(loss='sparse_categorical_crossentropy',    # 스파스, 확률값 아닌 정수형태 클래스 \n",
        "              optimizer='adam',\n",
        "              metrics=['accuracy'])\n",
        "model_path = 'newsgroup-gru.h5'\n",
        "mc = ModelCheckpoint(model_path, save_best_only=True, verbose=1)\n",
        "es = EarlyStopping(patience=5)"
      ]
    },
    {
      "cell_type": "code",
      "execution_count": 105,
      "metadata": {
        "colab": {
          "base_uri": "https://localhost:8080/"
        },
        "id": "kYCl6PvhUlyg",
        "outputId": "096599e8-97f5-430c-f6c7-f8647dea3a31"
      },
      "outputs": [
        {
          "name": "stdout",
          "output_type": "stream",
          "text": [
            "Epoch 1/10\n",
            "1137/1142 [============================>.] - ETA: 0s - loss: 1.0342 - accuracy: 0.6267\n",
            "Epoch 00001: val_loss improved from inf to 1.12796, saving model to newsgroup-gru.h5\n",
            "1142/1142 [==============================] - 7s 5ms/step - loss: 1.0328 - accuracy: 0.6272 - val_loss: 1.1280 - val_accuracy: 0.5906\n",
            "Epoch 2/10\n",
            "1136/1142 [============================>.] - ETA: 0s - loss: 0.4677 - accuracy: 0.8472\n",
            "Epoch 00002: val_loss improved from 1.12796 to 1.07126, saving model to newsgroup-gru.h5\n",
            "1142/1142 [==============================] - 5s 4ms/step - loss: 0.4681 - accuracy: 0.8470 - val_loss: 1.0713 - val_accuracy: 0.6264\n",
            "Epoch 3/10\n",
            "1140/1142 [============================>.] - ETA: 0s - loss: 0.2781 - accuracy: 0.9082\n",
            "Epoch 00003: val_loss did not improve from 1.07126\n",
            "1142/1142 [==============================] - 5s 4ms/step - loss: 0.2780 - accuracy: 0.9082 - val_loss: 1.1642 - val_accuracy: 0.6309\n",
            "Epoch 4/10\n",
            "1135/1142 [============================>.] - ETA: 0s - loss: 0.1840 - accuracy: 0.9398\n",
            "Epoch 00004: val_loss did not improve from 1.07126\n",
            "1142/1142 [==============================] - 5s 4ms/step - loss: 0.1842 - accuracy: 0.9397 - val_loss: 1.3940 - val_accuracy: 0.6188\n",
            "Epoch 5/10\n",
            "1138/1142 [============================>.] - ETA: 0s - loss: 0.1329 - accuracy: 0.9566\n",
            "Epoch 00005: val_loss did not improve from 1.07126\n",
            "1142/1142 [==============================] - 5s 4ms/step - loss: 0.1330 - accuracy: 0.9565 - val_loss: 1.7051 - val_accuracy: 0.5804\n",
            "Epoch 6/10\n",
            "1133/1142 [============================>.] - ETA: 0s - loss: 0.0993 - accuracy: 0.9665\n",
            "Epoch 00006: val_loss did not improve from 1.07126\n",
            "1142/1142 [==============================] - 5s 4ms/step - loss: 0.0997 - accuracy: 0.9663 - val_loss: 1.7685 - val_accuracy: 0.5883\n",
            "Epoch 7/10\n",
            "1138/1142 [============================>.] - ETA: 0s - loss: 0.0787 - accuracy: 0.9733\n",
            "Epoch 00007: val_loss did not improve from 1.07126\n",
            "1142/1142 [==============================] - 5s 4ms/step - loss: 0.0789 - accuracy: 0.9733 - val_loss: 1.9062 - val_accuracy: 0.5905\n"
          ]
        }
      ],
      "source": [
        "hist = model_GRU.fit(X_train, y_train, \n",
        "                 validation_split=0.2, epochs=10, verbose=1,\n",
        "                 callbacks=[mc,es]\n",
        ")"
      ]
    },
    {
      "cell_type": "code",
      "execution_count": 109,
      "metadata": {
        "colab": {
          "base_uri": "https://localhost:8080/"
        },
        "id": "5luI-PL_VmDF",
        "outputId": "03688439-dad4-45df-df2d-6a2e274114f8"
      },
      "outputs": [
        {
          "data": {
            "text/plain": [
              "array([[3.1455152e-03, 4.1081294e-04, 5.6376517e-01, ..., 1.4901002e-06,\n",
              "        1.0726338e-05, 7.3197721e-06],\n",
              "       [6.8540203e-06, 1.4387896e-06, 2.6340002e-05, ..., 7.2524613e-09,\n",
              "        4.3352152e-06, 1.6678509e-06],\n",
              "       [1.3575057e-06, 1.8396499e-04, 5.5297371e-04, ..., 1.1070485e-05,\n",
              "        5.9755857e-05, 9.9918228e-01],\n",
              "       ...,\n",
              "       [2.7604309e-01, 2.1805629e-04, 1.7745571e-03, ..., 7.1779150e-01,\n",
              "        2.1399201e-03, 2.1774269e-06],\n",
              "       [9.8313589e-04, 3.6363384e-05, 9.8799288e-01, ..., 8.7098965e-07,\n",
              "        5.1079619e-06, 5.1474507e-04],\n",
              "       [6.5648751e-03, 2.0460723e-02, 9.5416862e-01, ..., 1.5107178e-03,\n",
              "        1.9795565e-04, 1.5329146e-02]], dtype=float32)"
            ]
          },
          "execution_count": 109,
          "metadata": {},
          "output_type": "execute_result"
        }
      ],
      "source": [
        "# predict values\n",
        "pred_gru = model_GRU.predict(X_test)\n",
        "pred_gru"
      ]
    },
    {
      "cell_type": "code",
      "execution_count": 119,
      "metadata": {
        "colab": {
          "base_uri": "https://localhost:8080/",
          "height": 269
        },
        "id": "kRy6DWeQd2tt",
        "outputId": "d229e09f-26ad-432b-a16a-5c118b6403b3"
      },
      "outputs": [
        {
          "data": {
            "text/html": [
              "\n",
              "  <div id=\"df-fbdb5fae-96bb-43e6-96e4-3dc967378443\">\n",
              "    <div class=\"colab-df-container\">\n",
              "      <div>\n",
              "<style scoped>\n",
              "    .dataframe tbody tr th:only-of-type {\n",
              "        vertical-align: middle;\n",
              "    }\n",
              "\n",
              "    .dataframe tbody tr th {\n",
              "        vertical-align: top;\n",
              "    }\n",
              "\n",
              "    .dataframe thead th {\n",
              "        text-align: right;\n",
              "    }\n",
              "</style>\n",
              "<table border=\"1\" class=\"dataframe\">\n",
              "  <thead>\n",
              "    <tr style=\"text-align: right;\">\n",
              "      <th></th>\n",
              "      <th>topic</th>\n",
              "      <th>topic_idx</th>\n",
              "    </tr>\n",
              "  </thead>\n",
              "  <tbody>\n",
              "    <tr>\n",
              "      <th>0</th>\n",
              "      <td>IT과학</td>\n",
              "      <td>0</td>\n",
              "    </tr>\n",
              "    <tr>\n",
              "      <th>1</th>\n",
              "      <td>경제</td>\n",
              "      <td>1</td>\n",
              "    </tr>\n",
              "    <tr>\n",
              "      <th>2</th>\n",
              "      <td>사회</td>\n",
              "      <td>2</td>\n",
              "    </tr>\n",
              "    <tr>\n",
              "      <th>3</th>\n",
              "      <td>생활문화</td>\n",
              "      <td>3</td>\n",
              "    </tr>\n",
              "    <tr>\n",
              "      <th>4</th>\n",
              "      <td>세계</td>\n",
              "      <td>4</td>\n",
              "    </tr>\n",
              "    <tr>\n",
              "      <th>5</th>\n",
              "      <td>스포츠</td>\n",
              "      <td>5</td>\n",
              "    </tr>\n",
              "    <tr>\n",
              "      <th>6</th>\n",
              "      <td>정치</td>\n",
              "      <td>6</td>\n",
              "    </tr>\n",
              "  </tbody>\n",
              "</table>\n",
              "</div>\n",
              "      <button class=\"colab-df-convert\" onclick=\"convertToInteractive('df-fbdb5fae-96bb-43e6-96e4-3dc967378443')\"\n",
              "              title=\"Convert this dataframe to an interactive table.\"\n",
              "              style=\"display:none;\">\n",
              "        \n",
              "  <svg xmlns=\"http://www.w3.org/2000/svg\" height=\"24px\"viewBox=\"0 0 24 24\"\n",
              "       width=\"24px\">\n",
              "    <path d=\"M0 0h24v24H0V0z\" fill=\"none\"/>\n",
              "    <path d=\"M18.56 5.44l.94 2.06.94-2.06 2.06-.94-2.06-.94-.94-2.06-.94 2.06-2.06.94zm-11 1L8.5 8.5l.94-2.06 2.06-.94-2.06-.94L8.5 2.5l-.94 2.06-2.06.94zm10 10l.94 2.06.94-2.06 2.06-.94-2.06-.94-.94-2.06-.94 2.06-2.06.94z\"/><path d=\"M17.41 7.96l-1.37-1.37c-.4-.4-.92-.59-1.43-.59-.52 0-1.04.2-1.43.59L10.3 9.45l-7.72 7.72c-.78.78-.78 2.05 0 2.83L4 21.41c.39.39.9.59 1.41.59.51 0 1.02-.2 1.41-.59l7.78-7.78 2.81-2.81c.8-.78.8-2.07 0-2.86zM5.41 20L4 18.59l7.72-7.72 1.47 1.35L5.41 20z\"/>\n",
              "  </svg>\n",
              "      </button>\n",
              "      \n",
              "  <style>\n",
              "    .colab-df-container {\n",
              "      display:flex;\n",
              "      flex-wrap:wrap;\n",
              "      gap: 12px;\n",
              "    }\n",
              "\n",
              "    .colab-df-convert {\n",
              "      background-color: #E8F0FE;\n",
              "      border: none;\n",
              "      border-radius: 50%;\n",
              "      cursor: pointer;\n",
              "      display: none;\n",
              "      fill: #1967D2;\n",
              "      height: 32px;\n",
              "      padding: 0 0 0 0;\n",
              "      width: 32px;\n",
              "    }\n",
              "\n",
              "    .colab-df-convert:hover {\n",
              "      background-color: #E2EBFA;\n",
              "      box-shadow: 0px 1px 2px rgba(60, 64, 67, 0.3), 0px 1px 3px 1px rgba(60, 64, 67, 0.15);\n",
              "      fill: #174EA6;\n",
              "    }\n",
              "\n",
              "    [theme=dark] .colab-df-convert {\n",
              "      background-color: #3B4455;\n",
              "      fill: #D2E3FC;\n",
              "    }\n",
              "\n",
              "    [theme=dark] .colab-df-convert:hover {\n",
              "      background-color: #434B5C;\n",
              "      box-shadow: 0px 1px 3px 1px rgba(0, 0, 0, 0.15);\n",
              "      filter: drop-shadow(0px 1px 2px rgba(0, 0, 0, 0.3));\n",
              "      fill: #FFFFFF;\n",
              "    }\n",
              "  </style>\n",
              "\n",
              "      <script>\n",
              "        const buttonEl =\n",
              "          document.querySelector('#df-fbdb5fae-96bb-43e6-96e4-3dc967378443 button.colab-df-convert');\n",
              "        buttonEl.style.display =\n",
              "          google.colab.kernel.accessAllowed ? 'block' : 'none';\n",
              "\n",
              "        async function convertToInteractive(key) {\n",
              "          const element = document.querySelector('#df-fbdb5fae-96bb-43e6-96e4-3dc967378443');\n",
              "          const dataTable =\n",
              "            await google.colab.kernel.invokeFunction('convertToInteractive',\n",
              "                                                     [key], {});\n",
              "          if (!dataTable) return;\n",
              "\n",
              "          const docLinkHtml = 'Like what you see? Visit the ' +\n",
              "            '<a target=\"_blank\" href=https://colab.research.google.com/notebooks/data_table.ipynb>data table notebook</a>'\n",
              "            + ' to learn more about interactive tables.';\n",
              "          element.innerHTML = '';\n",
              "          dataTable['output_type'] = 'display_data';\n",
              "          await google.colab.output.renderOutput(dataTable, element);\n",
              "          const docLink = document.createElement('div');\n",
              "          docLink.innerHTML = docLinkHtml;\n",
              "          element.appendChild(docLink);\n",
              "        }\n",
              "      </script>\n",
              "    </div>\n",
              "  </div>\n",
              "  "
            ],
            "text/plain": [
              "  topic  topic_idx\n",
              "0  IT과학          0\n",
              "1    경제          1\n",
              "2    사회          2\n",
              "3  생활문화          3\n",
              "4    세계          4\n",
              "5   스포츠          5\n",
              "6    정치          6"
            ]
          },
          "execution_count": 119,
          "metadata": {},
          "output_type": "execute_result"
        }
      ],
      "source": [
        "topic_dict"
      ]
    },
    {
      "cell_type": "code",
      "execution_count": 120,
      "metadata": {
        "colab": {
          "base_uri": "https://localhost:8080/"
        },
        "id": "osgV1UGFddbM",
        "outputId": "f8343444-61d5-44b0-fe1d-e6a1ecd7aad1"
      },
      "outputs": [
        {
          "name": "stdout",
          "output_type": "stream",
          "text": [
            "유튜브 내달 2일까지 크리에이터 지원 공간 운영\n",
            "[3.1455152e-03 4.1081294e-04 5.6376517e-01 4.3265897e-01 1.4901002e-06\n",
            " 1.0726338e-05 7.3197721e-06]\n"
          ]
        },
        {
          "data": {
            "text/plain": [
              "(None, None)"
            ]
          },
          "execution_count": 120,
          "metadata": {},
          "output_type": "execute_result"
        }
      ],
      "source": [
        "# X_test[3]\n",
        "print(test.title[0]), print(pred_gru[0])\n",
        "# 56퍼센트 사회, 43퍼센트 생활문화."
      ]
    },
    {
      "cell_type": "code",
      "execution_count": 121,
      "metadata": {
        "colab": {
          "base_uri": "https://localhost:8080/"
        },
        "id": "X9rTJMKdeUPN",
        "outputId": "52d8b90b-5301-47b5-e22e-38470a12319b"
      },
      "outputs": [
        {
          "name": "stdout",
          "output_type": "stream",
          "text": [
            "어버이날 맑다가 흐려져…남부지방 옅은 황사\n",
            "[6.8540203e-06 1.4387896e-06 2.6340002e-05 9.9995935e-01 7.2524613e-09\n",
            " 4.3352152e-06 1.6678509e-06]\n"
          ]
        },
        {
          "data": {
            "text/plain": [
              "(None, None)"
            ]
          },
          "execution_count": 121,
          "metadata": {},
          "output_type": "execute_result"
        }
      ],
      "source": [
        "print(test.title[1]), print(pred_gru[1])\n",
        "# 생활문화지 않을까 싶은데. 99퍼확률로 생활문화란다."
      ]
    },
    {
      "cell_type": "markdown",
      "metadata": {
        "id": "Bmulg1s0dWb9"
      },
      "source": [
        "- GRU 모델 시각화"
      ]
    },
    {
      "cell_type": "code",
      "execution_count": 122,
      "metadata": {
        "id": "rZWjHYXMxHjx"
      },
      "outputs": [],
      "source": [
        "import matplotlib.pyplot as plt"
      ]
    },
    {
      "cell_type": "code",
      "execution_count": 123,
      "metadata": {
        "id": "ngBwRhVPufrL"
      },
      "outputs": [],
      "source": [
        "y_acc = hist.history['accuracy']\n",
        "y_loss = hist.history['loss']\n",
        "y_vacc = hist.history['val_accuracy']\n",
        "y_vloss = hist.history['val_loss']\n",
        "xs = np.arange(1,len(y_acc)+1)"
      ]
    },
    {
      "cell_type": "code",
      "execution_count": 124,
      "metadata": {
        "colab": {
          "base_uri": "https://localhost:8080/",
          "height": 476
        },
        "id": "lKxPmMepVCWA",
        "outputId": "84b0e865-0af2-4720-adf4-fbcba7373085"
      },
      "outputs": [
        {
          "data": {
            "image/png": "[encoded data removed]",
            "text/plain": [
              "<Figure size 720x576 with 2 Axes>"
            ]
          },
          "metadata": {
            "needs_background": "light"
          },
          "output_type": "display_data"
        }
      ],
      "source": [
        "_, ax0 = plt.subplots(figsize=(10,8))\n",
        "ax1 = ax0.twinx()\n",
        "ax0.plot(xs, y_loss, label='train loss')\n",
        "ax0.plot(xs, y_vloss, label='validation loss')\n",
        "ax0.set_ylabel('loss')\n",
        "ax1.plot(xs, y_acc, c='darkgreen', label='train accuracy')\n",
        "ax1.plot(xs, y_vacc, c='magenta', label='validation accuracy')\n",
        "ax1.set_ylabel('accuracy')\n",
        "ax0.set_xlabel('Epoch')\n",
        "ax0.legend()\n",
        "ax1.legend(loc=1)\n",
        "plt.grid()\n",
        "plt.show()"
      ]
    },
    {
      "cell_type": "markdown",
      "metadata": {
        "id": "2C-jtqHLfTN5"
      },
      "source": [
        "## LSTM 카테고리컬 분류 \n",
        "    - 학습 5회로"
      ]
    },
    {
      "cell_type": "code",
      "execution_count": 125,
      "metadata": {
        "colab": {
          "base_uri": "https://localhost:8080/"
        },
        "id": "Byrgaltcfc3S",
        "outputId": "540be6f0-2042-41fe-81ec-ada629d3a795"
      },
      "outputs": [
        {
          "name": "stdout",
          "output_type": "stream",
          "text": [
            "Model: \"sequential_2\"\n",
            "_________________________________________________________________\n",
            " Layer (type)                Output Shape              Param #   \n",
            "=================================================================\n",
            " embedding_2 (Embedding)     (None, 8, 32)             809472    \n",
            "                                                                 \n",
            " lstm (LSTM)                 (None, 64)                24832     \n",
            "                                                                 \n",
            " dense_2 (Dense)             (None, 7)                 455       \n",
            "                                                                 \n",
            "=================================================================\n",
            "Total params: 834,759\n",
            "Trainable params: 834,759\n",
            "Non-trainable params: 0\n",
            "_________________________________________________________________\n"
          ]
        }
      ],
      "source": [
        "model_LSTM = Sequential([\n",
        "        Embedding(vocab_size, 32, input_length=max_len),\n",
        "        LSTM(64),\n",
        "        Dense(7, activation='softmax')\n",
        "])\n",
        "model_LSTM.summary()"
      ]
    },
    {
      "cell_type": "code",
      "execution_count": 127,
      "metadata": {
        "id": "-zSxS2vqfc3T"
      },
      "outputs": [],
      "source": [
        "# 컴파일\n",
        "model_LSTM.compile(loss='sparse_categorical_crossentropy',    # 스파스, 확률값 아닌 정수형태 클래스 \n",
        "              optimizer='adam',\n",
        "              metrics=['accuracy'])\n",
        "model_path = 'newsgroup-lstm.h5'\n",
        "mc = ModelCheckpoint(model_path, save_best_only=True, verbose=1)\n",
        "es = EarlyStopping(patience=5)"
      ]
    },
    {
      "cell_type": "code",
      "execution_count": 128,
      "metadata": {
        "colab": {
          "base_uri": "https://localhost:8080/"
        },
        "id": "MgXWJUYIfc3U",
        "outputId": "42ea6b78-ccba-4b0e-a64d-78e338715c33"
      },
      "outputs": [
        {
          "name": "stdout",
          "output_type": "stream",
          "text": [
            "Epoch 1/5\n",
            "1132/1142 [============================>.] - ETA: 0s - loss: 1.0205 - accuracy: 0.6265\n",
            "Epoch 00001: val_loss improved from inf to 1.13375, saving model to newsgroup-lstm.h5\n",
            "1142/1142 [==============================] - 7s 5ms/step - loss: 1.0185 - accuracy: 0.6274 - val_loss: 1.1337 - val_accuracy: 0.5731\n",
            "Epoch 2/5\n",
            "1137/1142 [============================>.] - ETA: 0s - loss: 0.4850 - accuracy: 0.8372\n",
            "Epoch 00002: val_loss improved from 1.13375 to 1.07394, saving model to newsgroup-lstm.h5\n",
            "1142/1142 [==============================] - 5s 5ms/step - loss: 0.4851 - accuracy: 0.8373 - val_loss: 1.0739 - val_accuracy: 0.6083\n",
            "Epoch 3/5\n",
            "1140/1142 [============================>.] - ETA: 0s - loss: 0.2888 - accuracy: 0.9060\n",
            "Epoch 00003: val_loss did not improve from 1.07394\n",
            "1142/1142 [==============================] - 5s 5ms/step - loss: 0.2889 - accuracy: 0.9060 - val_loss: 1.2406 - val_accuracy: 0.6045\n",
            "Epoch 4/5\n",
            "1141/1142 [============================>.] - ETA: 0s - loss: 0.1910 - accuracy: 0.9363\n",
            "Epoch 00004: val_loss did not improve from 1.07394\n",
            "1142/1142 [==============================] - 5s 5ms/step - loss: 0.1913 - accuracy: 0.9362 - val_loss: 1.4314 - val_accuracy: 0.5977\n",
            "Epoch 5/5\n",
            "1132/1142 [============================>.] - ETA: 0s - loss: 0.1338 - accuracy: 0.9546\n",
            "Epoch 00005: val_loss did not improve from 1.07394\n",
            "1142/1142 [==============================] - 5s 5ms/step - loss: 0.1338 - accuracy: 0.9546 - val_loss: 1.6005 - val_accuracy: 0.5979\n"
          ]
        }
      ],
      "source": [
        "# 학습 5회로 조정\n",
        "hist = model_LSTM.fit(X_train, y_train, \n",
        "                 validation_split=0.2, epochs=5, verbose=1,\n",
        "                 callbacks=[mc,es]\n",
        ")"
      ]
    },
    {
      "cell_type": "code",
      "execution_count": 130,
      "metadata": {
        "id": "91PzVCccfc3U"
      },
      "outputs": [],
      "source": [
        "# predict values\n",
        "pred_lstm = model_LSTM.predict(X_test)\n",
        "# pred_lstm"
      ]
    },
    {
      "cell_type": "code",
      "execution_count": null,
      "metadata": {
        "colab": {
          "base_uri": "https://localhost:8080/",
          "height": 269
        },
        "id": "sp7J91EMfc3V",
        "outputId": "d229e09f-26ad-432b-a16a-5c118b6403b3"
      },
      "outputs": [
        {
          "data": {
            "text/html": [
              "\n",
              "  <div id=\"df-fbdb5fae-96bb-43e6-96e4-3dc967378443\">\n",
              "    <div class=\"colab-df-container\">\n",
              "      <div>\n",
              "<style scoped>\n",
              "    .dataframe tbody tr th:only-of-type {\n",
              "        vertical-align: middle;\n",
              "    }\n",
              "\n",
              "    .dataframe tbody tr th {\n",
              "        vertical-align: top;\n",
              "    }\n",
              "\n",
              "    .dataframe thead th {\n",
              "        text-align: right;\n",
              "    }\n",
              "</style>\n",
              "<table border=\"1\" class=\"dataframe\">\n",
              "  <thead>\n",
              "    <tr style=\"text-align: right;\">\n",
              "      <th></th>\n",
              "      <th>topic</th>\n",
              "      <th>topic_idx</th>\n",
              "    </tr>\n",
              "  </thead>\n",
              "  <tbody>\n",
              "    <tr>\n",
              "      <th>0</th>\n",
              "      <td>IT과학</td>\n",
              "      <td>0</td>\n",
              "    </tr>\n",
              "    <tr>\n",
              "      <th>1</th>\n",
              "      <td>경제</td>\n",
              "      <td>1</td>\n",
              "    </tr>\n",
              "    <tr>\n",
              "      <th>2</th>\n",
              "      <td>사회</td>\n",
              "      <td>2</td>\n",
              "    </tr>\n",
              "    <tr>\n",
              "      <th>3</th>\n",
              "      <td>생활문화</td>\n",
              "      <td>3</td>\n",
              "    </tr>\n",
              "    <tr>\n",
              "      <th>4</th>\n",
              "      <td>세계</td>\n",
              "      <td>4</td>\n",
              "    </tr>\n",
              "    <tr>\n",
              "      <th>5</th>\n",
              "      <td>스포츠</td>\n",
              "      <td>5</td>\n",
              "    </tr>\n",
              "    <tr>\n",
              "      <th>6</th>\n",
              "      <td>정치</td>\n",
              "      <td>6</td>\n",
              "    </tr>\n",
              "  </tbody>\n",
              "</table>\n",
              "</div>\n",
              "      <button class=\"colab-df-convert\" onclick=\"convertToInteractive('df-fbdb5fae-96bb-43e6-96e4-3dc967378443')\"\n",
              "              title=\"Convert this dataframe to an interactive table.\"\n",
              "              style=\"display:none;\">\n",
              "        \n",
              "  <svg xmlns=\"http://www.w3.org/2000/svg\" height=\"24px\"viewBox=\"0 0 24 24\"\n",
              "       width=\"24px\">\n",
              "    <path d=\"M0 0h24v24H0V0z\" fill=\"none\"/>\n",
              "    <path d=\"M18.56 5.44l.94 2.06.94-2.06 2.06-.94-2.06-.94-.94-2.06-.94 2.06-2.06.94zm-11 1L8.5 8.5l.94-2.06 2.06-.94-2.06-.94L8.5 2.5l-.94 2.06-2.06.94zm10 10l.94 2.06.94-2.06 2.06-.94-2.06-.94-.94-2.06-.94 2.06-2.06.94z\"/><path d=\"M17.41 7.96l-1.37-1.37c-.4-.4-.92-.59-1.43-.59-.52 0-1.04.2-1.43.59L10.3 9.45l-7.72 7.72c-.78.78-.78 2.05 0 2.83L4 21.41c.39.39.9.59 1.41.59.51 0 1.02-.2 1.41-.59l7.78-7.78 2.81-2.81c.8-.78.8-2.07 0-2.86zM5.41 20L4 18.59l7.72-7.72 1.47 1.35L5.41 20z\"/>\n",
              "  </svg>\n",
              "      </button>\n",
              "      \n",
              "  <style>\n",
              "    .colab-df-container {\n",
              "      display:flex;\n",
              "      flex-wrap:wrap;\n",
              "      gap: 12px;\n",
              "    }\n",
              "\n",
              "    .colab-df-convert {\n",
              "      background-color: #E8F0FE;\n",
              "      border: none;\n",
              "      border-radius: 50%;\n",
              "      cursor: pointer;\n",
              "      display: none;\n",
              "      fill: #1967D2;\n",
              "      height: 32px;\n",
              "      padding: 0 0 0 0;\n",
              "      width: 32px;\n",
              "    }\n",
              "\n",
              "    .colab-df-convert:hover {\n",
              "      background-color: #E2EBFA;\n",
              "      box-shadow: 0px 1px 2px rgba(60, 64, 67, 0.3), 0px 1px 3px 1px rgba(60, 64, 67, 0.15);\n",
              "      fill: #174EA6;\n",
              "    }\n",
              "\n",
              "    [theme=dark] .colab-df-convert {\n",
              "      background-color: #3B4455;\n",
              "      fill: #D2E3FC;\n",
              "    }\n",
              "\n",
              "    [theme=dark] .colab-df-convert:hover {\n",
              "      background-color: #434B5C;\n",
              "      box-shadow: 0px 1px 3px 1px rgba(0, 0, 0, 0.15);\n",
              "      filter: drop-shadow(0px 1px 2px rgba(0, 0, 0, 0.3));\n",
              "      fill: #FFFFFF;\n",
              "    }\n",
              "  </style>\n",
              "\n",
              "      <script>\n",
              "        const buttonEl =\n",
              "          document.querySelector('#df-fbdb5fae-96bb-43e6-96e4-3dc967378443 button.colab-df-convert');\n",
              "        buttonEl.style.display =\n",
              "          google.colab.kernel.accessAllowed ? 'block' : 'none';\n",
              "\n",
              "        async function convertToInteractive(key) {\n",
              "          const element = document.querySelector('#df-fbdb5fae-96bb-43e6-96e4-3dc967378443');\n",
              "          const dataTable =\n",
              "            await google.colab.kernel.invokeFunction('convertToInteractive',\n",
              "                                                     [key], {});\n",
              "          if (!dataTable) return;\n",
              "\n",
              "          const docLinkHtml = 'Like what you see? Visit the ' +\n",
              "            '<a target=\"_blank\" href=https://colab.research.google.com/notebooks/data_table.ipynb>data table notebook</a>'\n",
              "            + ' to learn more about interactive tables.';\n",
              "          element.innerHTML = '';\n",
              "          dataTable['output_type'] = 'display_data';\n",
              "          await google.colab.output.renderOutput(dataTable, element);\n",
              "          const docLink = document.createElement('div');\n",
              "          docLink.innerHTML = docLinkHtml;\n",
              "          element.appendChild(docLink);\n",
              "        }\n",
              "      </script>\n",
              "    </div>\n",
              "  </div>\n",
              "  "
            ],
            "text/plain": [
              "  topic  topic_idx\n",
              "0  IT과학          0\n",
              "1    경제          1\n",
              "2    사회          2\n",
              "3  생활문화          3\n",
              "4    세계          4\n",
              "5   스포츠          5\n",
              "6    정치          6"
            ]
          },
          "execution_count": 119,
          "metadata": {},
          "output_type": "execute_result"
        }
      ],
      "source": [
        "topic_dict"
      ]
    },
    {
      "cell_type": "code",
      "execution_count": 131,
      "metadata": {
        "colab": {
          "base_uri": "https://localhost:8080/"
        },
        "id": "3EHVdK7Kfc3V",
        "outputId": "eaffde58-4a0b-46c6-b918-855b97f59332"
      },
      "outputs": [
        {
          "name": "stdout",
          "output_type": "stream",
          "text": [
            "유튜브 내달 2일까지 크리에이터 지원 공간 운영\n",
            "[1.0166988e-02 3.0769760e-04 9.2305422e-01 6.6264667e-02 5.1519037e-06\n",
            " 2.3779490e-05 1.7750167e-04]\n"
          ]
        },
        {
          "data": {
            "text/plain": [
              "(None, None)"
            ]
          },
          "execution_count": 131,
          "metadata": {},
          "output_type": "execute_result"
        }
      ],
      "source": [
        "# X_test[3]\n",
        "print(test.title[0]), print(pred_lstm[0])\n",
        "# gru : 56퍼센트 사회, 43퍼센트 생활문화. \n",
        "# lstm : 92퍼 사회로 예측"
      ]
    },
    {
      "cell_type": "code",
      "execution_count": 133,
      "metadata": {
        "colab": {
          "base_uri": "https://localhost:8080/"
        },
        "id": "ux3XtlBdfc3V",
        "outputId": "df40555f-6f2f-4612-8013-5074ef5bfe36"
      },
      "outputs": [
        {
          "name": "stdout",
          "output_type": "stream",
          "text": [
            "어버이날 맑다가 흐려져…남부지방 옅은 황사\n",
            "[4.6084533e-05 4.0951316e-05 1.9239687e-04 9.9949646e-01 8.3390307e-07\n",
            " 2.1570147e-04 7.5317939e-06]\n"
          ]
        },
        {
          "data": {
            "text/plain": [
              "(None, None)"
            ]
          },
          "execution_count": 133,
          "metadata": {},
          "output_type": "execute_result"
        }
      ],
      "source": [
        "print(test.title[1]), print(pred_lstm[1])\n",
        "# gru : 생활문화지 않을까 싶은데. 99퍼확률로 생활문화란다.\n",
        "# lstm : 99.9퍼센트 생활문화. 위 같은 결과. 날씨는 사회인가 생활문화 인가."
      ]
    },
    {
      "cell_type": "markdown",
      "metadata": {
        "id": "58PuLkzXh4dx"
      },
      "source": [
        "## Simply RNN 카테고리컬 분류"
      ]
    },
    {
      "cell_type": "code",
      "execution_count": 135,
      "metadata": {
        "id": "sWqE6854j582"
      },
      "outputs": [],
      "source": [
        "from tensorflow.keras.layers import GlobalMaxPool1D"
      ]
    },
    {
      "cell_type": "code",
      "execution_count": 138,
      "metadata": {
        "colab": {
          "base_uri": "https://localhost:8080/"
        },
        "id": "rYXMMY6-jO_t",
        "outputId": "34981449-9dd2-4119-e97e-7f859cca6972"
      },
      "outputs": [
        {
          "name": "stdout",
          "output_type": "stream",
          "text": [
            "Model: \"sequential_4\"\n",
            "_________________________________________________________________\n",
            " Layer (type)                Output Shape              Param #   \n",
            "=================================================================\n",
            " embedding_4 (Embedding)     (None, 8, 32)             809472    \n",
            "                                                                 \n",
            " global_max_pooling1d_1 (Glo  (None, 32)               0         \n",
            " balMaxPooling1D)                                                \n",
            "                                                                 \n",
            " dense_5 (Dense)             (None, 32)                1056      \n",
            "                                                                 \n",
            " dense_6 (Dense)             (None, 7)                 231       \n",
            "                                                                 \n",
            "=================================================================\n",
            "Total params: 810,759\n",
            "Trainable params: 810,759\n",
            "Non-trainable params: 0\n",
            "_________________________________________________________________\n"
          ]
        }
      ],
      "source": [
        "model_sRNN = Sequential([\n",
        "        Embedding(vocab_size, 32, input_length=max_len),\n",
        "        GlobalMaxPool1D(),\n",
        "        Dense(32, activation='relu'),\n",
        "        Dense(7, activation='softmax')               \n",
        "])\n",
        "model_sRNN.summary()"
      ]
    },
    {
      "cell_type": "code",
      "execution_count": 139,
      "metadata": {
        "id": "bCtKkvoFkxwp"
      },
      "outputs": [],
      "source": [
        "# 컴파일\n",
        "model_sRNN.compile(loss='sparse_categorical_crossentropy',    # 스파스, 확률값 아닌 정수형태 클래스 \n",
        "              optimizer='adam',\n",
        "              metrics=['accuracy'])\n",
        "model_path = 'newsgroup-sRNN.h5'\n",
        "mc = ModelCheckpoint(model_path, save_best_only=True, verbose=1)\n",
        "es = EarlyStopping(patience=5)"
      ]
    },
    {
      "cell_type": "code",
      "execution_count": 140,
      "metadata": {
        "colab": {
          "base_uri": "https://localhost:8080/"
        },
        "id": "Q_OGmcsOkxwp",
        "outputId": "c147c1e9-6c1e-468d-f41e-e21ba2607764"
      },
      "outputs": [
        {
          "name": "stdout",
          "output_type": "stream",
          "text": [
            "Epoch 1/5\n",
            "1133/1142 [============================>.] - ETA: 0s - loss: 1.2444 - accuracy: 0.5786\n",
            "Epoch 00001: val_loss improved from inf to 1.15884, saving model to newsgroup-sRNN.h5\n",
            "1142/1142 [==============================] - 5s 4ms/step - loss: 1.2421 - accuracy: 0.5796 - val_loss: 1.1588 - val_accuracy: 0.6011\n",
            "Epoch 2/5\n",
            "1134/1142 [============================>.] - ETA: 0s - loss: 0.5171 - accuracy: 0.8412\n",
            "Epoch 00002: val_loss improved from 1.15884 to 1.06229, saving model to newsgroup-sRNN.h5\n",
            "1142/1142 [==============================] - 6s 5ms/step - loss: 0.5173 - accuracy: 0.8411 - val_loss: 1.0623 - val_accuracy: 0.6313\n",
            "Epoch 3/5\n",
            "1139/1142 [============================>.] - ETA: 0s - loss: 0.2567 - accuracy: 0.9223\n",
            "Epoch 00003: val_loss did not improve from 1.06229\n",
            "1142/1142 [==============================] - 7s 6ms/step - loss: 0.2567 - accuracy: 0.9224 - val_loss: 1.1090 - val_accuracy: 0.6361\n",
            "Epoch 4/5\n",
            "1141/1142 [============================>.] - ETA: 0s - loss: 0.1297 - accuracy: 0.9618\n",
            "Epoch 00004: val_loss did not improve from 1.06229\n",
            "1142/1142 [==============================] - 7s 6ms/step - loss: 0.1297 - accuracy: 0.9618 - val_loss: 1.2614 - val_accuracy: 0.6196\n",
            "Epoch 5/5\n",
            "1126/1142 [============================>.] - ETA: 0s - loss: 0.0668 - accuracy: 0.9817\n",
            "Epoch 00005: val_loss did not improve from 1.06229\n",
            "1142/1142 [==============================] - 6s 5ms/step - loss: 0.0672 - accuracy: 0.9814 - val_loss: 1.3880 - val_accuracy: 0.6218\n"
          ]
        }
      ],
      "source": [
        "hist = model_sRNN.fit(X_train, y_train, \n",
        "                 validation_split=0.2, epochs=5, verbose=1,\n",
        "                 callbacks=[mc,es]\n",
        ")"
      ]
    },
    {
      "cell_type": "code",
      "execution_count": 141,
      "metadata": {
        "id": "llDx21_Akxwq"
      },
      "outputs": [],
      "source": [
        "# predict values\n",
        "pred_srnn = model_sRNN.predict(X_test)"
      ]
    },
    {
      "cell_type": "code",
      "execution_count": 144,
      "metadata": {
        "colab": {
          "base_uri": "https://localhost:8080/"
        },
        "id": "vquL_feBln_E",
        "outputId": "f883a2d2-ac9e-4242-ebd1-89d5e6191cb5"
      },
      "outputs": [
        {
          "data": {
            "text/plain": [
              "0    IT과학\n",
              "1      경제\n",
              "2      사회\n",
              "3    생활문화\n",
              "4      세계\n",
              "5     스포츠\n",
              "6      정치\n",
              "Name: topic, dtype: object"
            ]
          },
          "execution_count": 144,
          "metadata": {},
          "output_type": "execute_result"
        }
      ],
      "source": [
        "topic_dict.topic"
      ]
    },
    {
      "cell_type": "code",
      "execution_count": 143,
      "metadata": {
        "colab": {
          "base_uri": "https://localhost:8080/"
        },
        "id": "9B_MMI9Hkxwq",
        "outputId": "903e8d1d-b54f-46fd-b2ab-025c78e7b73b"
      },
      "outputs": [
        {
          "name": "stdout",
          "output_type": "stream",
          "text": [
            "유튜브 내달 2일까지 크리에이터 지원 공간 운영\n",
            "[1.4152455e-02 2.3373254e-01 5.5021381e-01 2.0153406e-01 1.5888290e-04\n",
            " 5.5690765e-05 1.5257501e-04]\n"
          ]
        },
        {
          "data": {
            "text/plain": [
              "(None, None)"
            ]
          },
          "execution_count": 143,
          "metadata": {},
          "output_type": "execute_result"
        }
      ],
      "source": [
        "print(test.title[0]), print(pred_srnn[0])\n",
        "# gru : 56퍼센트 사회, 43퍼센트 생활문화. \n",
        "# lstm : 92퍼 사회로 예측\n",
        "# srnn : 55퍼센트 사회, 20퍼센트 생활문화. 23퍼센트 경제로 분류되는게 신기합니다. 경제는 아닌것 같아요."
      ]
    },
    {
      "cell_type": "code",
      "execution_count": 145,
      "metadata": {
        "colab": {
          "base_uri": "https://localhost:8080/"
        },
        "id": "ZDh8fP8Tkxwq",
        "outputId": "de1f7ddc-aad3-4d18-ea8a-b8270e7adc41"
      },
      "outputs": [
        {
          "name": "stdout",
          "output_type": "stream",
          "text": [
            "어버이날 맑다가 흐려져…남부지방 옅은 황사\n",
            "[1.2248939e-04 2.2563958e-05 2.2899245e-04 9.9953198e-01 1.4965757e-05\n",
            " 7.9013997e-05 8.5110877e-08]\n"
          ]
        },
        {
          "data": {
            "text/plain": [
              "(None, None)"
            ]
          },
          "execution_count": 145,
          "metadata": {},
          "output_type": "execute_result"
        }
      ],
      "source": [
        "print(test.title[1]), print(pred_srnn[1])\n",
        "# gru : 생활문화지 않을까 싶은데. 99퍼확률로 생활문화란다.\n",
        "# lstm : 99.9퍼센트 생활문화. 위 같은 결과. 날씨는 사회인가 생활문화 인가.\n",
        "# srnn : 99.9퍼센트 생활문화 입니다."
      ]
    },
    {
      "cell_type": "code",
      "execution_count": null,
      "metadata": {
        "id": "GZ1aw5iGmDxI"
      },
      "outputs": [],
      "source": []
    }
  ],
  "metadata": {
    "accelerator": "GPU",
    "colab": {
      "collapsed_sections": [],
      "name": "911.뉴스그룹분류.ipynb",
      "provenance": []
    },
    "kernelspec": {
      "display_name": "Python 3",
      "name": "python3"
    },
    "language_info": {
      "name": "python"
    }
  },
  "nbformat": 4,
  "nbformat_minor": 0
}
