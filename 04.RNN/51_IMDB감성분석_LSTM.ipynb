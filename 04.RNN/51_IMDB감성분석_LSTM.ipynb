{
  "nbformat": 4,
  "nbformat_minor": 0,
  "metadata": {
    "colab": {
      "name": "51.IMDB감성분석-LSTM.ipynb",
      "provenance": [],
      "collapsed_sections": [],
      "machine_shape": "hm"
    },
    "kernelspec": {
      "name": "python3",
      "display_name": "Python 3"
    },
    "language_info": {
      "name": "python"
    },
    "accelerator": "TPU"
  },
  "cells": [
    {
      "cell_type": "markdown",
      "source": [
        "# IMDB 영화리뷰 감성분석 - LSTM"
      ],
      "metadata": {
        "id": "0Sbd-nFR9t0U"
      }
    },
    {
      "cell_type": "code",
      "source": [
        "import numpy as np\n",
        "import matplotlib.pyplot as plt\n",
        "from tensorflow.keras.datasets import imdb\n",
        "import warnings\n",
        "warnings.filterwarnings('ignore')"
      ],
      "metadata": {
        "id": "eg0P_glp9zDC"
      },
      "execution_count": 1,
      "outputs": []
    },
    {
      "cell_type": "code",
      "source": [
        "(X_train, y_train), (X_test, y_test) = imdb.load_data()\n",
        "X_train.shape, X_test.shape, y_train.shape"
      ],
      "metadata": {
        "colab": {
          "base_uri": "https://localhost:8080/"
        },
        "id": "5la19qfV-Fy2",
        "outputId": "3f79248d-d101-4133-bcdc-54e9de6dd29c"
      },
      "execution_count": 2,
      "outputs": [
        {
          "output_type": "stream",
          "name": "stdout",
          "text": [
            "Downloading data from https://storage.googleapis.com/tensorflow/tf-keras-datasets/imdb.npz\n",
            "17465344/17464789 [==============================] - 0s 0us/step\n",
            "17473536/17464789 [==============================] - 0s 0us/step\n"
          ]
        },
        {
          "output_type": "execute_result",
          "data": {
            "text/plain": [
              "((25000,), (25000,), (25000,))"
            ]
          },
          "metadata": {},
          "execution_count": 2
        }
      ]
    },
    {
      "cell_type": "code",
      "source": [
        "print('등장한 단어수: ', len(imdb.get_word_index()))\n",
        "print('리뷰 최대 길이: ', max(len(s) for s in X_train))\n",
        "print('리뷰 평균 길이: ', sum(map(len, X_train))/ len(X_train))"
      ],
      "metadata": {
        "colab": {
          "base_uri": "https://localhost:8080/"
        },
        "id": "BrTuRJO6-wZq",
        "outputId": "65e1676e-545c-4c7a-8007-31287e60bea8"
      },
      "execution_count": 3,
      "outputs": [
        {
          "output_type": "stream",
          "name": "stdout",
          "text": [
            "Downloading data from https://storage.googleapis.com/tensorflow/tf-keras-datasets/imdb_word_index.json\n",
            "1646592/1641221 [==============================] - 0s 0us/step\n",
            "1654784/1641221 [==============================] - 0s 0us/step\n",
            "등장한 단어수:  88584\n",
            "리뷰 최대 길이:  2494\n",
            "리뷰 평균 길이:  238.71364\n"
          ]
        }
      ]
    },
    {
      "cell_type": "markdown",
      "source": [
        "### LSTM으로 IMDB 리뷰 감성 분석\n",
        " - 단어 빈도수 : 10,000 (88,584)\n",
        " - 문장의 단어수 : 500 (최대2494)\n",
        " - test data 중 40 퍼"
      ],
      "metadata": {
        "id": "UI9BLY6i_ZoO"
      }
    },
    {
      "cell_type": "code",
      "source": [
        "import tensorflow as tf\n",
        "seed = 2022\n",
        "np.random.seed(seed)\n",
        "tf.random.set_seed(seed)"
      ],
      "metadata": {
        "id": "UAMDeEWIA4qs"
      },
      "execution_count": 4,
      "outputs": []
    },
    {
      "cell_type": "code",
      "source": [
        "from tensorflow.keras.models import Sequential, load_model\n",
        "from tensorflow.keras.layers import Embedding, LSTM, Dense\n",
        "from tensorflow.keras.preprocessing.sequence import pad_sequences\n",
        "# from tensorflow.keras.utils import to_categorical\n",
        "from tensorflow.keras.callbacks import ModelCheckpoint, EarlyStopping "
      ],
      "metadata": {
        "id": "fMhM8CwjA7JP"
      },
      "execution_count": 5,
      "outputs": []
    },
    {
      "cell_type": "code",
      "source": [
        "num_words = 10000\n"
      ],
      "metadata": {
        "id": "0U7Sk2vWBBR5"
      },
      "execution_count": 6,
      "outputs": []
    },
    {
      "cell_type": "code",
      "source": [
        "(X_train, y_train),(X_test, y_test) = imdb.load_data(num_words = num_words)\n",
        "X_train.shape, X_test.shape, y_train.shape"
      ],
      "metadata": {
        "colab": {
          "base_uri": "https://localhost:8080/"
        },
        "id": "xNQsMgz8BCEk",
        "outputId": "e507f6bd-9298-4e16-eb17-a828369a196a"
      },
      "execution_count": 7,
      "outputs": [
        {
          "output_type": "execute_result",
          "data": {
            "text/plain": [
              "((25000,), (25000,), (25000,))"
            ]
          },
          "metadata": {},
          "execution_count": 7
        }
      ]
    },
    {
      "cell_type": "code",
      "source": [
        "max_len = 500\n",
        "X_train = pad_sequences(X_train, maxlen=max_len)\n",
        "X_test = pad_sequences(X_test, maxlen=max_len)\n",
        "X_train.shape, X_test.shape"
      ],
      "metadata": {
        "colab": {
          "base_uri": "https://localhost:8080/"
        },
        "id": "_Hba5E2eBTXq",
        "outputId": "6cec1df3-6ee9-45ba-b0e1-22770036e491"
      },
      "execution_count": 8,
      "outputs": [
        {
          "output_type": "execute_result",
          "data": {
            "text/plain": [
              "((25000, 500), (25000, 500))"
            ]
          },
          "metadata": {},
          "execution_count": 8
        }
      ]
    },
    {
      "cell_type": "code",
      "source": [
        "from sklearn.model_selection import train_test_split\n",
        "X_test, X_valid, y_test, y_valid = train_test_split(\n",
        "    X_test, y_test, stratify=y_test, test_size=0.4, random_state=seed\n",
        ")\n",
        "X_test.shape, y_test.shape, X_valid.shape, y_valid.shape"
      ],
      "metadata": {
        "colab": {
          "base_uri": "https://localhost:8080/"
        },
        "id": "oavelfndDBJp",
        "outputId": "9af98832-bf5a-4047-f35d-b365ce1ee12b"
      },
      "execution_count": 9,
      "outputs": [
        {
          "output_type": "execute_result",
          "data": {
            "text/plain": [
              "((15000, 500), (15000,), (10000, 500), (10000,))"
            ]
          },
          "metadata": {},
          "execution_count": 9
        }
      ]
    },
    {
      "cell_type": "markdown",
      "source": [
        "Case1 ) LSTM\n",
        "임베딩 차원 벡터 100\n",
        "은닉층 128"
      ],
      "metadata": {
        "id": "1CL4rSweB545"
      }
    },
    {
      "cell_type": "code",
      "source": [
        "model1 = Sequential([\n",
        "    Embedding(10000, 100, input_length=max_len ),\n",
        "    LSTM(128),\n",
        "    Dense(1, activation='sigmoid')\n",
        "])\n",
        "model1.summary()"
      ],
      "metadata": {
        "colab": {
          "base_uri": "https://localhost:8080/"
        },
        "id": "Jn9W5irYB1sR",
        "outputId": "7b498e13-70fe-4291-99a5-9c307c2e04c9"
      },
      "execution_count": 10,
      "outputs": [
        {
          "output_type": "stream",
          "name": "stdout",
          "text": [
            "Model: \"sequential\"\n",
            "_________________________________________________________________\n",
            " Layer (type)                Output Shape              Param #   \n",
            "=================================================================\n",
            " embedding (Embedding)       (None, 500, 100)          1000000   \n",
            "                                                                 \n",
            " lstm (LSTM)                 (None, 128)               117248    \n",
            "                                                                 \n",
            " dense (Dense)               (None, 1)                 129       \n",
            "                                                                 \n",
            "=================================================================\n",
            "Total params: 1,117,377\n",
            "Trainable params: 1,117,377\n",
            "Non-trainable params: 0\n",
            "_________________________________________________________________\n"
          ]
        }
      ]
    },
    {
      "cell_type": "code",
      "source": [
        "model1.compile('adam', 'binary_crossentropy',['accuracy'])\n",
        "\n",
        "model_path = 'best-imdb-lstm.h5'\n",
        "mc = ModelCheckpoint(model_path, save_best_only=True, verbose=1)\n",
        "es = EarlyStopping(patience=5)"
      ],
      "metadata": {
        "id": "hIA2hrp3CW51"
      },
      "execution_count": 11,
      "outputs": []
    },
    {
      "cell_type": "code",
      "source": [
        "hist1 = model1.fit(\n",
        "    X_train, y_train, epochs=30, validation_split=0.2, batch_size=64,\n",
        "    validation_data=[X_valid, y_valid],\n",
        "    callbacks=[mc, es]\n",
        ")"
      ],
      "metadata": {
        "colab": {
          "base_uri": "https://localhost:8080/"
        },
        "id": "w-YrK1xUCuoa",
        "outputId": "c98a4f79-54e2-4c90-a8e5-a5a91a2693fd"
      },
      "execution_count": 12,
      "outputs": [
        {
          "output_type": "stream",
          "name": "stdout",
          "text": [
            "Epoch 1/30\n",
            "313/313 [==============================] - ETA: 0s - loss: 0.4399 - accuracy: 0.7872\n",
            "Epoch 00001: val_loss improved from inf to 0.35855, saving model to best-imdb-lstm.h5\n",
            "313/313 [==============================] - 204s 646ms/step - loss: 0.4399 - accuracy: 0.7872 - val_loss: 0.3585 - val_accuracy: 0.8500\n",
            "Epoch 2/30\n",
            "313/313 [==============================] - ETA: 0s - loss: 0.2553 - accuracy: 0.9011\n",
            "Epoch 00002: val_loss improved from 0.35855 to 0.29986, saving model to best-imdb-lstm.h5\n",
            "313/313 [==============================] - 205s 656ms/step - loss: 0.2553 - accuracy: 0.9011 - val_loss: 0.2999 - val_accuracy: 0.8820\n",
            "Epoch 3/30\n",
            "313/313 [==============================] - ETA: 0s - loss: 0.1933 - accuracy: 0.9312\n",
            "Epoch 00003: val_loss did not improve from 0.29986\n",
            "313/313 [==============================] - 209s 668ms/step - loss: 0.1933 - accuracy: 0.9312 - val_loss: 0.3317 - val_accuracy: 0.8632\n",
            "Epoch 4/30\n",
            "313/313 [==============================] - ETA: 0s - loss: 0.1880 - accuracy: 0.9287\n",
            "Epoch 00004: val_loss did not improve from 0.29986\n",
            "313/313 [==============================] - 203s 649ms/step - loss: 0.1880 - accuracy: 0.9287 - val_loss: 0.3611 - val_accuracy: 0.8662\n",
            "Epoch 5/30\n",
            "313/313 [==============================] - ETA: 0s - loss: 0.1192 - accuracy: 0.9586\n",
            "Epoch 00005: val_loss did not improve from 0.29986\n",
            "313/313 [==============================] - 201s 641ms/step - loss: 0.1192 - accuracy: 0.9586 - val_loss: 0.4080 - val_accuracy: 0.8350\n",
            "Epoch 6/30\n",
            "313/313 [==============================] - ETA: 0s - loss: 0.0803 - accuracy: 0.9733\n",
            "Epoch 00006: val_loss did not improve from 0.29986\n",
            "313/313 [==============================] - 202s 645ms/step - loss: 0.0803 - accuracy: 0.9733 - val_loss: 0.4445 - val_accuracy: 0.8104\n",
            "Epoch 7/30\n",
            "313/313 [==============================] - ETA: 0s - loss: 0.1088 - accuracy: 0.9636\n",
            "Epoch 00007: val_loss did not improve from 0.29986\n",
            "313/313 [==============================] - 202s 644ms/step - loss: 0.1088 - accuracy: 0.9636 - val_loss: 0.5011 - val_accuracy: 0.7988\n"
          ]
        }
      ]
    },
    {
      "cell_type": "code",
      "source": [
        "best_model = load_model(model_path)\n",
        "best_model.evaluate(X_test, y_test)"
      ],
      "metadata": {
        "colab": {
          "base_uri": "https://localhost:8080/"
        },
        "id": "oc0RyXwnD-_p",
        "outputId": "588808e6-0bb9-453d-87fb-e2b464c39841"
      },
      "execution_count": 14,
      "outputs": [
        {
          "output_type": "stream",
          "name": "stdout",
          "text": [
            "469/469 [==============================] - 53s 112ms/step - loss: 0.3260 - accuracy: 0.8708\n"
          ]
        },
        {
          "output_type": "execute_result",
          "data": {
            "text/plain": [
              "[0.3260051906108856, 0.8708000183105469]"
            ]
          },
          "metadata": {},
          "execution_count": 14
        }
      ]
    },
    {
      "cell_type": "code",
      "source": [
        "# drop 및 dense 층 추가하면 좋을듯"
      ],
      "metadata": {
        "id": "H0KPpdmVEgA5"
      },
      "execution_count": null,
      "outputs": []
    },
    {
      "cell_type": "code",
      "source": [
        "y_acc = hist1.history['accuracy']\n",
        "y_vacc = hist1.history['val_accuracy']\n",
        "y_loss = hist1.history['loss']\n",
        "y_vloss = hist1.history['val_loss']\n",
        "x_len = np.arange(1, len(y_acc)+1)"
      ],
      "metadata": {
        "id": "8d7n2K0p4uQQ"
      },
      "execution_count": 16,
      "outputs": []
    },
    {
      "cell_type": "code",
      "source": [
        "fig, ax0 = plt.subplots(figsize=(12,8))\n",
        "ax1 = ax0.twinx()\n",
        "ax0.plot(x_len, y_loss, c='blue', label='train loss')\n",
        "ax0.plot(x_len, y_vloss, c='red', label='val loss')\n",
        "ax0.set_ylabel('loss')\n",
        "ax1.plot(x_len, y_acc, c='darkgreen', label='train acc')\n",
        "ax1.plot(x_len, y_vacc, c='magenta', label='val acc')\n",
        "ax1.set_ylabel('accuracy')\n",
        "ax0.set_xlabel('epoch')\n",
        "ax0.legend(loc='lower center'); ax1.legend(loc='upper center')\n",
        "plt.grid(); plt.show()"
      ],
      "metadata": {
        "colab": {
          "base_uri": "https://localhost:8080/",
          "height": 409
        },
        "id": "prxx_lwA4v9K",
        "outputId": "9039a3ca-fd23-4f7f-89ff-5f2465f547d9"
      },
      "execution_count": 17,
      "outputs": [
        {
          "output_type": "display_data",
          "data": {
            "image/png": "[encoded data removed]",
            "text/plain": [
              "<Figure size 864x576 with 2 Axes>"
            ]
          },
          "metadata": {
            "needs_background": "light"
          }
        }
      ]
    },
    {
      "cell_type": "code",
      "source": [
        ""
      ],
      "metadata": {
        "id": "ZNvw5kw4KPfn"
      },
      "execution_count": null,
      "outputs": []
    }
  ]
}