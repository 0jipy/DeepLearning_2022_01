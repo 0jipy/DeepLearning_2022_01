{
  "nbformat": 4,
  "nbformat_minor": 0,
  "metadata": {
    "colab": {
      "name": "11.Fashion MNIST - CNN.ipynb",
      "provenance": [],
      "collapsed_sections": []
    },
    "kernelspec": {
      "name": "python3",
      "display_name": "Python 3"
    },
    "language_info": {
      "name": "python"
    },
    "accelerator": "GPU"
  },
  "cells": [
    {
      "cell_type": "markdown",
      "source": [
        "# Fashion MNIST - CNN\n",
        "- 32 Conv2D layer\n",
        "- 64 Conv2d layer\n",
        "- MaxPooling2D layer\n",
        "- Dropout(0.25)\n",
        "- Flatten\n",
        "- Fully Connected Network(512) layer\n",
        "- Dropout(0.5)\n",
        "- Output(10)"
      ],
      "metadata": {
        "id": "cdDbdqp26jrQ"
      }
    },
    {
      "cell_type": "code",
      "source": [
        "import numpy as np\n",
        "import tensorflow as tf\n",
        "seed = 2022\n",
        "np.random.seed(seed)\n",
        "tf.random.set_seed(seed)"
      ],
      "metadata": {
        "id": "MKxQHc6N7Jq2"
      },
      "execution_count": 1,
      "outputs": []
    },
    {
      "cell_type": "markdown",
      "source": [
        "- 데이터 전처리"
      ],
      "metadata": {
        "id": "s_WMTSZN7eV4"
      }
    },
    {
      "cell_type": "code",
      "source": [
        "from tensorflow.keras.datasets import fashion_mnist\n",
        "(X_train, y_train), (X_test, y_test)= fashion_mnist.load_data()"
      ],
      "metadata": {
        "colab": {
          "base_uri": "https://localhost:8080/"
        },
        "id": "1SHs2Q5K7kKS",
        "outputId": "8e7da825-fff9-4c3b-866a-af15315a6d55"
      },
      "execution_count": 2,
      "outputs": [
        {
          "output_type": "stream",
          "name": "stdout",
          "text": [
            "Downloading data from https://storage.googleapis.com/tensorflow/tf-keras-datasets/train-labels-idx1-ubyte.gz\n",
            "32768/29515 [=================================] - 0s 0us/step\n",
            "40960/29515 [=========================================] - 0s 0us/step\n",
            "Downloading data from https://storage.googleapis.com/tensorflow/tf-keras-datasets/train-images-idx3-ubyte.gz\n",
            "26427392/26421880 [==============================] - 0s 0us/step\n",
            "26435584/26421880 [==============================] - 0s 0us/step\n",
            "Downloading data from https://storage.googleapis.com/tensorflow/tf-keras-datasets/t10k-labels-idx1-ubyte.gz\n",
            "16384/5148 [===============================================================================================] - 0s 0us/step\n",
            "Downloading data from https://storage.googleapis.com/tensorflow/tf-keras-datasets/t10k-images-idx3-ubyte.gz\n",
            "4423680/4422102 [==============================] - 0s 0us/step\n",
            "4431872/4422102 [==============================] - 0s 0us/step\n"
          ]
        }
      ]
    },
    {
      "cell_type": "code",
      "source": [
        "import matplotlib.pyplot as plt\n",
        "\n",
        "plt.imshow(X_train[0], cmap='Greys')"
      ],
      "metadata": {
        "colab": {
          "base_uri": "https://localhost:8080/",
          "height": 284
        },
        "id": "868OgZfM73tx",
        "outputId": "68cc690a-50b6-4f91-87ac-77b115363ddd"
      },
      "execution_count": 3,
      "outputs": [
        {
          "output_type": "execute_result",
          "data": {
            "text/plain": [
              "<matplotlib.image.AxesImage at 0x7f8f891c78d0>"
            ]
          },
          "metadata": {},
          "execution_count": 3
        },
        {
          "output_type": "display_data",
          "data": {
            "image/png": "[encoded data removed]",
            "text/plain": [
              "<Figure size 432x288 with 1 Axes>"
            ]
          },
          "metadata": {
            "needs_background": "light"
          }
        }
      ]
    },
    {
      "cell_type": "code",
      "source": [
        "class_names = ['T-shirt/top', 'Trouser', 'Pullover', 'Dress', 'Coat',\n",
        "               'Sandal', 'Shirt', 'Sneaker', 'Bag', 'Ankle boot']\n",
        "class_names[y_train[0]]"
      ],
      "metadata": {
        "colab": {
          "base_uri": "https://localhost:8080/",
          "height": 36
        },
        "id": "nhDeCJob8JIl",
        "outputId": "6fcef18d-e3ed-4284-dfff-80a5eadd65e2"
      },
      "execution_count": 4,
      "outputs": [
        {
          "output_type": "execute_result",
          "data": {
            "application/vnd.google.colaboratory.intrinsic+json": {
              "type": "string"
            },
            "text/plain": [
              "'Ankle boot'"
            ]
          },
          "metadata": {},
          "execution_count": 4
        }
      ]
    },
    {
      "cell_type": "code",
      "source": [
        "plt.figure(figsize=(14,5))\n",
        "for i in range(10):    \n",
        "    plt.subplot(2, 5, i+1)\n",
        "    plt.imshow(X_train[i], cmap='Greys')\n",
        "    plt.title(class_names[y_train[i]])\n",
        "    plt.xticks([]); plt.yticks([])\n",
        "plt.show()"
      ],
      "metadata": {
        "colab": {
          "base_uri": "https://localhost:8080/",
          "height": 275
        },
        "id": "dc2jfyg48fAU",
        "outputId": "13a29741-824e-456d-a26d-f7cb7be86e3f"
      },
      "execution_count": 5,
      "outputs": [
        {
          "output_type": "display_data",
          "data": {
            "image/png": "[encoded data removed]",
            "text/plain": [
              "<Figure size 1008x360 with 10 Axes>"
            ]
          },
          "metadata": {}
        }
      ]
    },
    {
      "cell_type": "code",
      "source": [
        "X_train.shape, y_train.shape # 엠니스트 셋과 동일한 데이터 양 가져"
      ],
      "metadata": {
        "colab": {
          "base_uri": "https://localhost:8080/"
        },
        "id": "p3HFdZ_J8yS4",
        "outputId": "1d8143e0-7ab4-42ce-8ce0-e66d452e9a3f"
      },
      "execution_count": 6,
      "outputs": [
        {
          "output_type": "execute_result",
          "data": {
            "text/plain": [
              "((60000, 28, 28), (60000,))"
            ]
          },
          "metadata": {},
          "execution_count": 6
        }
      ]
    },
    {
      "cell_type": "markdown",
      "source": [
        "- 정규화 및 차원"
      ],
      "metadata": {
        "id": "u7jG8hUr9nk-"
      }
    },
    {
      "cell_type": "code",
      "source": [
        "# X data 정규화 및 차원 변경 \n",
        "# 0 ~ 1 사이의 값으로 정규화 # 학습준비 완료 \n",
        "X_train = X_train.reshape(-1,28,28,1) / 255.0\n",
        "X_test  = X_test.reshape(-1, 28, 28, 1) / 255.0"
      ],
      "metadata": {
        "id": "yQHo3VZJ9wHE"
      },
      "execution_count": 7,
      "outputs": []
    },
    {
      "cell_type": "code",
      "source": [
        "# y data : one - hot encoding\n",
        "from tensorflow.keras.utils import to_categorical\n",
        "Y_train = to_categorical(y_train)\n",
        "Y_test = to_categorical(y_test)"
      ],
      "metadata": {
        "id": "NoR9GMA_-U9i"
      },
      "execution_count": 8,
      "outputs": []
    },
    {
      "cell_type": "markdown",
      "source": [
        "- 모델 정의, 설정, 학습, 평가"
      ],
      "metadata": {
        "id": "P7mnEZwY-_H6"
      }
    },
    {
      "cell_type": "code",
      "source": [
        "from tensorflow.keras.models import Sequential, load_model\n",
        "from tensorflow.keras.layers import Dense, Conv2D, MaxPooling2D, Flatten, Dropout\n",
        "from tensorflow.keras.callbacks import ModelCheckpoint, EarlyStopping"
      ],
      "metadata": {
        "id": "FsOCORwW_B8q"
      },
      "execution_count": 9,
      "outputs": []
    },
    {
      "cell_type": "code",
      "source": [
        "model = Sequential([\n",
        "    Conv2D(32, (3,3), input_shape=(28,28,1), activation='relu'),\n",
        "    Conv2D(64, (3,3), activation='relu'),\n",
        "    MaxPooling2D(), # 기본 2 by 2     \n",
        "    Dropout(0.25),\n",
        "    Flatten(),           # n차원을 1차원으로 반환 Dense 들어가기 전 단계에서 필요해\n",
        "    Dense(512, activation='relu'),\n",
        "    Dropout(0.5),\n",
        "    Dense(10, activation='softmax')\n",
        "    ])\n",
        "model.summary()"
      ],
      "metadata": {
        "colab": {
          "base_uri": "https://localhost:8080/"
        },
        "id": "Wra5DpyM_a_z",
        "outputId": "86522bb9-a05b-472c-c651-78d6c045a244"
      },
      "execution_count": 10,
      "outputs": [
        {
          "output_type": "stream",
          "name": "stdout",
          "text": [
            "Model: \"sequential\"\n",
            "_________________________________________________________________\n",
            " Layer (type)                Output Shape              Param #   \n",
            "=================================================================\n",
            " conv2d (Conv2D)             (None, 26, 26, 32)        320       \n",
            "                                                                 \n",
            " conv2d_1 (Conv2D)           (None, 24, 24, 64)        18496     \n",
            "                                                                 \n",
            " max_pooling2d (MaxPooling2D  (None, 12, 12, 64)       0         \n",
            " )                                                               \n",
            "                                                                 \n",
            " dropout (Dropout)           (None, 12, 12, 64)        0         \n",
            "                                                                 \n",
            " flatten (Flatten)           (None, 9216)              0         \n",
            "                                                                 \n",
            " dense (Dense)               (None, 512)               4719104   \n",
            "                                                                 \n",
            " dropout_1 (Dropout)         (None, 512)               0         \n",
            "                                                                 \n",
            " dense_1 (Dense)             (None, 10)                5130      \n",
            "                                                                 \n",
            "=================================================================\n",
            "Total params: 4,743,050\n",
            "Trainable params: 4,743,050\n",
            "Non-trainable params: 0\n",
            "_________________________________________________________________\n"
          ]
        }
      ]
    },
    {
      "cell_type": "code",
      "source": [
        "model.compile(optimizer='adam', loss='categorical_crossentropy', metrics=['accuracy'])"
      ],
      "metadata": {
        "id": "HOi6oDcc_6mj"
      },
      "execution_count": 11,
      "outputs": []
    },
    {
      "cell_type": "code",
      "source": [
        "# 모델 최적화를 위한 설정\n",
        "model_path = 'best-fashion-mnist-cnn.c5'\n",
        "checkpoint = ModelCheckpoint(model_path, save_best_only=True, verbose=1)  # 밸로스가 기본. 모니터로 등록\n",
        "early_stop = EarlyStopping(patience=10)"
      ],
      "metadata": {
        "id": "dN1zn983A7E_"
      },
      "execution_count": 12,
      "outputs": []
    },
    {
      "cell_type": "code",
      "source": [
        "hist = model.fit(\n",
        "    X_train, Y_train, validation_split=0.2, batch_size=200, epochs=100,\n",
        "    callbacks=[checkpoint, early_stop], verbose=0    \n",
        ")"
      ],
      "metadata": {
        "colab": {
          "base_uri": "https://localhost:8080/"
        },
        "id": "vQo8GXoeBYcJ",
        "outputId": "322fad6f-e0e4-4c53-d3c3-3794f3e390e3"
      },
      "execution_count": 13,
      "outputs": [
        {
          "output_type": "stream",
          "name": "stdout",
          "text": [
            "\n",
            "Epoch 00001: val_loss improved from inf to 0.32444, saving model to best-fashion-mnist-cnn.c5\n",
            "INFO:tensorflow:Assets written to: best-fashion-mnist-cnn.c5/assets\n",
            "\n",
            "Epoch 00002: val_loss improved from 0.32444 to 0.27500, saving model to best-fashion-mnist-cnn.c5\n",
            "INFO:tensorflow:Assets written to: best-fashion-mnist-cnn.c5/assets\n",
            "\n",
            "Epoch 00003: val_loss improved from 0.27500 to 0.23943, saving model to best-fashion-mnist-cnn.c5\n",
            "INFO:tensorflow:Assets written to: best-fashion-mnist-cnn.c5/assets\n",
            "\n",
            "Epoch 00004: val_loss improved from 0.23943 to 0.23386, saving model to best-fashion-mnist-cnn.c5\n",
            "INFO:tensorflow:Assets written to: best-fashion-mnist-cnn.c5/assets\n",
            "\n",
            "Epoch 00005: val_loss did not improve from 0.23386\n",
            "\n",
            "Epoch 00006: val_loss improved from 0.23386 to 0.21116, saving model to best-fashion-mnist-cnn.c5\n",
            "INFO:tensorflow:Assets written to: best-fashion-mnist-cnn.c5/assets\n",
            "\n",
            "Epoch 00007: val_loss improved from 0.21116 to 0.20185, saving model to best-fashion-mnist-cnn.c5\n",
            "INFO:tensorflow:Assets written to: best-fashion-mnist-cnn.c5/assets\n",
            "\n",
            "Epoch 00008: val_loss did not improve from 0.20185\n",
            "\n",
            "Epoch 00009: val_loss improved from 0.20185 to 0.20047, saving model to best-fashion-mnist-cnn.c5\n",
            "INFO:tensorflow:Assets written to: best-fashion-mnist-cnn.c5/assets\n",
            "\n",
            "Epoch 00010: val_loss did not improve from 0.20047\n",
            "\n",
            "Epoch 00011: val_loss did not improve from 0.20047\n",
            "\n",
            "Epoch 00012: val_loss did not improve from 0.20047\n",
            "\n",
            "Epoch 00013: val_loss did not improve from 0.20047\n",
            "\n",
            "Epoch 00014: val_loss did not improve from 0.20047\n",
            "\n",
            "Epoch 00015: val_loss did not improve from 0.20047\n",
            "\n",
            "Epoch 00016: val_loss did not improve from 0.20047\n",
            "\n",
            "Epoch 00017: val_loss did not improve from 0.20047\n",
            "\n",
            "Epoch 00018: val_loss did not improve from 0.20047\n",
            "\n",
            "Epoch 00019: val_loss did not improve from 0.20047\n"
          ]
        }
      ]
    },
    {
      "cell_type": "code",
      "source": [
        "best_model = load_model(model_path)\n",
        "best_model.evaluate(X_test, Y_test)"
      ],
      "metadata": {
        "colab": {
          "base_uri": "https://localhost:8080/"
        },
        "id": "YPs9wEH-BwV_",
        "outputId": "26d7a33d-3964-4cf1-f08f-81eb346f66de"
      },
      "execution_count": 15,
      "outputs": [
        {
          "output_type": "stream",
          "name": "stdout",
          "text": [
            "313/313 [==============================] - 1s 4ms/step - loss: 0.2156 - accuracy: 0.9260\n"
          ]
        },
        {
          "output_type": "execute_result",
          "data": {
            "text/plain": [
              "[0.21558497846126556, 0.9259999990463257]"
            ]
          },
          "metadata": {},
          "execution_count": 15
        }
      ]
    },
    {
      "cell_type": "markdown",
      "source": [
        "- 학습과정 시각화"
      ],
      "metadata": {
        "id": "bOuALowxCwfP"
      }
    },
    {
      "cell_type": "code",
      "source": [
        "y_acc = hist.history['accuracy']\n",
        "y_vloss = hist.history['val_loss']\n",
        "xs = np.arange(1, len(y_acc)+1)"
      ],
      "metadata": {
        "id": "d5M3TkbXDFgm"
      },
      "execution_count": 16,
      "outputs": []
    },
    {
      "cell_type": "code",
      "source": [
        "plt.figure(figsize=(12,8))\n",
        "plt.plot(xs, y_acc, 'o-', ms=10, label='train_accuracy')\n",
        "plt.plot(xs, y_vloss, 'o-', ms=10, label='validation_loss')\n",
        "plt.legend, plt.grid, plt.xlabel('Epochs');"
      ],
      "metadata": {
        "colab": {
          "base_uri": "https://localhost:8080/",
          "height": 470
        },
        "id": "UacZUtSgDZU8",
        "outputId": "f5f22793-d43a-447a-8e20-6d74bc3cd1db"
      },
      "execution_count": 22,
      "outputs": [
        {
          "output_type": "display_data",
          "data": {
            "image/png": "[encoded data removed]",
            "text/plain": [
              "<Figure size 864x576 with 1 Axes>"
            ]
          },
          "metadata": {
            "needs_background": "light"
          }
        }
      ]
    },
    {
      "cell_type": "code",
      "source": [
        ""
      ],
      "metadata": {
        "id": "mVrNGSitD94G"
      },
      "execution_count": null,
      "outputs": []
    }
  ]
}