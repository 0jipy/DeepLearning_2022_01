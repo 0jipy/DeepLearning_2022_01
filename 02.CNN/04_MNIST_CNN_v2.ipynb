{
  "nbformat": 4,
  "nbformat_minor": 0,
  "metadata": {
    "colab": {
      "name": "04.MNIST-CNN-v2.ipynb",
      "provenance": [],
      "collapsed_sections": []
    },
    "kernelspec": {
      "name": "python3",
      "display_name": "Python 3"
    },
    "language_info": {
      "name": "python"
    },
    "accelerator": "GPU"
  },
  "cells": [
    {
      "cell_type": "markdown",
      "source": [
        "# MNIST 손글씨 - CNN v2\n"
      ],
      "metadata": {
        "id": "21MOQloDoaq-"
      }
    },
    {
      "cell_type": "markdown",
      "source": [
        " - 2 Conv2D layers\n",
        " - 1 MaxPooling2D layer\n",
        " - 1 Fully Connected Network layer\n",
        " - 1 Output layer"
      ],
      "metadata": {
        "id": "Otz8-otQom2L"
      }
    },
    {
      "cell_type": "code",
      "source": [
        "import numpy as np\n",
        "import tensorflow as tf\n",
        "seed = 2022\n",
        "np.random.seed(seed)\n",
        "tf.random.set_seed(seed)"
      ],
      "metadata": {
        "id": "oFX5ofzCowzm"
      },
      "execution_count": null,
      "outputs": []
    },
    {
      "cell_type": "markdown",
      "source": [
        "- 데이터 전처리"
      ],
      "metadata": {
        "id": "t9cyT-YPpGGf"
      }
    },
    {
      "cell_type": "code",
      "source": [
        "from tensorflow.keras.datasets import mnist\n",
        "(X_train, y_train), (X_test, y_test) = mnist.load_data()"
      ],
      "metadata": {
        "colab": {
          "base_uri": "https://localhost:8080/"
        },
        "id": "zpeAmhR3pIT2",
        "outputId": "8d36a1a3-4305-40ae-8cd9-98571268196a"
      },
      "execution_count": null,
      "outputs": [
        {
          "output_type": "stream",
          "name": "stdout",
          "text": [
            "Downloading data from https://storage.googleapis.com/tensorflow/tf-keras-datasets/mnist.npz\n",
            "11493376/11490434 [==============================] - 0s 0us/step\n",
            "11501568/11490434 [==============================] - 0s 0us/step\n"
          ]
        }
      ]
    },
    {
      "cell_type": "code",
      "source": [
        "# X data: 0-1 사이의 값, 3차원 ==> 4차원\n",
        "X_train = X_train.reshape(-1,28,28,1) / 255.\n",
        "X_test = X_test.reshape(-1,28,28,1) / 255."
      ],
      "metadata": {
        "id": "J4WOuC-PpRQ-"
      },
      "execution_count": null,
      "outputs": []
    },
    {
      "cell_type": "code",
      "source": [
        "# One hot encoding\n",
        "from tensorflow.keras.utils import to_categorical\n",
        "Y_train = to_categorical(y_train)\n",
        "Y_test = to_categorical(y_test)"
      ],
      "metadata": {
        "id": "mhuoMAFep3TW"
      },
      "execution_count": null,
      "outputs": []
    },
    {
      "cell_type": "markdown",
      "source": [
        "- 모델 정의, 설정, 학습, 평가"
      ],
      "metadata": {
        "id": "Zh3Ult8SqKDz"
      }
    },
    {
      "cell_type": "code",
      "source": [
        "from tensorflow.keras.models import Sequential, load_model\n",
        "from tensorflow.keras.layers import Dense, Conv2D, Flatten, MaxPooling2D  ## 맥스풀링 새로 들어와. \n",
        "from tensorflow.keras.callbacks import ModelCheckpoint, EarlyStopping"
      ],
      "metadata": {
        "id": "g4-M9t2RqNW0"
      },
      "execution_count": null,
      "outputs": []
    },
    {
      "cell_type": "code",
      "source": [
        "# del model"
      ],
      "metadata": {
        "id": "4WW32IYV2_Ig"
      },
      "execution_count": null,
      "outputs": []
    },
    {
      "cell_type": "code",
      "source": [
        "# 1은 흑백 3은 컬러\n",
        "model = Sequential([\n",
        "    Conv2D(32, kernel_size=(3,3), input_shape=(28, 28, 1), activation='relu'),\n",
        "    Conv2D(64, (3,3),  activation='relu'),\n",
        "    MaxPooling2D(),   # 절반으로 줄이기 # MaxPooling(pool_size(2,2))\n",
        "    Flatten(),\n",
        "    Dense(512, activation='relu'),\n",
        "    Dense(10, activation='softmax')\n",
        "])\n",
        "model.summary()"
      ],
      "metadata": {
        "colab": {
          "base_uri": "https://localhost:8080/"
        },
        "id": "UiHvGemBqs8U",
        "outputId": "5d5dfa6f-844f-414f-a975-38d907ee76fc"
      },
      "execution_count": null,
      "outputs": [
        {
          "output_type": "stream",
          "name": "stdout",
          "text": [
            "Model: \"sequential_2\"\n",
            "_________________________________________________________________\n",
            " Layer (type)                Output Shape              Param #   \n",
            "=================================================================\n",
            " conv2d_4 (Conv2D)           (None, 26, 26, 32)        320       \n",
            "                                                                 \n",
            " conv2d_5 (Conv2D)           (None, 24, 24, 64)        18496     \n",
            "                                                                 \n",
            " max_pooling2d_1 (MaxPooling  (None, 12, 12, 64)       0         \n",
            " 2D)                                                             \n",
            "                                                                 \n",
            " flatten_2 (Flatten)         (None, 9216)              0         \n",
            "                                                                 \n",
            " dense_4 (Dense)             (None, 512)               4719104   \n",
            "                                                                 \n",
            " dense_5 (Dense)             (None, 10)                5130      \n",
            "                                                                 \n",
            "=================================================================\n",
            "Total params: 4,743,050\n",
            "Trainable params: 4,743,050\n",
            "Non-trainable params: 0\n",
            "_________________________________________________________________\n"
          ]
        }
      ]
    },
    {
      "cell_type": "markdown",
      "source": [
        "-  dense 2의 파라미터 확줄어들어"
      ],
      "metadata": {
        "id": "7_LetdLi2pTB"
      }
    },
    {
      "cell_type": "code",
      "source": [
        "model.compile(optimizer='adam', loss='categorical_crossentropy', metrics=['accuracy'])"
      ],
      "metadata": {
        "id": "Q7xCeMzMr_Ac"
      },
      "execution_count": null,
      "outputs": []
    },
    {
      "cell_type": "code",
      "source": [
        "model_path = 'best-mnist-cnn-v2.h5'\n",
        "checkpoint = ModelCheckpoint(model_path, save_best_only=True, verbose=1)\n",
        "early_stop = EarlyStopping(patience=10)"
      ],
      "metadata": {
        "id": "zWY51Z0MsxJi"
      },
      "execution_count": null,
      "outputs": []
    },
    {
      "cell_type": "code",
      "source": [
        "hist = model.fit(\n",
        "    X_train, Y_train, validation_split=0.2, epochs=100, batch_size=200,\n",
        "    callbacks=[checkpoint, early_stop], verbose=0\n",
        ")\n",
        "# 처음에는 GPU 선착때문에 시간이 걸리나 그후엔 고속으로 돌아가"
      ],
      "metadata": {
        "colab": {
          "base_uri": "https://localhost:8080/"
        },
        "id": "CI8Yex01tQq5",
        "outputId": "b6894546-3263-4301-bbf2-0cf3ab5b3eb5"
      },
      "execution_count": null,
      "outputs": [
        {
          "output_type": "stream",
          "name": "stdout",
          "text": [
            "\n",
            "Epoch 00001: val_loss improved from inf to 0.05852, saving model to best-mnist-cnn-v2.h5\n",
            "\n",
            "Epoch 00002: val_loss improved from 0.05852 to 0.05336, saving model to best-mnist-cnn-v2.h5\n",
            "\n",
            "Epoch 00003: val_loss improved from 0.05336 to 0.04189, saving model to best-mnist-cnn-v2.h5\n",
            "\n",
            "Epoch 00004: val_loss improved from 0.04189 to 0.04025, saving model to best-mnist-cnn-v2.h5\n",
            "\n",
            "Epoch 00005: val_loss did not improve from 0.04025\n",
            "\n",
            "Epoch 00006: val_loss did not improve from 0.04025\n",
            "\n",
            "Epoch 00007: val_loss did not improve from 0.04025\n",
            "\n",
            "Epoch 00008: val_loss did not improve from 0.04025\n",
            "\n",
            "Epoch 00009: val_loss did not improve from 0.04025\n",
            "\n",
            "Epoch 00010: val_loss did not improve from 0.04025\n",
            "\n",
            "Epoch 00011: val_loss did not improve from 0.04025\n",
            "\n",
            "Epoch 00012: val_loss did not improve from 0.04025\n",
            "\n",
            "Epoch 00013: val_loss did not improve from 0.04025\n",
            "\n",
            "Epoch 00014: val_loss did not improve from 0.04025\n"
          ]
        }
      ]
    },
    {
      "cell_type": "code",
      "source": [
        "best_model=load_model(model_path)\n",
        "best_model.evaluate(X_test, Y_test)\n",
        "# [0.040496282279491425, 0.9872000217437744]\n",
        "# [0.040496282279491425, 0.9872000217437744] ver2"
      ],
      "metadata": {
        "colab": {
          "base_uri": "https://localhost:8080/"
        },
        "id": "B6xRb4xAvZPc",
        "outputId": "fffad9c9-04db-4652-bc8a-41fefa557eee"
      },
      "execution_count": null,
      "outputs": [
        {
          "output_type": "stream",
          "name": "stdout",
          "text": [
            "313/313 [==============================] - 1s 4ms/step - loss: 0.0405 - accuracy: 0.9872\n"
          ]
        },
        {
          "output_type": "execute_result",
          "data": {
            "text/plain": [
              "[0.040496282279491425, 0.9872000217437744]"
            ]
          },
          "metadata": {},
          "execution_count": 10
        }
      ]
    },
    {
      "cell_type": "code",
      "source": [
        ""
      ],
      "metadata": {
        "id": "rJN3jIxBv3i3"
      },
      "execution_count": null,
      "outputs": []
    }
  ]
}