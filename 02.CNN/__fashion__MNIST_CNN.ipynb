{
  "cells": [
    {
      "cell_type": "markdown",
      "metadata": {},
      "source": [
        "# 패션MNIST 모델 수정 \n",
        "    - one. 32 Conv2D layer 의 커널사이즈 변경. 2by2 및 4by4\n",
        "    - two. MaxPooling2D layer 의 pollingsize 변경\n",
        "        - 풀링방식 변경 test 로  Average Pooling2D   size 2,2 변경.\n",
        "    - three. Dropout(0.5) 변화.  None 및 0.25"
      ]
    },
    {
      "cell_type": "markdown",
      "metadata": {
        "id": "i7XooZq_TxnW"
      },
      "source": [
        "### 결론-1\n",
        "\n",
        "- 레이어를 하나씩 더해가는 방식보다. 원본 + 1 방식으로 조금이나마 내부적으로 뭘하고 있는지 알고 싶다.\n",
        "- 오래 돌리기 전략을 취해 보려 했으나, 1분이상 돌린 코드는 없었다. 커널 사이즈를 2,2로 가져가면 조금 오래 걸리지 않을까 기대했던 생각. \n",
        "\n",
        "    - 커널사이즈 2,2 및 4,4, 버전의 정확도 향상은 없었다.\n",
        "    - 맥스풀링사이즈 3,3 변화에서는 성능향상. \n",
        "    - 드롭아웃 변화 두가지 버전에서의 성능향상은 없었다. \n",
        "    - \n",
        "\n",
        "- total 버전 맥스풀링3,3 및 드롭아웃 0.4 버전에서도, 맥스풀링 3.3의 성능을 뛰어넘진 못했다. \n"
      ]
    },
    {
      "cell_type": "markdown",
      "metadata": {},
      "source": [
        "### 결론-2 정확도 비교"
      ]
    },
    {
      "cell_type": "markdown",
      "metadata": {},
      "source": [
        "- 1.1 model_one  커널사이즈 (2,2)\n",
        "    - 결과 0.9239000082015991 정확도 , 하락.\n",
        "- 1.2 model_one44  커널사이즈 (4,4)\n",
        "    - 결과 0.9193000197410583 정확도 , 하락\n",
        "\n",
        "- 2.1 model_two 맥스풀링 사이즈 3,3\n",
        "    - 결과 0.9283000230789185 정확도 향상. (유일한 향상.)\n",
        "- 2.2 model_two_Avgpooling 에버리지 풀링 사이즈 2,2 \n",
        "    - 결과 0.9269000291824341 정확도 하락\n",
        "\n",
        "- 3.1 model_three_drop_none\n",
        "    - 결과 0.9211999773979187 정확도 하락\n",
        "- 3.2 model_three_drop_small\n",
        "    - 결과 0.9179999828338623 정확도 하락.\n",
        "\n",
        "- 모델 토탈. \n",
        "\n"
      ]
    },
    {
      "cell_type": "code",
      "execution_count": 10,
      "metadata": {
        "colab": {
          "base_uri": "https://localhost:8080/"
        },
        "id": "xRuSHunIUM7u",
        "outputId": "095e6afb-175e-4002-d661-4b9a6770536e"
      },
      "outputs": [
        {
          "name": "stdout",
          "output_type": "stream",
          "text": [
            "Model: \"sequential\"\n",
            "_________________________________________________________________\n",
            " Layer (type)                Output Shape              Param #   \n",
            "=================================================================\n",
            " conv2d (Conv2D)             (None, 27, 27, 32)        160       \n",
            "                                                                 \n",
            " conv2d_1 (Conv2D)           (None, 25, 25, 64)        18496     \n",
            "                                                                 \n",
            " max_pooling2d (MaxPooling2D  (None, 12, 12, 64)       0         \n",
            " )                                                               \n",
            "                                                                 \n",
            " dropout (Dropout)           (None, 12, 12, 64)        0         \n",
            "                                                                 \n",
            " flatten (Flatten)           (None, 9216)              0         \n",
            "                                                                 \n",
            " dense (Dense)               (None, 512)               4719104   \n",
            "                                                                 \n",
            " dropout_1 (Dropout)         (None, 512)               0         \n",
            "                                                                 \n",
            " dense_1 (Dense)             (None, 10)                5130      \n",
            "                                                                 \n",
            "=================================================================\n",
            "Total params: 4,742,890\n",
            "Trainable params: 4,742,890\n",
            "Non-trainable params: 0\n",
            "_________________________________________________________________\n"
          ]
        }
      ],
      "source": [
        "# 모델_one\n",
        "model_one = Sequential([\n",
        "    Conv2D(32, (2,2), input_shape=(28,28,1), activation='relu'),\n",
        "    Conv2D(64, (3,3), activation='relu'),\n",
        "    MaxPooling2D(), # 기본 2 by 2     \n",
        "    Dropout(0.25),\n",
        "    Flatten(),           # n차원을 1차원으로 반환 Dense 들어가기 전 단계에서 필요해\n",
        "    Dense(512, activation='relu'),\n",
        "    Dropout(0.5),\n",
        "    Dense(10, activation='softmax')\n",
        "    ])\n",
        "model_one.summary()\n",
        "# 첫번째 conv2d (Conv2D)   (None, 27, 27, 32)    160  파라미터 갯수 기존320 ->160 으로 줄어듦."
      ]
    },
    {
      "cell_type": "code",
      "execution_count": 12,
      "metadata": {
        "id": "q9G07qBsUM5Q"
      },
      "outputs": [],
      "source": [
        "model_one.compile(optimizer='adam', loss='categorical_crossentropy', metrics=['accuracy'])"
      ]
    },
    {
      "cell_type": "code",
      "execution_count": 13,
      "metadata": {
        "id": "aZl_mEUBUM2b"
      },
      "outputs": [],
      "source": [
        "model_path = 'best-fashion-mnist-cnn.c5'\n",
        "checkpoint = ModelCheckpoint(model_path, save_best_only=True, verbose=1)  # 밸로스가 기본. 모니터로 등록\n",
        "early_stop = EarlyStopping(patience=10)"
      ]
    },
    {
      "cell_type": "code",
      "execution_count": null,
      "metadata": {
        "id": "K3N4tCfNapCX"
      },
      "outputs": [],
      "source": [
        "hist = model_one.fit(\n",
        "    X_train, Y_train, validation_split=0.2, batch_size=200, epochs=100,\n",
        "    callbacks=[checkpoint, early_stop], verbose=0    \n",
        ")\n",
        "# 상황을 보아하니 patience=5 으로도 괜찮겠다."
      ]
    },
    {
      "cell_type": "code",
      "execution_count": 17,
      "metadata": {
        "colab": {
          "base_uri": "https://localhost:8080/"
        },
        "id": "rSdFgIQpUMz1",
        "outputId": "9e9673f1-99f4-437f-9229-22702bb0e1f6"
      },
      "outputs": [
        {
          "name": "stdout",
          "output_type": "stream",
          "text": [
            "313/313 [==============================] - 1s 3ms/step - loss: 0.2216 - accuracy: 0.9239\n"
          ]
        },
        {
          "data": {
            "text/plain": [
              "[0.2215682417154312, 0.9239000082015991]"
            ]
          },
          "execution_count": 17,
          "metadata": {},
          "output_type": "execute_result"
        }
      ],
      "source": [
        "best_model = load_model(model_path)\n",
        "best_model.evaluate(X_test, Y_test)\n",
        "# [0.21558497846126556, 0.9259999990463257] origin\n",
        "# [0.2215682417154312, 0.9239000082015991] 커널사이즈(2,2) 성능하락."
      ]
    },
    {
      "cell_type": "code",
      "execution_count": null,
      "metadata": {
        "id": "75fj9DbbUMxX"
      },
      "outputs": [],
      "source": []
    },
    {
      "cell_type": "code",
      "execution_count": 22,
      "metadata": {
        "colab": {
          "base_uri": "https://localhost:8080/"
        },
        "id": "y28CQifRUMuu",
        "outputId": "5d1d6434-3999-4dc7-b02e-e7c23269441c"
      },
      "outputs": [
        {
          "name": "stdout",
          "output_type": "stream",
          "text": [
            "Model: \"sequential_4\"\n",
            "_________________________________________________________________\n",
            " Layer (type)                Output Shape              Param #   \n",
            "=================================================================\n",
            " conv2d_8 (Conv2D)           (None, 25, 25, 32)        544       \n",
            "                                                                 \n",
            " conv2d_9 (Conv2D)           (None, 23, 23, 64)        18496     \n",
            "                                                                 \n",
            " max_pooling2d_4 (MaxPooling  (None, 11, 11, 64)       0         \n",
            " 2D)                                                             \n",
            "                                                                 \n",
            " dropout_8 (Dropout)         (None, 11, 11, 64)        0         \n",
            "                                                                 \n",
            " flatten_4 (Flatten)         (None, 7744)              0         \n",
            "                                                                 \n",
            " dense_8 (Dense)             (None, 512)               3965440   \n",
            "                                                                 \n",
            " dropout_9 (Dropout)         (None, 512)               0         \n",
            "                                                                 \n",
            " dense_9 (Dense)             (None, 10)                5130      \n",
            "                                                                 \n",
            "=================================================================\n",
            "Total params: 3,989,610\n",
            "Trainable params: 3,989,610\n",
            "Non-trainable params: 0\n",
            "_________________________________________________________________\n"
          ]
        }
      ],
      "source": [
        "model_one44 = Sequential([\n",
        "    Conv2D(32, (4,4), input_shape=(28,28,1), activation='relu'),\n",
        "    Conv2D(64, (3,3), activation='relu'),\n",
        "    MaxPooling2D(), # 기본 2 by 2     \n",
        "    Dropout(0.25),\n",
        "    Flatten(),           # n차원을 1차원으로 반환 Dense 들어가기 전 단계에서 필요해\n",
        "    Dense(512, activation='relu'),\n",
        "    Dropout(0.5),\n",
        "    Dense(10, activation='softmax')\n",
        "    ])\n",
        "model_one44.summary()\n",
        "# 첫째층의 파라미터 개수 320 - > 540 으로 증가"
      ]
    },
    {
      "cell_type": "code",
      "execution_count": 23,
      "metadata": {
        "id": "pZgnWO_hUMsF"
      },
      "outputs": [],
      "source": [
        "model_one44.compile(optimizer='adam', loss='categorical_crossentropy', metrics=['accuracy'])"
      ]
    },
    {
      "cell_type": "code",
      "execution_count": 24,
      "metadata": {
        "id": "BNupX1XSUMpd"
      },
      "outputs": [],
      "source": [
        "model_path = 'best-fashion-mnist-cnn.c5'\n",
        "checkpoint = ModelCheckpoint(model_path, save_best_only=True, verbose=1) \n",
        "early_stop = EarlyStopping(patience=5)"
      ]
    },
    {
      "cell_type": "code",
      "execution_count": null,
      "metadata": {
        "id": "f6QDtt9zdSpE"
      },
      "outputs": [],
      "source": [
        "hist = model_one44.fit(\n",
        "    X_train, Y_train, validation_split=0.2, batch_size=200, epochs=100,\n",
        "    callbacks=[checkpoint, early_stop], verbose=0    \n",
        ")"
      ]
    },
    {
      "cell_type": "code",
      "execution_count": 27,
      "metadata": {
        "colab": {
          "base_uri": "https://localhost:8080/"
        },
        "id": "rX_2-jANdSiK",
        "outputId": "1b236b73-d370-4c71-8d5d-4f895ca036f5"
      },
      "outputs": [
        {
          "name": "stdout",
          "output_type": "stream",
          "text": [
            "313/313 [==============================] - 1s 3ms/step - loss: 0.2257 - accuracy: 0.9193\n"
          ]
        },
        {
          "data": {
            "text/plain": [
              "[0.2257489562034607, 0.9193000197410583]"
            ]
          },
          "execution_count": 27,
          "metadata": {},
          "output_type": "execute_result"
        }
      ],
      "source": [
        "best_model = load_model(model_path)\n",
        "best_model.evaluate(X_test, Y_test)\n",
        "# [0.21558497846126556, 0.9259999990463257] origin\n",
        "# [0.2215682417154312, 0.9239000082015991] 커널사이즈(2,2) 성능하락.\n",
        "# [0.2257489562034607, 0.9193000197410583] 커널사이즈(4,4) 성능하락. "
      ]
    },
    {
      "cell_type": "code",
      "execution_count": null,
      "metadata": {
        "id": "gxVG9kF9fier"
      },
      "outputs": [],
      "source": []
    },
    {
      "cell_type": "code",
      "execution_count": 32,
      "metadata": {
        "colab": {
          "base_uri": "https://localhost:8080/"
        },
        "id": "nGjl02Mgfh_u",
        "outputId": "55848b18-a083-405b-9ed5-2d1c66c61ea1"
      },
      "outputs": [
        {
          "name": "stdout",
          "output_type": "stream",
          "text": [
            "Model: \"sequential_7\"\n",
            "_________________________________________________________________\n",
            " Layer (type)                Output Shape              Param #   \n",
            "=================================================================\n",
            " conv2d_14 (Conv2D)          (None, 26, 26, 32)        320       \n",
            "                                                                 \n",
            " conv2d_15 (Conv2D)          (None, 24, 24, 64)        18496     \n",
            "                                                                 \n",
            " max_pooling2d_7 (MaxPooling  (None, 8, 8, 64)         0         \n",
            " 2D)                                                             \n",
            "                                                                 \n",
            " dropout_14 (Dropout)        (None, 8, 8, 64)          0         \n",
            "                                                                 \n",
            " flatten_7 (Flatten)         (None, 4096)              0         \n",
            "                                                                 \n",
            " dense_14 (Dense)            (None, 512)               2097664   \n",
            "                                                                 \n",
            " dropout_15 (Dropout)        (None, 512)               0         \n",
            "                                                                 \n",
            " dense_15 (Dense)            (None, 10)                5130      \n",
            "                                                                 \n",
            "=================================================================\n",
            "Total params: 2,121,610\n",
            "Trainable params: 2,121,610\n",
            "Non-trainable params: 0\n",
            "_________________________________________________________________\n"
          ]
        }
      ],
      "source": [
        "model_two = Sequential([\n",
        "    Conv2D(32, (3,3), input_shape=(28,28,1), activation='relu'),\n",
        "    Conv2D(64, (3,3), activation='relu'),\n",
        "    MaxPooling2D(pool_size=(3,3)), # 기본 2 by 2     \n",
        "    Dropout(0.25),\n",
        "    Flatten(),           # n차원을 1차원으로 반환 Dense 들어가기 전 단계에서 필요해\n",
        "    Dense(512, activation='relu'),\n",
        "    Dropout(0.5),\n",
        "    Dense(10, activation='softmax')\n",
        "    ])\n",
        "model_two.summary()\n",
        "# 플래튼 이후 덴스의 파라미터 개수가 절반이하로 줄어버렸다."
      ]
    },
    {
      "cell_type": "code",
      "execution_count": 33,
      "metadata": {
        "id": "IXDON7TLfh9f"
      },
      "outputs": [],
      "source": [
        "model_two.compile(optimizer='adam', loss='categorical_crossentropy', metrics=['accuracy'])"
      ]
    },
    {
      "cell_type": "code",
      "execution_count": 34,
      "metadata": {
        "id": "RU9slTOSfh62"
      },
      "outputs": [],
      "source": [
        "model_path = 'best-fashion-mnist-cnn.c5'\n",
        "checkpoint = ModelCheckpoint(model_path, save_best_only=True, verbose=1)  # 밸로스가 기본. 모니터로 등록\n",
        "early_stop = EarlyStopping(patience=5)"
      ]
    },
    {
      "cell_type": "code",
      "execution_count": null,
      "metadata": {
        "id": "J9kipaFSfh4o"
      },
      "outputs": [],
      "source": [
        "hist = model_two.fit(\n",
        "    X_train, Y_train, validation_split=0.2, batch_size=200, epochs=100,\n",
        "    callbacks=[checkpoint, early_stop], verbose=0    \n",
        ")"
      ]
    },
    {
      "cell_type": "code",
      "execution_count": 36,
      "metadata": {
        "colab": {
          "base_uri": "https://localhost:8080/"
        },
        "id": "Ze-g4Mixfh2Q",
        "outputId": "e8bbff21-954f-499f-a755-2257cb0ce727"
      },
      "outputs": [
        {
          "name": "stdout",
          "output_type": "stream",
          "text": [
            "313/313 [==============================] - 1s 3ms/step - loss: 0.2088 - accuracy: 0.9283\n"
          ]
        },
        {
          "data": {
            "text/plain": [
              "[0.2088153064250946, 0.9283000230789185]"
            ]
          },
          "execution_count": 36,
          "metadata": {},
          "output_type": "execute_result"
        }
      ],
      "source": [
        "best_model = load_model(model_path)\n",
        "best_model.evaluate(X_test, Y_test)\n",
        "# [0.21558497846126556, 0.9259999990463257] origin \n",
        "# [0.2088153064250946, 0.9283000230789185] 3,3 Maxpooling 향상."
      ]
    },
    {
      "cell_type": "code",
      "execution_count": null,
      "metadata": {
        "id": "KI1bN2z6iHSm"
      },
      "outputs": [],
      "source": []
    },
    {
      "cell_type": "code",
      "execution_count": 39,
      "metadata": {
        "id": "qG0bUV4viUbx"
      },
      "outputs": [],
      "source": [
        "from tensorflow.keras.layers import AveragePooling2D\n",
        "# 레이어 의 에버리지 풀링2D를 선택했다. 풀링방식의 차이는 알지만, \n",
        "# 결과의 차이는 탐구가 필요. 만약 성능이 향상된다면 왜 인지 알아보겠다. "
      ]
    },
    {
      "cell_type": "code",
      "execution_count": 40,
      "metadata": {
        "colab": {
          "base_uri": "https://localhost:8080/"
        },
        "id": "kKFcn0zxiEbG",
        "outputId": "33bb2f33-39d9-4684-d6e9-a5836afc578b"
      },
      "outputs": [
        {
          "name": "stdout",
          "output_type": "stream",
          "text": [
            "Model: \"sequential_8\"\n",
            "_________________________________________________________________\n",
            " Layer (type)                Output Shape              Param #   \n",
            "=================================================================\n",
            " conv2d_18 (Conv2D)          (None, 26, 26, 32)        320       \n",
            "                                                                 \n",
            " conv2d_19 (Conv2D)          (None, 24, 24, 64)        18496     \n",
            "                                                                 \n",
            " average_pooling2d (AverageP  (None, 12, 12, 64)       0         \n",
            " ooling2D)                                                       \n",
            "                                                                 \n",
            " dropout_16 (Dropout)        (None, 12, 12, 64)        0         \n",
            "                                                                 \n",
            " flatten_8 (Flatten)         (None, 9216)              0         \n",
            "                                                                 \n",
            " dense_16 (Dense)            (None, 512)               4719104   \n",
            "                                                                 \n",
            " dropout_17 (Dropout)        (None, 512)               0         \n",
            "                                                                 \n",
            " dense_17 (Dense)            (None, 10)                5130      \n",
            "                                                                 \n",
            "=================================================================\n",
            "Total params: 4,743,050\n",
            "Trainable params: 4,743,050\n",
            "Non-trainable params: 0\n",
            "_________________________________________________________________\n"
          ]
        }
      ],
      "source": [
        "model_two_avgpool = Sequential([\n",
        "    Conv2D(32, (3,3), input_shape=(28,28,1), activation='relu'),\n",
        "    Conv2D(64, (3,3), activation='relu'),\n",
        "    AveragePooling2D(),  # 기본 2by 2\n",
        "        # MaxPooling2D(), # 기본 2 by 2     \n",
        "    Dropout(0.25),\n",
        "    Flatten(),           # n차원을 1차원으로 반환 Dense 들어가기 전 단계에서 필요해\n",
        "    Dense(512, activation='relu'),\n",
        "    Dropout(0.5),\n",
        "    Dense(10, activation='softmax')\n",
        "    ])\n",
        "model_two_avgpool.summary()\n",
        "# 풀링 사이즈 2by2 적용 때문에 맥스풀링과 비교해 파라미터 차이는 없음.\n",
        "# 오리진과 비교해 쉐입차이도 없다 (None, 12, 12, 64) "
      ]
    },
    {
      "cell_type": "code",
      "execution_count": 41,
      "metadata": {
        "id": "hMpZZyejiEVG"
      },
      "outputs": [],
      "source": [
        "model_two_avgpool.compile(optimizer='adam', loss='categorical_crossentropy', metrics=['accuracy'])"
      ]
    },
    {
      "cell_type": "code",
      "execution_count": 42,
      "metadata": {
        "id": "UUzcXcBmiENX"
      },
      "outputs": [],
      "source": [
        "model_path = 'best-fashion-mnist-cnn.c5'\n",
        "checkpoint = ModelCheckpoint(model_path, save_best_only=True, verbose=1)  # 밸로스가 기본. 모니터로 등록\n",
        "early_stop = EarlyStopping(patience=5)"
      ]
    },
    {
      "cell_type": "code",
      "execution_count": null,
      "metadata": {
        "id": "Vd3HiX7pdSgZ"
      },
      "outputs": [],
      "source": [
        "hist = model_two_avgpool.fit(\n",
        "    X_train, Y_train, validation_split=0.2, batch_size=200, epochs=100,\n",
        "    callbacks=[checkpoint, early_stop], verbose=0    \n",
        ")"
      ]
    },
    {
      "cell_type": "code",
      "execution_count": 44,
      "metadata": {
        "colab": {
          "base_uri": "https://localhost:8080/"
        },
        "id": "_pjvOSXwdSd1",
        "outputId": "e0ad90a5-b08e-4b15-ec53-ade267e37570"
      },
      "outputs": [
        {
          "name": "stdout",
          "output_type": "stream",
          "text": [
            "313/313 [==============================] - 1s 3ms/step - loss: 0.2167 - accuracy: 0.9269\n"
          ]
        },
        {
          "data": {
            "text/plain": [
              "[0.2167196273803711, 0.9269000291824341]"
            ]
          },
          "execution_count": 44,
          "metadata": {},
          "output_type": "execute_result"
        }
      ],
      "source": [
        "best_model = load_model(model_path)\n",
        "best_model.evaluate(X_test, Y_test)\n",
        "# 웬지 오래걸린다. \n",
        "# [0.21558497846126556, 0.9259999990463257] origin \n",
        "# [0.2167196273803711, 0.9269000291824341] 오리진과 비교해 조금 향상."
      ]
    },
    {
      "cell_type": "code",
      "execution_count": null,
      "metadata": {
        "id": "iJcz5rDClM-u"
      },
      "outputs": [],
      "source": []
    },
    {
      "cell_type": "code",
      "execution_count": 45,
      "metadata": {
        "colab": {
          "base_uri": "https://localhost:8080/"
        },
        "id": "GW1yh78MlM2-",
        "outputId": "576e41e9-2028-4fee-836d-d025e7d8fbe4"
      },
      "outputs": [
        {
          "name": "stdout",
          "output_type": "stream",
          "text": [
            "Model: \"sequential_9\"\n",
            "_________________________________________________________________\n",
            " Layer (type)                Output Shape              Param #   \n",
            "=================================================================\n",
            " conv2d_20 (Conv2D)          (None, 26, 26, 32)        320       \n",
            "                                                                 \n",
            " conv2d_21 (Conv2D)          (None, 24, 24, 64)        18496     \n",
            "                                                                 \n",
            " max_pooling2d_8 (MaxPooling  (None, 12, 12, 64)       0         \n",
            " 2D)                                                             \n",
            "                                                                 \n",
            " dropout_18 (Dropout)        (None, 12, 12, 64)        0         \n",
            "                                                                 \n",
            " flatten_9 (Flatten)         (None, 9216)              0         \n",
            "                                                                 \n",
            " dense_18 (Dense)            (None, 512)               4719104   \n",
            "                                                                 \n",
            " dense_19 (Dense)            (None, 10)                5130      \n",
            "                                                                 \n",
            "=================================================================\n",
            "Total params: 4,743,050\n",
            "Trainable params: 4,743,050\n",
            "Non-trainable params: 0\n",
            "_________________________________________________________________\n"
          ]
        }
      ],
      "source": [
        "model_three_drop_none = Sequential([\n",
        "    Conv2D(32, (3,3), input_shape=(28,28,1), activation='relu'),\n",
        "    Conv2D(64, (3,3), activation='relu'),\n",
        "    MaxPooling2D(), # 기본 2 by 2     \n",
        "    Dropout(0.25),\n",
        "    Flatten(),           # n차원을 1차원으로 반환 Dense 들어가기 전 단계에서 필요해\n",
        "    Dense(512, activation='relu'),\n",
        "        # Dropout(0.5),\n",
        "    Dense(10, activation='softmax')\n",
        "    ])\n",
        "model_three_drop_none.summary()\n",
        "# 출력층 전의 드롭아웃층이 사라졌다. 과적합이 나타나는 지 주의 하며 \n",
        "# 얼리 스탑되는 에포크 횟수가 변하는지 , 혹시 모르니 patience = 10"
      ]
    },
    {
      "cell_type": "code",
      "execution_count": 46,
      "metadata": {
        "id": "QJscpDzBhVT7"
      },
      "outputs": [],
      "source": [
        "model_three_drop_none.compile(optimizer='adam', loss='categorical_crossentropy', metrics=['accuracy'])"
      ]
    },
    {
      "cell_type": "code",
      "execution_count": 47,
      "metadata": {
        "id": "2wJpx5fPhXGG"
      },
      "outputs": [],
      "source": [
        "model_path = 'best-fashion-mnist-cnn.c5'\n",
        "checkpoint = ModelCheckpoint(model_path, save_best_only=True, verbose=1)  # 밸로스가 기본. 모니터로 등록\n",
        "early_stop = EarlyStopping(patience=10)"
      ]
    },
    {
      "cell_type": "code",
      "execution_count": null,
      "metadata": {
        "id": "w0BZUnATmPel"
      },
      "outputs": [],
      "source": [
        "hist = model_three_drop_none.fit(\n",
        "    X_train, Y_train, validation_split=0.2, batch_size=200, epochs=100,\n",
        "    callbacks=[checkpoint, early_stop], verbose=0    \n",
        ")\n",
        "# 그전의 종료 된 에폭 횟수를 보면 patience 5 에서 17번 정도. "
      ]
    },
    {
      "cell_type": "code",
      "execution_count": 49,
      "metadata": {
        "colab": {
          "base_uri": "https://localhost:8080/"
        },
        "id": "6vXhe6yCmPb-",
        "outputId": "3eab5781-880e-4689-f658-d005be28767c"
      },
      "outputs": [
        {
          "name": "stdout",
          "output_type": "stream",
          "text": [
            "313/313 [==============================] - 1s 3ms/step - loss: 0.2297 - accuracy: 0.9212\n"
          ]
        },
        {
          "data": {
            "text/plain": [
              "[0.22971689701080322, 0.9211999773979187]"
            ]
          },
          "execution_count": 49,
          "metadata": {},
          "output_type": "execute_result"
        }
      ],
      "source": [
        "best_model = load_model(model_path)\n",
        "best_model.evaluate(X_test, Y_test)\n",
        "# [0.21558497846126556, 0.9259999990463257] origin \n",
        "# [0.22971689701080322, 0.9211999773979187] dorp out (0.5) 제거. 하락.\n"
      ]
    },
    {
      "cell_type": "code",
      "execution_count": 51,
      "metadata": {
        "colab": {
          "base_uri": "https://localhost:8080/"
        },
        "id": "YeGcRZxym9e-",
        "outputId": "5ffe5d9b-0ceb-40aa-d443-4557bf1d5e19"
      },
      "outputs": [
        {
          "name": "stdout",
          "output_type": "stream",
          "text": [
            "Model: \"sequential_10\"\n",
            "_________________________________________________________________\n",
            " Layer (type)                Output Shape              Param #   \n",
            "=================================================================\n",
            " conv2d_22 (Conv2D)          (None, 26, 26, 32)        320       \n",
            "                                                                 \n",
            " conv2d_23 (Conv2D)          (None, 24, 24, 64)        18496     \n",
            "                                                                 \n",
            " max_pooling2d_9 (MaxPooling  (None, 12, 12, 64)       0         \n",
            " 2D)                                                             \n",
            "                                                                 \n",
            " dropout_19 (Dropout)        (None, 12, 12, 64)        0         \n",
            "                                                                 \n",
            " flatten_10 (Flatten)        (None, 9216)              0         \n",
            "                                                                 \n",
            " dense_20 (Dense)            (None, 512)               4719104   \n",
            "                                                                 \n",
            " dropout_20 (Dropout)        (None, 512)               0         \n",
            "                                                                 \n",
            " dense_21 (Dense)            (None, 10)                5130      \n",
            "                                                                 \n",
            "=================================================================\n",
            "Total params: 4,743,050\n",
            "Trainable params: 4,743,050\n",
            "Non-trainable params: 0\n",
            "_________________________________________________________________\n"
          ]
        }
      ],
      "source": [
        "model_three_drop_small = Sequential([\n",
        "    Conv2D(32, (3,3), input_shape=(28,28,1), activation='relu'),\n",
        "    Conv2D(64, (3,3), activation='relu'),\n",
        "    MaxPooling2D(), # 기본 2 by 2     \n",
        "    Dropout(0.25),\n",
        "    Flatten(),           # n차원을 1차원으로 반환 Dense 들어가기 전 단계에서 필요해\n",
        "    Dense(512, activation='relu'),\n",
        "    Dropout(0.25),      # 0.25변경\n",
        "    Dense(10, activation='softmax')\n",
        "    ])\n",
        "model_three_drop_small.summary() \n",
        "# 얼리 스탑되는 에포크 횟수가 변하는지 , 혹시 모르니 patience = 10"
      ]
    },
    {
      "cell_type": "code",
      "execution_count": 52,
      "metadata": {
        "id": "Ji1X-4eDm9ca"
      },
      "outputs": [],
      "source": [
        "model_three_drop_small.compile(optimizer='adam', loss='categorical_crossentropy', metrics=['accuracy'])"
      ]
    },
    {
      "cell_type": "code",
      "execution_count": 53,
      "metadata": {
        "id": "8KZ3hSWdm9Z0"
      },
      "outputs": [],
      "source": [
        "model_path = 'best-fashion-mnist-cnn.c5'\n",
        "checkpoint = ModelCheckpoint(model_path, save_best_only=True, verbose=1)  # 밸로스가 기본. 모니터로 등록\n",
        "early_stop = EarlyStopping(patience=10)"
      ]
    },
    {
      "cell_type": "code",
      "execution_count": null,
      "metadata": {
        "colab": {
          "base_uri": "https://localhost:8080/"
        },
        "id": "3zUZV9QRm9U9",
        "outputId": "622604b3-6304-487a-8e58-bef5438a60b4"
      },
      "outputs": [],
      "source": [
        "hist = model_three_drop_small.fit(\n",
        "    X_train, Y_train, validation_split=0.2, batch_size=200, epochs=100,\n",
        "    callbacks=[checkpoint, early_stop], verbose=0    \n",
        ")"
      ]
    },
    {
      "cell_type": "code",
      "execution_count": 55,
      "metadata": {
        "colab": {
          "base_uri": "https://localhost:8080/"
        },
        "id": "OFmwFzAzmPZm",
        "outputId": "8805bab3-b9b2-40e3-84f6-208a87da7181"
      },
      "outputs": [
        {
          "name": "stdout",
          "output_type": "stream",
          "text": [
            "313/313 [==============================] - 1s 3ms/step - loss: 0.2279 - accuracy: 0.9180\n"
          ]
        },
        {
          "data": {
            "text/plain": [
              "[0.22791101038455963, 0.9179999828338623]"
            ]
          },
          "execution_count": 55,
          "metadata": {},
          "output_type": "execute_result"
        }
      ],
      "source": [
        "best_model = load_model(model_path)\n",
        "best_model.evaluate(X_test, Y_test)\n",
        "# [0.21558497846126556, 0.9259999990463257] origin \n",
        "# [0.22791101038455963, 0.9179999828338623] 성능하락. "
      ]
    },
    {
      "cell_type": "markdown",
      "metadata": {
        "id": "-loRoJFCoLd7"
      },
      "source": [
        "성능이 좋았던 변경점을 합쳐서 다시 한번 최종 피팅. \n",
        "Maxpooling(pooling size = (3,3)) 만 유일하게 성능향상. 변경점이 하나이므로, 드롭아웃 조금 변경하여 피팅.\n",
        "\n",
        "1. 커널사이즈 2,2 와 4, 4 둘다 하락. 3,3으로 유지\n",
        "2. Maxpooling(pooling size = (3,3)) 만 유일하게 성능향상.\n",
        "3. dropout 0.5 layer를 0.4으로 수정. \n",
        "\n",
        "결과. maxpooling3.3 보다 못한 결과로 피팅.  \n",
        "0.9282000064849854\n"
      ]
    },
    {
      "cell_type": "code",
      "execution_count": 62,
      "metadata": {
        "colab": {
          "base_uri": "https://localhost:8080/"
        },
        "id": "TVVq51TwmPXR",
        "outputId": "78dc4d38-baad-49d2-fc64-5c8bf5fda5e6"
      },
      "outputs": [
        {
          "name": "stdout",
          "output_type": "stream",
          "text": [
            "Model: \"sequential_12\"\n",
            "_________________________________________________________________\n",
            " Layer (type)                Output Shape              Param #   \n",
            "=================================================================\n",
            " conv2d_26 (Conv2D)          (None, 26, 26, 32)        320       \n",
            "                                                                 \n",
            " conv2d_27 (Conv2D)          (None, 24, 24, 64)        18496     \n",
            "                                                                 \n",
            " max_pooling2d_11 (MaxPoolin  (None, 8, 8, 64)         0         \n",
            " g2D)                                                            \n",
            "                                                                 \n",
            " dropout_23 (Dropout)        (None, 8, 8, 64)          0         \n",
            "                                                                 \n",
            " flatten_12 (Flatten)        (None, 4096)              0         \n",
            "                                                                 \n",
            " dense_24 (Dense)            (None, 512)               2097664   \n",
            "                                                                 \n",
            " dropout_24 (Dropout)        (None, 512)               0         \n",
            "                                                                 \n",
            " dense_25 (Dense)            (None, 10)                5130      \n",
            "                                                                 \n",
            "=================================================================\n",
            "Total params: 2,121,610\n",
            "Trainable params: 2,121,610\n",
            "Non-trainable params: 0\n",
            "_________________________________________________________________\n"
          ]
        }
      ],
      "source": [
        "model_total = Sequential([\n",
        "    Conv2D(32, (3,3), input_shape=(28,28,1), activation='relu'),\n",
        "    Conv2D(64, (3,3), activation='relu'),\n",
        "    MaxPooling2D(pool_size=(3,3)), # 기본 2 by 2     \n",
        "    Dropout(0.25),\n",
        "    Flatten(),          \n",
        "    Dense(512, activation='relu'),\n",
        "    Dropout(0.4),\n",
        "    Dense(10, activation='softmax')\n",
        "    ])\n",
        "model_total.summary()"
      ]
    },
    {
      "cell_type": "code",
      "execution_count": 63,
      "metadata": {
        "id": "v0xCXp3nmPUn"
      },
      "outputs": [],
      "source": [
        "model_total.compile(optimizer='adam', loss='categorical_crossentropy', metrics=['accuracy'])"
      ]
    },
    {
      "cell_type": "code",
      "execution_count": 64,
      "metadata": {
        "id": "k3ocYG2hhXev"
      },
      "outputs": [],
      "source": [
        "model_path = 'best-fashion-mnist-cnn.c5'\n",
        "checkpoint = ModelCheckpoint(model_path, save_best_only=True, verbose=1) \n",
        "early_stop = EarlyStopping(patience=5)"
      ]
    },
    {
      "cell_type": "code",
      "execution_count": 65,
      "metadata": {
        "colab": {
          "base_uri": "https://localhost:8080/"
        },
        "id": "kVc_0P_XpaYA",
        "outputId": "f20d1f16-13f6-4c1c-c52d-17d8d971c76a"
      },
      "outputs": [
        {
          "name": "stdout",
          "output_type": "stream",
          "text": [
            "Epoch 1/100\n",
            "238/240 [============================>.] - ETA: 0s - loss: 0.5237 - accuracy: 0.8120\n",
            "Epoch 00001: val_loss improved from inf to 0.34343, saving model to best-fashion-mnist-cnn.c5\n",
            "INFO:tensorflow:Assets written to: best-fashion-mnist-cnn.c5/assets\n",
            "240/240 [==============================] - 4s 16ms/step - loss: 0.5229 - accuracy: 0.8122 - val_loss: 0.3434 - val_accuracy: 0.8737\n",
            "Epoch 2/100\n",
            "236/240 [============================>.] - ETA: 0s - loss: 0.3288 - accuracy: 0.8806\n",
            "Epoch 00002: val_loss improved from 0.34343 to 0.30057, saving model to best-fashion-mnist-cnn.c5\n",
            "INFO:tensorflow:Assets written to: best-fashion-mnist-cnn.c5/assets\n",
            "240/240 [==============================] - 4s 15ms/step - loss: 0.3284 - accuracy: 0.8806 - val_loss: 0.3006 - val_accuracy: 0.8866\n",
            "Epoch 3/100\n",
            "239/240 [============================>.] - ETA: 0s - loss: 0.2749 - accuracy: 0.8991\n",
            "Epoch 00003: val_loss improved from 0.30057 to 0.25236, saving model to best-fashion-mnist-cnn.c5\n",
            "INFO:tensorflow:Assets written to: best-fashion-mnist-cnn.c5/assets\n",
            "240/240 [==============================] - 4s 15ms/step - loss: 0.2752 - accuracy: 0.8990 - val_loss: 0.2524 - val_accuracy: 0.9051\n",
            "Epoch 4/100\n",
            "237/240 [============================>.] - ETA: 0s - loss: 0.2431 - accuracy: 0.9118\n",
            "Epoch 00004: val_loss improved from 0.25236 to 0.23850, saving model to best-fashion-mnist-cnn.c5\n",
            "INFO:tensorflow:Assets written to: best-fashion-mnist-cnn.c5/assets\n",
            "240/240 [==============================] - 4s 15ms/step - loss: 0.2433 - accuracy: 0.9116 - val_loss: 0.2385 - val_accuracy: 0.9113\n",
            "Epoch 5/100\n",
            "236/240 [============================>.] - ETA: 0s - loss: 0.2241 - accuracy: 0.9182\n",
            "Epoch 00005: val_loss improved from 0.23850 to 0.23656, saving model to best-fashion-mnist-cnn.c5\n",
            "INFO:tensorflow:Assets written to: best-fashion-mnist-cnn.c5/assets\n",
            "240/240 [==============================] - 4s 17ms/step - loss: 0.2240 - accuracy: 0.9181 - val_loss: 0.2366 - val_accuracy: 0.9103\n",
            "Epoch 6/100\n",
            "237/240 [============================>.] - ETA: 0s - loss: 0.2053 - accuracy: 0.9238\n",
            "Epoch 00006: val_loss improved from 0.23656 to 0.21363, saving model to best-fashion-mnist-cnn.c5\n",
            "INFO:tensorflow:Assets written to: best-fashion-mnist-cnn.c5/assets\n",
            "240/240 [==============================] - 4s 15ms/step - loss: 0.2051 - accuracy: 0.9238 - val_loss: 0.2136 - val_accuracy: 0.9220\n",
            "Epoch 7/100\n",
            "238/240 [============================>.] - ETA: 0s - loss: 0.1855 - accuracy: 0.9327\n",
            "Epoch 00007: val_loss improved from 0.21363 to 0.21149, saving model to best-fashion-mnist-cnn.c5\n",
            "INFO:tensorflow:Assets written to: best-fashion-mnist-cnn.c5/assets\n",
            "240/240 [==============================] - 4s 15ms/step - loss: 0.1856 - accuracy: 0.9326 - val_loss: 0.2115 - val_accuracy: 0.9217\n",
            "Epoch 8/100\n",
            "236/240 [============================>.] - ETA: 0s - loss: 0.1706 - accuracy: 0.9378\n",
            "Epoch 00008: val_loss improved from 0.21149 to 0.20810, saving model to best-fashion-mnist-cnn.c5\n",
            "INFO:tensorflow:Assets written to: best-fashion-mnist-cnn.c5/assets\n",
            "240/240 [==============================] - 4s 15ms/step - loss: 0.1716 - accuracy: 0.9376 - val_loss: 0.2081 - val_accuracy: 0.9223\n",
            "Epoch 9/100\n",
            "236/240 [============================>.] - ETA: 0s - loss: 0.1584 - accuracy: 0.9404\n",
            "Epoch 00009: val_loss improved from 0.20810 to 0.19631, saving model to best-fashion-mnist-cnn.c5\n",
            "INFO:tensorflow:Assets written to: best-fashion-mnist-cnn.c5/assets\n",
            "240/240 [==============================] - 4s 15ms/step - loss: 0.1587 - accuracy: 0.9403 - val_loss: 0.1963 - val_accuracy: 0.9273\n",
            "Epoch 10/100\n",
            "239/240 [============================>.] - ETA: 0s - loss: 0.1429 - accuracy: 0.9467\n",
            "Epoch 00010: val_loss did not improve from 0.19631\n",
            "240/240 [==============================] - 3s 12ms/step - loss: 0.1427 - accuracy: 0.9467 - val_loss: 0.2024 - val_accuracy: 0.9290\n",
            "Epoch 11/100\n",
            "238/240 [============================>.] - ETA: 0s - loss: 0.1316 - accuracy: 0.9516\n",
            "Epoch 00011: val_loss did not improve from 0.19631\n",
            "240/240 [==============================] - 3s 11ms/step - loss: 0.1316 - accuracy: 0.9516 - val_loss: 0.2012 - val_accuracy: 0.9287\n",
            "Epoch 12/100\n",
            "240/240 [==============================] - ETA: 0s - loss: 0.1237 - accuracy: 0.9534\n",
            "Epoch 00012: val_loss improved from 0.19631 to 0.19586, saving model to best-fashion-mnist-cnn.c5\n",
            "INFO:tensorflow:Assets written to: best-fashion-mnist-cnn.c5/assets\n",
            "240/240 [==============================] - 4s 15ms/step - loss: 0.1237 - accuracy: 0.9534 - val_loss: 0.1959 - val_accuracy: 0.9318\n",
            "Epoch 13/100\n",
            "235/240 [============================>.] - ETA: 0s - loss: 0.1117 - accuracy: 0.9586\n",
            "Epoch 00013: val_loss did not improve from 0.19586\n",
            "240/240 [==============================] - 3s 11ms/step - loss: 0.1120 - accuracy: 0.9583 - val_loss: 0.2074 - val_accuracy: 0.9269\n",
            "Epoch 14/100\n",
            "238/240 [============================>.] - ETA: 0s - loss: 0.1021 - accuracy: 0.9623\n",
            "Epoch 00014: val_loss did not improve from 0.19586\n",
            "240/240 [==============================] - 3s 11ms/step - loss: 0.1023 - accuracy: 0.9622 - val_loss: 0.2152 - val_accuracy: 0.9289\n",
            "Epoch 15/100\n",
            "238/240 [============================>.] - ETA: 0s - loss: 0.0953 - accuracy: 0.9647\n",
            "Epoch 00015: val_loss did not improve from 0.19586\n",
            "240/240 [==============================] - 3s 11ms/step - loss: 0.0955 - accuracy: 0.9645 - val_loss: 0.2015 - val_accuracy: 0.9313\n",
            "Epoch 16/100\n",
            "237/240 [============================>.] - ETA: 0s - loss: 0.0872 - accuracy: 0.9679\n",
            "Epoch 00016: val_loss did not improve from 0.19586\n",
            "240/240 [==============================] - 3s 11ms/step - loss: 0.0873 - accuracy: 0.9679 - val_loss: 0.2103 - val_accuracy: 0.9319\n",
            "Epoch 17/100\n",
            "239/240 [============================>.] - ETA: 0s - loss: 0.0814 - accuracy: 0.9701\n",
            "Epoch 00017: val_loss did not improve from 0.19586\n",
            "240/240 [==============================] - 3s 11ms/step - loss: 0.0815 - accuracy: 0.9701 - val_loss: 0.2177 - val_accuracy: 0.9299\n"
          ]
        }
      ],
      "source": [
        "hist = model_total.fit(\n",
        "    X_train, Y_train, validation_split=0.2, batch_size=200, epochs=100,\n",
        "    callbacks=[checkpoint, early_stop], verbose=1   \n",
        ")\n",
        "# 정확도 향상이 그저 그래보여. 드롭아웃 0.5 버전의 내용보다 .학습 횟수는 높아져"
      ]
    },
    {
      "cell_type": "code",
      "execution_count": 66,
      "metadata": {
        "colab": {
          "base_uri": "https://localhost:8080/"
        },
        "id": "jlJ1TXGQpaVR",
        "outputId": "c0d5bfd8-183a-437c-a467-a0ad3a010836"
      },
      "outputs": [
        {
          "name": "stdout",
          "output_type": "stream",
          "text": [
            "313/313 [==============================] - 1s 3ms/step - loss: 0.2137 - accuracy: 0.9282\n"
          ]
        },
        {
          "data": {
            "text/plain": [
              "[0.21373777091503143, 0.9282000064849854]"
            ]
          },
          "execution_count": 66,
          "metadata": {},
          "output_type": "execute_result"
        }
      ],
      "source": [
        "best_model = load_model(model_path)\n",
        "best_model.evaluate(X_test, Y_test)\n",
        "# [0.21558497846126556, 0.9259999990463257] origin \n",
        "# [0.2088153064250946, 0.9283000230789185] 3.3 맥스풀링  \n",
        "# [0.21373777091503143, 0.9282000064849854] 3.3 맥스풀링 & 0.4 드롭아웃."
      ]
    },
    {
      "cell_type": "code",
      "execution_count": null,
      "metadata": {
        "id": "WAttKnd-paSv"
      },
      "outputs": [],
      "source": []
    },
    {
      "cell_type": "code",
      "execution_count": null,
      "metadata": {
        "id": "G95CqfhzpaQH"
      },
      "outputs": [],
      "source": []
    },
    {
      "cell_type": "markdown",
      "metadata": {
        "id": "cdDbdqp26jrQ"
      },
      "source": [
        "# Fashion MNIST - CNN\n",
        "- 32 Conv2D layer\n",
        "- 64 Conv2d layer\n",
        "- MaxPooling2D layer\n",
        "- Dropout(0.25)\n",
        "- Flatten\n",
        "- Fully Connected Network(512) layer\n",
        "- Dropout(0.5)\n",
        "- Output(10)"
      ]
    },
    {
      "cell_type": "code",
      "execution_count": 1,
      "metadata": {
        "id": "MKxQHc6N7Jq2"
      },
      "outputs": [],
      "source": [
        "import numpy as np\n",
        "import tensorflow as tf\n",
        "seed = 2022\n",
        "np.random.seed(seed)\n",
        "tf.random.set_seed(seed)"
      ]
    },
    {
      "cell_type": "markdown",
      "metadata": {
        "id": "s_WMTSZN7eV4"
      },
      "source": [
        "- 데이터 전처리"
      ]
    },
    {
      "cell_type": "code",
      "execution_count": 2,
      "metadata": {
        "colab": {
          "base_uri": "https://localhost:8080/"
        },
        "id": "1SHs2Q5K7kKS",
        "outputId": "b7c9fc2f-71bb-48bb-b310-34634fb4739a"
      },
      "outputs": [
        {
          "name": "stdout",
          "output_type": "stream",
          "text": [
            "Downloading data from https://storage.googleapis.com/tensorflow/tf-keras-datasets/train-labels-idx1-ubyte.gz\n",
            "32768/29515 [=================================] - 0s 0us/step\n",
            "40960/29515 [=========================================] - 0s 0us/step\n",
            "Downloading data from https://storage.googleapis.com/tensorflow/tf-keras-datasets/train-images-idx3-ubyte.gz\n",
            "26427392/26421880 [==============================] - 0s 0us/step\n",
            "26435584/26421880 [==============================] - 0s 0us/step\n",
            "Downloading data from https://storage.googleapis.com/tensorflow/tf-keras-datasets/t10k-labels-idx1-ubyte.gz\n",
            "16384/5148 [===============================================================================================] - 0s 0us/step\n",
            "Downloading data from https://storage.googleapis.com/tensorflow/tf-keras-datasets/t10k-images-idx3-ubyte.gz\n",
            "4423680/4422102 [==============================] - 0s 0us/step\n",
            "4431872/4422102 [==============================] - 0s 0us/step\n"
          ]
        }
      ],
      "source": [
        "from tensorflow.keras.datasets import fashion_mnist\n",
        "(X_train, y_train), (X_test, y_test)= fashion_mnist.load_data()"
      ]
    },
    {
      "cell_type": "code",
      "execution_count": 3,
      "metadata": {
        "colab": {
          "base_uri": "https://localhost:8080/",
          "height": 284
        },
        "id": "868OgZfM73tx",
        "outputId": "62455921-08ca-46df-e547-929f97c1a2ec"
      },
      "outputs": [
        {
          "data": {
            "text/plain": [
              "<matplotlib.image.AxesImage at 0x7fdb9b156310>"
            ]
          },
          "execution_count": 3,
          "metadata": {},
          "output_type": "execute_result"
        },
        {
          "data": {
            "image/png": "[encoded data removed]",
            "text/plain": [
              "<Figure size 432x288 with 1 Axes>"
            ]
          },
          "metadata": {
            "needs_background": "light"
          },
          "output_type": "display_data"
        }
      ],
      "source": [
        "import matplotlib.pyplot as plt\n",
        "\n",
        "plt.imshow(X_train[0], cmap='Greys')"
      ]
    },
    {
      "cell_type": "code",
      "execution_count": 4,
      "metadata": {
        "colab": {
          "base_uri": "https://localhost:8080/",
          "height": 36
        },
        "id": "nhDeCJob8JIl",
        "outputId": "7383c731-505a-4fb1-8766-432811716d26"
      },
      "outputs": [
        {
          "data": {
            "application/vnd.google.colaboratory.intrinsic+json": {
              "type": "string"
            },
            "text/plain": [
              "'Ankle boot'"
            ]
          },
          "execution_count": 4,
          "metadata": {},
          "output_type": "execute_result"
        }
      ],
      "source": [
        "class_names = ['T-shirt/top', 'Trouser', 'Pullover', 'Dress', 'Coat',\n",
        "               'Sandal', 'Shirt', 'Sneaker', 'Bag', 'Ankle boot']\n",
        "class_names[y_train[0]]"
      ]
    },
    {
      "cell_type": "code",
      "execution_count": 5,
      "metadata": {
        "colab": {
          "base_uri": "https://localhost:8080/",
          "height": 264
        },
        "id": "dc2jfyg48fAU",
        "outputId": "2273f119-3b4f-4d25-9bc4-a2df244f8257"
      },
      "outputs": [
        {
          "data": {
            "image/png": "[encoded data removed]",
            "text/plain": [
              "<Figure size 1008x360 with 10 Axes>"
            ]
          },
          "metadata": {},
          "output_type": "display_data"
        }
      ],
      "source": [
        "plt.figure(figsize=(14,5))\n",
        "for i in range(10):    \n",
        "    plt.subplot(2, 5, i+1)\n",
        "    plt.imshow(X_train[i], cmap='Greys')\n",
        "    plt.title(class_names[y_train[i]])\n",
        "    plt.xticks([]); plt.yticks([])\n",
        "plt.show()"
      ]
    },
    {
      "cell_type": "code",
      "execution_count": 6,
      "metadata": {
        "colab": {
          "base_uri": "https://localhost:8080/"
        },
        "id": "p3HFdZ_J8yS4",
        "outputId": "6b6a0963-296b-4d79-eb63-2b7c41990702"
      },
      "outputs": [
        {
          "data": {
            "text/plain": [
              "((60000, 28, 28), (60000,))"
            ]
          },
          "execution_count": 6,
          "metadata": {},
          "output_type": "execute_result"
        }
      ],
      "source": [
        "X_train.shape, y_train.shape # 엠니스트 셋과 동일한 데이터 양 가져"
      ]
    },
    {
      "cell_type": "markdown",
      "metadata": {
        "id": "u7jG8hUr9nk-"
      },
      "source": [
        "- 정규화 및 차원"
      ]
    },
    {
      "cell_type": "code",
      "execution_count": 7,
      "metadata": {
        "id": "yQHo3VZJ9wHE"
      },
      "outputs": [],
      "source": [
        "# X data 정규화 및 차원 변경 \n",
        "# 0 ~ 1 사이의 값으로 정규화 # 학습준비 완료 \n",
        "X_train = X_train.reshape(-1,28,28,1) / 255.0\n",
        "X_test  = X_test.reshape(-1, 28, 28, 1) / 255.0"
      ]
    },
    {
      "cell_type": "code",
      "execution_count": 8,
      "metadata": {
        "id": "NoR9GMA_-U9i"
      },
      "outputs": [],
      "source": [
        "# y data : one - hot encoding\n",
        "from tensorflow.keras.utils import to_categorical\n",
        "Y_train = to_categorical(y_train)\n",
        "Y_test = to_categorical(y_test)"
      ]
    },
    {
      "cell_type": "markdown",
      "metadata": {
        "id": "P7mnEZwY-_H6"
      },
      "source": [
        "- 모델 정의, 설정, 학습, 평가"
      ]
    },
    {
      "cell_type": "code",
      "execution_count": 9,
      "metadata": {
        "id": "FsOCORwW_B8q"
      },
      "outputs": [],
      "source": [
        "from tensorflow.keras.models import Sequential, load_model\n",
        "from tensorflow.keras.layers import Dense, Conv2D, MaxPooling2D, Flatten, Dropout\n",
        "from tensorflow.keras.callbacks import ModelCheckpoint, EarlyStopping"
      ]
    },
    {
      "cell_type": "code",
      "execution_count": null,
      "metadata": {
        "colab": {
          "base_uri": "https://localhost:8080/"
        },
        "id": "Wra5DpyM_a_z",
        "outputId": "86522bb9-a05b-472c-c651-78d6c045a244"
      },
      "outputs": [
        {
          "name": "stdout",
          "output_type": "stream",
          "text": [
            "Model: \"sequential\"\n",
            "_________________________________________________________________\n",
            " Layer (type)                Output Shape              Param #   \n",
            "=================================================================\n",
            " conv2d (Conv2D)             (None, 26, 26, 32)        320       \n",
            "                                                                 \n",
            " conv2d_1 (Conv2D)           (None, 24, 24, 64)        18496     \n",
            "                                                                 \n",
            " max_pooling2d (MaxPooling2D  (None, 12, 12, 64)       0         \n",
            " )                                                               \n",
            "                                                                 \n",
            " dropout (Dropout)           (None, 12, 12, 64)        0         \n",
            "                                                                 \n",
            " flatten (Flatten)           (None, 9216)              0         \n",
            "                                                                 \n",
            " dense (Dense)               (None, 512)               4719104   \n",
            "                                                                 \n",
            " dropout_1 (Dropout)         (None, 512)               0         \n",
            "                                                                 \n",
            " dense_1 (Dense)             (None, 10)                5130      \n",
            "                                                                 \n",
            "=================================================================\n",
            "Total params: 4,743,050\n",
            "Trainable params: 4,743,050\n",
            "Non-trainable params: 0\n",
            "_________________________________________________________________\n"
          ]
        }
      ],
      "source": [
        "model = Sequential([\n",
        "    Conv2D(32, (3,3), input_shape=(28,28,1), activation='relu'),\n",
        "    Conv2D(64, (3,3), activation='relu'),\n",
        "    MaxPooling2D(), # 기본 2 by 2     \n",
        "    Dropout(0.25),\n",
        "    Flatten(),           # n차원을 1차원으로 반환 Dense 들어가기 전 단계에서 필요해\n",
        "    Dense(512, activation='relu'),\n",
        "    Dropout(0.5),\n",
        "    Dense(10, activation='softmax')\n",
        "    ])\n",
        "model.summary()"
      ]
    },
    {
      "cell_type": "code",
      "execution_count": null,
      "metadata": {
        "id": "HOi6oDcc_6mj"
      },
      "outputs": [],
      "source": [
        "model.compile(optimizer='adam', loss='categorical_crossentropy', metrics=['accuracy'])"
      ]
    },
    {
      "cell_type": "code",
      "execution_count": null,
      "metadata": {
        "id": "dN1zn983A7E_"
      },
      "outputs": [],
      "source": [
        "# 모델 최적화를 위한 설정\n",
        "model_path = 'best-fashion-mnist-cnn.c5'\n",
        "checkpoint = ModelCheckpoint(model_path, save_best_only=True, verbose=1)  # 밸로스가 기본. 모니터로 등록\n",
        "early_stop = EarlyStopping(patience=10)"
      ]
    },
    {
      "cell_type": "code",
      "execution_count": null,
      "metadata": {
        "id": "vQo8GXoeBYcJ"
      },
      "outputs": [],
      "source": [
        "hist = model.fit(\n",
        "    X_train, Y_train, validation_split=0.2, batch_size=200, epochs=100,\n",
        "    callbacks=[checkpoint, early_stop], verbose=0    \n",
        ")"
      ]
    },
    {
      "cell_type": "code",
      "execution_count": null,
      "metadata": {
        "colab": {
          "base_uri": "https://localhost:8080/"
        },
        "id": "YPs9wEH-BwV_",
        "outputId": "26d7a33d-3964-4cf1-f08f-81eb346f66de"
      },
      "outputs": [
        {
          "name": "stdout",
          "output_type": "stream",
          "text": [
            "313/313 [==============================] - 1s 4ms/step - loss: 0.2156 - accuracy: 0.9260\n"
          ]
        },
        {
          "data": {
            "text/plain": [
              "[0.21558497846126556, 0.9259999990463257]"
            ]
          },
          "execution_count": 15,
          "metadata": {},
          "output_type": "execute_result"
        }
      ],
      "source": [
        "best_model = load_model(model_path)\n",
        "best_model.evaluate(X_test, Y_test)"
      ]
    },
    {
      "cell_type": "code",
      "execution_count": null,
      "metadata": {
        "id": "rh5_LZxsccmP"
      },
      "outputs": [],
      "source": []
    },
    {
      "cell_type": "code",
      "execution_count": null,
      "metadata": {
        "id": "rUu1crfgccj9"
      },
      "outputs": [],
      "source": []
    },
    {
      "cell_type": "code",
      "execution_count": null,
      "metadata": {
        "id": "q67mlleycciB"
      },
      "outputs": [],
      "source": []
    },
    {
      "cell_type": "code",
      "execution_count": null,
      "metadata": {
        "id": "0W5HpRDKccf_"
      },
      "outputs": [],
      "source": []
    },
    {
      "cell_type": "code",
      "execution_count": null,
      "metadata": {
        "id": "zNgR6zEQcccD"
      },
      "outputs": [],
      "source": []
    },
    {
      "cell_type": "code",
      "execution_count": null,
      "metadata": {
        "id": "dNLNd13NccZg"
      },
      "outputs": [],
      "source": []
    },
    {
      "cell_type": "code",
      "execution_count": null,
      "metadata": {
        "id": "9_43StbyccXH"
      },
      "outputs": [],
      "source": []
    },
    {
      "cell_type": "code",
      "execution_count": null,
      "metadata": {
        "id": "SOQ0kY9CccUd"
      },
      "outputs": [],
      "source": []
    },
    {
      "cell_type": "markdown",
      "metadata": {
        "id": "bOuALowxCwfP"
      },
      "source": [
        "- 학습과정 시각화"
      ]
    },
    {
      "cell_type": "code",
      "execution_count": null,
      "metadata": {
        "id": "d5M3TkbXDFgm"
      },
      "outputs": [],
      "source": [
        "y_acc = hist.history['accuracy']\n",
        "y_vloss = hist.history['val_loss']\n",
        "xs = np.arange(1, len(y_acc)+1)"
      ]
    },
    {
      "cell_type": "code",
      "execution_count": null,
      "metadata": {
        "colab": {
          "base_uri": "https://localhost:8080/",
          "height": 470
        },
        "id": "UacZUtSgDZU8",
        "outputId": "f5f22793-d43a-447a-8e20-6d74bc3cd1db"
      },
      "outputs": [
        {
          "data": {
            "image/png": "[encoded data removed]",
            "text/plain": [
              "<Figure size 864x576 with 1 Axes>"
            ]
          },
          "metadata": {
            "needs_background": "light"
          },
          "output_type": "display_data"
        }
      ],
      "source": [
        "plt.figure(figsize=(12,8))\n",
        "plt.plot(xs, y_acc, 'o-', ms=10, label='train_accuracy')\n",
        "plt.plot(xs, y_vloss, 'o-', ms=10, label='validation_loss')\n",
        "plt.legend, plt.grid, plt.xlabel('Epochs');"
      ]
    },
    {
      "cell_type": "code",
      "execution_count": null,
      "metadata": {
        "id": "mVrNGSitD94G"
      },
      "outputs": [],
      "source": []
    }
  ],
  "metadata": {
    "accelerator": "GPU",
    "colab": {
      "collapsed_sections": [
        "cdDbdqp26jrQ"
      ],
      "name": "__fashion_ MNIST_CNN.ipynb",
      "provenance": []
    },
    "kernelspec": {
      "display_name": "Python 3",
      "name": "python3"
    },
    "language_info": {
      "codemirror_mode": {
        "name": "ipython",
        "version": 3
      },
      "file_extension": ".py",
      "mimetype": "text/x-python",
      "name": "python",
      "nbconvert_exporter": "python",
      "pygments_lexer": "ipython3",
      "version": "3.8.8"
    }
  },
  "nbformat": 4,
  "nbformat_minor": 0
}
