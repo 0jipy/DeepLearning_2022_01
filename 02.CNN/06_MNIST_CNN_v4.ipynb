{
  "nbformat": 4,
  "nbformat_minor": 0,
  "metadata": {
    "colab": {
      "name": "06_MNIST_CNN_v4.ipynb",
      "provenance": [],
      "collapsed_sections": []
    },
    "kernelspec": {
      "name": "python3",
      "display_name": "Python 3"
    },
    "language_info": {
      "name": "python"
    },
    "accelerator": "GPU"
  },
  "cells": [
    {
      "cell_type": "markdown",
      "source": [
        "# Padding - MNIST 손글씨 - CNN v4\n"
      ],
      "metadata": {
        "id": "21MOQloDoaq-"
      }
    },
    {
      "cell_type": "markdown",
      "source": [
        " - **Padded 2 Conv2D layers** ver.4\n",
        " - 1 MaxPooling2D layer     ver.2\n",
        " - 1 Dropout(0.25) layer    ver.3\n",
        " - 1 Fully Connected Network layer\n",
        " - 1 Dropout(0.5) layer     ver.3\n",
        " - 1 Output layer"
      ],
      "metadata": {
        "id": "Otz8-otQom2L"
      }
    },
    {
      "cell_type": "code",
      "source": [
        "import numpy as np\n",
        "import tensorflow as tf\n",
        "seed = 2022\n",
        "np.random.seed(seed)\n",
        "tf.random.set_seed(seed)"
      ],
      "metadata": {
        "id": "oFX5ofzCowzm"
      },
      "execution_count": 12,
      "outputs": []
    },
    {
      "cell_type": "markdown",
      "source": [
        "- 데이터 전처리"
      ],
      "metadata": {
        "id": "t9cyT-YPpGGf"
      }
    },
    {
      "cell_type": "code",
      "source": [
        "from tensorflow.keras.datasets import mnist\n",
        "(X_train, y_train), (X_test, y_test) = mnist.load_data()"
      ],
      "metadata": {
        "id": "zpeAmhR3pIT2"
      },
      "execution_count": 13,
      "outputs": []
    },
    {
      "cell_type": "code",
      "source": [
        "# X data: 0-1 사이의 값, 3차원 ==> 4차원\n",
        "X_train = X_train.reshape(-1,28,28,1) / 255.\n",
        "X_test = X_test.reshape(-1,28,28,1) / 255."
      ],
      "metadata": {
        "id": "J4WOuC-PpRQ-"
      },
      "execution_count": 14,
      "outputs": []
    },
    {
      "cell_type": "code",
      "source": [
        "# One hot encoding\n",
        "from tensorflow.keras.utils import to_categorical\n",
        "Y_train = to_categorical(y_train)\n",
        "Y_test = to_categorical(y_test)"
      ],
      "metadata": {
        "id": "mhuoMAFep3TW"
      },
      "execution_count": 15,
      "outputs": []
    },
    {
      "cell_type": "markdown",
      "source": [
        "- 모델 정의, 설정, 학습, 평가"
      ],
      "metadata": {
        "id": "Zh3Ult8SqKDz"
      }
    },
    {
      "cell_type": "code",
      "source": [
        "# ver 변화 볼수 있도록.\n",
        "from tensorflow.keras.models import Sequential, load_model  # origin\n",
        "from tensorflow.keras.layers import Dense, Conv2D, Flatten, MaxPooling2D  # ver.2 ## 맥스풀링 새로 들어와. \n",
        "from tensorflow.keras.layers import Dropout                               # ver.3 ## 드롭아웃 새로. \n",
        "from tensorflow.keras.callbacks import ModelCheckpoint, EarlyStopping"
      ],
      "metadata": {
        "id": "g4-M9t2RqNW0"
      },
      "execution_count": 5,
      "outputs": []
    },
    {
      "cell_type": "code",
      "source": [
        "# del model"
      ],
      "metadata": {
        "id": "4WW32IYV2_Ig"
      },
      "execution_count": 16,
      "outputs": []
    },
    {
      "cell_type": "code",
      "source": [
        "# padding='same' / \n",
        "model = Sequential([\n",
        "    Conv2D(32, kernel_size=(3,3), padding='same', input_shape=(28, 28, 1), activation='relu'),  # 패딩\n",
        "    Conv2D(64, (3,3), padding='same',  activation='relu'),   # 패딩\n",
        "    MaxPooling2D( ),   # 절반으로 줄이기 # MaxPooling(pool_size(2,2))\n",
        "    Dropout(0.25),     # 풀링되는 레이어 플래튼 사이에 1/4 사분의 일의 노드를 버림.\n",
        "    Flatten(),\n",
        "    Dense(512, activation='relu'),\n",
        "    Dropout(0.5),      # 512 와, 출력층 절반의 노드를 버림. 근데 이 덴스 순서가 정말 층 순서대로 노드를 버리나? 내부적 동작 확인 할 길 있어?\n",
        "    Dense(10, activation='softmax')\n",
        "])\n",
        "model.summary()"
      ],
      "metadata": {
        "colab": {
          "base_uri": "https://localhost:8080/"
        },
        "id": "UiHvGemBqs8U",
        "outputId": "32c3e84a-71e2-446d-9b6b-76e3fc27fafa"
      },
      "execution_count": 7,
      "outputs": [
        {
          "output_type": "stream",
          "name": "stdout",
          "text": [
            "Model: \"sequential\"\n",
            "_________________________________________________________________\n",
            " Layer (type)                Output Shape              Param #   \n",
            "=================================================================\n",
            " conv2d (Conv2D)             (None, 28, 28, 32)        320       \n",
            "                                                                 \n",
            " conv2d_1 (Conv2D)           (None, 28, 28, 64)        18496     \n",
            "                                                                 \n",
            " max_pooling2d (MaxPooling2D  (None, 14, 14, 64)       0         \n",
            " )                                                               \n",
            "                                                                 \n",
            " dropout (Dropout)           (None, 14, 14, 64)        0         \n",
            "                                                                 \n",
            " flatten (Flatten)           (None, 12544)             0         \n",
            "                                                                 \n",
            " dense (Dense)               (None, 512)               6423040   \n",
            "                                                                 \n",
            " dropout_1 (Dropout)         (None, 512)               0         \n",
            "                                                                 \n",
            " dense_1 (Dense)             (None, 10)                5130      \n",
            "                                                                 \n",
            "=================================================================\n",
            "Total params: 6,446,986\n",
            "Trainable params: 6,446,986\n",
            "Non-trainable params: 0\n",
            "_________________________________________________________________\n"
          ]
        }
      ]
    },
    {
      "cell_type": "markdown",
      "source": [
        "-  dense 2의 파라미터 확줄어들어\n",
        "-  드롭아웃 후에는 뭘 관찰해야 되나?\n",
        "- 패딩 이후 첫째줄 28 28 인듯?  둘째 줄도  28 28 \n",
        "\n",
        "CNN - v1 버전과 비교"
      ],
      "metadata": {
        "id": "7_LetdLi2pTB"
      }
    },
    {
      "cell_type": "code",
      "source": [
        "# Model: \"sequential\"\n",
        "# _________________________________________________________________\n",
        "#  Layer (type)                Output Shape              Param #   \n",
        "# =================================================================\n",
        "#  conv2d (Conv2D)             (None, 26, 26, 32)        320       \n",
        "                                                                 \n",
        "#  conv2d_1 (Conv2D)           (None, 24, 24, 64)        18496     \n",
        "                                                                 \n",
        "#  max_pooling2d (MaxPooling2D  (None, 12, 12, 64)       0         \n",
        "#  )                                                               \n",
        "                                                                 \n",
        "#  flatten (Flatten)           (None, 9216)              0         \n",
        "                                                                 \n",
        "#  dense (Dense)               (None, 512)               4719104   \n",
        "                                                                 \n",
        "#  dense_1 (Dense)             (None, 10)                5130      \n",
        "                                                                 \n",
        "# =================================================================\n",
        "# Total params: 4,743,050\n",
        "# Trainable params: 4,743,050\n",
        "# Non-trainable params: 0\n",
        "# ________________________________"
      ],
      "metadata": {
        "id": "8TIhhVPiV6pI"
      },
      "execution_count": 1,
      "outputs": []
    },
    {
      "cell_type": "code",
      "source": [
        "model.compile(optimizer='adam', loss='categorical_crossentropy', metrics=['accuracy'])"
      ],
      "metadata": {
        "id": "Q7xCeMzMr_Ac"
      },
      "execution_count": 8,
      "outputs": []
    },
    {
      "cell_type": "code",
      "source": [
        "model_path = 'best-mnist-cnn-v4.h5'\n",
        "checkpoint = ModelCheckpoint(model_path, save_best_only=True, verbose=1)\n",
        "early_stop = EarlyStopping(patience=10)"
      ],
      "metadata": {
        "id": "zWY51Z0MsxJi"
      },
      "execution_count": 9,
      "outputs": []
    },
    {
      "cell_type": "code",
      "source": [
        "hist = model.fit(\n",
        "    X_train, Y_train, validation_split=0.2, epochs=100, batch_size=200,\n",
        "    callbacks=[checkpoint, early_stop], verbose=0\n",
        ")\n",
        "# 처음에는 GPU 선착때문에 시간이 걸리나 그후엔 고속으로 돌아가"
      ],
      "metadata": {
        "colab": {
          "base_uri": "https://localhost:8080/"
        },
        "id": "CI8Yex01tQq5",
        "outputId": "f6c9d226-a57a-457f-c640-d03e15efd0af"
      },
      "execution_count": 10,
      "outputs": [
        {
          "output_type": "stream",
          "name": "stdout",
          "text": [
            "\n",
            "Epoch 00001: val_loss improved from inf to 0.05646, saving model to best-mnist-cnn-v4.h5\n",
            "\n",
            "Epoch 00002: val_loss improved from 0.05646 to 0.04856, saving model to best-mnist-cnn-v4.h5\n",
            "\n",
            "Epoch 00003: val_loss improved from 0.04856 to 0.04151, saving model to best-mnist-cnn-v4.h5\n",
            "\n",
            "Epoch 00004: val_loss improved from 0.04151 to 0.03545, saving model to best-mnist-cnn-v4.h5\n",
            "\n",
            "Epoch 00005: val_loss did not improve from 0.03545\n",
            "\n",
            "Epoch 00006: val_loss improved from 0.03545 to 0.03394, saving model to best-mnist-cnn-v4.h5\n",
            "\n",
            "Epoch 00007: val_loss did not improve from 0.03394\n",
            "\n",
            "Epoch 00008: val_loss did not improve from 0.03394\n",
            "\n",
            "Epoch 00009: val_loss did not improve from 0.03394\n",
            "\n",
            "Epoch 00010: val_loss did not improve from 0.03394\n",
            "\n",
            "Epoch 00011: val_loss did not improve from 0.03394\n",
            "\n",
            "Epoch 00012: val_loss did not improve from 0.03394\n",
            "\n",
            "Epoch 00013: val_loss did not improve from 0.03394\n",
            "\n",
            "Epoch 00014: val_loss did not improve from 0.03394\n",
            "\n",
            "Epoch 00015: val_loss did not improve from 0.03394\n",
            "\n",
            "Epoch 00016: val_loss did not improve from 0.03394\n"
          ]
        }
      ]
    },
    {
      "cell_type": "code",
      "source": [
        "best_model=load_model(model_path)\n",
        "best_model.evaluate(X_test, Y_test)\n",
        "# [0.040496282279491425, 0.9872000217437744] ver1\n",
        "# [0.03846115246415138, 0.9876999855041504] 업. ver2 맥스풀링\n",
        "# [0.02895839884877205, 0.9914000034332275] 향상 ver3 드롭아웃\n",
        "# [0.02798774652183056, 0.9905999898910522] 향상 ver4 패딩"
      ],
      "metadata": {
        "colab": {
          "base_uri": "https://localhost:8080/"
        },
        "id": "B6xRb4xAvZPc",
        "outputId": "cb94ee92-8a6b-4118-e777-be38d8ded980"
      },
      "execution_count": 11,
      "outputs": [
        {
          "output_type": "stream",
          "name": "stdout",
          "text": [
            "313/313 [==============================] - 1s 3ms/step - loss: 0.0280 - accuracy: 0.9906\n"
          ]
        },
        {
          "output_type": "execute_result",
          "data": {
            "text/plain": [
              "[0.02798774652183056, 0.9905999898910522]"
            ]
          },
          "metadata": {},
          "execution_count": 11
        }
      ]
    },
    {
      "cell_type": "markdown",
      "source": [
        "## 시각화"
      ],
      "metadata": {
        "id": "rJN3jIxBv3i3"
      }
    },
    {
      "cell_type": "code",
      "source": [
        "y_vloss = hist.history['val_loss']\n",
        "y_acc = hist.history['accuracy']\n",
        "x_len = np.arange(len(y_acc))"
      ],
      "metadata": {
        "id": "DzhS8mOR8hts"
      },
      "execution_count": null,
      "outputs": []
    },
    {
      "cell_type": "code",
      "source": [
        "import matplotlib.pyplot as plt\n",
        "plt.figure(figsize=(12,8))\n",
        "plt.plot(x_len, y_acc, 'o-', ms=2, label='train_accuracy')\n",
        "plt.plot(x_len, y_vloss, 'ro-', ms=2, label='validation loss')\n",
        "plt.grid()\n",
        "plt.legend()\n",
        "plt.show()"
      ],
      "metadata": {
        "colab": {
          "base_uri": "https://localhost:8080/",
          "height": 483
        },
        "id": "yxY7vjYj8iq1",
        "outputId": "11598520-b1a0-435d-e09b-f1428f245580"
      },
      "execution_count": null,
      "outputs": [
        {
          "output_type": "display_data",
          "data": {
            "image/png": "[encoded data removed]",
            "text/plain": [
              "<Figure size 864x576 with 1 Axes>"
            ]
          },
          "metadata": {
            "needs_background": "light"
          }
        }
      ]
    },
    {
      "cell_type": "code",
      "source": [
        ""
      ],
      "metadata": {
        "id": "NUcIcVnA8kem"
      },
      "execution_count": null,
      "outputs": []
    }
  ]
}