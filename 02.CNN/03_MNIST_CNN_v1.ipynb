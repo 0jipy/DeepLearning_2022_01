{
  "cells": [
    {
      "cell_type": "markdown",
      "metadata": {
        "id": "21MOQloDoaq-"
      },
      "source": [
        "# MNIST 손글씨 - CNN v1 #\n"
      ]
    },
    {
      "cell_type": "markdown",
      "metadata": {
        "id": "Otz8-otQom2L"
      },
      "source": [
        " - 2 Conv2D layers\n",
        " - 1 Fully Connected Network layer\n",
        " - 1 Output layer"
      ]
    },
    {
      "cell_type": "code",
      "execution_count": 1,
      "metadata": {
        "id": "oFX5ofzCowzm"
      },
      "outputs": [],
      "source": [
        "import numpy as np\n",
        "import tensorflow as tf\n",
        "seed = 2022\n",
        "np.random.seed(seed)\n",
        "tf.random.set_seed(seed)"
      ]
    },
    {
      "cell_type": "markdown",
      "metadata": {
        "id": "t9cyT-YPpGGf"
      },
      "source": [
        "- 데이터 전처리"
      ]
    },
    {
      "cell_type": "code",
      "execution_count": 2,
      "metadata": {
        "colab": {
          "base_uri": "https://localhost:8080/"
        },
        "id": "zpeAmhR3pIT2",
        "outputId": "8d36a1a3-4305-40ae-8cd9-98571268196a"
      },
      "outputs": [
        {
          "name": "stdout",
          "output_type": "stream",
          "text": [
            "Downloading data from https://storage.googleapis.com/tensorflow/tf-keras-datasets/mnist.npz\n",
            "11493376/11490434 [==============================] - 0s 0us/step\n",
            "11501568/11490434 [==============================] - 0s 0us/step\n"
          ]
        }
      ],
      "source": [
        "from tensorflow.keras.datasets import mnist\n",
        "(X_train, y_train), (X_test, y_test) = mnist.load_data()"
      ]
    },
    {
      "cell_type": "code",
      "execution_count": 3,
      "metadata": {
        "id": "J4WOuC-PpRQ-"
      },
      "outputs": [],
      "source": [
        "# X data: 0-1 사이의 값, 3차원 ==> 4차원\n",
        "X_train = X_train.reshape(-1,28,28,1) / 255.\n",
        "X_test = X_test.reshape(-1,28,28,1) / 255."
      ]
    },
    {
      "cell_type": "code",
      "execution_count": 4,
      "metadata": {
        "id": "mhuoMAFep3TW"
      },
      "outputs": [],
      "source": [
        "# One hot encoding\n",
        "from tensorflow.keras.utils import to_categorical\n",
        "Y_train = to_categorical(y_train)\n",
        "Y_test = to_categorical(y_test)"
      ]
    },
    {
      "cell_type": "markdown",
      "metadata": {
        "id": "Zh3Ult8SqKDz"
      },
      "source": [
        "- 모델 정의, 설정, 학습, 평가"
      ]
    },
    {
      "cell_type": "code",
      "execution_count": 5,
      "metadata": {
        "id": "g4-M9t2RqNW0"
      },
      "outputs": [],
      "source": [
        "from tensorflow.keras.models import Sequential, load_model\n",
        "from tensorflow.keras.layers import Dense, Conv2D, Flatten\n",
        "from tensorflow.keras.callbacks import ModelCheckpoint, EarlyStopping"
      ]
    },
    {
      "cell_type": "code",
      "execution_count": 6,
      "metadata": {
        "colab": {
          "base_uri": "https://localhost:8080/"
        },
        "id": "UiHvGemBqs8U",
        "outputId": "654484c8-3b3a-4de4-950c-83d75526b9c2"
      },
      "outputs": [
        {
          "name": "stdout",
          "output_type": "stream",
          "text": [
            "Model: \"sequential\"\n",
            "_________________________________________________________________\n",
            " Layer (type)                Output Shape              Param #   \n",
            "=================================================================\n",
            " conv2d (Conv2D)             (None, 26, 26, 32)        320       \n",
            "                                                                 \n",
            " conv2d_1 (Conv2D)           (None, 24, 24, 64)        18496     \n",
            "                                                                 \n",
            " flatten (Flatten)           (None, 36864)             0         \n",
            "                                                                 \n",
            " dense (Dense)               (None, 512)               18874880  \n",
            "                                                                 \n",
            " dense_1 (Dense)             (None, 10)                5130      \n",
            "                                                                 \n",
            "=================================================================\n",
            "Total params: 18,898,826\n",
            "Trainable params: 18,898,826\n",
            "Non-trainable params: 0\n",
            "_________________________________________________________________\n"
          ]
        }
      ],
      "source": [
        "# 1은 흑백 3은 컬러\n",
        "model = Sequential([\n",
        "    Conv2D(32, kernel_size=(3,3), input_shape=(28, 28, 1), activation='relu'),\n",
        "    Conv2D(64, (3,3),  activation='relu'),\n",
        "    Flatten(),\n",
        "    Dense(512, activation='relu'),\n",
        "    Dense(10, activation='softmax')\n",
        "])\n",
        "model.summary()\n",
        "# Output shape 에서 패딩 안줫는데, 28 -> 26으로 줄어드는것 봐라"
      ]
    },
    {
      "cell_type": "code",
      "execution_count": 7,
      "metadata": {
        "id": "Q7xCeMzMr_Ac"
      },
      "outputs": [],
      "source": [
        "model.compile(optimizer='adam', loss='categorical_crossentropy', metrics=['accuracy'])"
      ]
    },
    {
      "cell_type": "code",
      "execution_count": 8,
      "metadata": {
        "id": "zWY51Z0MsxJi"
      },
      "outputs": [],
      "source": [
        "model_path = 'best-mnist-cnn-v1.h5'\n",
        "checkpoint = ModelCheckpoint(model_path, save_best_only=True, verbose=1)\n",
        "early_stop = EarlyStopping(patience=10)"
      ]
    },
    {
      "cell_type": "code",
      "execution_count": 9,
      "metadata": {
        "colab": {
          "base_uri": "https://localhost:8080/"
        },
        "id": "CI8Yex01tQq5",
        "outputId": "44e285fd-f2a9-4793-831e-3b3a6b993a67"
      },
      "outputs": [
        {
          "name": "stdout",
          "output_type": "stream",
          "text": [
            "Epoch 1/100\n",
            "239/240 [============================>.] - ETA: 0s - loss: 0.1524 - accuracy: 0.9531\n",
            "Epoch 00001: val_loss improved from inf to 0.05604, saving model to best-mnist-cnn-v1.h5\n",
            "240/240 [==============================] - 21s 22ms/step - loss: 0.1521 - accuracy: 0.9531 - val_loss: 0.0560 - val_accuracy: 0.9834\n",
            "Epoch 2/100\n",
            "238/240 [============================>.] - ETA: 0s - loss: 0.0354 - accuracy: 0.9892\n",
            "Epoch 00002: val_loss improved from 0.05604 to 0.05406, saving model to best-mnist-cnn-v1.h5\n",
            "240/240 [==============================] - 5s 21ms/step - loss: 0.0352 - accuracy: 0.9892 - val_loss: 0.0541 - val_accuracy: 0.9854\n",
            "Epoch 3/100\n",
            "238/240 [============================>.] - ETA: 0s - loss: 0.0176 - accuracy: 0.9945\n",
            "Epoch 00003: val_loss improved from 0.05406 to 0.04605, saving model to best-mnist-cnn-v1.h5\n",
            "240/240 [==============================] - 5s 21ms/step - loss: 0.0176 - accuracy: 0.9945 - val_loss: 0.0460 - val_accuracy: 0.9876\n",
            "Epoch 4/100\n",
            "238/240 [============================>.] - ETA: 0s - loss: 0.0110 - accuracy: 0.9965\n",
            "Epoch 00004: val_loss did not improve from 0.04605\n",
            "240/240 [==============================] - 5s 19ms/step - loss: 0.0110 - accuracy: 0.9965 - val_loss: 0.0472 - val_accuracy: 0.9865\n",
            "Epoch 5/100\n",
            "239/240 [============================>.] - ETA: 0s - loss: 0.0064 - accuracy: 0.9980\n",
            "Epoch 00005: val_loss did not improve from 0.04605\n",
            "240/240 [==============================] - 5s 19ms/step - loss: 0.0064 - accuracy: 0.9980 - val_loss: 0.0593 - val_accuracy: 0.9864\n",
            "Epoch 6/100\n",
            "238/240 [============================>.] - ETA: 0s - loss: 0.0059 - accuracy: 0.9981\n",
            "Epoch 00006: val_loss did not improve from 0.04605\n",
            "240/240 [==============================] - 5s 19ms/step - loss: 0.0060 - accuracy: 0.9981 - val_loss: 0.0601 - val_accuracy: 0.9865\n",
            "Epoch 7/100\n",
            "238/240 [============================>.] - ETA: 0s - loss: 0.0067 - accuracy: 0.9978\n",
            "Epoch 00007: val_loss did not improve from 0.04605\n",
            "240/240 [==============================] - 5s 19ms/step - loss: 0.0066 - accuracy: 0.9978 - val_loss: 0.0534 - val_accuracy: 0.9880\n",
            "Epoch 8/100\n",
            "238/240 [============================>.] - ETA: 0s - loss: 0.0046 - accuracy: 0.9985\n",
            "Epoch 00008: val_loss did not improve from 0.04605\n",
            "240/240 [==============================] - 5s 19ms/step - loss: 0.0046 - accuracy: 0.9985 - val_loss: 0.0649 - val_accuracy: 0.9869\n",
            "Epoch 9/100\n",
            "238/240 [============================>.] - ETA: 0s - loss: 0.0039 - accuracy: 0.9988\n",
            "Epoch 00009: val_loss did not improve from 0.04605\n",
            "240/240 [==============================] - 5s 19ms/step - loss: 0.0039 - accuracy: 0.9988 - val_loss: 0.0618 - val_accuracy: 0.9881\n",
            "Epoch 10/100\n",
            "238/240 [============================>.] - ETA: 0s - loss: 0.0022 - accuracy: 0.9992\n",
            "Epoch 00010: val_loss did not improve from 0.04605\n",
            "240/240 [==============================] - 5s 19ms/step - loss: 0.0022 - accuracy: 0.9992 - val_loss: 0.0717 - val_accuracy: 0.9854\n",
            "Epoch 11/100\n",
            "238/240 [============================>.] - ETA: 0s - loss: 0.0052 - accuracy: 0.9983\n",
            "Epoch 00011: val_loss did not improve from 0.04605\n",
            "240/240 [==============================] - 5s 19ms/step - loss: 0.0052 - accuracy: 0.9984 - val_loss: 0.0584 - val_accuracy: 0.9884\n",
            "Epoch 12/100\n",
            "238/240 [============================>.] - ETA: 0s - loss: 0.0023 - accuracy: 0.9991\n",
            "Epoch 00012: val_loss did not improve from 0.04605\n",
            "240/240 [==============================] - 5s 19ms/step - loss: 0.0023 - accuracy: 0.9991 - val_loss: 0.0622 - val_accuracy: 0.9887\n",
            "Epoch 13/100\n",
            "238/240 [============================>.] - ETA: 0s - loss: 0.0038 - accuracy: 0.9990\n",
            "Epoch 00013: val_loss did not improve from 0.04605\n",
            "240/240 [==============================] - 5s 20ms/step - loss: 0.0038 - accuracy: 0.9989 - val_loss: 0.0480 - val_accuracy: 0.9887\n"
          ]
        }
      ],
      "source": [
        "hist = model.fit(\n",
        "    X_train, Y_train, validation_split=0.2, epochs=100, batch_size=200,\n",
        "    callbacks=[checkpoint, early_stop], verbose=0\n",
        ")\n",
        "# 처음에는 GPU 선착때문에 시간이 걸리나 그후엔 고속으로 돌아가"
      ]
    },
    {
      "cell_type": "code",
      "execution_count": 10,
      "metadata": {
        "colab": {
          "base_uri": "https://localhost:8080/"
        },
        "id": "B6xRb4xAvZPc",
        "outputId": "fffad9c9-04db-4652-bc8a-41fefa557eee"
      },
      "outputs": [
        {
          "name": "stdout",
          "output_type": "stream",
          "text": [
            "313/313 [==============================] - 1s 4ms/step - loss: 0.0405 - accuracy: 0.9872\n"
          ]
        },
        {
          "data": {
            "text/plain": [
              "[0.040496282279491425, 0.9872000217437744]"
            ]
          },
          "execution_count": 10,
          "metadata": {},
          "output_type": "execute_result"
        }
      ],
      "source": [
        "best_model=load_model(model_path)\n",
        "best_model.evaluate(X_test, Y_test)\n",
        "# [0.040496282279491425, 0.9872000217437744]"
      ]
    },
    {
      "cell_type": "code",
      "execution_count": null,
      "metadata": {
        "id": "rJN3jIxBv3i3"
      },
      "outputs": [],
      "source": []
    }
  ],
  "metadata": {
    "accelerator": "GPU",
    "colab": {
      "name": "03.MNIST-CNN-v1.ipynb",
      "provenance": []
    },
    "kernelspec": {
      "display_name": "Python 3",
      "name": "python3"
    },
    "language_info": {
      "name": "python"
    }
  },
  "nbformat": 4,
  "nbformat_minor": 0
}
