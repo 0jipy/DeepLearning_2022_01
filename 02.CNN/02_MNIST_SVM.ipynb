{
  "cells": [
    {
      "cell_type": "markdown",
      "metadata": {
        "id": "ICztBKGYF-mH"
      },
      "source": [
        "# MNIST - 서포트 벡터머신 (머신러닝 SVM) #"
      ]
    },
    {
      "cell_type": "code",
      "execution_count": 1,
      "metadata": {
        "id": "5-lHgZtpFqF4"
      },
      "outputs": [],
      "source": [
        "import numpy as np"
      ]
    },
    {
      "cell_type": "code",
      "execution_count": 3,
      "metadata": {
        "colab": {
          "base_uri": "https://localhost:8080/"
        },
        "id": "1VFVGlIiFyxA",
        "outputId": "2c7fb80b-6043-4ca6-ebc3-8fa101e41a5f"
      },
      "outputs": [
        {
          "name": "stdout",
          "output_type": "stream",
          "text": [
            "Downloading data from https://storage.googleapis.com/tensorflow/tf-keras-datasets/mnist.npz\n",
            "11493376/11490434 [==============================] - 0s 0us/step\n",
            "11501568/11490434 [==============================] - 0s 0us/step\n"
          ]
        }
      ],
      "source": [
        "from tensorflow.keras.datasets import mnist\n",
        "(X_train, y_train), (X_test, y_test) = mnist.load_data()"
      ]
    },
    {
      "cell_type": "code",
      "execution_count": 4,
      "metadata": {
        "id": "9USgzU6AF9_v"
      },
      "outputs": [],
      "source": [
        "X_train = X_train.reshape(-1, 784) / 255.\n",
        "X_test  = X_test.reshape(-1, 784) / 255."
      ]
    },
    {
      "cell_type": "markdown",
      "metadata": {
        "id": "jA6T3Xl1Ghza"
      },
      "source": [
        "- SVM, GridSearchCV"
      ]
    },
    {
      "cell_type": "code",
      "execution_count": 5,
      "metadata": {
        "id": "mbnpvb6NGmvy"
      },
      "outputs": [],
      "source": [
        "from sklearn.svm import SVC\n",
        "from sklearn.model_selection import GridSearchCV"
      ]
    },
    {
      "cell_type": "code",
      "execution_count": 6,
      "metadata": {
        "id": "r8QsiGv_Gzx8"
      },
      "outputs": [],
      "source": [
        "params = {'C': [0.1, 1, 5, 10]}\n",
        "svc = SVC(random_state=2022)"
      ]
    },
    {
      "cell_type": "code",
      "execution_count": 8,
      "metadata": {
        "colab": {
          "base_uri": "https://localhost:8080/"
        },
        "id": "AzLe3Q15G7_S",
        "outputId": "af87597c-ffff-4019-f8fd-df710209dafe"
      },
      "outputs": [
        {
          "name": "stdout",
          "output_type": "stream",
          "text": [
            "CPU times: user 5min 28s, sys: 3.45 s, total: 5min 32s\n",
            "Wall time: 1h 8min 45s\n"
          ]
        },
        {
          "data": {
            "text/plain": [
              "GridSearchCV(cv=3, estimator=SVC(random_state=2022), n_jobs=-1,\n",
              "             param_grid={'C': [0.1, 1, 5, 10]}, scoring='accuracy')"
            ]
          },
          "execution_count": 8,
          "metadata": {},
          "output_type": "execute_result"
        }
      ],
      "source": [
        "# 에스티메이터는 svc, 파람그리드는 파람. 스코어링, cv \n",
        "grid_svc = GridSearchCV(\n",
        "    svc, param_grid = params, scoring = 'accuracy', cv=3, n_jobs=-1\n",
        ")\n",
        "%time grid_svc.fit(X_train, y_train)\n",
        "# 서포트 벡터 머신이라 y값 원핫인코딩할 필요없다. ??"
      ]
    },
    {
      "cell_type": "markdown",
      "metadata": {
        "id": "sobAEba5lrsI"
      },
      "source": [
        "CPU times: user 5min 28s, sys: 3.45 s, total: 5min 32s\n",
        "Wall time: 1h 8min 45s\n",
        "GridSearchCV(cv=3, estimator=SVC(random_state=2022), n_jobs=-1,\n",
        "             param_grid={'C': [0.1, 1, 5, 10]}, scoring='accuracy')"
      ]
    },
    {
      "cell_type": "code",
      "execution_count": 10,
      "metadata": {
        "colab": {
          "base_uri": "https://localhost:8080/"
        },
        "id": "ReYeEfqHHX2C",
        "outputId": "24d1b7f5-8d9a-41f1-815c-4876813eb4ab"
      },
      "outputs": [
        {
          "data": {
            "text/plain": [
              "{'C': 10}"
            ]
          },
          "execution_count": 10,
          "metadata": {},
          "output_type": "execute_result"
        }
      ],
      "source": [
        "grid_svc.best_params_\n",
        "# {'C': 10}"
      ]
    },
    {
      "cell_type": "code",
      "execution_count": 12,
      "metadata": {
        "colab": {
          "base_uri": "https://localhost:8080/"
        },
        "id": "FBKFHT4KlwVk",
        "outputId": "19647db4-7c8f-467d-bd59-2287ffd97300"
      },
      "outputs": [
        {
          "data": {
            "text/plain": [
              "0.9837"
            ]
          },
          "execution_count": 12,
          "metadata": {},
          "output_type": "execute_result"
        }
      ],
      "source": [
        "grid_svc.best_estimator_.score(X_test, y_test)\n",
        "# 0.9837"
      ]
    },
    {
      "cell_type": "markdown",
      "metadata": {
        "id": "3Ba7_oNCnjhB"
      },
      "source": [
        "# 세이브 중요하지"
      ]
    },
    {
      "cell_type": "code",
      "execution_count": 13,
      "metadata": {
        "colab": {
          "base_uri": "https://localhost:8080/"
        },
        "id": "gZ7C4G21mqHi",
        "outputId": "21bb4e7f-3115-476e-9b94-928496096fef"
      },
      "outputs": [
        {
          "data": {
            "text/plain": [
              "['best-mnist-svm.pkl']"
            ]
          },
          "execution_count": 13,
          "metadata": {},
          "output_type": "execute_result"
        }
      ],
      "source": [
        "import joblib\n",
        "joblib.dump(grid_svc.best_estimator_, 'best-mnist-svm.pkl')"
      ]
    },
    {
      "cell_type": "code",
      "execution_count": null,
      "metadata": {
        "id": "OX6j9IJxni2R"
      },
      "outputs": [],
      "source": []
    }
  ],
  "metadata": {
    "colab": {
      "collapsed_sections": [],
      "name": "02.MNIST-SVM.ipynb",
      "provenance": []
    },
    "kernelspec": {
      "display_name": "Python 3",
      "name": "python3"
    },
    "language_info": {
      "name": "python"
    }
  },
  "nbformat": 4,
  "nbformat_minor": 0
}
